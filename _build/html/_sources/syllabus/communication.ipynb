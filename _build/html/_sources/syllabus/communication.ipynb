{
 "cells": [
  {
   "cell_type": "markdown",
   "id": "49190408",
   "metadata": {},
   "source": [
    "# Course Communications"
   ]
  },
  {
   "cell_type": "code",
   "execution_count": 1,
   "id": "a16dfe4c",
   "metadata": {
    "tags": [
     "remove-input"
    ]
   },
   "outputs": [],
   "source": [
    "import pandas as pd\n",
    "from IPython.display import display, Markdown, HTML\n",
    "pd.set_option('display.max_colwidth', 0)\n",
    "df = pd.read_csv('../_data/communication.csv')\n",
    "\n",
    "help_df = pd.read_csv('../_data/help_hours.csv')"
   ]
  },
  {
   "cell_type": "markdown",
   "id": "1a579c09",
   "metadata": {},
   "source": [
    "## Announcements\n",
    "\n",
    "Announcements will be made via GitHub Release. You can view them [online in the releases page](https://github.com/rhodyprog4ds/BrownSpring23/releases) or you can get notifications by watching the repository, choosing \"Releases\" under custom [see GitHub docs for instructions with screenshots](https://docs.github.com/en/account-and-profile/managing-subscriptions-and-notifications-on-github/setting-up-notifications/configuring-notifications#configuring-your-watch-settings-for-an-individual-repository). You can choose GitHub only or e-mail notificaiton [from the notification settings page](https://github.com/settings/notifications)\n",
    "\n",
    "## Help Hours"
   ]
  },
  {
   "cell_type": "code",
   "execution_count": 2,
   "id": "3fa6d448",
   "metadata": {
    "tags": [
     "remove-input"
    ]
   },
   "outputs": [
    {
     "data": {
      "text/html": [
       "<style type=\"text/css\">\n",
       "</style>\n",
       "<table id=\"T_81edb\">\n",
       "  <thead>\n",
       "    <tr>\n",
       "      <th id=\"T_81edb_level0_col0\" class=\"col_heading level0 col0\" >Day</th>\n",
       "      <th id=\"T_81edb_level0_col1\" class=\"col_heading level0 col1\" >Time</th>\n",
       "      <th id=\"T_81edb_level0_col2\" class=\"col_heading level0 col2\" >Location</th>\n",
       "      <th id=\"T_81edb_level0_col3\" class=\"col_heading level0 col3\" >Host</th>\n",
       "    </tr>\n",
       "  </thead>\n",
       "  <tbody>\n",
       "    <tr>\n",
       "      <td id=\"T_81edb_row0_col0\" class=\"data row0 col0\" >Mon</td>\n",
       "      <td id=\"T_81edb_row0_col1\" class=\"data row0 col1\" > 11am-1pm</td>\n",
       "      <td id=\"T_81edb_row0_col2\" class=\"data row0 col2\" > Tyler 139 and zoom</td>\n",
       "      <td id=\"T_81edb_row0_col3\" class=\"data row0 col3\" > Kyle</td>\n",
       "    </tr>\n",
       "    <tr>\n",
       "      <td id=\"T_81edb_row1_col0\" class=\"data row1 col0\" >Wed</td>\n",
       "      <td id=\"T_81edb_row1_col1\" class=\"data row1 col1\" > 7-8:30pm</td>\n",
       "      <td id=\"T_81edb_row1_col2\" class=\"data row1 col2\" > Zoom</td>\n",
       "      <td id=\"T_81edb_row1_col3\" class=\"data row1 col3\" > Dr. Brown </td>\n",
       "    </tr>\n",
       "    <tr>\n",
       "      <td id=\"T_81edb_row2_col0\" class=\"data row2 col0\" >Fri</td>\n",
       "      <td id=\"T_81edb_row2_col1\" class=\"data row2 col1\" > 3-6pm</td>\n",
       "      <td id=\"T_81edb_row2_col2\" class=\"data row2 col2\" > Zoom</td>\n",
       "      <td id=\"T_81edb_row2_col3\" class=\"data row2 col3\" > Kyle</td>\n",
       "    </tr>\n",
       "  </tbody>\n",
       "</table>\n"
      ],
      "text/plain": [
       "<pandas.io.formats.style.Styler at 0x7fde30440d90>"
      ]
     },
     "execution_count": 2,
     "metadata": {},
     "output_type": "execute_result"
    }
   ],
   "source": [
    "help_df.style.hide(axis=\"index\")"
   ]
  },
  {
   "cell_type": "markdown",
   "id": "c5a44bd5",
   "metadata": {},
   "source": [
    "We have several different ways to communicate in this course. This section summarizes them\n",
    "\n",
    "\n",
    "## To reach out, By usage"
   ]
  },
  {
   "cell_type": "code",
   "execution_count": 3,
   "id": "50b16e42",
   "metadata": {
    "tags": [
     "remove-input"
    ]
   },
   "outputs": [
    {
     "ename": "TypeError",
     "evalue": "'Styler' object is not subscriptable",
     "output_type": "error",
     "traceback": [
      "\u001b[0;31m---------------------------------------------------------------------------\u001b[0m",
      "\u001b[0;31mTypeError\u001b[0m                                 Traceback (most recent call last)",
      "Cell \u001b[0;32mIn [3], line 2\u001b[0m\n\u001b[1;32m      1\u001b[0m df \u001b[38;5;241m=\u001b[39m df[[\u001b[38;5;124m'\u001b[39m\u001b[38;5;124musage\u001b[39m\u001b[38;5;124m'\u001b[39m,\u001b[38;5;124m'\u001b[39m\u001b[38;5;124mplatform\u001b[39m\u001b[38;5;124m'\u001b[39m,\u001b[38;5;124m'\u001b[39m\u001b[38;5;124marea\u001b[39m\u001b[38;5;124m'\u001b[39m,\u001b[38;5;124m'\u001b[39m\u001b[38;5;124mnote\u001b[39m\u001b[38;5;124m'\u001b[39m]]\n\u001b[0;32m----> 2\u001b[0m display(\u001b[43mHTML\u001b[49m\u001b[43m(\u001b[49m\u001b[43mdf\u001b[49m\u001b[38;5;241;43m.\u001b[39;49m\u001b[43mstyle\u001b[49m\u001b[38;5;241;43m.\u001b[39;49m\u001b[43mhide\u001b[49m\u001b[43m(\u001b[49m\u001b[43m)\u001b[49m\u001b[43m)\u001b[49m)\n",
      "File \u001b[0;32m/Library/Frameworks/Python.framework/Versions/3.8/lib/python3.8/site-packages/IPython/core/display.py:430\u001b[0m, in \u001b[0;36mHTML.__init__\u001b[0;34m(self, data, url, filename, metadata)\u001b[0m\n\u001b[1;32m    427\u001b[0m     suffix \u001b[38;5;241m=\u001b[39m data[\u001b[38;5;241m-\u001b[39m\u001b[38;5;241m10\u001b[39m:]\u001b[38;5;241m.\u001b[39mlower()\n\u001b[1;32m    428\u001b[0m     \u001b[38;5;28;01mreturn\u001b[39;00m prefix\u001b[38;5;241m.\u001b[39mstartswith(\u001b[38;5;124m\"\u001b[39m\u001b[38;5;124m<iframe \u001b[39m\u001b[38;5;124m\"\u001b[39m) \u001b[38;5;129;01mand\u001b[39;00m suffix\u001b[38;5;241m.\u001b[39mendswith(\u001b[38;5;124m\"\u001b[39m\u001b[38;5;124m</iframe>\u001b[39m\u001b[38;5;124m\"\u001b[39m)\n\u001b[0;32m--> 430\u001b[0m \u001b[38;5;28;01mif\u001b[39;00m \u001b[43mwarn\u001b[49m\u001b[43m(\u001b[49m\u001b[43m)\u001b[49m:\n\u001b[1;32m    431\u001b[0m     warnings\u001b[38;5;241m.\u001b[39mwarn(\u001b[38;5;124m\"\u001b[39m\u001b[38;5;124mConsider using IPython.display.IFrame instead\u001b[39m\u001b[38;5;124m\"\u001b[39m)\n\u001b[1;32m    432\u001b[0m \u001b[38;5;28msuper\u001b[39m(HTML, \u001b[38;5;28mself\u001b[39m)\u001b[38;5;241m.\u001b[39m\u001b[38;5;21m__init__\u001b[39m(data\u001b[38;5;241m=\u001b[39mdata, url\u001b[38;5;241m=\u001b[39murl, filename\u001b[38;5;241m=\u001b[39mfilename, metadata\u001b[38;5;241m=\u001b[39mmetadata)\n",
      "File \u001b[0;32m/Library/Frameworks/Python.framework/Versions/3.8/lib/python3.8/site-packages/IPython/core/display.py:426\u001b[0m, in \u001b[0;36mHTML.__init__.<locals>.warn\u001b[0;34m()\u001b[0m\n\u001b[1;32m    420\u001b[0m     \u001b[38;5;28;01mreturn\u001b[39;00m \u001b[38;5;28;01mFalse\u001b[39;00m\n\u001b[1;32m    422\u001b[0m \u001b[38;5;66;03m#\u001b[39;00m\n\u001b[1;32m    423\u001b[0m \u001b[38;5;66;03m# Avoid calling lower() on the entire data, because it could be a\u001b[39;00m\n\u001b[1;32m    424\u001b[0m \u001b[38;5;66;03m# long string and we're only interested in its beginning and end.\u001b[39;00m\n\u001b[1;32m    425\u001b[0m \u001b[38;5;66;03m#\u001b[39;00m\n\u001b[0;32m--> 426\u001b[0m prefix \u001b[38;5;241m=\u001b[39m \u001b[43mdata\u001b[49m\u001b[43m[\u001b[49m\u001b[43m:\u001b[49m\u001b[38;5;241;43m10\u001b[39;49m\u001b[43m]\u001b[49m\u001b[38;5;241m.\u001b[39mlower()\n\u001b[1;32m    427\u001b[0m suffix \u001b[38;5;241m=\u001b[39m data[\u001b[38;5;241m-\u001b[39m\u001b[38;5;241m10\u001b[39m:]\u001b[38;5;241m.\u001b[39mlower()\n\u001b[1;32m    428\u001b[0m \u001b[38;5;28;01mreturn\u001b[39;00m prefix\u001b[38;5;241m.\u001b[39mstartswith(\u001b[38;5;124m\"\u001b[39m\u001b[38;5;124m<iframe \u001b[39m\u001b[38;5;124m\"\u001b[39m) \u001b[38;5;129;01mand\u001b[39;00m suffix\u001b[38;5;241m.\u001b[39mendswith(\u001b[38;5;124m\"\u001b[39m\u001b[38;5;124m</iframe>\u001b[39m\u001b[38;5;124m\"\u001b[39m)\n",
      "\u001b[0;31mTypeError\u001b[0m: 'Styler' object is not subscriptable"
     ]
    }
   ],
   "source": [
    "df = df[['usage','platform','area','note']]\n",
    "display(HTML(df.style.hide()))"
   ]
  },
  {
   "cell_type": "markdown",
   "id": "6c0d2cce",
   "metadata": {},
   "source": [
    "```{note}\n",
    "e-mail is last because it's not collaborative; other platforms allow us (Proessor + TA) to collaborate on who responds to things more easily.\n",
    "```\n",
    "\n",
    "## By Platform"
   ]
  },
  {
   "cell_type": "code",
   "execution_count": 4,
   "id": "638bfd2e",
   "metadata": {
    "tags": [
     "remove-input"
    ]
   },
   "outputs": [
    {
     "data": {
      "text/html": [
       "<h3> Use e-mail for </h3>"
      ],
      "text/plain": [
       "<IPython.core.display.HTML object>"
      ]
     },
     "metadata": {},
     "output_type": "display_data"
    },
    {
     "name": "stderr",
     "output_type": "stream",
     "text": [
      "<ipython-input-4-e1756374f865>:3: FutureWarning: this method is deprecated in favour of `Styler.hide(axis=\"index\")`\n",
      "  display(HTML(data.drop(columns='platform').style.hide_index()._repr_html_()))\n"
     ]
    },
    {
     "data": {
      "text/html": [
       "<style type=\"text/css\">\n",
       "</style>\n",
       "<table id=\"T_99638\">\n",
       "  <thead>\n",
       "    <tr>\n",
       "      <th id=\"T_99638_level0_col0\" class=\"col_heading level0 col0\" >usage</th>\n",
       "      <th id=\"T_99638_level0_col1\" class=\"col_heading level0 col1\" >area</th>\n",
       "      <th id=\"T_99638_level0_col2\" class=\"col_heading level0 col2\" >note</th>\n",
       "    </tr>\n",
       "  </thead>\n",
       "  <tbody>\n",
       "    <tr>\n",
       "      <td id=\"T_99638_row0_col0\" class=\"data row0 col0\" > matters that don't fit into another category</td>\n",
       "      <td id=\"T_99638_row0_col1\" class=\"data row0 col1\" > to brownsarahm@uri.edu</td>\n",
       "      <td id=\"T_99638_row0_col2\" class=\"data row0 col2\" > remember to include `[CSC310]` or `[DSP310]` (note `verbatim` no space)</td>\n",
       "    </tr>\n",
       "  </tbody>\n",
       "</table>\n"
      ],
      "text/plain": [
       "<IPython.core.display.HTML object>"
      ]
     },
     "metadata": {},
     "output_type": "display_data"
    },
    {
     "data": {
      "text/html": [
       "<h3> Use github for </h3>"
      ],
      "text/plain": [
       "<IPython.core.display.HTML object>"
      ]
     },
     "metadata": {},
     "output_type": "display_data"
    },
    {
     "name": "stderr",
     "output_type": "stream",
     "text": [
      "<ipython-input-4-e1756374f865>:3: FutureWarning: this method is deprecated in favour of `Styler.hide(axis=\"index\")`\n",
      "  display(HTML(data.drop(columns='platform').style.hide_index()._repr_html_()))\n"
     ]
    },
    {
     "data": {
      "text/html": [
       "<style type=\"text/css\">\n",
       "</style>\n",
       "<table id=\"T_85202\">\n",
       "  <thead>\n",
       "    <tr>\n",
       "      <th id=\"T_85202_level0_col0\" class=\"col_heading level0 col0\" >usage</th>\n",
       "      <th id=\"T_85202_level0_col1\" class=\"col_heading level0 col1\" >area</th>\n",
       "      <th id=\"T_85202_level0_col2\" class=\"col_heading level0 col2\" >note</th>\n",
       "    </tr>\n",
       "  </thead>\n",
       "  <tbody>\n",
       "    <tr>\n",
       "      <td id=\"T_85202_row0_col0\" class=\"data row0 col0\" > private questions to your assignment</td>\n",
       "      <td id=\"T_85202_row0_col1\" class=\"data row0 col1\" > issue on assignment repo</td>\n",
       "      <td id=\"T_85202_row0_col2\" class=\"data row0 col2\" > eg bugs in your code\"</td>\n",
       "    </tr>\n",
       "    <tr>\n",
       "      <td id=\"T_85202_row1_col0\" class=\"data row1 col0\" > for general questions that can help others</td>\n",
       "      <td id=\"T_85202_row1_col1\" class=\"data row1 col1\" > issue on course website</td>\n",
       "      <td id=\"T_85202_row1_col2\" class=\"data row1 col2\" > eg what the instructions of an assignment mean or questions about the syllabus</td>\n",
       "    </tr>\n",
       "    <tr>\n",
       "      <td id=\"T_85202_row2_col0\" class=\"data row2 col0\" > to share resources or ask general questions in a semi-private forum</td>\n",
       "      <td id=\"T_85202_row2_col1\" class=\"data row2 col1\" > discussion on community repo</td>\n",
       "      <td id=\"T_85202_row2_col2\" class=\"data row2 col2\" > include links in your portfolio</td>\n",
       "    </tr>\n",
       "  </tbody>\n",
       "</table>\n"
      ],
      "text/plain": [
       "<IPython.core.display.HTML object>"
      ]
     },
     "metadata": {},
     "output_type": "display_data"
    },
    {
     "data": {
      "text/html": [
       "<h3> Use prismia for </h3>"
      ],
      "text/plain": [
       "<IPython.core.display.HTML object>"
      ]
     },
     "metadata": {},
     "output_type": "display_data"
    },
    {
     "name": "stderr",
     "output_type": "stream",
     "text": [
      "<ipython-input-4-e1756374f865>:3: FutureWarning: this method is deprecated in favour of `Styler.hide(axis=\"index\")`\n",
      "  display(HTML(data.drop(columns='platform').style.hide_index()._repr_html_()))\n"
     ]
    },
    {
     "data": {
      "text/html": [
       "<style type=\"text/css\">\n",
       "</style>\n",
       "<table id=\"T_0fa3f\">\n",
       "  <thead>\n",
       "    <tr>\n",
       "      <th id=\"T_0fa3f_level0_col0\" class=\"col_heading level0 col0\" >usage</th>\n",
       "      <th id=\"T_0fa3f_level0_col1\" class=\"col_heading level0 col1\" >area</th>\n",
       "      <th id=\"T_0fa3f_level0_col2\" class=\"col_heading level0 col2\" >note</th>\n",
       "    </tr>\n",
       "  </thead>\n",
       "  <tbody>\n",
       "    <tr>\n",
       "      <td id=\"T_0fa3f_row0_col0\" class=\"data row0 col0\" > in class</td>\n",
       "      <td id=\"T_0fa3f_row0_col1\" class=\"data row0 col1\" > chat</td>\n",
       "      <td id=\"T_0fa3f_row0_col2\" class=\"data row0 col2\" > outside of class time this is not monitored closely</td>\n",
       "    </tr>\n",
       "    <tr>\n",
       "      <td id=\"T_0fa3f_row1_col0\" class=\"data row1 col0\" > any time </td>\n",
       "      <td id=\"T_0fa3f_row1_col1\" class=\"data row1 col1\" > download transcript</td>\n",
       "      <td id=\"T_0fa3f_row1_col2\" class=\"data row1 col2\" > use after class to get preliminary notes eg if you miss a class</td>\n",
       "    </tr>\n",
       "  </tbody>\n",
       "</table>\n"
      ],
      "text/plain": [
       "<IPython.core.display.HTML object>"
      ]
     },
     "metadata": {},
     "output_type": "display_data"
    }
   ],
   "source": [
    "for platform, data in df.groupby('platform'):\n",
    "    display(HTML('<h3> Use '+ platform + ' for </h3>'))\n",
    "    display(HTML(data.drop(columns='platform').style.hide_index()._repr_html_()))"
   ]
  },
  {
   "cell_type": "markdown",
   "id": "f4772fa6",
   "metadata": {},
   "source": [
    "## Tips\n",
    "\n",
    "### For assignment help\n",
    "\n",
    "- **send in advance, leave time for a response** I check e-mail/github a small number of times per day, during work hours, almost exclusively. You might see me post to this site, post to BrightSpace, or comment on your assignments outside of my normal working hours, but I will not reliably see emails that arrive during those hours. This means that it is important to start assignments early.\n",
    "\n",
    "### Using issues\n",
    "\n",
    "- use issues for content directly related to assignments.  If you push your code to the repository and then open an issue, I can see your code and your question at the same time and download it to run it if I need to debug it\n",
    "- use issues for questions about this syllabus or class notes. At the top right there's a GitHub logo <i class=\"fab fa-github\"></i> that allows you to open a issue (for a question) or suggest an edit (eg if you think there's a typo or you find an additional helpful resource related to something)\n",
    "\n",
    "### For E-email\n",
    "````{margin}\n",
    "```{note}\n",
    "Whether you use CSC or DSP does not matter.  \n",
    "```\n",
    "````\n",
    "- use e-mail for general inquiries or notifications\n",
    "- Please include `[CSC310]` or `[DSP310]` in the subject line of your email along with the topic of your message. This is important, because your messages are important, but I also get a lot of e-mail. Consider these a cheat code to my inbox: I have setup a filter that will flag your e-mail if you use one of those in the subject to ensure that I see it."
   ]
  }
 ],
 "metadata": {
  "jupytext": {
   "text_representation": {
    "extension": ".md",
    "format_name": "myst",
    "format_version": 0.13,
    "jupytext_version": "1.10.3"
   }
  },
  "kernelspec": {
   "display_name": "Python 3",
   "language": "python",
   "name": "python3"
  },
  "language_info": {
   "codemirror_mode": {
    "name": "ipython",
    "version": 3
   },
   "file_extension": ".py",
   "mimetype": "text/x-python",
   "name": "python",
   "nbconvert_exporter": "python",
   "pygments_lexer": "ipython3",
   "version": "3.8.6"
  },
  "source_map": [
   12,
   20,
   29,
   38,
   42,
   50,
   55,
   63,
   70
  ]
 },
 "nbformat": 4,
 "nbformat_minor": 5
}