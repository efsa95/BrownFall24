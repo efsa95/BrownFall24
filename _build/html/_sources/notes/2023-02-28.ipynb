{
 "cells": [
  {
   "cell_type": "markdown",
   "id": "33a01a3a",
   "metadata": {},
   "source": [
    "# Evaluating ML Algorithms\n",
    "\n",
    "This week we are going to start learning about machine learning.\n",
    "\n",
    "We are going to do this by looking at how to tell if machine learning has worked.\n",
    "\n",
    "This is because:\n",
    "- you have to check if one worked after you build one\n",
    "- if you do not check carefully, it might only sometimes work\n",
    "- gives you a chance to learn *only* evaluation instead of evaluation + an ML task\n",
    "\n",
    "## What is a Machine Learning Algorithm? \n",
    "\n",
    "\n",
    "First, what is an Algorithm?\n",
    "\n",
    "> An algorithm is a set of ordered steps to complete a task.\n",
    "\n",
    "Note that when people outside of CS talk about algorithms that impact people's lives these are often *not written directly by people* anymore.  THey are often the result of machine learning.\n",
    "\n",
    "In machine learning, people write an algorithm for how to write an algorithm based on data.  This often comes in the form of a statitistical model of some sort.\n",
    "\n",
    "![Ml overview: training data goes into the learning algorithm, which outputs the prediction algorithm. the prediciton algorithm takes a sampleand outputs a prediction](../img/MLdataflow.svg)\n",
    "\n",
    "When we *do* machine learning, this can also be called:\n",
    "- data mining\n",
    "- pattern recognition\n",
    "- modeling\n",
    "\n",
    "because we are looking for patterns in the data and typically then planning to\n",
    "use those patterns to make predictions or automate a task.  \n",
    "\n",
    "Each of these terms does have slightly different meanings and usage, but\n",
    "sometimes they're used close to exchangeably.\n",
    "\n",
    "\n",
    "\n",
    "## How can we tell if ML is working?  \n",
    "\n",
    "We measure the performance of the prediction algorithm, to determine if the learning algorithm worked. \n",
    "\n",
    "\n",
    "## Replicating the COMPAS Audit\n",
    "We are going to replicate the audit from ProPublica [Machine Bias](https://www.propublica.org/article/machine-bias-risk-assessments-in-criminal-sentencing)\n",
    "\n",
    "### Why COMPAS?\n",
    "\n",
    "\n",
    "Propublica started the COMPAS Debate with the article [Machine Bias](https://www.propublica.org/article/machine-bias-risk-assessments-in-criminal-sentencin).  With their article, they also released details of their methodology and their [data and code](https://github.com/propublica/compas-analysis).  This presents a real data set that can be used for research on how data is used in a criminal justice setting without researchers having to perform their own requests for information, so it has been used and reused a lot of times.\n",
    "\n",
    "\n",
    "### Propublica COMPAS Data\n",
    "\n",
    "\n",
    "The dataset consists of COMPAS scores assigned to defendants over two years 2013-2014 in Broward County, Florida, it was released by Propublica in a [GitHub Repository](https://github.com/propublica/compas-analysis/). These scores are determined by a proprietary algorithm designed to evaluate a persons recidivism risk - the likelihood that they will reoffend. Risk scoring algorithms are widely used by judges to inform their sentencing and bail decisions in the criminal justice system in the United States.\n",
    "\n",
    "The journalists collected, for each person arreste din 2013 and 2014:\n",
    "- basic demographics\n",
    "- details about what they were charged with and priors\n",
    "- the COMPAS score assigned to them\n",
    "- if they had actually been re-arrested within 2 years of their arrest\n",
    "\n",
    "This means that we have what the COMPAS algorithm predicted (in the form of a score from 1-10) and what actually happened (re-arrested or not). We can then measure how well the algorithm worked, in practice, in the real world."
   ]
  },
  {
   "cell_type": "code",
   "execution_count": 1,
   "id": "f1843342",
   "metadata": {},
   "outputs": [],
   "source": [
    "import pandas as pd\n",
    "from sklearn import metrics\n",
    "import seaborn as sns"
   ]
  },
  {
   "cell_type": "markdown",
   "id": "753b9612",
   "metadata": {},
   "source": [
    "We're going to work with a cleaned copy of the data released by Propublica that also has a minimal subset of features.\n",
    "\n",
    "* `age`: defendant's age\n",
    "* `c_charge_degree`: degree charged (Misdemeanor of Felony)\n",
    "* `race`: defendant's race\n",
    "* `age_cat`: defendant's age quantized in \"less than 25\", \"25-45\", or \"over 45\"\n",
    "* `score_text`: COMPAS score: 'low'(1 to 5), 'medium' (5 to 7), and 'high' (8 to 10).\n",
    "* `sex`: defendant's gender\n",
    "* `priors_count`: number of prior charges\n",
    "* `days_b_screening_arrest`: number of days between charge date and arrest where defendant was screened for compas score\n",
    "* `decile_score`: COMPAS score from 1 to 10 (low risk to high risk)\n",
    "* `is_recid`: if the defendant recidivized\n",
    "* `two_year_recid`: if the defendant within two years\n",
    "* `c_jail_in`: date defendant was imprisoned\n",
    "* `c_jail_out`: date defendant was released from jail\n",
    "* `length_of_stay`: length of jail stay"
   ]
  },
  {
   "cell_type": "code",
   "execution_count": 2,
   "id": "f8e127ef",
   "metadata": {},
   "outputs": [
    {
     "data": {
      "text/html": [
       "<div>\n",
       "<style scoped>\n",
       "    .dataframe tbody tr th:only-of-type {\n",
       "        vertical-align: middle;\n",
       "    }\n",
       "\n",
       "    .dataframe tbody tr th {\n",
       "        vertical-align: top;\n",
       "    }\n",
       "\n",
       "    .dataframe thead th {\n",
       "        text-align: right;\n",
       "    }\n",
       "</style>\n",
       "<table border=\"1\" class=\"dataframe\">\n",
       "  <thead>\n",
       "    <tr style=\"text-align: right;\">\n",
       "      <th></th>\n",
       "      <th>id</th>\n",
       "      <th>age</th>\n",
       "      <th>c_charge_degree</th>\n",
       "      <th>race</th>\n",
       "      <th>age_cat</th>\n",
       "      <th>score_text</th>\n",
       "      <th>sex</th>\n",
       "      <th>priors_count</th>\n",
       "      <th>days_b_screening_arrest</th>\n",
       "      <th>decile_score</th>\n",
       "      <th>is_recid</th>\n",
       "      <th>two_year_recid</th>\n",
       "      <th>c_jail_in</th>\n",
       "      <th>c_jail_out</th>\n",
       "      <th>length_of_stay</th>\n",
       "    </tr>\n",
       "  </thead>\n",
       "  <tbody>\n",
       "    <tr>\n",
       "      <th>0</th>\n",
       "      <td>3</td>\n",
       "      <td>34</td>\n",
       "      <td>F</td>\n",
       "      <td>African-American</td>\n",
       "      <td>25 - 45</td>\n",
       "      <td>Low</td>\n",
       "      <td>Male</td>\n",
       "      <td>0</td>\n",
       "      <td>-1.0</td>\n",
       "      <td>3</td>\n",
       "      <td>1</td>\n",
       "      <td>1</td>\n",
       "      <td>2013-01-26 03:45:27</td>\n",
       "      <td>2013-02-05 05:36:53</td>\n",
       "      <td>10</td>\n",
       "    </tr>\n",
       "    <tr>\n",
       "      <th>1</th>\n",
       "      <td>4</td>\n",
       "      <td>24</td>\n",
       "      <td>F</td>\n",
       "      <td>African-American</td>\n",
       "      <td>Less than 25</td>\n",
       "      <td>Low</td>\n",
       "      <td>Male</td>\n",
       "      <td>4</td>\n",
       "      <td>-1.0</td>\n",
       "      <td>4</td>\n",
       "      <td>1</td>\n",
       "      <td>1</td>\n",
       "      <td>2013-04-13 04:58:34</td>\n",
       "      <td>2013-04-14 07:02:04</td>\n",
       "      <td>1</td>\n",
       "    </tr>\n",
       "    <tr>\n",
       "      <th>2</th>\n",
       "      <td>8</td>\n",
       "      <td>41</td>\n",
       "      <td>F</td>\n",
       "      <td>Caucasian</td>\n",
       "      <td>25 - 45</td>\n",
       "      <td>Medium</td>\n",
       "      <td>Male</td>\n",
       "      <td>14</td>\n",
       "      <td>-1.0</td>\n",
       "      <td>6</td>\n",
       "      <td>1</td>\n",
       "      <td>1</td>\n",
       "      <td>2014-02-18 05:08:24</td>\n",
       "      <td>2014-02-24 12:18:30</td>\n",
       "      <td>6</td>\n",
       "    </tr>\n",
       "    <tr>\n",
       "      <th>3</th>\n",
       "      <td>10</td>\n",
       "      <td>39</td>\n",
       "      <td>M</td>\n",
       "      <td>Caucasian</td>\n",
       "      <td>25 - 45</td>\n",
       "      <td>Low</td>\n",
       "      <td>Female</td>\n",
       "      <td>0</td>\n",
       "      <td>-1.0</td>\n",
       "      <td>1</td>\n",
       "      <td>0</td>\n",
       "      <td>0</td>\n",
       "      <td>2014-03-15 05:35:34</td>\n",
       "      <td>2014-03-18 04:28:46</td>\n",
       "      <td>2</td>\n",
       "    </tr>\n",
       "    <tr>\n",
       "      <th>4</th>\n",
       "      <td>14</td>\n",
       "      <td>27</td>\n",
       "      <td>F</td>\n",
       "      <td>Caucasian</td>\n",
       "      <td>25 - 45</td>\n",
       "      <td>Low</td>\n",
       "      <td>Male</td>\n",
       "      <td>0</td>\n",
       "      <td>-1.0</td>\n",
       "      <td>4</td>\n",
       "      <td>0</td>\n",
       "      <td>0</td>\n",
       "      <td>2013-11-25 06:31:06</td>\n",
       "      <td>2013-11-26 08:26:57</td>\n",
       "      <td>1</td>\n",
       "    </tr>\n",
       "  </tbody>\n",
       "</table>\n",
       "</div>"
      ],
      "text/plain": [
       "   id  age c_charge_degree              race       age_cat score_text     sex  \\\n",
       "0   3   34               F  African-American       25 - 45        Low    Male   \n",
       "1   4   24               F  African-American  Less than 25        Low    Male   \n",
       "2   8   41               F         Caucasian       25 - 45     Medium    Male   \n",
       "3  10   39               M         Caucasian       25 - 45        Low  Female   \n",
       "4  14   27               F         Caucasian       25 - 45        Low    Male   \n",
       "\n",
       "   priors_count  days_b_screening_arrest  decile_score  is_recid  \\\n",
       "0             0                     -1.0             3         1   \n",
       "1             4                     -1.0             4         1   \n",
       "2            14                     -1.0             6         1   \n",
       "3             0                     -1.0             1         0   \n",
       "4             0                     -1.0             4         0   \n",
       "\n",
       "   two_year_recid            c_jail_in           c_jail_out  length_of_stay  \n",
       "0               1  2013-01-26 03:45:27  2013-02-05 05:36:53              10  \n",
       "1               1  2013-04-13 04:58:34  2013-04-14 07:02:04               1  \n",
       "2               1  2014-02-18 05:08:24  2014-02-24 12:18:30               6  \n",
       "3               0  2014-03-15 05:35:34  2014-03-18 04:28:46               2  \n",
       "4               0  2013-11-25 06:31:06  2013-11-26 08:26:57               1  "
      ]
     },
     "execution_count": 2,
     "metadata": {},
     "output_type": "execute_result"
    }
   ],
   "source": [
    "compas_clean_url = 'https://raw.githubusercontent.com/ml4sts/outreach-compas/main/data/compas_c.csv'\n",
    "compas_df = pd.read_csv(compas_clean_url)\n",
    "compas_df.head()"
   ]
  },
  {
   "cell_type": "markdown",
   "id": "ba97299a",
   "metadata": {},
   "source": [
    "## One-hot Encoding\n",
    "\n",
    "We will audit first to see how good the algorithm is by treating the predictions as either high or not high.  One way we can get to that point is to transform the `score_text` column from one column with three values, to 3 binary columns."
   ]
  },
  {
   "cell_type": "code",
   "execution_count": 3,
   "id": "1c0e0335",
   "metadata": {},
   "outputs": [
    {
     "data": {
      "text/html": [
       "<div>\n",
       "<style scoped>\n",
       "    .dataframe tbody tr th:only-of-type {\n",
       "        vertical-align: middle;\n",
       "    }\n",
       "\n",
       "    .dataframe tbody tr th {\n",
       "        vertical-align: top;\n",
       "    }\n",
       "\n",
       "    .dataframe thead th {\n",
       "        text-align: right;\n",
       "    }\n",
       "</style>\n",
       "<table border=\"1\" class=\"dataframe\">\n",
       "  <thead>\n",
       "    <tr style=\"text-align: right;\">\n",
       "      <th></th>\n",
       "      <th>High</th>\n",
       "      <th>Low</th>\n",
       "      <th>Medium</th>\n",
       "    </tr>\n",
       "  </thead>\n",
       "  <tbody>\n",
       "    <tr>\n",
       "      <th>0</th>\n",
       "      <td>0</td>\n",
       "      <td>1</td>\n",
       "      <td>0</td>\n",
       "    </tr>\n",
       "    <tr>\n",
       "      <th>1</th>\n",
       "      <td>0</td>\n",
       "      <td>1</td>\n",
       "      <td>0</td>\n",
       "    </tr>\n",
       "    <tr>\n",
       "      <th>2</th>\n",
       "      <td>0</td>\n",
       "      <td>0</td>\n",
       "      <td>1</td>\n",
       "    </tr>\n",
       "    <tr>\n",
       "      <th>3</th>\n",
       "      <td>0</td>\n",
       "      <td>1</td>\n",
       "      <td>0</td>\n",
       "    </tr>\n",
       "    <tr>\n",
       "      <th>4</th>\n",
       "      <td>0</td>\n",
       "      <td>1</td>\n",
       "      <td>0</td>\n",
       "    </tr>\n",
       "    <tr>\n",
       "      <th>...</th>\n",
       "      <td>...</td>\n",
       "      <td>...</td>\n",
       "      <td>...</td>\n",
       "    </tr>\n",
       "    <tr>\n",
       "      <th>5273</th>\n",
       "      <td>0</td>\n",
       "      <td>1</td>\n",
       "      <td>0</td>\n",
       "    </tr>\n",
       "    <tr>\n",
       "      <th>5274</th>\n",
       "      <td>1</td>\n",
       "      <td>0</td>\n",
       "      <td>0</td>\n",
       "    </tr>\n",
       "    <tr>\n",
       "      <th>5275</th>\n",
       "      <td>0</td>\n",
       "      <td>0</td>\n",
       "      <td>1</td>\n",
       "    </tr>\n",
       "    <tr>\n",
       "      <th>5276</th>\n",
       "      <td>0</td>\n",
       "      <td>1</td>\n",
       "      <td>0</td>\n",
       "    </tr>\n",
       "    <tr>\n",
       "      <th>5277</th>\n",
       "      <td>0</td>\n",
       "      <td>1</td>\n",
       "      <td>0</td>\n",
       "    </tr>\n",
       "  </tbody>\n",
       "</table>\n",
       "<p>5278 rows × 3 columns</p>\n",
       "</div>"
      ],
      "text/plain": [
       "      High  Low  Medium\n",
       "0        0    1       0\n",
       "1        0    1       0\n",
       "2        0    0       1\n",
       "3        0    1       0\n",
       "4        0    1       0\n",
       "...    ...  ...     ...\n",
       "5273     0    1       0\n",
       "5274     1    0       0\n",
       "5275     0    0       1\n",
       "5276     0    1       0\n",
       "5277     0    1       0\n",
       "\n",
       "[5278 rows x 3 columns]"
      ]
     },
     "execution_count": 3,
     "metadata": {},
     "output_type": "execute_result"
    }
   ],
   "source": [
    "pd.get_dummies(compas_df['score_text'])"
   ]
  },
  {
   "cell_type": "code",
   "execution_count": 4,
   "id": "a50cba3a",
   "metadata": {},
   "outputs": [],
   "source": [
    "compas_onehot = pd.concat([compas_df,pd.get_dummies(compas_df['score_text'])],axis=1)"
   ]
  },
  {
   "cell_type": "markdown",
   "id": "dc89bc39",
   "metadata": {},
   "source": [
    "We could have done the above line in one neater step, but in class I for this was an option."
   ]
  },
  {
   "cell_type": "code",
   "execution_count": 5,
   "id": "03f07017",
   "metadata": {},
   "outputs": [],
   "source": [
    "compas_df_onehot = pd.get_dummies(compas_df,columns=['score_text'])"
   ]
  },
  {
   "cell_type": "markdown",
   "id": "c24f3c5f",
   "metadata": {},
   "source": [
    "Next lets look at the thresholds that were used so that we know what the mean"
   ]
  },
  {
   "cell_type": "code",
   "execution_count": 6,
   "id": "c1406fec",
   "metadata": {},
   "outputs": [
    {
     "data": {
      "text/html": [
       "<div>\n",
       "<style scoped>\n",
       "    .dataframe tbody tr th:only-of-type {\n",
       "        vertical-align: middle;\n",
       "    }\n",
       "\n",
       "    .dataframe tbody tr th {\n",
       "        vertical-align: top;\n",
       "    }\n",
       "\n",
       "    .dataframe thead th {\n",
       "        text-align: right;\n",
       "    }\n",
       "</style>\n",
       "<table border=\"1\" class=\"dataframe\">\n",
       "  <thead>\n",
       "    <tr style=\"text-align: right;\">\n",
       "      <th></th>\n",
       "      <th>min</th>\n",
       "      <th>max</th>\n",
       "    </tr>\n",
       "    <tr>\n",
       "      <th>score_text</th>\n",
       "      <th></th>\n",
       "      <th></th>\n",
       "    </tr>\n",
       "  </thead>\n",
       "  <tbody>\n",
       "    <tr>\n",
       "      <th>High</th>\n",
       "      <td>8</td>\n",
       "      <td>10</td>\n",
       "    </tr>\n",
       "    <tr>\n",
       "      <th>Low</th>\n",
       "      <td>1</td>\n",
       "      <td>4</td>\n",
       "    </tr>\n",
       "    <tr>\n",
       "      <th>Medium</th>\n",
       "      <td>5</td>\n",
       "      <td>7</td>\n",
       "    </tr>\n",
       "  </tbody>\n",
       "</table>\n",
       "</div>"
      ],
      "text/plain": [
       "            min  max\n",
       "score_text          \n",
       "High          8   10\n",
       "Low           1    4\n",
       "Medium        5    7"
      ]
     },
     "execution_count": 6,
     "metadata": {},
     "output_type": "execute_result"
    }
   ],
   "source": [
    "compas_onehot.groupby('score_text')['decile_score'].agg(['min','max'])"
   ]
  },
  {
   "cell_type": "markdown",
   "id": "5d8d28d9",
   "metadata": {},
   "source": [
    "We will also audit with respect to second threshold."
   ]
  },
  {
   "cell_type": "code",
   "execution_count": 7,
   "id": "e841604c",
   "metadata": {},
   "outputs": [],
   "source": [
    "compas_onehot['MedHigh'] = compas_onehot['High'] + compas_onehot['Medium']"
   ]
  },
  {
   "cell_type": "markdown",
   "id": "f20ea63e",
   "metadata": {},
   "source": [
    "## Sklearn Performance metrics \n",
    "\n",
    "\n",
    "\n",
    "The first thing we usually check is the accuracy: the percentage of all samples that are correct."
   ]
  },
  {
   "cell_type": "code",
   "execution_count": 8,
   "id": "5844d1a2",
   "metadata": {},
   "outputs": [
    {
     "data": {
      "text/plain": [
       "0.6288366805608185"
      ]
     },
     "execution_count": 8,
     "metadata": {},
     "output_type": "execute_result"
    }
   ],
   "source": [
    "metrics.accuracy_score(compas_onehot['two_year_recid'],compas_onehot['High'])"
   ]
  },
  {
   "cell_type": "markdown",
   "id": "1e4aa556",
   "metadata": {},
   "source": [
    "````{margin}\n",
    "```{note}\n",
    "the wikipedia page for confusion matrix is a really good reference\n",
    "```\n",
    "````\n",
    "However this does not tell us anything about what *types* of mistakes the algorithm made.  The type of mistake often matters in terms of how we trust or deploy an algorithm.  We use a [confusion matrix](https://en.wikipedia.org/wiki/Confusion_matrix) to describe the performance in more detail.\n",
    "\n",
    "\n",
    "\n",
    "A confusion matrix counts the number of samples of each *true* category that wre predicted to be in each category. In this case we have a binary prediction problem: people either are re-arrested (truth) or not and were given a high score or not(prediction).  In binary problems we adopt a common language of labeling one outcome/predicted value positive and the other negative.  We do this not based on the social value of the outcome, but on the numerical encoding.  \n",
    "\n",
    "In this data, being re-arrested is indicated by a 1 in the `two_year_recid` column, so this is the *positive class* and not being re-arrested is 0, so the *negative class*.  Similarly a high score is 1, so that's the *positive prediction* and not high is 0, so that is the a *negative prediction*."
   ]
  },
  {
   "cell_type": "code",
   "execution_count": 9,
   "id": "d2936fba",
   "metadata": {},
   "outputs": [
    {
     "data": {
      "text/plain": [
       "0.6582038651004168"
      ]
     },
     "execution_count": 9,
     "metadata": {},
     "output_type": "execute_result"
    }
   ],
   "source": [
    "metrics.accuracy_score(compas_onehot['two_year_recid'],compas_onehot['MedHigh'])"
   ]
  },
  {
   "cell_type": "markdown",
   "id": "456a2bba",
   "metadata": {},
   "source": [
    "[docs](https://scikit-learn.org/stable/modules/generated/sklearn.metrics.confusion_matrix.html)"
   ]
  },
  {
   "cell_type": "code",
   "execution_count": 10,
   "id": "bddf5ca5",
   "metadata": {},
   "outputs": [
    {
     "data": {
      "text/plain": [
       "array([[1872,  923],\n",
       "       [ 881, 1602]])"
      ]
     },
     "execution_count": 10,
     "metadata": {},
     "output_type": "execute_result"
    }
   ],
   "source": [
    "metrics.confusion_matrix(compas_onehot['two_year_recid'],compas_onehot['MedHigh'])"
   ]
  },
  {
   "cell_type": "markdown",
   "id": "f14b83cd",
   "metadata": {},
   "source": [
    "```{note}\n",
    "these terms can be used in any sort of detection problem, whether machine learning is used or not\n",
    "```\n",
    "\n",
    "`sklearn.metrics` provides a `[confusion matrix](https://scikit-learn.org/stable/modules/generated/sklearn.metrics.confusion_matrix.html)` function that we can use.\n",
    "\n",
    "\n",
    "Since this is binary problem we have 4 possible outcomes:\n",
    "- true negatives($C_{0,0}$): did not get a high score and were not re-arrested\n",
    "- false negatives($C_{1,0}$):: did not get a high score and were re-arrested\n",
    "- false positives($C_{0,1}$):: got a high score and were not re-arrested\n",
    "- true positives($C_{1,1}$):: got a high score and were re-arrested\n",
    "\n",
    "\n",
    "With these we can revisit accuracy:\n",
    "\n",
    "$$ A = \\frac{C_{0,0} + C_{1,1}}{C_{0,0}+ C_{1,0} + C_{0,1} + C_{1,1}} $$\n",
    "\n",
    "\n",
    "and we can define new scores. Two common ones in CS are recall and precision.\n",
    "\n",
    "Recall is:\n",
    "\n",
    "$$ R = \\frac{C_{1,1}}{C_{1,0} + C_{1,1}} $$"
   ]
  },
  {
   "cell_type": "code",
   "execution_count": 11,
   "id": "9565f214",
   "metadata": {},
   "outputs": [
    {
     "ename": "KeyError",
     "evalue": "'score_text_High'",
     "output_type": "error",
     "traceback": [
      "\u001b[0;31m---------------------------------------------------------------------------\u001b[0m",
      "\u001b[0;31mKeyError\u001b[0m                                  Traceback (most recent call last)",
      "File \u001b[0;32m/Library/Frameworks/Python.framework/Versions/3.8/lib/python3.8/site-packages/pandas/core/indexes/base.py:3802\u001b[0m, in \u001b[0;36mIndex.get_loc\u001b[0;34m(self, key, method, tolerance)\u001b[0m\n\u001b[1;32m   3801\u001b[0m \u001b[38;5;28;01mtry\u001b[39;00m:\n\u001b[0;32m-> 3802\u001b[0m     \u001b[38;5;28;01mreturn\u001b[39;00m \u001b[38;5;28;43mself\u001b[39;49m\u001b[38;5;241;43m.\u001b[39;49m\u001b[43m_engine\u001b[49m\u001b[38;5;241;43m.\u001b[39;49m\u001b[43mget_loc\u001b[49m\u001b[43m(\u001b[49m\u001b[43mcasted_key\u001b[49m\u001b[43m)\u001b[49m\n\u001b[1;32m   3803\u001b[0m \u001b[38;5;28;01mexcept\u001b[39;00m \u001b[38;5;167;01mKeyError\u001b[39;00m \u001b[38;5;28;01mas\u001b[39;00m err:\n",
      "File \u001b[0;32m/Library/Frameworks/Python.framework/Versions/3.8/lib/python3.8/site-packages/pandas/_libs/index.pyx:138\u001b[0m, in \u001b[0;36mpandas._libs.index.IndexEngine.get_loc\u001b[0;34m()\u001b[0m\n",
      "File \u001b[0;32m/Library/Frameworks/Python.framework/Versions/3.8/lib/python3.8/site-packages/pandas/_libs/index.pyx:165\u001b[0m, in \u001b[0;36mpandas._libs.index.IndexEngine.get_loc\u001b[0;34m()\u001b[0m\n",
      "File \u001b[0;32mpandas/_libs/hashtable_class_helper.pxi:5745\u001b[0m, in \u001b[0;36mpandas._libs.hashtable.PyObjectHashTable.get_item\u001b[0;34m()\u001b[0m\n",
      "File \u001b[0;32mpandas/_libs/hashtable_class_helper.pxi:5753\u001b[0m, in \u001b[0;36mpandas._libs.hashtable.PyObjectHashTable.get_item\u001b[0;34m()\u001b[0m\n",
      "\u001b[0;31mKeyError\u001b[0m: 'score_text_High'",
      "\nThe above exception was the direct cause of the following exception:\n",
      "\u001b[0;31mKeyError\u001b[0m                                  Traceback (most recent call last)",
      "Cell \u001b[0;32mIn [11], line 1\u001b[0m\n\u001b[0;32m----> 1\u001b[0m metrics\u001b[38;5;241m.\u001b[39mrecall_score(compas_df[\u001b[38;5;124m'\u001b[39m\u001b[38;5;124mtwo_year_recid\u001b[39m\u001b[38;5;124m'\u001b[39m],\u001b[43mcompas_df\u001b[49m\u001b[43m[\u001b[49m\u001b[38;5;124;43m'\u001b[39;49m\u001b[38;5;124;43mscore_text_High\u001b[39;49m\u001b[38;5;124;43m'\u001b[39;49m\u001b[43m]\u001b[49m)\n",
      "File \u001b[0;32m/Library/Frameworks/Python.framework/Versions/3.8/lib/python3.8/site-packages/pandas/core/frame.py:3807\u001b[0m, in \u001b[0;36mDataFrame.__getitem__\u001b[0;34m(self, key)\u001b[0m\n\u001b[1;32m   3805\u001b[0m \u001b[38;5;28;01mif\u001b[39;00m \u001b[38;5;28mself\u001b[39m\u001b[38;5;241m.\u001b[39mcolumns\u001b[38;5;241m.\u001b[39mnlevels \u001b[38;5;241m>\u001b[39m \u001b[38;5;241m1\u001b[39m:\n\u001b[1;32m   3806\u001b[0m     \u001b[38;5;28;01mreturn\u001b[39;00m \u001b[38;5;28mself\u001b[39m\u001b[38;5;241m.\u001b[39m_getitem_multilevel(key)\n\u001b[0;32m-> 3807\u001b[0m indexer \u001b[38;5;241m=\u001b[39m \u001b[38;5;28;43mself\u001b[39;49m\u001b[38;5;241;43m.\u001b[39;49m\u001b[43mcolumns\u001b[49m\u001b[38;5;241;43m.\u001b[39;49m\u001b[43mget_loc\u001b[49m\u001b[43m(\u001b[49m\u001b[43mkey\u001b[49m\u001b[43m)\u001b[49m\n\u001b[1;32m   3808\u001b[0m \u001b[38;5;28;01mif\u001b[39;00m is_integer(indexer):\n\u001b[1;32m   3809\u001b[0m     indexer \u001b[38;5;241m=\u001b[39m [indexer]\n",
      "File \u001b[0;32m/Library/Frameworks/Python.framework/Versions/3.8/lib/python3.8/site-packages/pandas/core/indexes/base.py:3804\u001b[0m, in \u001b[0;36mIndex.get_loc\u001b[0;34m(self, key, method, tolerance)\u001b[0m\n\u001b[1;32m   3802\u001b[0m     \u001b[38;5;28;01mreturn\u001b[39;00m \u001b[38;5;28mself\u001b[39m\u001b[38;5;241m.\u001b[39m_engine\u001b[38;5;241m.\u001b[39mget_loc(casted_key)\n\u001b[1;32m   3803\u001b[0m \u001b[38;5;28;01mexcept\u001b[39;00m \u001b[38;5;167;01mKeyError\u001b[39;00m \u001b[38;5;28;01mas\u001b[39;00m err:\n\u001b[0;32m-> 3804\u001b[0m     \u001b[38;5;28;01mraise\u001b[39;00m \u001b[38;5;167;01mKeyError\u001b[39;00m(key) \u001b[38;5;28;01mfrom\u001b[39;00m \u001b[38;5;21;01merr\u001b[39;00m\n\u001b[1;32m   3805\u001b[0m \u001b[38;5;28;01mexcept\u001b[39;00m \u001b[38;5;167;01mTypeError\u001b[39;00m:\n\u001b[1;32m   3806\u001b[0m     \u001b[38;5;66;03m# If we have a listlike key, _check_indexing_error will raise\u001b[39;00m\n\u001b[1;32m   3807\u001b[0m     \u001b[38;5;66;03m#  InvalidIndexError. Otherwise we fall through and re-raise\u001b[39;00m\n\u001b[1;32m   3808\u001b[0m     \u001b[38;5;66;03m#  the TypeError.\u001b[39;00m\n\u001b[1;32m   3809\u001b[0m     \u001b[38;5;28mself\u001b[39m\u001b[38;5;241m.\u001b[39m_check_indexing_error(key)\n",
      "\u001b[0;31mKeyError\u001b[0m: 'score_text_High'"
     ]
    }
   ],
   "source": [
    "metrics.recall_score(compas_df['two_year_recid'],compas_df['score_text_High'])"
   ]
  },
  {
   "cell_type": "markdown",
   "id": "bc909383",
   "metadata": {},
   "source": [
    "That is, among the truly positive class how many were correctly predicted?  In COMPAS, it's the percentage of the re-arrested people who got a high score.\n",
    "\n",
    "\n",
    "Precision is\n",
    "$$ P = \\frac{C_{1,1}}{C_{0,1} + C_{1,1}} $$"
   ]
  },
  {
   "cell_type": "code",
   "execution_count": 12,
   "id": "6c5b5c9b",
   "metadata": {},
   "outputs": [
    {
     "data": {
      "text/plain": [
       "0.6451872734595248"
      ]
     },
     "execution_count": 12,
     "metadata": {},
     "output_type": "execute_result"
    }
   ],
   "source": [
    "metrics.recall_score(compas_onehot['two_year_recid'],compas_onehot['MedHigh'])"
   ]
  },
  {
   "cell_type": "code",
   "execution_count": 13,
   "id": "6e855b0e",
   "metadata": {},
   "outputs": [
    {
     "data": {
      "text/plain": [
       "0.6344554455445545"
      ]
     },
     "execution_count": 13,
     "metadata": {},
     "output_type": "execute_result"
    }
   ],
   "source": [
    "metrics.precision_score(compas_onehot['two_year_recid'],compas_onehot['MedHigh'])"
   ]
  },
  {
   "cell_type": "markdown",
   "id": "f205f97e",
   "metadata": {},
   "source": [
    "## Per Group Scores \n",
    "\n",
    "To groupby and then do the score, we can use a lambda again, with apply"
   ]
  },
  {
   "cell_type": "code",
   "execution_count": 14,
   "id": "d6776578",
   "metadata": {},
   "outputs": [
    {
     "data": {
      "text/plain": [
       "race\n",
       "African-American    0.649134\n",
       "Caucasian           0.671897\n",
       "dtype: float64"
      ]
     },
     "execution_count": 14,
     "metadata": {},
     "output_type": "execute_result"
    }
   ],
   "source": [
    "acc_fx  = lambda d: metrics.accuracy_score(d['two_year_recid'],d['MedHigh'])\n",
    "compas_onehot.groupby('race').apply(acc_fx)"
   ]
  },
  {
   "cell_type": "markdown",
   "id": "24e7ef06",
   "metadata": {},
   "source": [
    "That lambda + apply is equivalent to:"
   ]
  },
  {
   "cell_type": "code",
   "execution_count": 15,
   "id": "db76783b",
   "metadata": {},
   "outputs": [
    {
     "ename": "NameError",
     "evalue": "name 'compas_race' is not defined",
     "output_type": "error",
     "traceback": [
      "\u001b[0;31m---------------------------------------------------------------------------\u001b[0m",
      "\u001b[0;31mNameError\u001b[0m                                 Traceback (most recent call last)",
      "Cell \u001b[0;32mIn [15], line 2\u001b[0m\n\u001b[1;32m      1\u001b[0m race_acc \u001b[38;5;241m=\u001b[39m []\n\u001b[0;32m----> 2\u001b[0m \u001b[38;5;28;01mfor\u001b[39;00m race, rdf \u001b[38;5;129;01min\u001b[39;00m \u001b[43mcompas_race\u001b[49m:\n\u001b[1;32m      3\u001b[0m     acc \u001b[38;5;241m=\u001b[39m skmetrics\u001b[38;5;241m.\u001b[39maccuracy_score(rdf[\u001b[38;5;124m'\u001b[39m\u001b[38;5;124mtwo_year_recid\u001b[39m\u001b[38;5;124m'\u001b[39m],\n\u001b[1;32m      4\u001b[0m              rdf[\u001b[38;5;124m'\u001b[39m\u001b[38;5;124mscore_text_MedHigh\u001b[39m\u001b[38;5;124m'\u001b[39m])\n\u001b[1;32m      5\u001b[0m     race_acc\u001b[38;5;241m.\u001b[39mappend([race,acc])\n",
      "\u001b[0;31mNameError\u001b[0m: name 'compas_race' is not defined"
     ]
    }
   ],
   "source": [
    "race_acc = []\n",
    "for race, rdf in compas_race:\n",
    "    acc = skmetrics.accuracy_score(rdf['two_year_recid'],\n",
    "             rdf['score_text_MedHigh'])\n",
    "    race_acc.append([race,acc])\n",
    "\n",
    "pd.DataFrame(race_acc, columns =['race','accuracy'])"
   ]
  },
  {
   "cell_type": "code",
   "execution_count": 16,
   "id": "3ebe1f7e",
   "metadata": {},
   "outputs": [
    {
     "data": {
      "text/plain": [
       "race\n",
       "African-American    0.715232\n",
       "Caucasian           0.503650\n",
       "dtype: float64"
      ]
     },
     "execution_count": 16,
     "metadata": {},
     "output_type": "execute_result"
    }
   ],
   "source": [
    "recall_fx  = lambda d: metrics.recall_score(d['two_year_recid'],d['MedHigh'])\n",
    "compas_onehot.groupby('race').apply(recall_fx)"
   ]
  },
  {
   "cell_type": "code",
   "execution_count": 17,
   "id": "41d1e5c5",
   "metadata": {},
   "outputs": [
    {
     "data": {
      "text/plain": [
       "race\n",
       "African-American    0.649535\n",
       "Caucasian           0.594828\n",
       "dtype: float64"
      ]
     },
     "execution_count": 17,
     "metadata": {},
     "output_type": "execute_result"
    }
   ],
   "source": [
    "precision_fx  = lambda d: metrics.precision_score(d['two_year_recid'],d['MedHigh'])\n",
    "compas_onehot.groupby('race').apply(precision_fx)"
   ]
  },
  {
   "cell_type": "markdown",
   "id": "bc216284",
   "metadata": {},
   "source": [
    "The recall tells us that the model has very different impact on people.  On the other hand the precision tells us the scores mean about the same thing for Black and White people. \n",
    "\n",
    "Researchers established that these are mutually exclusive, provably.  We cannot have both, so it is very important to think about what the performance metrics mean and how your algorithm will be used in order to choose how to prepare a model.  We will train models starting next week, but knowing these goals in advance is essential.\n",
    "\n",
    "Importantly, this is not a statistical, computational choice that data can answer for us. This is about *human* values (and to some extent the law; certain domains have legal protections that require a specific condition).\n",
    "\n",
    "The Fair Machine Learning book's classificaiton Chapter has a [section on relationships between criteria](https://fairmlbook.org/classification.html#relationships-between-criteria) with the proofs.\n",
    "\n",
    "\n",
    "\n",
    "```{important}\n",
    "\n",
    "We used ProPublica's COMPAS dataset to replicate (parts of, with different tools) their analysis. That is, they collected the dataset in order to audit the COMPAS algorithm and we used it for the same purpose (and to learn model evaluation).  This dataset is not designed for *training* models, even though it has been used as such many times.  This is [not the best way](https://openreview.net/pdf?id=qeM58whnpXM) to use this dataset and for future assignments I do not recommend using this dataset.\n",
    "```\n",
    "\n",
    "````{margin}\n",
    "```{note}\n",
    "If you are interested in fairness in ML, that is what my research is. Reach out to me if you want to know more!\n",
    "```\n",
    "````"
   ]
  },
  {
   "cell_type": "code",
   "execution_count": null,
   "id": "b40ba1aa",
   "metadata": {},
   "outputs": [],
   "source": []
  },
  {
   "cell_type": "markdown",
   "id": "f492caa4",
   "metadata": {},
   "source": [
    "## Prepare for Next Class \n",
    "\n",
    "[install aif360](https://github.com/Trusted-AI/AIF360#install-with-pip) \n",
    "\n",
    "## Portfolio\n",
    "\n",
    "Audience is not *me*, but a generally knowledgable person.  For example:\n",
    "- a student deciding if they want to take this course or not.  They know how to code, but not datascience.\n",
    "- a person familiar with the domain your data is from (eg a sports fan if sports data)\n",
    "- a future employer who wants to know about your skills\n",
    "\n",
    "any of these people know big ideas, but not exactly what happened in class. You\n",
    "can specify which audience you're targetting in the introduction (which is the\n",
    "  one piece that I'm the audience for)\n",
    "\n",
    "\n",
    "Goal is to show what you understand and are able to do\n",
    "not only what you *can* do, because you can do a lot of simple things by finding answers online. we want you to understand enough that when you start seeing new, real problems, you're able to do  these things on your own\n",
    " - level 1: you can follow a conversation\n",
    " - level 2: you can do it if someone gives you a rough plan\n",
    " - level 3: you can do it, given only an end goal\n",
    "Think of this more like a report with code as the figures than a coding assignment. To see what you've learned we should be able to read through on piece of text, not compare two files so it could be like:"
   ]
  }
 ],
 "metadata": {
  "jupytext": {
   "text_representation": {
    "extension": ".md",
    "format_name": "myst",
    "format_version": 0.13,
    "jupytext_version": "1.14.1"
   }
  },
  "kernelspec": {
   "display_name": "Python 3",
   "language": "python",
   "name": "python3"
  },
  "language_info": {
   "codemirror_mode": {
    "name": "ipython",
    "version": 3
   },
   "file_extension": ".py",
   "mimetype": "text/x-python",
   "name": "python",
   "nbconvert_exporter": "python",
   "pygments_lexer": "ipython3",
   "version": "3.8.6"
  },
  "source_map": [
   12,
   78,
   82,
   103,
   107,
   113,
   117,
   119,
   122,
   124,
   128,
   130,
   134,
   136,
   145,
   147,
   165,
   167,
   171,
   173,
   201,
   203,
   212,
   216,
   218,
   224,
   227,
   230,
   240,
   245,
   248,
   270,
   272
  ]
 },
 "nbformat": 4,
 "nbformat_minor": 5
}