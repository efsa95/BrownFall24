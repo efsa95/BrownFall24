{
 "cells": [
  {
   "cell_type": "markdown",
   "id": "8a571e67",
   "metadata": {},
   "source": [
    "# Pandas and Indexing\n",
    "\n",
    "## Iterable types"
   ]
  },
  {
   "cell_type": "code",
   "execution_count": 1,
   "id": "14538fb0",
   "metadata": {},
   "outputs": [],
   "source": [
    "a = [char for char in 'abcde']\n",
    "b = {char:i for i,char in enumerate('abcde')}\n",
    "c = ('a','b','c','d','e')\n",
    "d = 'a b c d e'.split()"
   ]
  },
  {
   "cell_type": "code",
   "execution_count": 2,
   "id": "2c4f3108",
   "metadata": {},
   "outputs": [
    {
     "data": {
      "text/plain": [
       "['a', 'b', 'c', 'd', 'e']"
      ]
     },
     "execution_count": 2,
     "metadata": {},
     "output_type": "execute_result"
    }
   ],
   "source": [
    "a"
   ]
  },
  {
   "cell_type": "code",
   "execution_count": 3,
   "id": "d29dbfd1",
   "metadata": {},
   "outputs": [
    {
     "data": {
      "text/plain": [
       "list"
      ]
     },
     "execution_count": 3,
     "metadata": {},
     "output_type": "execute_result"
    }
   ],
   "source": [
    "type(a)"
   ]
  },
  {
   "cell_type": "code",
   "execution_count": 4,
   "id": "ceb9a3fa",
   "metadata": {},
   "outputs": [
    {
     "data": {
      "text/plain": [
       "{'a': 0, 'b': 1, 'c': 2, 'd': 3, 'e': 4}"
      ]
     },
     "execution_count": 4,
     "metadata": {},
     "output_type": "execute_result"
    }
   ],
   "source": [
    "b"
   ]
  },
  {
   "cell_type": "code",
   "execution_count": 5,
   "id": "2cfe9001",
   "metadata": {},
   "outputs": [
    {
     "data": {
      "text/plain": [
       "dict"
      ]
     },
     "execution_count": 5,
     "metadata": {},
     "output_type": "execute_result"
    }
   ],
   "source": [
    "type(b)"
   ]
  },
  {
   "cell_type": "code",
   "execution_count": 6,
   "id": "f87318e2",
   "metadata": {},
   "outputs": [
    {
     "data": {
      "text/plain": [
       "('a', 'b', 'c', 'd', 'e')"
      ]
     },
     "execution_count": 6,
     "metadata": {},
     "output_type": "execute_result"
    }
   ],
   "source": [
    "c"
   ]
  },
  {
   "cell_type": "code",
   "execution_count": 7,
   "id": "02d629ca",
   "metadata": {},
   "outputs": [
    {
     "data": {
      "text/plain": [
       "tuple"
      ]
     },
     "execution_count": 7,
     "metadata": {},
     "output_type": "execute_result"
    }
   ],
   "source": [
    "type(c)"
   ]
  },
  {
   "cell_type": "code",
   "execution_count": 8,
   "id": "566604e0",
   "metadata": {},
   "outputs": [
    {
     "data": {
      "text/plain": [
       "['a', 'b', 'c', 'd', 'e']"
      ]
     },
     "execution_count": 8,
     "metadata": {},
     "output_type": "execute_result"
    }
   ],
   "source": [
    "d"
   ]
  },
  {
   "cell_type": "code",
   "execution_count": 9,
   "id": "bc85f272",
   "metadata": {},
   "outputs": [
    {
     "data": {
      "text/plain": [
       "list"
      ]
     },
     "execution_count": 9,
     "metadata": {},
     "output_type": "execute_result"
    }
   ],
   "source": [
    "type(d)"
   ]
  },
  {
   "cell_type": "markdown",
   "id": "d0936bb7",
   "metadata": {},
   "source": [
    "## Reading data other ways"
   ]
  },
  {
   "cell_type": "code",
   "execution_count": 10,
   "id": "72117ecc",
   "metadata": {},
   "outputs": [],
   "source": [
    "import pandas as pd"
   ]
  },
  {
   "cell_type": "code",
   "execution_count": 11,
   "id": "c3b8046b",
   "metadata": {},
   "outputs": [],
   "source": [
    "course_comms_url = 'https://rhodyprog4ds.github.io/BrownSpring23/syllabus/communication.html'"
   ]
  },
  {
   "cell_type": "markdown",
   "id": "cdf510ef",
   "metadata": {},
   "source": [
    "THis reads in from the html directly."
   ]
  },
  {
   "cell_type": "code",
   "execution_count": 12,
   "id": "742cfa78",
   "metadata": {},
   "outputs": [
    {
     "data": {
      "text/plain": [
       "[   Day      Time            Location       Host\n",
       " 0  Mon  11am-1pm  Tyler 139 and zoom       Kyle\n",
       " 1  Wed  7-8:30pm                Zoom  Dr. Brown\n",
       " 2  Fri     3-6pm                Zoom       Kyle,\n",
       "                                           usage                    area  \\\n",
       " 0  matters that don't fit into another category  to brownsarahm@uri.edu   \n",
       " \n",
       "                                                 note  \n",
       " 0  remember to include `[CSC310]` or `[DSP310]` (...  ,\n",
       "                                                usage  \\\n",
       " 0               private questions to your assignment   \n",
       " 1         for general questions that can help others   \n",
       " 2  to share resources or ask general questions in...   \n",
       " \n",
       "                            area  \\\n",
       " 0      issue on assignment repo   \n",
       " 1       issue on course website   \n",
       " 2  discussion on community repo   \n",
       " \n",
       "                                                 note  \n",
       " 0                              eg bugs in your code\"  \n",
       " 1  eg what the instructions of an assignment mean...  \n",
       " 2                    include links in your portfolio  ,\n",
       "       usage                 area  \\\n",
       " 0  in class                 chat   \n",
       " 1  any time  download transcript   \n",
       " \n",
       "                                                 note  \n",
       " 0  outside of class time this is not monitored cl...  \n",
       " 1  use after class to get preliminary notes eg if...  ]"
      ]
     },
     "execution_count": 12,
     "metadata": {},
     "output_type": "execute_result"
    }
   ],
   "source": [
    "pd.read_html(course_comms_url)"
   ]
  },
  {
   "cell_type": "code",
   "execution_count": 13,
   "id": "5a036f40",
   "metadata": {},
   "outputs": [],
   "source": [
    "html_list = pd.read_html(course_comms_url)"
   ]
  },
  {
   "cell_type": "code",
   "execution_count": 14,
   "id": "c8e06b8c",
   "metadata": {},
   "outputs": [
    {
     "data": {
      "text/plain": [
       "list"
      ]
     },
     "execution_count": 14,
     "metadata": {},
     "output_type": "execute_result"
    }
   ],
   "source": [
    "type(html_list)"
   ]
  },
  {
   "cell_type": "code",
   "execution_count": 15,
   "id": "77a2eeb8",
   "metadata": {},
   "outputs": [
    {
     "data": {
      "text/plain": [
       "pandas.core.frame.DataFrame"
      ]
     },
     "execution_count": 15,
     "metadata": {},
     "output_type": "execute_result"
    }
   ],
   "source": [
    "type(html_list[0])"
   ]
  },
  {
   "cell_type": "code",
   "execution_count": 16,
   "id": "93dd8703",
   "metadata": {},
   "outputs": [
    {
     "data": {
      "text/plain": [
       "[pandas.core.frame.DataFrame,\n",
       " pandas.core.frame.DataFrame,\n",
       " pandas.core.frame.DataFrame,\n",
       " pandas.core.frame.DataFrame]"
      ]
     },
     "execution_count": 16,
     "metadata": {},
     "output_type": "execute_result"
    }
   ],
   "source": [
    "[type(h) for h in html_list]"
   ]
  },
  {
   "cell_type": "code",
   "execution_count": 17,
   "id": "7197b778",
   "metadata": {},
   "outputs": [],
   "source": [
    "achievements_url = 'https://rhodyprog4ds.github.io/BrownSpring23/syllabus/achievements.html'"
   ]
  },
  {
   "cell_type": "markdown",
   "id": "9313e1b1",
   "metadata": {},
   "source": [
    "get the tables"
   ]
  },
  {
   "cell_type": "code",
   "execution_count": 18,
   "id": "c0df00dc",
   "metadata": {},
   "outputs": [],
   "source": [
    "achievements_df_list = pd.read_html(achievements_url)"
   ]
  },
  {
   "cell_type": "markdown",
   "id": "6ff5ed93",
   "metadata": {},
   "source": [
    "make a list means use a list comprehension"
   ]
  },
  {
   "cell_type": "code",
   "execution_count": 19,
   "id": "c7337de1",
   "metadata": {},
   "outputs": [
    {
     "data": {
      "text/plain": [
       "[(14, 3), (15, 5), (15, 15), (15, 6)]"
      ]
     },
     "execution_count": 19,
     "metadata": {},
     "output_type": "execute_result"
    }
   ],
   "source": [
    "[ach.shape for ach in achievements_df_list]"
   ]
  },
  {
   "cell_type": "code",
   "execution_count": 20,
   "id": "f6c44f78",
   "metadata": {},
   "outputs": [
    {
     "ename": "AttributeError",
     "evalue": "'list' object has no attribute 'shape'",
     "output_type": "error",
     "traceback": [
      "\u001b[0;31m---------------------------------------------------------------------------\u001b[0m",
      "\u001b[0;31mAttributeError\u001b[0m                            Traceback (most recent call last)",
      "Cell \u001b[0;32mIn [20], line 1\u001b[0m\n\u001b[0;32m----> 1\u001b[0m \u001b[43machievements_df_list\u001b[49m\u001b[38;5;241;43m.\u001b[39;49m\u001b[43mshape\u001b[49m\n",
      "\u001b[0;31mAttributeError\u001b[0m: 'list' object has no attribute 'shape'"
     ]
    }
   ],
   "source": [
    "achievements_df_list.shape"
   ]
  },
  {
   "cell_type": "code",
   "execution_count": 21,
   "id": "c50f79b5",
   "metadata": {},
   "outputs": [],
   "source": [
    "coffee_data_url = 'https://raw.githubusercontent.com/jldbc/coffee-quality-database/master/data/robusta_data_cleaned.csv'"
   ]
  },
  {
   "cell_type": "code",
   "execution_count": 22,
   "id": "330fa539",
   "metadata": {},
   "outputs": [],
   "source": [
    "coffee_df = pd.read_csv(coffee_data_url,index_col=0)"
   ]
  },
  {
   "cell_type": "code",
   "execution_count": 23,
   "id": "1b4dc790",
   "metadata": {},
   "outputs": [
    {
     "data": {
      "text/html": [
       "<div>\n",
       "<style scoped>\n",
       "    .dataframe tbody tr th:only-of-type {\n",
       "        vertical-align: middle;\n",
       "    }\n",
       "\n",
       "    .dataframe tbody tr th {\n",
       "        vertical-align: top;\n",
       "    }\n",
       "\n",
       "    .dataframe thead th {\n",
       "        text-align: right;\n",
       "    }\n",
       "</style>\n",
       "<table border=\"1\" class=\"dataframe\">\n",
       "  <thead>\n",
       "    <tr style=\"text-align: right;\">\n",
       "      <th></th>\n",
       "      <th>Species</th>\n",
       "      <th>Owner</th>\n",
       "      <th>Country.of.Origin</th>\n",
       "      <th>Farm.Name</th>\n",
       "      <th>Lot.Number</th>\n",
       "      <th>Mill</th>\n",
       "      <th>ICO.Number</th>\n",
       "      <th>Company</th>\n",
       "      <th>Altitude</th>\n",
       "      <th>Region</th>\n",
       "      <th>...</th>\n",
       "      <th>Color</th>\n",
       "      <th>Category.Two.Defects</th>\n",
       "      <th>Expiration</th>\n",
       "      <th>Certification.Body</th>\n",
       "      <th>Certification.Address</th>\n",
       "      <th>Certification.Contact</th>\n",
       "      <th>unit_of_measurement</th>\n",
       "      <th>altitude_low_meters</th>\n",
       "      <th>altitude_high_meters</th>\n",
       "      <th>altitude_mean_meters</th>\n",
       "    </tr>\n",
       "  </thead>\n",
       "  <tbody>\n",
       "    <tr>\n",
       "      <th>1</th>\n",
       "      <td>Robusta</td>\n",
       "      <td>ankole coffee producers coop</td>\n",
       "      <td>Uganda</td>\n",
       "      <td>kyangundu cooperative society</td>\n",
       "      <td>NaN</td>\n",
       "      <td>ankole coffee producers</td>\n",
       "      <td>0</td>\n",
       "      <td>ankole coffee producers coop</td>\n",
       "      <td>1488</td>\n",
       "      <td>sheema south western</td>\n",
       "      <td>...</td>\n",
       "      <td>Green</td>\n",
       "      <td>2</td>\n",
       "      <td>June 26th, 2015</td>\n",
       "      <td>Uganda Coffee Development Authority</td>\n",
       "      <td>e36d0270932c3b657e96b7b0278dfd85dc0fe743</td>\n",
       "      <td>03077a1c6bac60e6f514691634a7f6eb5c85aae8</td>\n",
       "      <td>m</td>\n",
       "      <td>1488.0</td>\n",
       "      <td>1488.0</td>\n",
       "      <td>1488.0</td>\n",
       "    </tr>\n",
       "  </tbody>\n",
       "</table>\n",
       "<p>1 rows × 43 columns</p>\n",
       "</div>"
      ],
      "text/plain": [
       "   Species                         Owner Country.of.Origin  \\\n",
       "1  Robusta  ankole coffee producers coop            Uganda   \n",
       "\n",
       "                       Farm.Name Lot.Number                     Mill  \\\n",
       "1  kyangundu cooperative society        NaN  ankole coffee producers   \n",
       "\n",
       "  ICO.Number                       Company Altitude                Region  \\\n",
       "1          0  ankole coffee producers coop     1488  sheema south western   \n",
       "\n",
       "   ...  Color  Category.Two.Defects       Expiration  \\\n",
       "1  ...  Green                     2  June 26th, 2015   \n",
       "\n",
       "                    Certification.Body  \\\n",
       "1  Uganda Coffee Development Authority   \n",
       "\n",
       "                      Certification.Address  \\\n",
       "1  e36d0270932c3b657e96b7b0278dfd85dc0fe743   \n",
       "\n",
       "                      Certification.Contact unit_of_measurement  \\\n",
       "1  03077a1c6bac60e6f514691634a7f6eb5c85aae8                   m   \n",
       "\n",
       "  altitude_low_meters altitude_high_meters  altitude_mean_meters  \n",
       "1              1488.0               1488.0                1488.0  \n",
       "\n",
       "[1 rows x 43 columns]"
      ]
     },
     "execution_count": 23,
     "metadata": {},
     "output_type": "execute_result"
    }
   ],
   "source": [
    "coffee_df.head(1)"
   ]
  },
  {
   "cell_type": "code",
   "execution_count": 24,
   "id": "c238ad1a",
   "metadata": {},
   "outputs": [
    {
     "data": {
      "text/plain": [
       "1    Robusta\n",
       "2    Robusta\n",
       "3    Robusta\n",
       "4    Robusta\n",
       "5    Robusta\n",
       "Name: Species, dtype: object"
      ]
     },
     "execution_count": 24,
     "metadata": {},
     "output_type": "execute_result"
    }
   ],
   "source": [
    "coffee_df['Species'].head()"
   ]
  },
  {
   "cell_type": "code",
   "execution_count": 25,
   "id": "8a3bcde8",
   "metadata": {},
   "outputs": [
    {
     "data": {
      "text/plain": [
       "pandas.core.series.Series"
      ]
     },
     "execution_count": 25,
     "metadata": {},
     "output_type": "execute_result"
    }
   ],
   "source": [
    "type(coffee_df['Species'])"
   ]
  },
  {
   "cell_type": "code",
   "execution_count": 26,
   "id": "a2b65ad2",
   "metadata": {},
   "outputs": [
    {
     "data": {
      "text/plain": [
       "Index(['Species', 'Owner', 'Country.of.Origin', 'Farm.Name', 'Lot.Number',\n",
       "       'Mill', 'ICO.Number', 'Company', 'Altitude', 'Region', 'Producer',\n",
       "       'Number.of.Bags', 'Bag.Weight', 'In.Country.Partner', 'Harvest.Year',\n",
       "       'Grading.Date', 'Owner.1', 'Variety', 'Processing.Method',\n",
       "       'Fragrance...Aroma', 'Flavor', 'Aftertaste', 'Salt...Acid',\n",
       "       'Bitter...Sweet', 'Mouthfeel', 'Uniform.Cup', 'Clean.Cup', 'Balance',\n",
       "       'Cupper.Points', 'Total.Cup.Points', 'Moisture', 'Category.One.Defects',\n",
       "       'Quakers', 'Color', 'Category.Two.Defects', 'Expiration',\n",
       "       'Certification.Body', 'Certification.Address', 'Certification.Contact',\n",
       "       'unit_of_measurement', 'altitude_low_meters', 'altitude_high_meters',\n",
       "       'altitude_mean_meters'],\n",
       "      dtype='object')"
      ]
     },
     "execution_count": 26,
     "metadata": {},
     "output_type": "execute_result"
    }
   ],
   "source": [
    "coffee_df.columns"
   ]
  },
  {
   "cell_type": "code",
   "execution_count": 27,
   "id": "9e6e23a1",
   "metadata": {},
   "outputs": [
    {
     "data": {
      "text/plain": [
       "1     300\n",
       "2     320\n",
       "3     300\n",
       "4     320\n",
       "5       1\n",
       "6     200\n",
       "7     320\n",
       "8     320\n",
       "9     320\n",
       "10    320\n",
       "11    320\n",
       "12    320\n",
       "13    100\n",
       "14      1\n",
       "15    320\n",
       "16    300\n",
       "17    140\n",
       "18      1\n",
       "19     20\n",
       "20      6\n",
       "21    100\n",
       "22    250\n",
       "23    100\n",
       "24      1\n",
       "25      1\n",
       "26      1\n",
       "27      1\n",
       "28      1\n",
       "Name: Number.of.Bags, dtype: int64"
      ]
     },
     "execution_count": 27,
     "metadata": {},
     "output_type": "execute_result"
    }
   ],
   "source": [
    "coffee_df['Number.of.Bags']"
   ]
  },
  {
   "cell_type": "code",
   "execution_count": 28,
   "id": "43ff98d8",
   "metadata": {},
   "outputs": [],
   "source": [
    "new_values = {0:'<100',1:'100-199',2:'200-299',3:'300+'}"
   ]
  },
  {
   "cell_type": "code",
   "execution_count": 29,
   "id": "e1d56d2f",
   "metadata": {},
   "outputs": [
    {
     "data": {
      "text/plain": [
       "['300+',\n",
       " '300+',\n",
       " '300+',\n",
       " '300+',\n",
       " '<100',\n",
       " '200-299',\n",
       " '300+',\n",
       " '300+',\n",
       " '300+',\n",
       " '300+',\n",
       " '300+',\n",
       " '300+',\n",
       " '100-199',\n",
       " '<100',\n",
       " '300+',\n",
       " '300+',\n",
       " '100-199',\n",
       " '<100',\n",
       " '<100',\n",
       " '<100',\n",
       " '100-199',\n",
       " '200-299',\n",
       " '100-199',\n",
       " '<100',\n",
       " '<100',\n",
       " '<100',\n",
       " '<100',\n",
       " '<100']"
      ]
     },
     "execution_count": 29,
     "metadata": {},
     "output_type": "execute_result"
    }
   ],
   "source": [
    "[new_values[int(num/100)] for num in coffee_df['Number.of.Bags']]"
   ]
  },
  {
   "cell_type": "code",
   "execution_count": 30,
   "id": "4747b842",
   "metadata": {},
   "outputs": [
    {
     "data": {
      "text/plain": [
       "['300+',\n",
       " '300+',\n",
       " '300+',\n",
       " '300+',\n",
       " '<100',\n",
       " '200-299',\n",
       " '300+',\n",
       " '300+',\n",
       " '300+',\n",
       " '300+',\n",
       " '300+',\n",
       " '300+',\n",
       " '100-199',\n",
       " '<100',\n",
       " '300+',\n",
       " '300+',\n",
       " '100-199',\n",
       " '<100',\n",
       " '<100',\n",
       " '<100',\n",
       " '100-199',\n",
       " '200-299',\n",
       " '100-199',\n",
       " '<100',\n",
       " '<100',\n",
       " '<100',\n",
       " '<100',\n",
       " '<100']"
      ]
     },
     "execution_count": 30,
     "metadata": {},
     "output_type": "execute_result"
    }
   ],
   "source": [
    "bags_bin = lambda num: int(num/100)\n",
    "[new_values[bags_bin(num)] for num in coffee_df['Number.of.Bags']]"
   ]
  },
  {
   "cell_type": "code",
   "execution_count": 31,
   "id": "b0ec5148",
   "metadata": {},
   "outputs": [
    {
     "data": {
      "text/plain": [
       "function"
      ]
     },
     "execution_count": 31,
     "metadata": {},
     "output_type": "execute_result"
    }
   ],
   "source": [
    "type(pd.read_csv)"
   ]
  },
  {
   "cell_type": "code",
   "execution_count": 32,
   "id": "3176d1a1",
   "metadata": {},
   "outputs": [
    {
     "data": {
      "text/plain": [
       "function"
      ]
     },
     "execution_count": 32,
     "metadata": {},
     "output_type": "execute_result"
    }
   ],
   "source": [
    "type(bags_bin)"
   ]
  },
  {
   "cell_type": "markdown",
   "id": "83037a1b",
   "metadata": {},
   "source": [
    "## Importing locally\n",
    "\n",
    "If I make a file in the same folder as my notebook called `example.py`\n",
    "and then put"
   ]
  },
  {
   "cell_type": "code",
   "execution_count": 33,
   "id": "765a6a90",
   "metadata": {
    "tags": [
     "hide-input"
    ]
   },
   "outputs": [
    {
     "name": "stdout",
     "output_type": "stream",
     "text": [
      "name = 'sarah'"
     ]
    }
   ],
   "source": [
    "%%bash\n",
    "cat example.py"
   ]
  },
  {
   "cell_type": "markdown",
   "id": "f13829c0",
   "metadata": {},
   "source": [
    "in the file, we can use that file like:"
   ]
  },
  {
   "cell_type": "code",
   "execution_count": 34,
   "id": "e0d64dc9",
   "metadata": {},
   "outputs": [],
   "source": [
    "from example import name"
   ]
  },
  {
   "cell_type": "code",
   "execution_count": 35,
   "id": "a62a0ee0",
   "metadata": {},
   "outputs": [
    {
     "data": {
      "text/plain": [
       "'sarah'"
      ]
     },
     "execution_count": 35,
     "metadata": {},
     "output_type": "execute_result"
    }
   ],
   "source": [
    "name"
   ]
  },
  {
   "cell_type": "code",
   "execution_count": 36,
   "id": "05ebab5b",
   "metadata": {},
   "outputs": [],
   "source": [
    "import example"
   ]
  },
  {
   "cell_type": "code",
   "execution_count": 37,
   "id": "28984c95",
   "metadata": {},
   "outputs": [
    {
     "data": {
      "text/plain": [
       "'sarah'"
      ]
     },
     "execution_count": 37,
     "metadata": {},
     "output_type": "execute_result"
    }
   ],
   "source": [
    "example.name"
   ]
  },
  {
   "cell_type": "code",
   "execution_count": null,
   "id": "b94d5cd9",
   "metadata": {},
   "outputs": [],
   "source": []
  },
  {
   "cell_type": "markdown",
   "id": "1a20dc25",
   "metadata": {},
   "source": [
    "## Questions After Class\n",
    "\n",
    "### why does casting the int over the (num/100) give you the right number? Is it because of floor division?\n",
    "\n",
    "First let's look at an interim value, lets pick a value for `num`"
   ]
  },
  {
   "cell_type": "code",
   "execution_count": 38,
   "id": "b357deb1",
   "metadata": {},
   "outputs": [],
   "source": [
    "num = 307"
   ]
  },
  {
   "cell_type": "markdown",
   "id": "3524f16f",
   "metadata": {},
   "source": [
    "Then do the calculation without casting to int"
   ]
  },
  {
   "cell_type": "code",
   "execution_count": 39,
   "id": "851498b8",
   "metadata": {},
   "outputs": [
    {
     "data": {
      "text/plain": [
       "3.07"
      ]
     },
     "execution_count": 39,
     "metadata": {},
     "output_type": "execute_result"
    }
   ],
   "source": [
    "num/100"
   ]
  },
  {
   "cell_type": "markdown",
   "id": "1c69f1b7",
   "metadata": {},
   "source": [
    "Remember that `int` type is an integer or whole number, no fraction.  So, casting drops the decimal part. \n",
    "\n",
    "\n",
    "###  How would adding 2 DataFrametogether of separate types affect the type command?\n",
    "\n",
    "It depends what \"add\" means.  If addition it might error, but if it worked, then it would still be a DataFrame. If stacking with `pd.concat` it would also be a DatFrame. \n",
    "\n",
    "If you make them into a list, then the would be a list. \n",
    "\n",
    "\n",
    "\n",
    "### what keys to use in the dictionaries?\n",
    "In the assignment the instruction say\n",
    "\n",
    "### how to save as a local csv file?\n",
    "\n",
    "[pandas.DataFrame.to_csv](https://pandas.pydata.org/docs/reference/api/pandas.DataFrame.to_csv.html)\n",
    "\n",
    "### how to create a Dataframe?\n",
    "\n",
    "Use the [constructor](https://pandas.pydata.org/docs/reference/api/pandas.DataFrame.html)\n",
    "\n",
    "\n",
    "### how to read using relative path?\n",
    "\n",
    "A relative path can work just like a URL. [read about them here](https://www.redhat.com/sysadmin/linux-path-absolute-relativehttps://www.redhat.com/sysadmin/linux-path-absolute-relative)\n",
    "\n",
    "### I would like to know about other common forms of data files.\n",
    "\n",
    "The pandas documentation's [I/O](https://pandas.pydata.org/docs/user_guide/io.html) page is where I recommend starting\n",
    "\n",
    "## What other libraries do we end up using?\n",
    "\n",
    "Next week we will use `seaborn` for plotting. Later in the semester we will use `sklearn` for machine learning.  We will use a few other libaries for a few features, but these three are the main ones."
   ]
  }
 ],
 "metadata": {
  "jupytext": {
   "text_representation": {
    "extension": ".md",
    "format_name": "myst",
    "format_version": 0.13,
    "jupytext_version": "1.14.1"
   }
  },
  "kernelspec": {
   "display_name": "Python 3",
   "language": "python",
   "name": "python3"
  },
  "language_info": {
   "codemirror_mode": {
    "name": "ipython",
    "version": 3
   },
   "file_extension": ".py",
   "mimetype": "text/x-python",
   "name": "python",
   "nbconvert_exporter": "python",
   "pygments_lexer": "ipython3",
   "version": "3.8.6"
  },
  "source_map": [
   12,
   17,
   24,
   28,
   32,
   36,
   40,
   44,
   48,
   52,
   54,
   58,
   62,
   64,
   67,
   71,
   75,
   79,
   83,
   87,
   89,
   93,
   95,
   99,
   103,
   107,
   111,
   115,
   119,
   123,
   127,
   131,
   135,
   139,
   143,
   148,
   152,
   154,
   160,
   164,
   167,
   171,
   175,
   179,
   183,
   185,
   192,
   194,
   198,
   200
  ]
 },
 "nbformat": 4,
 "nbformat_minor": 5
}