{
 "cells": [
  {
   "cell_type": "markdown",
   "id": "cf02453e",
   "metadata": {},
   "source": [
    "# Grading review, Pandas, and Iterables\n",
    "\n",
    "\n",
    "## Grading Calculation \n",
    "\n",
    "here is my solution"
   ]
  },
  {
   "cell_type": "code",
   "execution_count": 1,
   "id": "da54a1dc",
   "metadata": {},
   "outputs": [],
   "source": [
    "def compute_grade(num_level1,num_level2,num_level3):\n",
    "    '''\n",
    "    Computes a grade for CSC/DSP310 from numbers of achievements at each level\n",
    "\n",
    "    Parameters:\n",
    "    ------------\n",
    "    num_level1 : int\n",
    "      number of level 1 achievements earned\n",
    "    num_level2 : int\n",
    "      number of level 2 achievements earned\n",
    "    num_level3 : int\n",
    "      number of level 3 achievements earned\n",
    "\n",
    "    Returns:\n",
    "    --------\n",
    "    letter_grade : string\n",
    "      letter grade with modifier (+/-)\n",
    "    '''\n",
    "    if num_level1 == 15:\n",
    "        if num_level2 == 15:\n",
    "            if num_level3 == 15:\n",
    "                grade = 'A'\n",
    "            elif num_level3 >= 10:\n",
    "                grade = 'A-'\n",
    "            elif num_level3 >=5:\n",
    "                grade = 'B+'\n",
    "            else:\n",
    "                grade = 'B'\n",
    "        elif num_level2 >=10:\n",
    "            grade = 'B-'\n",
    "        elif num_level2 >=5:\n",
    "            grade = 'C+'\n",
    "        else:\n",
    "            grade = 'C'\n",
    "    elif num_level1 >= 10:\n",
    "        grade = 'C-'\n",
    "    elif num_level1 >= 5:\n",
    "        grade = 'D+'\n",
    "    elif num_level1 >=3:\n",
    "        grade = 'D'\n",
    "    else:\n",
    "        grade = 'F'\n",
    "\n",
    "\n",
    "    return grade"
   ]
  },
  {
   "cell_type": "markdown",
   "id": "56c279a3",
   "metadata": {},
   "source": [
    "Note that we can verify it works using `assert`"
   ]
  },
  {
   "cell_type": "code",
   "execution_count": 2,
   "id": "af161d40",
   "metadata": {},
   "outputs": [],
   "source": [
    "assert compute_grade(15,15,15) =='A'"
   ]
  },
  {
   "cell_type": "code",
   "execution_count": 3,
   "id": "95ae39b2",
   "metadata": {},
   "outputs": [],
   "source": [
    "assert compute_grade(15,15,9) =='B+'"
   ]
  },
  {
   "cell_type": "markdown",
   "id": "8c2b4793",
   "metadata": {},
   "source": [
    "this also means we can assign the value out"
   ]
  },
  {
   "cell_type": "code",
   "execution_count": 4,
   "id": "e0f540c5",
   "metadata": {},
   "outputs": [],
   "source": [
    "my_grade = compute_grade(15,11,5)"
   ]
  },
  {
   "cell_type": "code",
   "execution_count": 5,
   "id": "f2444fbb",
   "metadata": {},
   "outputs": [
    {
     "data": {
      "text/plain": [
       "'B-'"
      ]
     },
     "execution_count": 5,
     "metadata": {},
     "output_type": "execute_result"
    }
   ],
   "source": [
    "my_grade"
   ]
  },
  {
   "cell_type": "markdown",
   "id": "03775916",
   "metadata": {},
   "source": [
    "Alternatively if we use a side effect instead, printing the value instead of returning it."
   ]
  },
  {
   "cell_type": "code",
   "execution_count": 6,
   "id": "4bd09956",
   "metadata": {},
   "outputs": [],
   "source": [
    "def compute_grade_sideeffect(num_level1,num_level2,num_level3):\n",
    "    '''\n",
    "    Computes a grade for CSC/DSP310 from numbers of achievements at each level\n",
    "\n",
    "    Parameters:\n",
    "    ------------\n",
    "    num_level1 : int\n",
    "      number of level 1 achievements earned\n",
    "    num_level2 : int\n",
    "      number of level 2 achievements earned\n",
    "    num_level3 : int\n",
    "      number of level 3 achievements earned\n",
    "\n",
    "    Returns:\n",
    "    --------\n",
    "    letter_grade : string\n",
    "      letter grade with modifier (+/-)\n",
    "    '''\n",
    "    if num_level1 == 15:\n",
    "        if num_level2 == 15:\n",
    "            if num_level3 == 15:\n",
    "                grade = 'A'\n",
    "            elif num_level3 >= 10:\n",
    "                grade = 'A-'\n",
    "            elif num_level3 >=5:\n",
    "                grade = 'B+'\n",
    "            else:\n",
    "                grade = 'B'\n",
    "        elif num_level2 >=10:\n",
    "            grade = 'B-'\n",
    "        elif num_level2 >=5:\n",
    "            grade = 'C+'\n",
    "        else:\n",
    "            grade = 'C'\n",
    "    elif num_level1 >= 10:\n",
    "        grade = 'C-'\n",
    "    elif num_level1 >= 5:\n",
    "        grade = 'D+'\n",
    "    elif num_level1 >=3:\n",
    "        grade = 'D'\n",
    "    else:\n",
    "        grade = 'F'\n",
    "\n",
    "\n",
    "    print( grade)"
   ]
  },
  {
   "cell_type": "markdown",
   "id": "85087eac",
   "metadata": {},
   "source": [
    "Look this way it looks similar:"
   ]
  },
  {
   "cell_type": "code",
   "execution_count": 7,
   "id": "44014399",
   "metadata": {},
   "outputs": [
    {
     "name": "stdout",
     "output_type": "stream",
     "text": [
      "A\n"
     ]
    }
   ],
   "source": [
    "compute_grade_sideeffect(15,15,15)"
   ]
  },
  {
   "cell_type": "code",
   "execution_count": 8,
   "id": "1c9106e9",
   "metadata": {},
   "outputs": [
    {
     "data": {
      "text/plain": [
       "'A'"
      ]
     },
     "execution_count": 8,
     "metadata": {},
     "output_type": "execute_result"
    }
   ],
   "source": [
    "compute_grade(15,15,15)"
   ]
  },
  {
   "cell_type": "markdown",
   "id": "9bea138c",
   "metadata": {},
   "source": [
    "and python lets us assign something"
   ]
  },
  {
   "cell_type": "code",
   "execution_count": 9,
   "id": "3da3872d",
   "metadata": {},
   "outputs": [
    {
     "name": "stdout",
     "output_type": "stream",
     "text": [
      "A\n"
     ]
    }
   ],
   "source": [
    "my_grade = compute_grade_sideeffect(15,15,15)"
   ]
  },
  {
   "cell_type": "markdown",
   "id": "4c78bded",
   "metadata": {},
   "source": [
    "but the output is nothing"
   ]
  },
  {
   "cell_type": "code",
   "execution_count": 10,
   "id": "1e3d33ba",
   "metadata": {},
   "outputs": [
    {
     "data": {
      "text/plain": [
       "NoneType"
      ]
     },
     "execution_count": 10,
     "metadata": {},
     "output_type": "execute_result"
    }
   ],
   "source": [
    "type(my_grade)"
   ]
  },
  {
   "cell_type": "markdown",
   "id": "fb91d1d6",
   "metadata": {},
   "source": [
    "## Loading data with Pandas\n",
    "\n",
    "First we learned about the dataset then we can load it."
   ]
  },
  {
   "cell_type": "code",
   "execution_count": 11,
   "id": "02c8d411",
   "metadata": {},
   "outputs": [],
   "source": [
    "coffee_data_url = 'https://raw.githubusercontent.com/jldbc/coffee-quality-database/master/data/robusta_data_cleaned.csv'"
   ]
  },
  {
   "cell_type": "markdown",
   "id": "15e21766",
   "metadata": {},
   "source": [
    "We will use pandas."
   ]
  },
  {
   "cell_type": "code",
   "execution_count": 12,
   "id": "972323ab",
   "metadata": {},
   "outputs": [],
   "source": [
    "import pandas as pd "
   ]
  },
  {
   "cell_type": "markdown",
   "id": "3c6b1bef",
   "metadata": {},
   "source": [
    "load the data"
   ]
  },
  {
   "cell_type": "code",
   "execution_count": 13,
   "id": "66deddf7",
   "metadata": {},
   "outputs": [],
   "source": [
    "coffee_df = pd.read_csv(coffee_data_url,index_col=0)"
   ]
  },
  {
   "cell_type": "code",
   "execution_count": 14,
   "id": "4d310f55",
   "metadata": {},
   "outputs": [
    {
     "data": {
      "text/plain": [
       "pandas.core.frame.DataFrame"
      ]
     },
     "execution_count": 14,
     "metadata": {},
     "output_type": "execute_result"
    }
   ],
   "source": [
    "type(coffee_df)"
   ]
  },
  {
   "cell_type": "code",
   "execution_count": 15,
   "id": "4b31c1cb",
   "metadata": {},
   "outputs": [
    {
     "data": {
      "text/plain": [
       "Index(['Species', 'Owner', 'Country.of.Origin', 'Farm.Name', 'Lot.Number',\n",
       "       'Mill', 'ICO.Number', 'Company', 'Altitude', 'Region', 'Producer',\n",
       "       'Number.of.Bags', 'Bag.Weight', 'In.Country.Partner', 'Harvest.Year',\n",
       "       'Grading.Date', 'Owner.1', 'Variety', 'Processing.Method',\n",
       "       'Fragrance...Aroma', 'Flavor', 'Aftertaste', 'Salt...Acid',\n",
       "       'Bitter...Sweet', 'Mouthfeel', 'Uniform.Cup', 'Clean.Cup', 'Balance',\n",
       "       'Cupper.Points', 'Total.Cup.Points', 'Moisture', 'Category.One.Defects',\n",
       "       'Quakers', 'Color', 'Category.Two.Defects', 'Expiration',\n",
       "       'Certification.Body', 'Certification.Address', 'Certification.Contact',\n",
       "       'unit_of_measurement', 'altitude_low_meters', 'altitude_high_meters',\n",
       "       'altitude_mean_meters'],\n",
       "      dtype='object')"
      ]
     },
     "execution_count": 15,
     "metadata": {},
     "output_type": "execute_result"
    }
   ],
   "source": [
    "coffee_df.columns"
   ]
  },
  {
   "cell_type": "code",
   "execution_count": 16,
   "id": "0da59525",
   "metadata": {},
   "outputs": [
    {
     "data": {
      "text/plain": [
       "'Species'"
      ]
     },
     "execution_count": 16,
     "metadata": {},
     "output_type": "execute_result"
    }
   ],
   "source": [
    "coffee_df.columns[0]"
   ]
  },
  {
   "cell_type": "code",
   "execution_count": 17,
   "id": "d103abbd",
   "metadata": {},
   "outputs": [
    {
     "data": {
      "text/plain": [
       "43"
      ]
     },
     "execution_count": 17,
     "metadata": {},
     "output_type": "execute_result"
    }
   ],
   "source": [
    "len(coffee_df.columns)"
   ]
  },
  {
   "cell_type": "code",
   "execution_count": 18,
   "id": "79c27be7",
   "metadata": {},
   "outputs": [
    {
     "data": {
      "text/plain": [
       "(28, 43)"
      ]
     },
     "execution_count": 18,
     "metadata": {},
     "output_type": "execute_result"
    }
   ],
   "source": [
    "coffee_df.shape"
   ]
  },
  {
   "cell_type": "code",
   "execution_count": 19,
   "id": "cd2c2896",
   "metadata": {},
   "outputs": [
    {
     "data": {
      "text/html": [
       "<div>\n",
       "<style scoped>\n",
       "    .dataframe tbody tr th:only-of-type {\n",
       "        vertical-align: middle;\n",
       "    }\n",
       "\n",
       "    .dataframe tbody tr th {\n",
       "        vertical-align: top;\n",
       "    }\n",
       "\n",
       "    .dataframe thead th {\n",
       "        text-align: right;\n",
       "    }\n",
       "</style>\n",
       "<table border=\"1\" class=\"dataframe\">\n",
       "  <thead>\n",
       "    <tr style=\"text-align: right;\">\n",
       "      <th></th>\n",
       "      <th>Species</th>\n",
       "      <th>Owner</th>\n",
       "      <th>Country.of.Origin</th>\n",
       "      <th>Farm.Name</th>\n",
       "      <th>Lot.Number</th>\n",
       "      <th>Mill</th>\n",
       "      <th>ICO.Number</th>\n",
       "      <th>Company</th>\n",
       "      <th>Altitude</th>\n",
       "      <th>Region</th>\n",
       "      <th>...</th>\n",
       "      <th>Color</th>\n",
       "      <th>Category.Two.Defects</th>\n",
       "      <th>Expiration</th>\n",
       "      <th>Certification.Body</th>\n",
       "      <th>Certification.Address</th>\n",
       "      <th>Certification.Contact</th>\n",
       "      <th>unit_of_measurement</th>\n",
       "      <th>altitude_low_meters</th>\n",
       "      <th>altitude_high_meters</th>\n",
       "      <th>altitude_mean_meters</th>\n",
       "    </tr>\n",
       "  </thead>\n",
       "  <tbody>\n",
       "    <tr>\n",
       "      <th>1</th>\n",
       "      <td>Robusta</td>\n",
       "      <td>ankole coffee producers coop</td>\n",
       "      <td>Uganda</td>\n",
       "      <td>kyangundu cooperative society</td>\n",
       "      <td>NaN</td>\n",
       "      <td>ankole coffee producers</td>\n",
       "      <td>0</td>\n",
       "      <td>ankole coffee producers coop</td>\n",
       "      <td>1488</td>\n",
       "      <td>sheema south western</td>\n",
       "      <td>...</td>\n",
       "      <td>Green</td>\n",
       "      <td>2</td>\n",
       "      <td>June 26th, 2015</td>\n",
       "      <td>Uganda Coffee Development Authority</td>\n",
       "      <td>e36d0270932c3b657e96b7b0278dfd85dc0fe743</td>\n",
       "      <td>03077a1c6bac60e6f514691634a7f6eb5c85aae8</td>\n",
       "      <td>m</td>\n",
       "      <td>1488.0</td>\n",
       "      <td>1488.0</td>\n",
       "      <td>1488.0</td>\n",
       "    </tr>\n",
       "    <tr>\n",
       "      <th>2</th>\n",
       "      <td>Robusta</td>\n",
       "      <td>nishant gurjer</td>\n",
       "      <td>India</td>\n",
       "      <td>sethuraman estate kaapi royale</td>\n",
       "      <td>25</td>\n",
       "      <td>sethuraman estate</td>\n",
       "      <td>14/1148/2017/21</td>\n",
       "      <td>kaapi royale</td>\n",
       "      <td>3170</td>\n",
       "      <td>chikmagalur karnataka indua</td>\n",
       "      <td>...</td>\n",
       "      <td>NaN</td>\n",
       "      <td>2</td>\n",
       "      <td>October 31st, 2018</td>\n",
       "      <td>Specialty Coffee Association</td>\n",
       "      <td>ff7c18ad303d4b603ac3f8cff7e611ffc735e720</td>\n",
       "      <td>352d0cf7f3e9be14dad7df644ad65efc27605ae2</td>\n",
       "      <td>m</td>\n",
       "      <td>3170.0</td>\n",
       "      <td>3170.0</td>\n",
       "      <td>3170.0</td>\n",
       "    </tr>\n",
       "    <tr>\n",
       "      <th>3</th>\n",
       "      <td>Robusta</td>\n",
       "      <td>andrew hetzel</td>\n",
       "      <td>India</td>\n",
       "      <td>sethuraman estate</td>\n",
       "      <td>NaN</td>\n",
       "      <td>NaN</td>\n",
       "      <td>0000</td>\n",
       "      <td>sethuraman estate</td>\n",
       "      <td>1000m</td>\n",
       "      <td>chikmagalur</td>\n",
       "      <td>...</td>\n",
       "      <td>Green</td>\n",
       "      <td>0</td>\n",
       "      <td>April 29th, 2016</td>\n",
       "      <td>Specialty Coffee Association</td>\n",
       "      <td>ff7c18ad303d4b603ac3f8cff7e611ffc735e720</td>\n",
       "      <td>352d0cf7f3e9be14dad7df644ad65efc27605ae2</td>\n",
       "      <td>m</td>\n",
       "      <td>1000.0</td>\n",
       "      <td>1000.0</td>\n",
       "      <td>1000.0</td>\n",
       "    </tr>\n",
       "    <tr>\n",
       "      <th>4</th>\n",
       "      <td>Robusta</td>\n",
       "      <td>ugacof</td>\n",
       "      <td>Uganda</td>\n",
       "      <td>ugacof project area</td>\n",
       "      <td>NaN</td>\n",
       "      <td>ugacof</td>\n",
       "      <td>0</td>\n",
       "      <td>ugacof ltd</td>\n",
       "      <td>1212</td>\n",
       "      <td>central</td>\n",
       "      <td>...</td>\n",
       "      <td>Green</td>\n",
       "      <td>7</td>\n",
       "      <td>July 14th, 2015</td>\n",
       "      <td>Uganda Coffee Development Authority</td>\n",
       "      <td>e36d0270932c3b657e96b7b0278dfd85dc0fe743</td>\n",
       "      <td>03077a1c6bac60e6f514691634a7f6eb5c85aae8</td>\n",
       "      <td>m</td>\n",
       "      <td>1212.0</td>\n",
       "      <td>1212.0</td>\n",
       "      <td>1212.0</td>\n",
       "    </tr>\n",
       "    <tr>\n",
       "      <th>5</th>\n",
       "      <td>Robusta</td>\n",
       "      <td>katuka development trust ltd</td>\n",
       "      <td>Uganda</td>\n",
       "      <td>katikamu capca farmers association</td>\n",
       "      <td>NaN</td>\n",
       "      <td>katuka development trust</td>\n",
       "      <td>0</td>\n",
       "      <td>katuka development trust ltd</td>\n",
       "      <td>1200-1300</td>\n",
       "      <td>luwero central region</td>\n",
       "      <td>...</td>\n",
       "      <td>Green</td>\n",
       "      <td>3</td>\n",
       "      <td>June 26th, 2015</td>\n",
       "      <td>Uganda Coffee Development Authority</td>\n",
       "      <td>e36d0270932c3b657e96b7b0278dfd85dc0fe743</td>\n",
       "      <td>03077a1c6bac60e6f514691634a7f6eb5c85aae8</td>\n",
       "      <td>m</td>\n",
       "      <td>1200.0</td>\n",
       "      <td>1300.0</td>\n",
       "      <td>1250.0</td>\n",
       "    </tr>\n",
       "  </tbody>\n",
       "</table>\n",
       "<p>5 rows × 43 columns</p>\n",
       "</div>"
      ],
      "text/plain": [
       "   Species                         Owner Country.of.Origin  \\\n",
       "1  Robusta  ankole coffee producers coop            Uganda   \n",
       "2  Robusta                nishant gurjer             India   \n",
       "3  Robusta                 andrew hetzel             India   \n",
       "4  Robusta                        ugacof            Uganda   \n",
       "5  Robusta  katuka development trust ltd            Uganda   \n",
       "\n",
       "                            Farm.Name Lot.Number                      Mill  \\\n",
       "1       kyangundu cooperative society        NaN   ankole coffee producers   \n",
       "2      sethuraman estate kaapi royale         25         sethuraman estate   \n",
       "3                   sethuraman estate        NaN                       NaN   \n",
       "4                 ugacof project area        NaN                    ugacof   \n",
       "5  katikamu capca farmers association        NaN  katuka development trust   \n",
       "\n",
       "        ICO.Number                       Company   Altitude  \\\n",
       "1                0  ankole coffee producers coop       1488   \n",
       "2  14/1148/2017/21                  kaapi royale       3170   \n",
       "3             0000             sethuraman estate      1000m   \n",
       "4                0                    ugacof ltd       1212   \n",
       "5                0  katuka development trust ltd  1200-1300   \n",
       "\n",
       "                        Region  ...  Color  Category.Two.Defects  \\\n",
       "1         sheema south western  ...  Green                     2   \n",
       "2  chikmagalur karnataka indua  ...    NaN                     2   \n",
       "3                  chikmagalur  ...  Green                     0   \n",
       "4                      central  ...  Green                     7   \n",
       "5        luwero central region  ...  Green                     3   \n",
       "\n",
       "           Expiration                   Certification.Body  \\\n",
       "1     June 26th, 2015  Uganda Coffee Development Authority   \n",
       "2  October 31st, 2018         Specialty Coffee Association   \n",
       "3    April 29th, 2016         Specialty Coffee Association   \n",
       "4     July 14th, 2015  Uganda Coffee Development Authority   \n",
       "5     June 26th, 2015  Uganda Coffee Development Authority   \n",
       "\n",
       "                      Certification.Address  \\\n",
       "1  e36d0270932c3b657e96b7b0278dfd85dc0fe743   \n",
       "2  ff7c18ad303d4b603ac3f8cff7e611ffc735e720   \n",
       "3  ff7c18ad303d4b603ac3f8cff7e611ffc735e720   \n",
       "4  e36d0270932c3b657e96b7b0278dfd85dc0fe743   \n",
       "5  e36d0270932c3b657e96b7b0278dfd85dc0fe743   \n",
       "\n",
       "                      Certification.Contact unit_of_measurement  \\\n",
       "1  03077a1c6bac60e6f514691634a7f6eb5c85aae8                   m   \n",
       "2  352d0cf7f3e9be14dad7df644ad65efc27605ae2                   m   \n",
       "3  352d0cf7f3e9be14dad7df644ad65efc27605ae2                   m   \n",
       "4  03077a1c6bac60e6f514691634a7f6eb5c85aae8                   m   \n",
       "5  03077a1c6bac60e6f514691634a7f6eb5c85aae8                   m   \n",
       "\n",
       "  altitude_low_meters altitude_high_meters  altitude_mean_meters  \n",
       "1              1488.0               1488.0                1488.0  \n",
       "2              3170.0               3170.0                3170.0  \n",
       "3              1000.0               1000.0                1000.0  \n",
       "4              1212.0               1212.0                1212.0  \n",
       "5              1200.0               1300.0                1250.0  \n",
       "\n",
       "[5 rows x 43 columns]"
      ]
     },
     "execution_count": 19,
     "metadata": {},
     "output_type": "execute_result"
    }
   ],
   "source": [
    "coffee_df.head()"
   ]
  },
  {
   "cell_type": "code",
   "execution_count": 20,
   "id": "1ec0bdab",
   "metadata": {},
   "outputs": [
    {
     "data": {
      "text/plain": [
       "<bound method NDFrame.head of     Species                              Owner Country.of.Origin  \\\n",
       "1   Robusta       ankole coffee producers coop            Uganda   \n",
       "2   Robusta                     nishant gurjer             India   \n",
       "3   Robusta                      andrew hetzel             India   \n",
       "4   Robusta                             ugacof            Uganda   \n",
       "5   Robusta       katuka development trust ltd            Uganda   \n",
       "6   Robusta                      andrew hetzel             India   \n",
       "7   Robusta                      andrew hetzel             India   \n",
       "8   Robusta                     nishant gurjer             India   \n",
       "9   Robusta                     nishant gurjer             India   \n",
       "10  Robusta                             ugacof            Uganda   \n",
       "11  Robusta                             ugacof            Uganda   \n",
       "12  Robusta                     nishant gurjer             India   \n",
       "13  Robusta                      andrew hetzel             India   \n",
       "14  Robusta  kasozi coffee farmers association            Uganda   \n",
       "15  Robusta       ankole coffee producers coop            Uganda   \n",
       "16  Robusta                      andrew hetzel             India   \n",
       "17  Robusta                      andrew hetzel             India   \n",
       "18  Robusta                 kawacom uganda ltd            Uganda   \n",
       "19  Robusta                      nitubaasa ltd            Uganda   \n",
       "20  Robusta              mannya coffee project            Uganda   \n",
       "21  Robusta                      andrew hetzel             India   \n",
       "22  Robusta                      andrew hetzel             India   \n",
       "23  Robusta                      andrew hetzel     United States   \n",
       "24  Robusta                        luis robles           Ecuador   \n",
       "25  Robusta                        luis robles           Ecuador   \n",
       "26  Robusta                        james moore     United States   \n",
       "27  Robusta                      cafe politico             India   \n",
       "28  Robusta                      cafe politico           Vietnam   \n",
       "\n",
       "                             Farm.Name Lot.Number  \\\n",
       "1        kyangundu cooperative society        NaN   \n",
       "2       sethuraman estate kaapi royale         25   \n",
       "3                    sethuraman estate        NaN   \n",
       "4                  ugacof project area        NaN   \n",
       "5   katikamu capca farmers association        NaN   \n",
       "6                                  NaN        NaN   \n",
       "7                   sethuraman estates        NaN   \n",
       "8       sethuraman estate kaapi royale          7   \n",
       "9                    sethuraman estate        RKR   \n",
       "10                              ishaka        NaN   \n",
       "11                 ugacof project area        NaN   \n",
       "12      sethuraman estate kaapi royale      RC AB   \n",
       "13                  sethuraman estates        NaN   \n",
       "14               kasozi coffee farmers        NaN   \n",
       "15              kyangundu coop society        NaN   \n",
       "16                   sethuraman estate        NaN   \n",
       "17                  sethuraman estates        NaN   \n",
       "18                            bushenyi        NaN   \n",
       "19   kigezi coffee farmers association        NaN   \n",
       "20               mannya coffee project        NaN   \n",
       "21                  sethuraman estates        NaN   \n",
       "22                  sethuraman estates        NaN   \n",
       "23                  sethuraman estates        NaN   \n",
       "24                           robustasa   Lavado 1   \n",
       "25                           robustasa   Lavado 3   \n",
       "26                     fazenda cazengo        NaN   \n",
       "27                                 NaN        NaN   \n",
       "28                                 NaN        NaN   \n",
       "\n",
       "                                      Mill         ICO.Number  \\\n",
       "1                  ankole coffee producers                  0   \n",
       "2                        sethuraman estate    14/1148/2017/21   \n",
       "3                                      NaN               0000   \n",
       "4                                   ugacof                  0   \n",
       "5                 katuka development trust                  0   \n",
       "6                                   (self)                NaN   \n",
       "7                                      NaN                NaN   \n",
       "8                        sethuraman estate    14/1148/2017/18   \n",
       "9                        sethuraman estate    14/1148/2016/17   \n",
       "10                            nsubuga umar                  0   \n",
       "11                                  ugacof                  0   \n",
       "12                       sethuraman estate    14/1148/2016/12   \n",
       "13                                     NaN                NaN   \n",
       "14                                     NaN                  0   \n",
       "15  ankole coffee producers coop union ltd                  0   \n",
       "16                                     NaN               0000   \n",
       "17                      sethuraman estates                NaN   \n",
       "18                                 kawacom                  0   \n",
       "19                               nitubaasa                  0   \n",
       "20                   mannya coffee project                  0   \n",
       "21                                     NaN                NaN   \n",
       "22                      sethuraman estates                NaN   \n",
       "23                      sethuraman estates                NaN   \n",
       "24                             our own lab                NaN   \n",
       "25                          own laboratory                NaN   \n",
       "26                            cafe cazengo                NaN   \n",
       "27                                     NaN  14-1118-2014-0087   \n",
       "28                                     NaN                NaN   \n",
       "\n",
       "                              Company    Altitude  \\\n",
       "1        ankole coffee producers coop        1488   \n",
       "2                        kaapi royale        3170   \n",
       "3                   sethuraman estate       1000m   \n",
       "4                          ugacof ltd        1212   \n",
       "5        katuka development trust ltd   1200-1300   \n",
       "6                     cafemakers, llc       3000'   \n",
       "7                          cafemakers        750m   \n",
       "8                        kaapi royale        3140   \n",
       "9                        kaapi royale        1000   \n",
       "10                         ugacof ltd    900-1300   \n",
       "11                         ugacof ltd        1095   \n",
       "12                       kaapi royale        1000   \n",
       "13                         cafemakers        750m   \n",
       "14  kasozi coffee farmers association        1367   \n",
       "15       ankole coffee producers coop        1488   \n",
       "16                  sethuraman estate       1000m   \n",
       "17                    cafemakers, llc        750m   \n",
       "18                 kawacom uganda ltd        1600   \n",
       "19                      nitubaasa ltd        1745   \n",
       "20              mannya coffee project        1200   \n",
       "21                         cafemakers        750m   \n",
       "22                    cafemakers, llc        750m   \n",
       "23                    cafemakers, llc       3000'   \n",
       "24                          robustasa         NaN   \n",
       "25                          robustasa          40   \n",
       "26            global opportunity fund  795 meters   \n",
       "27                      cafe politico         NaN   \n",
       "28                      cafe politico         NaN   \n",
       "\n",
       "                           Region  ...         Color  Category.Two.Defects  \\\n",
       "1            sheema south western  ...         Green                     2   \n",
       "2     chikmagalur karnataka indua  ...           NaN                     2   \n",
       "3                     chikmagalur  ...         Green                     0   \n",
       "4                         central  ...         Green                     7   \n",
       "5           luwero central region  ...         Green                     3   \n",
       "6                     chikmagalur  ...         Green                     0   \n",
       "7                     chikmagalur  ...         Green                     0   \n",
       "8     chikmagalur karnataka india  ...  Bluish-Green                     0   \n",
       "9           chikmagalur karnataka  ...         Green                     0   \n",
       "10                        western  ...         Green                     6   \n",
       "11       iganga namadrope eastern  ...         Green                     1   \n",
       "12          chikmagalur karnataka  ...         Green                     0   \n",
       "13                    chikmagalur  ...         Green                     1   \n",
       "14                        eastern  ...         Green                     7   \n",
       "15                  south western  ...         Green                     2   \n",
       "16                    chikmagalur  ...         Green                     0   \n",
       "17                    chikmagalur  ...    Blue-Green                     0   \n",
       "18                        western  ...         Green                     1   \n",
       "19                        western  ...         Green                     2   \n",
       "20                       southern  ...         Green                     1   \n",
       "21                    chikmagalur  ...  Bluish-Green                     1   \n",
       "22                    chikmagalur  ...         Green                     0   \n",
       "23                    chikmagalur  ...         Green                     0   \n",
       "24               san juan, playas  ...    Blue-Green                     1   \n",
       "25               san juan, playas  ...    Blue-Green                     0   \n",
       "26  kwanza norte province, angola  ...           NaN                     6   \n",
       "27                            NaN  ...         Green                     1   \n",
       "28                            NaN  ...          None                     9   \n",
       "\n",
       "             Expiration                   Certification.Body  \\\n",
       "1       June 26th, 2015  Uganda Coffee Development Authority   \n",
       "2    October 31st, 2018         Specialty Coffee Association   \n",
       "3      April 29th, 2016         Specialty Coffee Association   \n",
       "4       July 14th, 2015  Uganda Coffee Development Authority   \n",
       "5       June 26th, 2015  Uganda Coffee Development Authority   \n",
       "6   February 28th, 2013         Specialty Coffee Association   \n",
       "7        May 15th, 2015         Specialty Coffee Association   \n",
       "8    October 25th, 2018         Specialty Coffee Association   \n",
       "9     August 17th, 2017         Specialty Coffee Association   \n",
       "10     August 5th, 2015  Uganda Coffee Development Authority   \n",
       "11      June 26th, 2015  Uganda Coffee Development Authority   \n",
       "12    August 23rd, 2017         Specialty Coffee Association   \n",
       "13       May 19th, 2015         Specialty Coffee Association   \n",
       "14      July 14th, 2015  Uganda Coffee Development Authority   \n",
       "15      July 14th, 2015  Uganda Coffee Development Authority   \n",
       "16     April 29th, 2016         Specialty Coffee Association   \n",
       "17       June 3rd, 2014         Specialty Coffee Association   \n",
       "18      June 27th, 2015  Uganda Coffee Development Authority   \n",
       "19      June 27th, 2015  Uganda Coffee Development Authority   \n",
       "20      June 27th, 2015  Uganda Coffee Development Authority   \n",
       "21       May 19th, 2015         Specialty Coffee Association   \n",
       "22      June 20th, 2014         Specialty Coffee Association   \n",
       "23  February 28th, 2013         Specialty Coffee Association   \n",
       "24   January 18th, 2017         Specialty Coffee Association   \n",
       "25   January 18th, 2017         Specialty Coffee Association   \n",
       "26  December 23rd, 2015         Specialty Coffee Association   \n",
       "27    August 25th, 2015         Specialty Coffee Association   \n",
       "28    August 25th, 2015         Specialty Coffee Association   \n",
       "\n",
       "                       Certification.Address  \\\n",
       "1   e36d0270932c3b657e96b7b0278dfd85dc0fe743   \n",
       "2   ff7c18ad303d4b603ac3f8cff7e611ffc735e720   \n",
       "3   ff7c18ad303d4b603ac3f8cff7e611ffc735e720   \n",
       "4   e36d0270932c3b657e96b7b0278dfd85dc0fe743   \n",
       "5   e36d0270932c3b657e96b7b0278dfd85dc0fe743   \n",
       "6   ff7c18ad303d4b603ac3f8cff7e611ffc735e720   \n",
       "7   ff7c18ad303d4b603ac3f8cff7e611ffc735e720   \n",
       "8   ff7c18ad303d4b603ac3f8cff7e611ffc735e720   \n",
       "9   ff7c18ad303d4b603ac3f8cff7e611ffc735e720   \n",
       "10  e36d0270932c3b657e96b7b0278dfd85dc0fe743   \n",
       "11  e36d0270932c3b657e96b7b0278dfd85dc0fe743   \n",
       "12  ff7c18ad303d4b603ac3f8cff7e611ffc735e720   \n",
       "13  ff7c18ad303d4b603ac3f8cff7e611ffc735e720   \n",
       "14  e36d0270932c3b657e96b7b0278dfd85dc0fe743   \n",
       "15  e36d0270932c3b657e96b7b0278dfd85dc0fe743   \n",
       "16  ff7c18ad303d4b603ac3f8cff7e611ffc735e720   \n",
       "17  ff7c18ad303d4b603ac3f8cff7e611ffc735e720   \n",
       "18  e36d0270932c3b657e96b7b0278dfd85dc0fe743   \n",
       "19  e36d0270932c3b657e96b7b0278dfd85dc0fe743   \n",
       "20  e36d0270932c3b657e96b7b0278dfd85dc0fe743   \n",
       "21  ff7c18ad303d4b603ac3f8cff7e611ffc735e720   \n",
       "22  ff7c18ad303d4b603ac3f8cff7e611ffc735e720   \n",
       "23  ff7c18ad303d4b603ac3f8cff7e611ffc735e720   \n",
       "24  ff7c18ad303d4b603ac3f8cff7e611ffc735e720   \n",
       "25  ff7c18ad303d4b603ac3f8cff7e611ffc735e720   \n",
       "26  ff7c18ad303d4b603ac3f8cff7e611ffc735e720   \n",
       "27  ff7c18ad303d4b603ac3f8cff7e611ffc735e720   \n",
       "28  ff7c18ad303d4b603ac3f8cff7e611ffc735e720   \n",
       "\n",
       "                       Certification.Contact unit_of_measurement  \\\n",
       "1   03077a1c6bac60e6f514691634a7f6eb5c85aae8                   m   \n",
       "2   352d0cf7f3e9be14dad7df644ad65efc27605ae2                   m   \n",
       "3   352d0cf7f3e9be14dad7df644ad65efc27605ae2                   m   \n",
       "4   03077a1c6bac60e6f514691634a7f6eb5c85aae8                   m   \n",
       "5   03077a1c6bac60e6f514691634a7f6eb5c85aae8                   m   \n",
       "6   352d0cf7f3e9be14dad7df644ad65efc27605ae2                   m   \n",
       "7   352d0cf7f3e9be14dad7df644ad65efc27605ae2                   m   \n",
       "8   352d0cf7f3e9be14dad7df644ad65efc27605ae2                   m   \n",
       "9   352d0cf7f3e9be14dad7df644ad65efc27605ae2                   m   \n",
       "10  03077a1c6bac60e6f514691634a7f6eb5c85aae8                   m   \n",
       "11  03077a1c6bac60e6f514691634a7f6eb5c85aae8                   m   \n",
       "12  352d0cf7f3e9be14dad7df644ad65efc27605ae2                   m   \n",
       "13  352d0cf7f3e9be14dad7df644ad65efc27605ae2                   m   \n",
       "14  03077a1c6bac60e6f514691634a7f6eb5c85aae8                   m   \n",
       "15  03077a1c6bac60e6f514691634a7f6eb5c85aae8                   m   \n",
       "16  352d0cf7f3e9be14dad7df644ad65efc27605ae2                   m   \n",
       "17  352d0cf7f3e9be14dad7df644ad65efc27605ae2                   m   \n",
       "18  03077a1c6bac60e6f514691634a7f6eb5c85aae8                   m   \n",
       "19  03077a1c6bac60e6f514691634a7f6eb5c85aae8                   m   \n",
       "20  03077a1c6bac60e6f514691634a7f6eb5c85aae8                   m   \n",
       "21  352d0cf7f3e9be14dad7df644ad65efc27605ae2                   m   \n",
       "22  352d0cf7f3e9be14dad7df644ad65efc27605ae2                   m   \n",
       "23  352d0cf7f3e9be14dad7df644ad65efc27605ae2                   m   \n",
       "24  352d0cf7f3e9be14dad7df644ad65efc27605ae2                   m   \n",
       "25  352d0cf7f3e9be14dad7df644ad65efc27605ae2                   m   \n",
       "26  352d0cf7f3e9be14dad7df644ad65efc27605ae2                   m   \n",
       "27  352d0cf7f3e9be14dad7df644ad65efc27605ae2                   m   \n",
       "28  352d0cf7f3e9be14dad7df644ad65efc27605ae2                   m   \n",
       "\n",
       "   altitude_low_meters altitude_high_meters  altitude_mean_meters  \n",
       "1               1488.0               1488.0                1488.0  \n",
       "2               3170.0               3170.0                3170.0  \n",
       "3               1000.0               1000.0                1000.0  \n",
       "4               1212.0               1212.0                1212.0  \n",
       "5               1200.0               1300.0                1250.0  \n",
       "6               3000.0               3000.0                3000.0  \n",
       "7                750.0                750.0                 750.0  \n",
       "8               3140.0               3140.0                3140.0  \n",
       "9               1000.0               1000.0                1000.0  \n",
       "10               900.0               1300.0                1100.0  \n",
       "11              1095.0               1095.0                1095.0  \n",
       "12              1000.0               1000.0                1000.0  \n",
       "13               750.0                750.0                 750.0  \n",
       "14              1367.0               1367.0                1367.0  \n",
       "15              1488.0               1488.0                1488.0  \n",
       "16              1000.0               1000.0                1000.0  \n",
       "17               750.0                750.0                 750.0  \n",
       "18              1600.0               1600.0                1600.0  \n",
       "19              1745.0               1745.0                1745.0  \n",
       "20              1200.0               1200.0                1200.0  \n",
       "21               750.0                750.0                 750.0  \n",
       "22               750.0                750.0                 750.0  \n",
       "23              3000.0               3000.0                3000.0  \n",
       "24                 NaN                  NaN                   NaN  \n",
       "25                40.0                 40.0                  40.0  \n",
       "26               795.0                795.0                 795.0  \n",
       "27                 NaN                  NaN                   NaN  \n",
       "28                 NaN                  NaN                   NaN  \n",
       "\n",
       "[28 rows x 43 columns]>"
      ]
     },
     "execution_count": 20,
     "metadata": {},
     "output_type": "execute_result"
    }
   ],
   "source": [
    "coffee_df.head"
   ]
  },
  {
   "cell_type": "code",
   "execution_count": 21,
   "id": "e5179aa7",
   "metadata": {},
   "outputs": [
    {
     "data": {
      "text/html": [
       "<div>\n",
       "<style scoped>\n",
       "    .dataframe tbody tr th:only-of-type {\n",
       "        vertical-align: middle;\n",
       "    }\n",
       "\n",
       "    .dataframe tbody tr th {\n",
       "        vertical-align: top;\n",
       "    }\n",
       "\n",
       "    .dataframe thead th {\n",
       "        text-align: right;\n",
       "    }\n",
       "</style>\n",
       "<table border=\"1\" class=\"dataframe\">\n",
       "  <thead>\n",
       "    <tr style=\"text-align: right;\">\n",
       "      <th></th>\n",
       "      <th>Species</th>\n",
       "      <th>Owner</th>\n",
       "      <th>Country.of.Origin</th>\n",
       "      <th>Farm.Name</th>\n",
       "      <th>Lot.Number</th>\n",
       "      <th>Mill</th>\n",
       "      <th>ICO.Number</th>\n",
       "      <th>Company</th>\n",
       "      <th>Altitude</th>\n",
       "      <th>Region</th>\n",
       "      <th>...</th>\n",
       "      <th>Color</th>\n",
       "      <th>Category.Two.Defects</th>\n",
       "      <th>Expiration</th>\n",
       "      <th>Certification.Body</th>\n",
       "      <th>Certification.Address</th>\n",
       "      <th>Certification.Contact</th>\n",
       "      <th>unit_of_measurement</th>\n",
       "      <th>altitude_low_meters</th>\n",
       "      <th>altitude_high_meters</th>\n",
       "      <th>altitude_mean_meters</th>\n",
       "    </tr>\n",
       "  </thead>\n",
       "  <tbody>\n",
       "    <tr>\n",
       "      <th>1</th>\n",
       "      <td>Robusta</td>\n",
       "      <td>ankole coffee producers coop</td>\n",
       "      <td>Uganda</td>\n",
       "      <td>kyangundu cooperative society</td>\n",
       "      <td>NaN</td>\n",
       "      <td>ankole coffee producers</td>\n",
       "      <td>0</td>\n",
       "      <td>ankole coffee producers coop</td>\n",
       "      <td>1488</td>\n",
       "      <td>sheema south western</td>\n",
       "      <td>...</td>\n",
       "      <td>Green</td>\n",
       "      <td>2</td>\n",
       "      <td>June 26th, 2015</td>\n",
       "      <td>Uganda Coffee Development Authority</td>\n",
       "      <td>e36d0270932c3b657e96b7b0278dfd85dc0fe743</td>\n",
       "      <td>03077a1c6bac60e6f514691634a7f6eb5c85aae8</td>\n",
       "      <td>m</td>\n",
       "      <td>1488.0</td>\n",
       "      <td>1488.0</td>\n",
       "      <td>1488.0</td>\n",
       "    </tr>\n",
       "    <tr>\n",
       "      <th>2</th>\n",
       "      <td>Robusta</td>\n",
       "      <td>nishant gurjer</td>\n",
       "      <td>India</td>\n",
       "      <td>sethuraman estate kaapi royale</td>\n",
       "      <td>25</td>\n",
       "      <td>sethuraman estate</td>\n",
       "      <td>14/1148/2017/21</td>\n",
       "      <td>kaapi royale</td>\n",
       "      <td>3170</td>\n",
       "      <td>chikmagalur karnataka indua</td>\n",
       "      <td>...</td>\n",
       "      <td>NaN</td>\n",
       "      <td>2</td>\n",
       "      <td>October 31st, 2018</td>\n",
       "      <td>Specialty Coffee Association</td>\n",
       "      <td>ff7c18ad303d4b603ac3f8cff7e611ffc735e720</td>\n",
       "      <td>352d0cf7f3e9be14dad7df644ad65efc27605ae2</td>\n",
       "      <td>m</td>\n",
       "      <td>3170.0</td>\n",
       "      <td>3170.0</td>\n",
       "      <td>3170.0</td>\n",
       "    </tr>\n",
       "  </tbody>\n",
       "</table>\n",
       "<p>2 rows × 43 columns</p>\n",
       "</div>"
      ],
      "text/plain": [
       "   Species                         Owner Country.of.Origin  \\\n",
       "1  Robusta  ankole coffee producers coop            Uganda   \n",
       "2  Robusta                nishant gurjer             India   \n",
       "\n",
       "                        Farm.Name Lot.Number                     Mill  \\\n",
       "1   kyangundu cooperative society        NaN  ankole coffee producers   \n",
       "2  sethuraman estate kaapi royale         25        sethuraman estate   \n",
       "\n",
       "        ICO.Number                       Company Altitude  \\\n",
       "1                0  ankole coffee producers coop     1488   \n",
       "2  14/1148/2017/21                  kaapi royale     3170   \n",
       "\n",
       "                        Region  ...  Color  Category.Two.Defects  \\\n",
       "1         sheema south western  ...  Green                     2   \n",
       "2  chikmagalur karnataka indua  ...    NaN                     2   \n",
       "\n",
       "           Expiration                   Certification.Body  \\\n",
       "1     June 26th, 2015  Uganda Coffee Development Authority   \n",
       "2  October 31st, 2018         Specialty Coffee Association   \n",
       "\n",
       "                      Certification.Address  \\\n",
       "1  e36d0270932c3b657e96b7b0278dfd85dc0fe743   \n",
       "2  ff7c18ad303d4b603ac3f8cff7e611ffc735e720   \n",
       "\n",
       "                      Certification.Contact unit_of_measurement  \\\n",
       "1  03077a1c6bac60e6f514691634a7f6eb5c85aae8                   m   \n",
       "2  352d0cf7f3e9be14dad7df644ad65efc27605ae2                   m   \n",
       "\n",
       "  altitude_low_meters altitude_high_meters  altitude_mean_meters  \n",
       "1              1488.0               1488.0                1488.0  \n",
       "2              3170.0               3170.0                3170.0  \n",
       "\n",
       "[2 rows x 43 columns]"
      ]
     },
     "execution_count": 21,
     "metadata": {},
     "output_type": "execute_result"
    }
   ],
   "source": [
    "coffee_df.head(2)"
   ]
  },
  {
   "cell_type": "code",
   "execution_count": 22,
   "id": "c4902f3c",
   "metadata": {},
   "outputs": [
    {
     "data": {
      "text/html": [
       "<div>\n",
       "<style scoped>\n",
       "    .dataframe tbody tr th:only-of-type {\n",
       "        vertical-align: middle;\n",
       "    }\n",
       "\n",
       "    .dataframe tbody tr th {\n",
       "        vertical-align: top;\n",
       "    }\n",
       "\n",
       "    .dataframe thead th {\n",
       "        text-align: right;\n",
       "    }\n",
       "</style>\n",
       "<table border=\"1\" class=\"dataframe\">\n",
       "  <thead>\n",
       "    <tr style=\"text-align: right;\">\n",
       "      <th></th>\n",
       "      <th>Species</th>\n",
       "      <th>Owner</th>\n",
       "      <th>Country.of.Origin</th>\n",
       "      <th>Farm.Name</th>\n",
       "      <th>Lot.Number</th>\n",
       "      <th>Mill</th>\n",
       "      <th>ICO.Number</th>\n",
       "      <th>Company</th>\n",
       "      <th>Altitude</th>\n",
       "      <th>Region</th>\n",
       "      <th>...</th>\n",
       "      <th>Color</th>\n",
       "      <th>Category.Two.Defects</th>\n",
       "      <th>Expiration</th>\n",
       "      <th>Certification.Body</th>\n",
       "      <th>Certification.Address</th>\n",
       "      <th>Certification.Contact</th>\n",
       "      <th>unit_of_measurement</th>\n",
       "      <th>altitude_low_meters</th>\n",
       "      <th>altitude_high_meters</th>\n",
       "      <th>altitude_mean_meters</th>\n",
       "    </tr>\n",
       "  </thead>\n",
       "  <tbody>\n",
       "    <tr>\n",
       "      <th>24</th>\n",
       "      <td>Robusta</td>\n",
       "      <td>luis robles</td>\n",
       "      <td>Ecuador</td>\n",
       "      <td>robustasa</td>\n",
       "      <td>Lavado 1</td>\n",
       "      <td>our own lab</td>\n",
       "      <td>NaN</td>\n",
       "      <td>robustasa</td>\n",
       "      <td>NaN</td>\n",
       "      <td>san juan, playas</td>\n",
       "      <td>...</td>\n",
       "      <td>Blue-Green</td>\n",
       "      <td>1</td>\n",
       "      <td>January 18th, 2017</td>\n",
       "      <td>Specialty Coffee Association</td>\n",
       "      <td>ff7c18ad303d4b603ac3f8cff7e611ffc735e720</td>\n",
       "      <td>352d0cf7f3e9be14dad7df644ad65efc27605ae2</td>\n",
       "      <td>m</td>\n",
       "      <td>NaN</td>\n",
       "      <td>NaN</td>\n",
       "      <td>NaN</td>\n",
       "    </tr>\n",
       "    <tr>\n",
       "      <th>25</th>\n",
       "      <td>Robusta</td>\n",
       "      <td>luis robles</td>\n",
       "      <td>Ecuador</td>\n",
       "      <td>robustasa</td>\n",
       "      <td>Lavado 3</td>\n",
       "      <td>own laboratory</td>\n",
       "      <td>NaN</td>\n",
       "      <td>robustasa</td>\n",
       "      <td>40</td>\n",
       "      <td>san juan, playas</td>\n",
       "      <td>...</td>\n",
       "      <td>Blue-Green</td>\n",
       "      <td>0</td>\n",
       "      <td>January 18th, 2017</td>\n",
       "      <td>Specialty Coffee Association</td>\n",
       "      <td>ff7c18ad303d4b603ac3f8cff7e611ffc735e720</td>\n",
       "      <td>352d0cf7f3e9be14dad7df644ad65efc27605ae2</td>\n",
       "      <td>m</td>\n",
       "      <td>40.0</td>\n",
       "      <td>40.0</td>\n",
       "      <td>40.0</td>\n",
       "    </tr>\n",
       "    <tr>\n",
       "      <th>26</th>\n",
       "      <td>Robusta</td>\n",
       "      <td>james moore</td>\n",
       "      <td>United States</td>\n",
       "      <td>fazenda cazengo</td>\n",
       "      <td>NaN</td>\n",
       "      <td>cafe cazengo</td>\n",
       "      <td>NaN</td>\n",
       "      <td>global opportunity fund</td>\n",
       "      <td>795 meters</td>\n",
       "      <td>kwanza norte province, angola</td>\n",
       "      <td>...</td>\n",
       "      <td>NaN</td>\n",
       "      <td>6</td>\n",
       "      <td>December 23rd, 2015</td>\n",
       "      <td>Specialty Coffee Association</td>\n",
       "      <td>ff7c18ad303d4b603ac3f8cff7e611ffc735e720</td>\n",
       "      <td>352d0cf7f3e9be14dad7df644ad65efc27605ae2</td>\n",
       "      <td>m</td>\n",
       "      <td>795.0</td>\n",
       "      <td>795.0</td>\n",
       "      <td>795.0</td>\n",
       "    </tr>\n",
       "    <tr>\n",
       "      <th>27</th>\n",
       "      <td>Robusta</td>\n",
       "      <td>cafe politico</td>\n",
       "      <td>India</td>\n",
       "      <td>NaN</td>\n",
       "      <td>NaN</td>\n",
       "      <td>NaN</td>\n",
       "      <td>14-1118-2014-0087</td>\n",
       "      <td>cafe politico</td>\n",
       "      <td>NaN</td>\n",
       "      <td>NaN</td>\n",
       "      <td>...</td>\n",
       "      <td>Green</td>\n",
       "      <td>1</td>\n",
       "      <td>August 25th, 2015</td>\n",
       "      <td>Specialty Coffee Association</td>\n",
       "      <td>ff7c18ad303d4b603ac3f8cff7e611ffc735e720</td>\n",
       "      <td>352d0cf7f3e9be14dad7df644ad65efc27605ae2</td>\n",
       "      <td>m</td>\n",
       "      <td>NaN</td>\n",
       "      <td>NaN</td>\n",
       "      <td>NaN</td>\n",
       "    </tr>\n",
       "    <tr>\n",
       "      <th>28</th>\n",
       "      <td>Robusta</td>\n",
       "      <td>cafe politico</td>\n",
       "      <td>Vietnam</td>\n",
       "      <td>NaN</td>\n",
       "      <td>NaN</td>\n",
       "      <td>NaN</td>\n",
       "      <td>NaN</td>\n",
       "      <td>cafe politico</td>\n",
       "      <td>NaN</td>\n",
       "      <td>NaN</td>\n",
       "      <td>...</td>\n",
       "      <td>None</td>\n",
       "      <td>9</td>\n",
       "      <td>August 25th, 2015</td>\n",
       "      <td>Specialty Coffee Association</td>\n",
       "      <td>ff7c18ad303d4b603ac3f8cff7e611ffc735e720</td>\n",
       "      <td>352d0cf7f3e9be14dad7df644ad65efc27605ae2</td>\n",
       "      <td>m</td>\n",
       "      <td>NaN</td>\n",
       "      <td>NaN</td>\n",
       "      <td>NaN</td>\n",
       "    </tr>\n",
       "  </tbody>\n",
       "</table>\n",
       "<p>5 rows × 43 columns</p>\n",
       "</div>"
      ],
      "text/plain": [
       "    Species          Owner Country.of.Origin        Farm.Name Lot.Number  \\\n",
       "24  Robusta    luis robles           Ecuador        robustasa   Lavado 1   \n",
       "25  Robusta    luis robles           Ecuador        robustasa   Lavado 3   \n",
       "26  Robusta    james moore     United States  fazenda cazengo        NaN   \n",
       "27  Robusta  cafe politico             India              NaN        NaN   \n",
       "28  Robusta  cafe politico           Vietnam              NaN        NaN   \n",
       "\n",
       "              Mill         ICO.Number                  Company    Altitude  \\\n",
       "24     our own lab                NaN                robustasa         NaN   \n",
       "25  own laboratory                NaN                robustasa          40   \n",
       "26    cafe cazengo                NaN  global opportunity fund  795 meters   \n",
       "27             NaN  14-1118-2014-0087            cafe politico         NaN   \n",
       "28             NaN                NaN            cafe politico         NaN   \n",
       "\n",
       "                           Region  ...       Color  Category.Two.Defects  \\\n",
       "24               san juan, playas  ...  Blue-Green                     1   \n",
       "25               san juan, playas  ...  Blue-Green                     0   \n",
       "26  kwanza norte province, angola  ...         NaN                     6   \n",
       "27                            NaN  ...       Green                     1   \n",
       "28                            NaN  ...        None                     9   \n",
       "\n",
       "             Expiration            Certification.Body  \\\n",
       "24   January 18th, 2017  Specialty Coffee Association   \n",
       "25   January 18th, 2017  Specialty Coffee Association   \n",
       "26  December 23rd, 2015  Specialty Coffee Association   \n",
       "27    August 25th, 2015  Specialty Coffee Association   \n",
       "28    August 25th, 2015  Specialty Coffee Association   \n",
       "\n",
       "                       Certification.Address  \\\n",
       "24  ff7c18ad303d4b603ac3f8cff7e611ffc735e720   \n",
       "25  ff7c18ad303d4b603ac3f8cff7e611ffc735e720   \n",
       "26  ff7c18ad303d4b603ac3f8cff7e611ffc735e720   \n",
       "27  ff7c18ad303d4b603ac3f8cff7e611ffc735e720   \n",
       "28  ff7c18ad303d4b603ac3f8cff7e611ffc735e720   \n",
       "\n",
       "                       Certification.Contact unit_of_measurement  \\\n",
       "24  352d0cf7f3e9be14dad7df644ad65efc27605ae2                   m   \n",
       "25  352d0cf7f3e9be14dad7df644ad65efc27605ae2                   m   \n",
       "26  352d0cf7f3e9be14dad7df644ad65efc27605ae2                   m   \n",
       "27  352d0cf7f3e9be14dad7df644ad65efc27605ae2                   m   \n",
       "28  352d0cf7f3e9be14dad7df644ad65efc27605ae2                   m   \n",
       "\n",
       "   altitude_low_meters altitude_high_meters  altitude_mean_meters  \n",
       "24                 NaN                  NaN                   NaN  \n",
       "25                40.0                 40.0                  40.0  \n",
       "26               795.0                795.0                 795.0  \n",
       "27                 NaN                  NaN                   NaN  \n",
       "28                 NaN                  NaN                   NaN  \n",
       "\n",
       "[5 rows x 43 columns]"
      ]
     },
     "execution_count": 22,
     "metadata": {},
     "output_type": "execute_result"
    }
   ],
   "source": [
    "coffee_df.tail()"
   ]
  },
  {
   "cell_type": "code",
   "execution_count": 23,
   "id": "a0e3c5b0",
   "metadata": {},
   "outputs": [
    {
     "name": "stdout",
     "output_type": "stream",
     "text": [
      "<class 'pandas.core.frame.DataFrame'>\n",
      "Int64Index: 28 entries, 1 to 28\n",
      "Data columns (total 43 columns):\n",
      " #   Column                 Non-Null Count  Dtype  \n",
      "---  ------                 --------------  -----  \n",
      " 0   Species                28 non-null     object \n",
      " 1   Owner                  28 non-null     object \n",
      " 2   Country.of.Origin      28 non-null     object \n",
      " 3   Farm.Name              25 non-null     object \n",
      " 4   Lot.Number             6 non-null      object \n",
      " 5   Mill                   20 non-null     object \n",
      " 6   ICO.Number             17 non-null     object \n",
      " 7   Company                28 non-null     object \n",
      " 8   Altitude               25 non-null     object \n",
      " 9   Region                 26 non-null     object \n",
      " 10  Producer               26 non-null     object \n",
      " 11  Number.of.Bags         28 non-null     int64  \n",
      " 12  Bag.Weight             28 non-null     object \n",
      " 13  In.Country.Partner     28 non-null     object \n",
      " 14  Harvest.Year           28 non-null     int64  \n",
      " 15  Grading.Date           28 non-null     object \n",
      " 16  Owner.1                28 non-null     object \n",
      " 17  Variety                3 non-null      object \n",
      " 18  Processing.Method      10 non-null     object \n",
      " 19  Fragrance...Aroma      28 non-null     float64\n",
      " 20  Flavor                 28 non-null     float64\n",
      " 21  Aftertaste             28 non-null     float64\n",
      " 22  Salt...Acid            28 non-null     float64\n",
      " 23  Bitter...Sweet         28 non-null     float64\n",
      " 24  Mouthfeel              28 non-null     float64\n",
      " 25  Uniform.Cup            28 non-null     float64\n",
      " 26  Clean.Cup              28 non-null     float64\n",
      " 27  Balance                28 non-null     float64\n",
      " 28  Cupper.Points          28 non-null     float64\n",
      " 29  Total.Cup.Points       28 non-null     float64\n",
      " 30  Moisture               28 non-null     float64\n",
      " 31  Category.One.Defects   28 non-null     int64  \n",
      " 32  Quakers                28 non-null     int64  \n",
      " 33  Color                  26 non-null     object \n",
      " 34  Category.Two.Defects   28 non-null     int64  \n",
      " 35  Expiration             28 non-null     object \n",
      " 36  Certification.Body     28 non-null     object \n",
      " 37  Certification.Address  28 non-null     object \n",
      " 38  Certification.Contact  28 non-null     object \n",
      " 39  unit_of_measurement    28 non-null     object \n",
      " 40  altitude_low_meters    25 non-null     float64\n",
      " 41  altitude_high_meters   25 non-null     float64\n",
      " 42  altitude_mean_meters   25 non-null     float64\n",
      "dtypes: float64(15), int64(5), object(23)\n",
      "memory usage: 9.6+ KB\n"
     ]
    }
   ],
   "source": [
    "coffee_df.info()"
   ]
  },
  {
   "cell_type": "code",
   "execution_count": 24,
   "id": "913083ea",
   "metadata": {},
   "outputs": [
    {
     "data": {
      "text/plain": [
       "'altitude_mean_meters'"
      ]
     },
     "execution_count": 24,
     "metadata": {},
     "output_type": "execute_result"
    }
   ],
   "source": [
    "coffee_df.columns[42]"
   ]
  },
  {
   "cell_type": "code",
   "execution_count": 25,
   "id": "376fac8f",
   "metadata": {},
   "outputs": [],
   "source": [
    "col_types = coffee_df.dtypes"
   ]
  },
  {
   "cell_type": "code",
   "execution_count": 26,
   "id": "9dedc776",
   "metadata": {},
   "outputs": [
    {
     "data": {
      "text/plain": [
       "Species              object\n",
       "Owner                object\n",
       "Country.of.Origin    object\n",
       "Farm.Name            object\n",
       "Lot.Number           object\n",
       "dtype: object"
      ]
     },
     "execution_count": 26,
     "metadata": {},
     "output_type": "execute_result"
    }
   ],
   "source": [
    "col_types[:5]"
   ]
  },
  {
   "cell_type": "code",
   "execution_count": 27,
   "id": "cd9b6893",
   "metadata": {},
   "outputs": [
    {
     "data": {
      "text/plain": [
       "numpy.dtype[object_]"
      ]
     },
     "execution_count": 27,
     "metadata": {},
     "output_type": "execute_result"
    }
   ],
   "source": [
    "type(col_types[0])"
   ]
  },
  {
   "cell_type": "code",
   "execution_count": 28,
   "id": "5cadf996",
   "metadata": {},
   "outputs": [
    {
     "name": "stdout",
     "output_type": "stream",
     "text": [
      "Spe\n",
      "Own\n",
      "Cou\n",
      "Far\n",
      "Lot\n",
      "Mil\n",
      "ICO\n",
      "Com\n",
      "Alt\n",
      "Reg\n",
      "Pro\n",
      "Num\n",
      "Bag\n",
      "In.\n",
      "Har\n",
      "Gra\n",
      "Own\n",
      "Var\n",
      "Pro\n",
      "Fra\n",
      "Fla\n",
      "Aft\n",
      "Sal\n",
      "Bit\n",
      "Mou\n",
      "Uni\n",
      "Cle\n",
      "Bal\n",
      "Cup\n",
      "Tot\n",
      "Moi\n",
      "Cat\n",
      "Qua\n",
      "Col\n",
      "Cat\n",
      "Exp\n",
      "Cer\n",
      "Cer\n",
      "Cer\n",
      "uni\n",
      "alt\n",
      "alt\n",
      "alt\n"
     ]
    }
   ],
   "source": [
    "for col_name in coffee_df.columns:\n",
    "    print(col_name[:3])"
   ]
  },
  {
   "cell_type": "code",
   "execution_count": 29,
   "id": "58b1de2d",
   "metadata": {},
   "outputs": [],
   "source": [
    "my_list = ['honda','ford','nissan']"
   ]
  },
  {
   "cell_type": "code",
   "execution_count": 30,
   "id": "780273eb",
   "metadata": {},
   "outputs": [
    {
     "data": {
      "text/plain": [
       "list"
      ]
     },
     "execution_count": 30,
     "metadata": {},
     "output_type": "execute_result"
    }
   ],
   "source": [
    "type(my_list)"
   ]
  },
  {
   "cell_type": "code",
   "execution_count": 31,
   "id": "cb7354f4",
   "metadata": {},
   "outputs": [
    {
     "data": {
      "text/plain": [
       "'nissan'"
      ]
     },
     "execution_count": 31,
     "metadata": {},
     "output_type": "execute_result"
    }
   ],
   "source": [
    "my_list[-1]"
   ]
  },
  {
   "cell_type": "code",
   "execution_count": 32,
   "id": "451cdbbf",
   "metadata": {},
   "outputs": [],
   "source": [
    "short_names = [col_name[:3] for col_name in coffee_df.columns]"
   ]
  },
  {
   "cell_type": "code",
   "execution_count": 33,
   "id": "65c53b84",
   "metadata": {},
   "outputs": [
    {
     "data": {
      "text/plain": [
       "list"
      ]
     },
     "execution_count": 33,
     "metadata": {},
     "output_type": "execute_result"
    }
   ],
   "source": [
    "type(short_names)"
   ]
  },
  {
   "cell_type": "code",
   "execution_count": 34,
   "id": "d32db9b8",
   "metadata": {},
   "outputs": [
    {
     "data": {
      "text/plain": [
       "['Spe',\n",
       " 'Own',\n",
       " 'Cou',\n",
       " 'Far',\n",
       " 'Lot',\n",
       " 'Mil',\n",
       " 'ICO',\n",
       " 'Com',\n",
       " 'Alt',\n",
       " 'Reg',\n",
       " 'Pro',\n",
       " 'Num',\n",
       " 'Bag',\n",
       " 'In.',\n",
       " 'Har',\n",
       " 'Gra',\n",
       " 'Own',\n",
       " 'Var',\n",
       " 'Pro',\n",
       " 'Fra',\n",
       " 'Fla',\n",
       " 'Aft',\n",
       " 'Sal',\n",
       " 'Bit',\n",
       " 'Mou',\n",
       " 'Uni',\n",
       " 'Cle',\n",
       " 'Bal',\n",
       " 'Cup',\n",
       " 'Tot',\n",
       " 'Moi',\n",
       " 'Cat',\n",
       " 'Qua',\n",
       " 'Col',\n",
       " 'Cat',\n",
       " 'Exp',\n",
       " 'Cer',\n",
       " 'Cer',\n",
       " 'Cer',\n",
       " 'uni',\n",
       " 'alt',\n",
       " 'alt',\n",
       " 'alt']"
      ]
     },
     "execution_count": 34,
     "metadata": {},
     "output_type": "execute_result"
    }
   ],
   "source": [
    "short_names"
   ]
  },
  {
   "cell_type": "markdown",
   "id": "678ab678",
   "metadata": {},
   "source": [
    "## Questions After Class\n",
    "\n",
    "### • will we be gathering our own data or will it all be provided for the course?\n",
    "\n",
    "### Will you always give us an answer key for assignments?\n",
    "No, but we will always give personalized feedback. \n",
    "\n",
    "### will we be cleaning data?\n",
    "\n",
    "Yes, see the notes from the first class. \n",
    "\n",
    "### Will we do correlations later?\n",
    "Yes\n",
    "\n",
    "### will we go over more imports like pandas?\n",
    "Yes, we will use other libraries.  In A2, you'll even import your own code. \n",
    "\n",
    "\n",
    "### How will datasets be used in conjunction with one another? \n",
    "We will combine data in a few weeks. \n",
    "\n",
    "### How similar of an alternative to modeling in R exists in python?\n",
    "They are both compelte languages so at some level, they can both do all the same things.  Some libraries are easier/better for specific things in one language or the other. \n",
    "\n",
    "### Will we be working with databases at all in this class?\n",
    "\n",
    "A little.  We'll pull from a database into python. \n",
    "\n",
    "### Are we going going to be using pandas a lot in this class?\n",
    "Yes.  We will use pandas for almost every single remaining class session this semester. \n",
    "\n",
    "### how do you short-cut fill variable names in jupyter\n",
    "\n",
    "Press tab to autocomplete \n",
    "\n",
    "\n",
    "### what is the most efficient way to get help on the homework ?\n",
    "Accept the assignment and make an issue or go to office hours for general questions.  For clarifying questions, you can post an issue on the course website.  \n",
    "\n",
    "If you are stuck with some progress made, upload (or push) your code first and then ask for help so we can see where you are. \n",
    "\n",
    "### is there a best or most common way to organize data for use\n",
    "\n",
    "csv\n",
    "\n",
    "### how would you laod a csv file with python if i was using visual studio instead of jupyter?\n",
    "\n",
    "All of the code we are writing will work in any python environment that has the libraries.  the Editor you use (jupyter vs VSCode vs PyCharm) does not impact what you can do with python.  Which interpreter you use can impact and jupyter does default to ipython instead of the core python kernel, but that does not change how to load data.  \n",
    "\n",
    "Remember that jupyter is not on a cloud service. YOu can use any file on your computer with a relative path."
   ]
  }
 ],
 "metadata": {
  "jupytext": {
   "text_representation": {
    "extension": ".md",
    "format_name": "myst",
    "format_version": 0.13,
    "jupytext_version": "1.14.1"
   }
  },
  "kernelspec": {
   "display_name": "Python 3",
   "language": "python",
   "name": "python3"
  },
  "language_info": {
   "codemirror_mode": {
    "name": "ipython",
    "version": 3
   },
   "file_extension": ".py",
   "mimetype": "text/x-python",
   "name": "python",
   "nbconvert_exporter": "python",
   "pygments_lexer": "ipython3",
   "version": "3.8.6"
  },
  "source_map": [
   12,
   20,
   66,
   70,
   74,
   76,
   80,
   84,
   86,
   90,
   136,
   140,
   144,
   146,
   149,
   151,
   155,
   157,
   163,
   165,
   169,
   171,
   175,
   179,
   183,
   187,
   191,
   195,
   199,
   203,
   207,
   211,
   215,
   219,
   223,
   227,
   231,
   235,
   240,
   244,
   248,
   252,
   256,
   260,
   262
  ]
 },
 "nbformat": 4,
 "nbformat_minor": 5
}