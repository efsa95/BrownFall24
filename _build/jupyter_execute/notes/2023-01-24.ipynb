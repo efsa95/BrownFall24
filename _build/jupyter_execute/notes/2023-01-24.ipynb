{
 "cells": [
  {
   "cell_type": "markdown",
   "id": "777cfc9e",
   "metadata": {},
   "source": [
    "# Welcome and Introduction \n",
    "\n",
    "## Prismia Chat\n",
    "\n",
    "We will use these to monitor your participation in class and to gather information.\n",
    "Features:\n",
    "- instructor only\n",
    "- reply to you directly\n",
    "- share responses for all\n",
    "\n",
    "\n",
    "\n",
    "## How this class will work\n",
    "\n",
    "**Participatory Live Coding**\n",
    "\n",
    "\n",
    "What is a topic you want to use data to learn about?\n",
    "\n",
    "\n",
    "[Debugging is both technical and a soft skill](https://twitter.com/b0rk/status/1403405539971842052?s=19)\n",
    "\n",
    "\n",
    "## Programming for Data Science vs other Programming\n",
    "\n",
    "The audience is different, so the form is different.\n",
    "\n",
    "In Data Science our product is more often a report than a program.\n",
    "\n",
    "````{margin}\n",
    "```{warning}\n",
    "Sometimes there will be points in the notes that were not made in class due to time or in response questions that came at the end of class.\n",
    "```\n",
    "````\n",
    "\n",
    "```{note}\n",
    "Also, in data science we are *using code* to interact with data, instead of having a plan in advance\n",
    "```\n",
    "\n",
    "So programming for data science is more like *writing* it has a narrative flow and is made to be seen more than some other programming thaat you may have done.\n",
    "\n",
    "\n",
    "\n",
    "\n",
    "## Jupyter Notebooks\n",
    "\n",
    "Launch a [`jupyter notebook` server](https://jupyter-notebook.readthedocs.io/en/stable/notebook.html):\n",
    "- on Windows, use anaconda terminal\n",
    "- on Mac/Linux, use terminal\n",
    "\n",
    "```\n",
    "cd path/to/where/you/save/notes\n",
    "jupyter notebook\n",
    "```\n",
    "\n",
    "\n",
    "### What just happened?\n",
    "- launched a local web server\n",
    "- opened a new browser tab pointed to it\n",
    "\n",
    "![a diagram depicting a terminal window launching a local web server that reports back to the terminal and serves jupyter in the browser](https://raw.githubusercontent.com/rhodyprog4ds/rhodyds/main/img/jupyter_notebook_running.svg)\n",
    "\n",
    "\n",
    "### Start a Notebook\n",
    "\n",
    "Go to the new menu in the top right and choose Python 3\n",
    "\n",
    "![a screenshot of opening a new notebook in a jupyter noteboook](https://raw.githubusercontent.com/rhodyprog4ds/rhodyds/main/img/new_notebook.png)\n",
    "\n",
    "\n",
    "Now, it starts a python kernel on the webserver\n",
    "![a diagram depicting a terminal window launching a local web server that reports back to the terminal and serves jupyter in the browser, with a python logo on the server](https://raw.githubusercontent.com/rhodyprog4ds/rhodyds/main/img/jupyter_notebook_running_python.svg)\n",
    "\n",
    "\n",
    "\n",
    "### A jupyter notebook tour\n",
    "\n",
    "A Jupyter notebook has two modes. When you first open, it is in command mode. The border is blue in command mode.\n",
    "\n",
    "![screenshot of a code cell in command mode](../img/command_mode.png)\n",
    "\n",
    "When you press a key in command mode it works like a shortcut. For example `p` shows the command search menu.\n",
    "\n",
    "![screenshot of the command menu](../img/command_menu.png)\n",
    "\n",
    "\n",
    "If you press `enter` (or `return`)  or click on the highlighted cell, which is the boxes we can type in,  it changes to edit mode. The border is green in edit mode\n",
    "\n",
    "![screenshot of a code cell in edit mode](../img/code_cell.png)\n",
    "\n",
    "There are two type of cells that we will used: code and markdown. You can change that in command mode with `y` for code and `m` for markdown or on the cell type menu at the top of the notebook.\n",
    "\n",
    "![screenshot of the cell type menu](../img/cell_type_menu.png)\n",
    "\n",
    "++\n",
    "\n",
    "This is a markdown cell\n",
    "- we can make\n",
    "- itemized lists of\n",
    "- bullet points\n",
    "\n",
    "1. and we can make nubmered\n",
    "1. lists, and not have to worry\n",
    "1. about renumbering them\n",
    "1. if we add a step in the middle later"
   ]
  },
  {
   "cell_type": "code",
   "execution_count": 1,
   "id": "50eb9b45",
   "metadata": {},
   "outputs": [
    {
     "data": {
      "text/plain": [
       "7"
      ]
     },
     "execution_count": 1,
     "metadata": {},
     "output_type": "execute_result"
    }
   ],
   "source": [
    "# this is a comment in a code cell , we can run this to see output\n",
    "3+4"
   ]
  },
  {
   "cell_type": "markdown",
   "id": "9a806dd8",
   "metadata": {},
   "source": [
    "the output here is the value returned by the python interpretter for the last line of the cell\n",
    "\n",
    "We set variables"
   ]
  },
  {
   "cell_type": "code",
   "execution_count": 2,
   "id": "62850b2c",
   "metadata": {},
   "outputs": [],
   "source": [
    "name = 'sarah'"
   ]
  },
  {
   "cell_type": "markdown",
   "id": "d938bfdf",
   "metadata": {},
   "source": [
    "The notebook displays nothing when we do an assignment, bcause it returns nothing"
   ]
  },
  {
   "cell_type": "code",
   "execution_count": 3,
   "id": "b44b1846",
   "metadata": {},
   "outputs": [
    {
     "data": {
      "text/plain": [
       "'sarah'"
      ]
     },
     "execution_count": 3,
     "metadata": {},
     "output_type": "execute_result"
    }
   ],
   "source": [
    "name"
   ]
  },
  {
   "cell_type": "markdown",
   "id": "5779d59e",
   "metadata": {},
   "source": [
    "we can put a variable there tosee it"
   ]
  },
  {
   "cell_type": "code",
   "execution_count": 4,
   "id": "ba5b4303",
   "metadata": {},
   "outputs": [
    {
     "data": {
      "text/plain": [
       "'sarah'"
      ]
     },
     "execution_count": 4,
     "metadata": {},
     "output_type": "execute_result"
    }
   ],
   "source": [
    "course = 'csc310'\n",
    "course\n",
    "name"
   ]
  },
  {
   "cell_type": "markdown",
   "id": "8018c119",
   "metadata": {},
   "source": [
    "Note that this version doesn't show use the value for `course`"
   ]
  },
  {
   "cell_type": "code",
   "execution_count": 5,
   "id": "3722f0bf",
   "metadata": {},
   "outputs": [],
   "source": [
    "name = 'Sarah'"
   ]
  },
  {
   "cell_type": "markdown",
   "id": "2dcd594d",
   "metadata": {},
   "source": [
    "```{important}\n",
    "In class, we ran these cells out of order and noticed how the value does not update unless we run the new version\n",
    "```"
   ]
  },
  {
   "cell_type": "code",
   "execution_count": 6,
   "id": "00beb040",
   "metadata": {},
   "outputs": [
    {
     "data": {
      "text/plain": [
       "'Sarah'"
      ]
     },
     "execution_count": 6,
     "metadata": {},
     "output_type": "execute_result"
    }
   ],
   "source": [
    "name"
   ]
  },
  {
   "cell_type": "code",
   "execution_count": 7,
   "id": "d629c699",
   "metadata": {},
   "outputs": [
    {
     "data": {
      "text/plain": [
       "'csc310'"
      ]
     },
     "execution_count": 7,
     "metadata": {},
     "output_type": "execute_result"
    }
   ],
   "source": [
    "course"
   ]
  },
  {
   "cell_type": "markdown",
   "id": "a7c74f24",
   "metadata": {},
   "source": [
    "### Notebook Reminders\n",
    "\n",
    "Blue border is command mode, green border is edit mode\n",
    "\n",
    "use Escape to get to command mode\n",
    "\n",
    "\n",
    "Common command mode actions:\n",
    "- m: switch cell to markdown\n",
    "- y: switch cell to code\n",
    "- a: add a cell above\n",
    "- b: add a cell below\n",
    "- c: copy cell\n",
    "- v: paste the cell\n",
    "- 0 + 0: restart kernel\n",
    "- p: command menu\n",
    "\n",
    "use enter/return to get to edit mode"
   ]
  },
  {
   "cell_type": "markdown",
   "id": "73538807",
   "metadata": {},
   "source": [
    "In code cells, we can use a python interpreter, for example as a calculator."
   ]
  },
  {
   "cell_type": "code",
   "execution_count": 8,
   "id": "e3024e14",
   "metadata": {},
   "outputs": [
    {
     "data": {
      "text/plain": [
       "10"
      ]
     },
     "execution_count": 8,
     "metadata": {},
     "output_type": "execute_result"
    }
   ],
   "source": [
    "4+6"
   ]
  },
  {
   "cell_type": "markdown",
   "id": "451e682b",
   "metadata": {},
   "source": [
    "It prints out the last line of code that it ran, even though it executes all of them"
   ]
  },
  {
   "cell_type": "code",
   "execution_count": 9,
   "id": "eb5cfe23",
   "metadata": {},
   "outputs": [
    {
     "data": {
      "text/plain": [
       "'sarahsarahsarah'"
      ]
     },
     "execution_count": 9,
     "metadata": {},
     "output_type": "execute_result"
    }
   ],
   "source": [
    "name = 'sarah'\n",
    "4+5\n",
    "name *3"
   ]
  },
  {
   "cell_type": "markdown",
   "id": "f0ca054b",
   "metadata": {},
   "source": [
    "## Getting Help in Jupyter\n",
    "\n",
    "Getting help is important in programming\n",
    "\n",
    "\n",
    "When your cursor is inside the `()` of a function if you hold the shift key and press tab it will open a popup with information. If you press tab twice, it gets bigger and three times will make a popup window. \n",
    "\n",
    "Python has a `print` function and we can use the help in jupyter to learn about\n",
    "how to use it in different ways.\n",
    "\n",
    "We can print the docstring out, as a whole instead of using the shfit + tab to view it."
   ]
  },
  {
   "cell_type": "code",
   "execution_count": 10,
   "id": "68345ff7",
   "metadata": {},
   "outputs": [
    {
     "name": "stdout",
     "output_type": "stream",
     "text": [
      "Help on built-in function print in module builtins:\n",
      "\n",
      "print(...)\n",
      "    print(value, ..., sep=' ', end='\\n', file=sys.stdout, flush=False)\n",
      "    \n",
      "    Prints the values to a stream, or to sys.stdout by default.\n",
      "    Optional keyword arguments:\n",
      "    file:  a file-like object (stream); defaults to the current sys.stdout.\n",
      "    sep:   string inserted between values, default a space.\n",
      "    end:   string appended after the last value, default a newline.\n",
      "    flush: whether to forcibly flush the stream.\n",
      "\n"
     ]
    }
   ],
   "source": [
    "help(print)"
   ]
  },
  {
   "cell_type": "markdown",
   "id": "4ec926df",
   "metadata": {},
   "source": [
    "The first line says that it can take multiple values, because it says `value, ..., sep`\n",
    "\n",
    "It also has a\n",
    "keyword argument (must be used like `argument=value` and has a default) described as  `sep=' '`.\n",
    "This means that by default it adds a space as above."
   ]
  },
  {
   "cell_type": "code",
   "execution_count": 11,
   "id": "f5efe2b2",
   "metadata": {},
   "outputs": [
    {
     "name": "stdout",
     "output_type": "stream",
     "text": [
      "sarah\n"
     ]
    }
   ],
   "source": [
    "print(name)"
   ]
  },
  {
   "cell_type": "markdown",
   "id": "6945ed25",
   "metadata": {},
   "source": [
    "How do you use the `print` function to output: `Sarah_csc310`?"
   ]
  },
  {
   "cell_type": "code",
   "execution_count": 12,
   "id": "51f8383d",
   "metadata": {},
   "outputs": [
    {
     "name": "stdout",
     "output_type": "stream",
     "text": [
      "sarah_csc310\n"
     ]
    }
   ],
   "source": [
    "print(name,course,sep='_')"
   ]
  },
  {
   "cell_type": "code",
   "execution_count": 13,
   "id": "bfe50253",
   "metadata": {},
   "outputs": [
    {
     "name": "stdout",
     "output_type": "stream",
     "text": [
      "Help on built-in function print in module builtins:\n",
      "\n",
      "print(...)\n",
      "    print(value, ..., sep=' ', end='\\n', file=sys.stdout, flush=False)\n",
      "    \n",
      "    Prints the values to a stream, or to sys.stdout by default.\n",
      "    Optional keyword arguments:\n",
      "    file:  a file-like object (stream); defaults to the current sys.stdout.\n",
      "    sep:   string inserted between values, default a space.\n",
      "    end:   string appended after the last value, default a newline.\n",
      "    flush: whether to forcibly flush the stream.\n",
      "\n"
     ]
    }
   ],
   "source": [
    "help(print)"
   ]
  },
  {
   "cell_type": "markdown",
   "id": "ef572c30",
   "metadata": {},
   "source": [
    "We can put as many values as we want there. Thats what the `...` in the function signature means"
   ]
  },
  {
   "cell_type": "code",
   "execution_count": 14,
   "id": "9ba8d15c",
   "metadata": {},
   "outputs": [
    {
     "name": "stdout",
     "output_type": "stream",
     "text": [
      "sarah_csc310_hello_bye\n"
     ]
    }
   ],
   "source": [
    "print(name,course,'hello','bye',sep='_')"
   ]
  },
  {
   "cell_type": "code",
   "execution_count": 15,
   "id": "05b8700b",
   "metadata": {},
   "outputs": [
    {
     "name": "stdout",
     "output_type": "stream",
     "text": [
      "sarah\n",
      "csc310\n",
      "hello\n",
      "bye\n"
     ]
    }
   ],
   "source": [
    "print(name,course,'hello','bye',sep='\\n')"
   ]
  },
  {
   "cell_type": "markdown",
   "id": "6a264075",
   "metadata": {},
   "source": [
    "```{important}\n",
    "Basic programming is a prereq and we will go faster soon, but the goal of this review was to understand notebooks, getting help, and reading docstrings \n",
    "```\n",
    "\n",
    "\n",
    "\n",
    "## What is Data Science?\n",
    "\n",
    "Data Science is the combination of\n",
    "![venn diagram of CS, Stats, & domain expertise with DS at the center](https://raw.githubusercontent.com/rhodyprog4ds/rhodyds/main/img/ds_venn.png)\n",
    "\n",
    "\n",
    "**statistics** is the type of math we use to make sense of data.\n",
    "Formally, a statistic is just a function of data.\n",
    "\n",
    "**computer science** is so that we can manipulate visualize and automate the inferences we make.\n",
    "\n",
    "**domain expertise** helps us have the intuition to know if what we did worked\n",
    "right. A statistic must be interpreted in context; the relevant context determines\n",
    "what they mean and which are valid.  The context will say whether automating something\n",
    "is safe or not, it can help us tell whether our code actually worked right or not.\n",
    "\n",
    "### In this class,\n",
    "\n",
    "![venn diagram of CS, Stats, & domain expertise with DS at the center, w/310 location marked](https://raw.githubusercontent.com/rhodyprog4ds/rhodyds/main/img/310_venn.png)\n",
    "\n",
    "We'll focus on the programming as our main means of studying data science, but we will\n",
    "use bits of the other parts.  In particular, you're encouraged to choose datasets that you\n",
    "have domain expertise about, or that you want to learn about.\n",
    "\n",
    "But there are many definitions.  We'll use this one, but you may come across others.\n",
    "\n",
    "### How does data science happen?\n",
    "\n",
    "The most common way to think about what doing data science means is to think of this pipeline.  It is in the perspective of the data, these are all of the things that happen to the data.\n",
    "\n",
    "![DS pipeline: collect, clean, explore, model, deploy](https://raw.githubusercontent.com/rhodyprog4ds/rhodyds/main/img/process.png)\n",
    "\n",
    "Another way to think about it\n",
    "\n",
    "![DS process: 3 major phases (prepare,build,finish) with many sub-phases. Prepare:set goals, explore, wrangle, assess; Build: Plan, analyze, engineer, optimize, execute; Finish: Deliver, revise, wrap up](https://drek4537l1klr.cloudfront.net/godsey/Figures/01fig02_alt.jpg)\n",
    "\n",
    "### how we'll cover Data Science, in depth\n",
    "\n",
    "\n",
    "![DS pipeline: collect, clean, explore, model, deploy](https://raw.githubusercontent.com/rhodyprog4ds/rhodyds/main/img/process_course.png)\n",
    "\n",
    "- *collect*: Discuss only a little; Minimal programming involved\n",
    "- *clean*: Cover the main programming techniques; Some requires domain knowledge beyond scope of course\n",
    "- *explore*: Cover the main programming techniques; Some requires domain knowledge beyond scope of course\n",
    "- *model*:Cover the main programming, basic idea of models; How to use models, not how learning algorithms work\n",
    "- *deploy*: A little bit at the end, but a lot of preparation for decision making around deployment\n",
    "\n",
    "\n",
    "### how we'll cover it in, time\n",
    "\n",
    "![DS pipeline: collect, clean, explore, model, deploy](https://raw.githubusercontent.com/rhodyprog4ds/rhodyds/main/img/process_course_time.png)\n",
    "\n",
    "We'll cover exploratory data analysis before cleaning because those tools will help us check how we've cleaned the data.\n",
    "\n",
    "\n",
    "## Prepare for the next class\n",
    "\n",
    "\n",
    "- Read carefully the syllabus section of the [course website](https://rhodyprog4ds.github.io/BrownSpring23/syllabus/about)\n",
    "- skim the rest of the [course website](https://rhodyprog4ds.github.io/BrownSpring23/)\n",
    "- Bring questions about how the class will work to class on Thursday.\n",
    "- Review [Git & GitHub Fundamentals](https://classroom.github.com/a/axURjdPb)\n",
    "- Bring git/github questions on Thursday.\n",
    "- Begin reading [chapter 1 of think like a data scientist](https://www.manning.com/books/think-like-a-data-scientist#toc) (finish in time for it to help you with the assignment due Monday night)\n",
    "\n",
    "On Thursday we will start with a review of the syllabus.\n",
    "You will answer an ungraded quiz to confirm that you understand and I'll answer\n",
    "all of your questions.\n",
    "Then we will do a little bit with Git/GitHub and start your first assignment in class.\n",
    "\n",
    "\n",
    "Think like a data scientist is written for practitioners; not as a text book for a class. It does not have a lot of prerequisite background, but the sections of it that I assign will help you build a better mental picture of what doing Data Science about.\n",
    "````{margin}\n",
    "```{tip}\n",
    "In chapter 1, focus most on sections 1.1, 1.3, and 1.7.\n",
    "```\n",
    "````\n",
    "\n",
    "\n",
    "```{warning}\n",
    "Only the first assignment will be due this fast, it's a short review and setup assignment.  It's due quickly so that we know that you have everything set up and the prerequisite material before we start new material next week.\n",
    "```"
   ]
  }
 ],
 "metadata": {
  "jupytext": {
   "text_representation": {
    "extension": ".md",
    "format_name": "myst",
    "format_version": 0.13,
    "jupytext_version": "1.14.1"
   }
  },
  "kernelspec": {
   "display_name": "Python 3",
   "language": "python",
   "name": "python3"
  },
  "language_info": {
   "codemirror_mode": {
    "name": "ipython",
    "version": 3
   },
   "file_extension": ".py",
   "mimetype": "text/x-python",
   "name": "python",
   "nbconvert_exporter": "python",
   "pygments_lexer": "ipython3",
   "version": "3.8.6"
  },
  "source_map": [
   12,
   121,
   124,
   129,
   131,
   134,
   136,
   139,
   143,
   147,
   149,
   154,
   158,
   160,
   180,
   184,
   186,
   189,
   193,
   207,
   209,
   217,
   219,
   223,
   227,
   229,
   233,
   237,
   239
  ]
 },
 "nbformat": 4,
 "nbformat_minor": 5
}