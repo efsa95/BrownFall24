{
 "cells": [
  {
   "cell_type": "markdown",
   "id": "04fe585f",
   "metadata": {},
   "source": [
    "# Welcome & What is Data Science"
   ]
  },
  {
   "cell_type": "markdown",
   "id": "7f1f2b70",
   "metadata": {},
   "source": [
    "## Prismia Chat"
   ]
  },
  {
   "cell_type": "markdown",
   "id": "b0024d06",
   "metadata": {},
   "source": [
    "We will use these to monitor your participation in class and to gather information.\n",
    "Features:\n",
    "- instructor only\n",
    "- reply to you directly\n",
    "- share responses for all"
   ]
  },
  {
   "cell_type": "markdown",
   "id": "e8e1a846",
   "metadata": {},
   "source": [
    "## How this class will work\n",
    "\n",
    "**Participatory Live Coding**"
   ]
  },
  {
   "cell_type": "markdown",
   "id": "b4be3ac3",
   "metadata": {},
   "source": [
    "What is a topic you want to use data to learn about?"
   ]
  },
  {
   "cell_type": "markdown",
   "id": "bb86b882",
   "metadata": {},
   "source": [
    "[Debugging is both technical and a soft skill](https://twitter.com/b0rk/status/1403405539971842052?s=19)"
   ]
  },
  {
   "cell_type": "markdown",
   "id": "a5dbb691",
   "metadata": {},
   "source": [
    "## Programming for Data Science vs other Programming\n",
    "\n",
    "The audience is different, so the form is different.\n",
    "\n",
    "In Data Science our product is more often a report than a program."
   ]
  },
  {
   "cell_type": "markdown",
   "id": "f3acbc62",
   "metadata": {},
   "source": [
    "Sometimes there will be points in the notes that were not made in class due to time or in response questions that came at the end of class."
   ]
  },
  {
   "cell_type": "markdown",
   "id": "dc7ad121",
   "metadata": {},
   "source": [
    "Also, in data science we are *using code* to interact with data, instead of having a plan in advance"
   ]
  },
  {
   "cell_type": "markdown",
   "id": "96b59bfc",
   "metadata": {},
   "source": [
    "So programming for data science is more like *writing* it has a narrative flow and is made to be seen more than some other programming thaat you may have done."
   ]
  },
  {
   "cell_type": "markdown",
   "id": "32849664",
   "metadata": {},
   "source": [
    "## Jupyter Lab and Jupyter notebooks\n",
    "\n",
    "Launch a [`jupyter lab` server](https://jupyterlab.readthedocs.io/en/latest/):\n",
    "- on Windows, use anaconda terminal\n",
    "- on Mac/Linux, use terminal\n",
    "- `cd path/to/where/you/save/notes`\n",
    "- enter `jupyter lab`\n",
    "\n",
    "\n",
    "\n",
    "### What just happened?\n",
    "\n",
    "\n",
    "- launched a local web server\n",
    "- opened a new browser tab pointed to it\n",
    "\n",
    "![a diagram depicting a terminal window launching a local web server that reports back to the terminal and serves jupyter in the browser](https://raw.githubusercontent.com/rhodyprog4ds/rhodyds/main/img/jupyter_notebook_running.svg)\n",
    "\n",
    "\n",
    "\n",
    "\n",
    "### A jupyter notebook tour\n",
    "\n",
    "\n",
    "\n",
    "\n",
    "A Jupyter notebook has two modes. When you first open, it is in command mode. It says the mode in the bottom right of the screen. Each bos is a cell, the highlighted cell is gray when in command mode. \n",
    "\n",
    "\n",
    "When you press a key in command mode it works like a shortcut. For example `p` shows the command search menu.\n",
    "\n",
    "If you press `enter` (or `return`)  or click on the highlighted cell, which is the boxes we can type in,  it changes to edit mode.\n",
    "\n",
    "\n",
    "There are two type of cells that we will used: code and markdown. You can change that in command mode with `y` for code and `m` for markdown or on the cell type menu at the top of the notebook.\n",
    "\n",
    "\n",
    "\n",
    "\n",
    "This is a markdown cell\n",
    "- we can make\n",
    "- itemized lists of\n",
    "- bullet points\n",
    "\n",
    "1. and we can make nubmered\n",
    "2. lists, and not have to worry\n",
    "3. about renumbering them\n",
    "4. if we add a step in the middle later"
   ]
  },
  {
   "cell_type": "code",
   "execution_count": 1,
   "id": "00b46696",
   "metadata": {},
   "outputs": [
    {
     "data": {
      "text/plain": [
       "12"
      ]
     },
     "execution_count": 1,
     "metadata": {},
     "output_type": "execute_result"
    }
   ],
   "source": [
    "# this is a comment in a code cell\n",
    "3+9"
   ]
  },
  {
   "cell_type": "markdown",
   "id": "2d5c9228",
   "metadata": {},
   "source": [
    "the output here is the value returned by the python interpretter for the last line of the cell\n",
    "\n",
    "We can set variables"
   ]
  },
  {
   "cell_type": "code",
   "execution_count": 2,
   "id": "d961b860",
   "metadata": {},
   "outputs": [],
   "source": [
    "name = 'sarah'"
   ]
  },
  {
   "cell_type": "markdown",
   "id": "f7e8cb42",
   "metadata": {},
   "source": [
    "The notebook displays nothing when we do an assignment, bcause it returns nothing\n",
    "\n",
    "\n",
    "we can put a variable there tosee it"
   ]
  },
  {
   "cell_type": "code",
   "execution_count": 3,
   "id": "4be9dd14",
   "metadata": {},
   "outputs": [
    {
     "data": {
      "text/plain": [
       "'sarah'"
      ]
     },
     "execution_count": 3,
     "metadata": {},
     "output_type": "execute_result"
    }
   ],
   "source": [
    "name"
   ]
  },
  {
   "cell_type": "code",
   "execution_count": 4,
   "id": "092d90b9",
   "metadata": {},
   "outputs": [],
   "source": [
    "name\n",
    "course = 'csc310'"
   ]
  },
  {
   "cell_type": "markdown",
   "id": "aaa7afac",
   "metadata": {},
   "source": [
    "it only does that for the last line, so this one displays nothing\n",
    "\n",
    "```{important}\n",
    "In class, we ran these cells out of order and noticed how the value does not update unless we run the new version\n",
    "```"
   ]
  },
  {
   "cell_type": "code",
   "execution_count": 5,
   "id": "ff842f5a",
   "metadata": {},
   "outputs": [
    {
     "data": {
      "text/plain": [
       "'sarahsarahsarah'"
      ]
     },
     "execution_count": 5,
     "metadata": {},
     "output_type": "execute_result"
    }
   ],
   "source": [
    "name*3"
   ]
  },
  {
   "cell_type": "markdown",
   "id": "01600e06",
   "metadata": {},
   "source": [
    "Common command mode actions:\n",
    "- m: switch cell to markdown\n",
    "- y: switch cell to code\n",
    "- a: add a cell above\n",
    "- b: add a cell below\n",
    "- c: copy cell\n",
    "- v: paste the cell\n",
    "- 0 + 0: restart kernel\n",
    "- p: command menu\n",
    "\n",
    "use enter/return to get to edit mode\n",
    "\n",
    "\n",
    "## Getting Help in Jupyter"
   ]
  },
  {
   "cell_type": "markdown",
   "id": "4e94fa9c",
   "metadata": {},
   "source": [
    "Getting help is important in programming"
   ]
  },
  {
   "cell_type": "markdown",
   "id": "4e90ebbe",
   "metadata": {},
   "source": [
    "When your cursor is inside the `()` of a function if you hold the shift key and press tab it will open a popup with information. If you press tab twice, it gets bigger and three times will make a popup window."
   ]
  },
  {
   "cell_type": "markdown",
   "id": "d07a039c",
   "metadata": {},
   "source": [
    "Python has a `print` function and we can use the help in jupyter to learn about\n",
    "how to use it in different ways."
   ]
  },
  {
   "cell_type": "code",
   "execution_count": 6,
   "id": "3ea033d3",
   "metadata": {},
   "outputs": [
    {
     "name": "stdout",
     "output_type": "stream",
     "text": [
      "sarah csc310\n"
     ]
    }
   ],
   "source": [
    "print(name,course)"
   ]
  },
  {
   "cell_type": "markdown",
   "id": "98569668",
   "metadata": {},
   "source": [
    "The first line says that it can take multiple values, because it says `args*, sep`. The `*` means multiple. \n",
    "\n",
    "\n",
    "It also has a\n",
    "keyword argument (must be used like `argument=value` and has a default) described as  `sep=' '`.\n",
    "This means that by default it adds a space as above.\n",
    "\n",
    "The help also tells us about other parameters, like the `sep` one"
   ]
  },
  {
   "cell_type": "code",
   "execution_count": 7,
   "id": "2ec2b154",
   "metadata": {},
   "outputs": [
    {
     "name": "stdout",
     "output_type": "stream",
     "text": [
      "sarah_csc310\n"
     ]
    }
   ],
   "source": [
    "print(name,course,sep=\"_\")"
   ]
  },
  {
   "cell_type": "markdown",
   "id": "dd1a74bb",
   "metadata": {},
   "source": [
    "We can print the docstring out, as a whole instead of using the shfit + tab to view it."
   ]
  },
  {
   "cell_type": "code",
   "execution_count": 8,
   "id": "a16ebd79",
   "metadata": {},
   "outputs": [
    {
     "name": "stdout",
     "output_type": "stream",
     "text": [
      "Help on built-in function print in module builtins:\n",
      "\n",
      "print(*args, sep=' ', end='\\n', file=None, flush=False)\n",
      "    Prints the values to a stream, or to sys.stdout by default.\n",
      "    \n",
      "    sep\n",
      "      string inserted between values, default a space.\n",
      "    end\n",
      "      string appended after the last value, default a newline.\n",
      "    file\n",
      "      a file-like object (stream); defaults to the current sys.stdout.\n",
      "    flush\n",
      "      whether to forcibly flush the stream.\n",
      "\n"
     ]
    }
   ],
   "source": [
    "help(print)"
   ]
  },
  {
   "cell_type": "markdown",
   "id": "81065a6d",
   "metadata": {},
   "source": [
    "This looks similar to the one above"
   ]
  },
  {
   "cell_type": "code",
   "execution_count": 9,
   "id": "4f4805c8",
   "metadata": {},
   "outputs": [
    {
     "name": "stdout",
     "output_type": "stream",
     "text": [
      "sarah_csc310\n"
     ]
    }
   ],
   "source": [
    "print(name + '_'+ course)"
   ]
  },
  {
   "cell_type": "markdown",
   "id": "e90020e1",
   "metadata": {},
   "source": [
    "but if we want to use more parameters, using that parameter becomes more helpful."
   ]
  },
  {
   "cell_type": "code",
   "execution_count": 10,
   "id": "8d1b511c",
   "metadata": {},
   "outputs": [
    {
     "name": "stdout",
     "output_type": "stream",
     "text": [
      "sarah_csc310_hello_bye\n"
     ]
    }
   ],
   "source": [
    "print(name,course,'hello',\"bye\", sep='_')"
   ]
  },
  {
   "cell_type": "markdown",
   "id": "0ce7fb80",
   "metadata": {},
   "source": [
    "Basic programming is a prereq and we will go faster soon, but the goal of this review was to understand notebooks, getting help, and reading docstrings \n",
    "\n",
    "## What is Data Science?\n",
    "\n",
    "Data Science is the combination of\n",
    "![venn diagram of CS, Stats, & domain expertise with DS at the center](https://raw.githubusercontent.com/rhodyprog4ds/rhodyds/main/img/ds_venn.png)\n",
    "\n",
    "\n",
    "**statistics** is the type of math we use to make sense of data.\n",
    "Formally, a statistic is just a function of data.\n",
    "\n",
    "**computer science** is so that we can manipulate visualize and automate the inferences we make.\n",
    "\n",
    "**domain expertise** helps us have the intuition to know if what we did worked\n",
    "right. A statistic must be interpreted in context; the relevant context determines\n",
    "what they mean and which are valid.  The context will say whether automating something\n",
    "is safe or not, it can help us tell whether our code actually worked right or not."
   ]
  },
  {
   "cell_type": "markdown",
   "id": "122dd427",
   "metadata": {},
   "source": [
    "### In this class,\n",
    "\n",
    "![venn diagram of CS, Stats, & domain expertise with DS at the center, w/310 location marked](https://raw.githubusercontent.com/rhodyprog4ds/rhodyds/main/img/310_venn.png)\n",
    "\n",
    "We'll focus on the programming as our main means of studying data science, but we will\n",
    "use bits of the other parts.  In particular, you're encouraged to choose datasets that you\n",
    "have domain expertise about, or that you want to learn about."
   ]
  },
  {
   "cell_type": "markdown",
   "id": "82305c36",
   "metadata": {},
   "source": [
    "But there are many definitions.  We'll use this one, but you may come across others."
   ]
  },
  {
   "cell_type": "markdown",
   "id": "a12d0ef5",
   "metadata": {},
   "source": [
    "### How does data science happen?\n",
    "\n",
    "The most common way to think about what doing data science means is to think of this pipeline.  It is in the perspective of the data, these are all of the things that happen to the data.\n",
    "\n",
    "![DS pipeline: collect, clean, explore, model, deploy](https://raw.githubusercontent.com/rhodyprog4ds/rhodyds/main/img/process.png)"
   ]
  },
  {
   "cell_type": "markdown",
   "id": "7e1c31af",
   "metadata": {},
   "source": [
    "Another way to think about it\n",
    "\n",
    "![DS process: 3 major phases (prepare,build,finish) with many sub-phases. Prepare:set goals, explore, wrangle, assess; Build: Plan, analyze, engineer, optimize, execute; Finish: Deliver, revise, wrap up](https://drek4537l1klr.cloudfront.net/godsey/Figures/01fig02_alt.jpg)"
   ]
  },
  {
   "cell_type": "markdown",
   "id": "7240e176",
   "metadata": {},
   "source": [
    "### how we'll cover Data Science, in depth\n",
    "\n",
    "\n",
    "![DS pipeline: collect, clean, explore, model, deploy](https://raw.githubusercontent.com/rhodyprog4ds/rhodyds/main/img/process_course.png)\n",
    "\n",
    "- *collect*: Discuss only a little; Minimal programming involved\n",
    "- *clean*: Cover the main programming techniques; Some requires domain knowledge beyond scope of course\n",
    "- *explore*: Cover the main programming techniques; Some requires domain knowledge beyond scope of course\n",
    "- *model*:Cover the main programming, basic idea of models; How to use models, not how learning algorithms work\n",
    "- *deploy*: A little bit at the end, but a lot of preparation for decision making around deployment"
   ]
  },
  {
   "cell_type": "markdown",
   "id": "813543ad",
   "metadata": {},
   "source": [
    "### how we'll cover it in, time\n",
    "\n",
    "![DS pipeline: collect, clean, explore, model, deploy](https://raw.githubusercontent.com/rhodyprog4ds/rhodyds/main/img/process_course_time.png)\n",
    "\n",
    "We'll cover exploratory data analysis before cleaning because those tools will help us check how we've cleaned the data."
   ]
  },
  {
   "cell_type": "markdown",
   "id": "3e2a348a",
   "metadata": {},
   "source": [
    "## Python Review\n",
    "\n",
    "Official source on python: \n",
    "- [pep8 official style](https://peps.python.org/pep-0008/)\n",
    "- [documentation](https://docs.python.org/3/) note that you can change which version you are using\n",
    "\n",
    "We will go quickly through these focusing on pythonic style, because the prerequisite is a programming course. \n",
    "\n",
    "## Functions"
   ]
  },
  {
   "cell_type": "code",
   "execution_count": 11,
   "id": "633ea46a",
   "metadata": {},
   "outputs": [],
   "source": [
    "def greeting(name):\n",
    "    '''\n",
    "    say hi to a person\n",
    "    \n",
    "    Parameters\n",
    "    +++++++++-\n",
    "    name : string\n",
    "        the name of the person to greet\n",
    "    '''\n",
    "    return 'hi ' + name"
   ]
  },
  {
   "cell_type": "markdown",
   "id": "6a54f520",
   "metadata": {},
   "source": [
    "A few things to note:\n",
    "- the `def` keywords starts a function\n",
    "- then the name of the function\n",
    "- parameters in `()` then `:`\n",
    "- the body is indented\n",
    "- the first thing in the body should be a docstring, denoted in `'''` which is a multiline comment\n",
    "- returning is more reliable than printing in a function"
   ]
  },
  {
   "cell_type": "markdown",
   "id": "2f8c033a",
   "metadata": {},
   "source": [
    "In python, [PEP 257](https://peps.python.org/pep-0257/) says how to write a docstring, but it is very broad.\n",
    "\n",
    "In Data Science, [numpydoc](https://numpydoc.readthedocs.io/en/latest/format.html) style docstrings are popular.\n",
    "\n",
    "- [Pandas](https://pandas.pydata.org/) [follows numpydoc](https://pandas.pydata.org/docs/development/contributing_docstring.html)\n",
    "- [Numpy uses it]\n",
    "- [Scipy](https://scipy.org/) [follows numpydoc](https://numpydoc.readthedocs.io/en/latest/format.html#docstring-standard)"
   ]
  },
  {
   "cell_type": "markdown",
   "id": "c0710bc8",
   "metadata": {},
   "source": [
    "Once the cell with the function definition is run, we can use the function"
   ]
  },
  {
   "cell_type": "code",
   "execution_count": 12,
   "id": "acfef86a",
   "metadata": {},
   "outputs": [
    {
     "data": {
      "text/plain": [
       "'hi sarah'"
      ]
     },
     "execution_count": 12,
     "metadata": {},
     "output_type": "execute_result"
    }
   ],
   "source": [
    "greeting(name)"
   ]
  },
  {
   "cell_type": "code",
   "execution_count": 13,
   "id": "fcaf17d5",
   "metadata": {},
   "outputs": [
    {
     "name": "stdout",
     "output_type": "stream",
     "text": [
      "hi surbhi\n"
     ]
    }
   ],
   "source": [
    "print(greeting('surbhi'))"
   ]
  },
  {
   "cell_type": "code",
   "execution_count": 14,
   "id": "1cc57e41",
   "metadata": {},
   "outputs": [],
   "source": [
    "assert greeting('sarah') == 'hi sarah'"
   ]
  },
  {
   "cell_type": "markdown",
   "id": "14269316",
   "metadata": {},
   "source": [
    "With a return this works to check that it does the right thing.  \n",
    "\n",
    "\n",
    "\n",
    "when assert is true, it returns nothing, it throws an error on failure"
   ]
  },
  {
   "cell_type": "markdown",
   "id": "809ca416",
   "metadata": {},
   "source": [
    "## Conditionals"
   ]
  },
  {
   "cell_type": "code",
   "execution_count": 15,
   "id": "25c48d5e",
   "metadata": {},
   "outputs": [],
   "source": [
    "def greeting2(name,formal=False):\n",
    "    '''\n",
    "    say hi to a person\n",
    "    \n",
    "    Parameters\n",
    "    +++++++++-\n",
    "    name : string\n",
    "        the name of the person to greet\n",
    "    formal: bool\n",
    "        if the greeting should formal (hello) or not (hi)\n",
    "    '''\n",
    "    if formal: \n",
    "        message = 'hello  ' + name\n",
    "    else:\n",
    "        message = 'hi ' + name\n",
    "    return message"
   ]
  },
  {
   "cell_type": "markdown",
   "id": "38744f98",
   "metadata": {},
   "source": [
    "key points in this function: \n",
    "- an `if` also has the conditional part indented\n",
    "- for a `bool` variable we can just use the variable\n",
    "- we can set a default value\n",
    "\n",
    "\n",
    "because of the default value we do not have to pass the second variable:"
   ]
  },
  {
   "cell_type": "code",
   "execution_count": 16,
   "id": "d69736fc",
   "metadata": {},
   "outputs": [
    {
     "data": {
      "text/plain": [
       "'hi sarah'"
      ]
     },
     "execution_count": 16,
     "metadata": {},
     "output_type": "execute_result"
    }
   ],
   "source": [
    "greeting2(name)"
   ]
  },
  {
   "cell_type": "code",
   "execution_count": 17,
   "id": "202bab27",
   "metadata": {},
   "outputs": [
    {
     "data": {
      "text/plain": [
       "'hello  sarah'"
      ]
     },
     "execution_count": 17,
     "metadata": {},
     "output_type": "execute_result"
    }
   ],
   "source": [
    "greeting2(name,True)"
   ]
  },
  {
   "cell_type": "code",
   "execution_count": null,
   "id": "7a3dc5f2",
   "metadata": {},
   "outputs": [],
   "source": []
  },
  {
   "cell_type": "markdown",
   "id": "b1044c61",
   "metadata": {},
   "source": [
    "## Hints \n",
    "\n",
    "Reading [chapter 1 of think like a data scientist](https://www.manning.com/books/think-like-a-data-scientist#toc) will help you with the data science definition part of the assignment. \n",
    "\n",
    "\n",
    "Think like a data scientist is written for practitioners; not as a text book for a class. It does not have a lot of prerequisite background, but the sections of it that I assign will help you build a better mental picture of what doing Data Science about."
   ]
  },
  {
   "cell_type": "markdown",
   "id": "bc1d0044",
   "metadata": {},
   "source": [
    "Only the first assignment will be due this fast, it's a short review and setup assignment.  It's due quickly so that we know that you have everything set up and the prerequisite material before we start new material next week."
   ]
  }
 ],
 "metadata": {
  "jupytext": {
   "text_representation": {
    "extension": ".md",
    "format_name": "myst",
    "format_version": 0.13,
    "jupytext_version": "1.15.1"
   }
  },
  "kernelspec": {
   "display_name": "Python 3 (ipykernel)",
   "language": "python",
   "name": "python3"
  },
  "language_info": {
   "codemirror_mode": {
    "name": "ipython",
    "version": 3
   },
   "file_extension": ".py",
   "mimetype": "text/x-python",
   "name": "python",
   "nbconvert_exporter": "python",
   "pygments_lexer": "ipython3",
   "version": "3.11.4"
  },
  "source_map": [
   12,
   17,
   21,
   30,
   38,
   42,
   47,
   56,
   60,
   66,
   74,
   128,
   131,
   137,
   139,
   146,
   150,
   153,
   161,
   163,
   180,
   185,
   191,
   198,
   200,
   210,
   212,
   215,
   217,
   220,
   222,
   225,
   227,
   247,
   257,
   262,
   271,
   278,
   293,
   304,
   318,
   329,
   340,
   352,
   362,
   366,
   370,
   372,
   380,
   384,
   401,
   410,
   414,
   418,
   420,
   430
  ]
 },
 "nbformat": 4,
 "nbformat_minor": 5
}