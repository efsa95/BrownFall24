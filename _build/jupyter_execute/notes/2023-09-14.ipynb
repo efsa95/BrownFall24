{
 "cells": [
  {
   "cell_type": "markdown",
   "id": "9c5326f2",
   "metadata": {},
   "source": [
    "# DataFrames from other sources"
   ]
  },
  {
   "cell_type": "code",
   "execution_count": 1,
   "id": "b9c9e578",
   "metadata": {},
   "outputs": [
    {
     "data": {
      "text/plain": [
       "'pandas'"
      ]
     },
     "execution_count": 1,
     "metadata": {},
     "output_type": "execute_result"
    }
   ],
   "source": [
    "topics = ['what is data science', 'jupyter', 'conditional','functions', 'lists', 'dictionaries','pandas' ]\n",
    "topics[-1]"
   ]
  },
  {
   "cell_type": "markdown",
   "id": "c207f89b",
   "metadata": {},
   "source": [
    "Python reserve words turn green:"
   ]
  },
  {
   "cell_type": "code",
   "execution_count": 2,
   "id": "a96dc408",
   "metadata": {},
   "outputs": [
    {
     "data": {
      "text/plain": [
       "<function print(*args, sep=' ', end='\\n', file=None, flush=False)>"
      ]
     },
     "execution_count": 2,
     "metadata": {},
     "output_type": "execute_result"
    }
   ],
   "source": [
    "print"
   ]
  },
  {
   "cell_type": "code",
   "execution_count": 3,
   "id": "e2891fc9",
   "metadata": {},
   "outputs": [
    {
     "ename": "SyntaxError",
     "evalue": "invalid syntax (1102136943.py, line 1)",
     "output_type": "error",
     "traceback": [
      "\u001b[0;36m  Cell \u001b[0;32mIn[3], line 1\u001b[0;36m\u001b[0m\n\u001b[0;31m    def\u001b[0m\n\u001b[0m       ^\u001b[0m\n\u001b[0;31mSyntaxError\u001b[0m\u001b[0;31m:\u001b[0m invalid syntax\n"
     ]
    }
   ],
   "source": [
    "def"
   ]
  },
  {
   "cell_type": "code",
   "execution_count": 4,
   "id": "f3464d6a",
   "metadata": {},
   "outputs": [],
   "source": [
    "a = [char for char in 'abcde']\n",
    "b =  {char:i for i, char in enumerate('abcde')}\n",
    "c = ('a','b','c','d','e')\n",
    "d = 'a b c d e'.split(' ')"
   ]
  },
  {
   "cell_type": "code",
   "execution_count": 5,
   "id": "8d133983",
   "metadata": {},
   "outputs": [
    {
     "data": {
      "text/plain": [
       "(list, dict, tuple, list)"
      ]
     },
     "execution_count": 5,
     "metadata": {},
     "output_type": "execute_result"
    }
   ],
   "source": [
    "type(a), type(b), type(c), type(d)"
   ]
  },
  {
   "cell_type": "code",
   "execution_count": 6,
   "id": "2998ce21",
   "metadata": {},
   "outputs": [
    {
     "data": {
      "text/plain": [
       "{'a': 0, 'b': 1, 'c': 2, 'd': 3, 'e': 4}"
      ]
     },
     "execution_count": 6,
     "metadata": {},
     "output_type": "execute_result"
    }
   ],
   "source": [
    "b"
   ]
  },
  {
   "cell_type": "code",
   "execution_count": 7,
   "id": "6f76b0ad",
   "metadata": {},
   "outputs": [
    {
     "data": {
      "text/plain": [
       "['a', 'b', 'c', 'd', 'e']"
      ]
     },
     "execution_count": 7,
     "metadata": {},
     "output_type": "execute_result"
    }
   ],
   "source": [
    "a"
   ]
  },
  {
   "cell_type": "code",
   "execution_count": 8,
   "id": "35dc5d10",
   "metadata": {},
   "outputs": [
    {
     "data": {
      "text/plain": [
       "'a'"
      ]
     },
     "execution_count": 8,
     "metadata": {},
     "output_type": "execute_result"
    }
   ],
   "source": [
    "a[0]"
   ]
  },
  {
   "cell_type": "code",
   "execution_count": 9,
   "id": "8baaa846",
   "metadata": {},
   "outputs": [
    {
     "data": {
      "text/plain": [
       "1"
      ]
     },
     "execution_count": 9,
     "metadata": {},
     "output_type": "execute_result"
    }
   ],
   "source": [
    "b['b']"
   ]
  },
  {
   "cell_type": "code",
   "execution_count": 10,
   "id": "5a385d0a",
   "metadata": {},
   "outputs": [],
   "source": [
    "a_long = []\n",
    "for char in 'abcde':\n",
    "    a_long.append(char)"
   ]
  },
  {
   "cell_type": "code",
   "execution_count": 11,
   "id": "5a6e3807",
   "metadata": {},
   "outputs": [
    {
     "data": {
      "text/plain": [
       "['a', 'b', 'c', 'd', 'e']"
      ]
     },
     "execution_count": 11,
     "metadata": {},
     "output_type": "execute_result"
    }
   ],
   "source": [
    "a_long"
   ]
  },
  {
   "cell_type": "code",
   "execution_count": 12,
   "id": "656ff7e9",
   "metadata": {},
   "outputs": [
    {
     "data": {
      "text/plain": [
       "enumerate"
      ]
     },
     "execution_count": 12,
     "metadata": {},
     "output_type": "execute_result"
    }
   ],
   "source": [
    "enumerate"
   ]
  },
  {
   "cell_type": "markdown",
   "id": "0e1f8372",
   "metadata": {},
   "source": [
    "## Read DataFrames from HTML"
   ]
  },
  {
   "cell_type": "code",
   "execution_count": 13,
   "id": "2a7b89a6",
   "metadata": {},
   "outputs": [],
   "source": [
    "course_comms_url = 'https://rhodyprog4ds.github.io/BrownFall23/syllabus/communication.html'"
   ]
  },
  {
   "cell_type": "code",
   "execution_count": 14,
   "id": "c98caa2f",
   "metadata": {},
   "outputs": [],
   "source": [
    "import pandas as pd"
   ]
  },
  {
   "cell_type": "code",
   "execution_count": 15,
   "id": "eb66397f",
   "metadata": {},
   "outputs": [
    {
     "data": {
      "text/plain": [
       "[      Day      Time Location       Host\n",
       " 0     TBD       TBD     Zoom  Dr. Brown\n",
       " 1  Monday  12pm-2pm     Zoom       Mark,\n",
       "                                                usage platform  \\\n",
       " 0                                           in class  prismia   \n",
       " 1                                           any time  prismia   \n",
       " 2               private questions to your assignment   github   \n",
       " 3         for general questions that can help others   github   \n",
       " 4  to share resources or ask general questions in...   github   \n",
       " 5       matters that don't fit into another category   e-mail   \n",
       " \n",
       "                            area  \\\n",
       " 0                          chat   \n",
       " 1           download transcript   \n",
       " 2      issue on assignment repo   \n",
       " 3       issue on course website   \n",
       " 4  discussion on community repo   \n",
       " 5        to brownsarahm@uri.edu   \n",
       " \n",
       "                                                 note  \n",
       " 0  outside of class time this is not monitored cl...  \n",
       " 1  use after class to get preliminary notes eg if...  \n",
       " 2                              eg bugs in your code\"  \n",
       " 3  eg what the instructions of an assignment mean...  \n",
       " 4                    include links in your portfolio  \n",
       " 5  remember to include `[CSC310]` or `[DSP310]` (...  ]"
      ]
     },
     "execution_count": 15,
     "metadata": {},
     "output_type": "execute_result"
    }
   ],
   "source": [
    "pd.read_html(course_comms_url)"
   ]
  },
  {
   "cell_type": "code",
   "execution_count": 16,
   "id": "937086d3",
   "metadata": {},
   "outputs": [],
   "source": [
    "comm_df_list = pd.read_html(course_comms_url)"
   ]
  },
  {
   "cell_type": "code",
   "execution_count": 17,
   "id": "6cd06f64",
   "metadata": {},
   "outputs": [
    {
     "data": {
      "text/plain": [
       "list"
      ]
     },
     "execution_count": 17,
     "metadata": {},
     "output_type": "execute_result"
    }
   ],
   "source": [
    "type(comm_df_list)"
   ]
  },
  {
   "cell_type": "code",
   "execution_count": 18,
   "id": "af9c6f44",
   "metadata": {},
   "outputs": [
    {
     "data": {
      "text/plain": [
       "pandas.core.frame.DataFrame"
      ]
     },
     "execution_count": 18,
     "metadata": {},
     "output_type": "execute_result"
    }
   ],
   "source": [
    "type(comm_df_list[0])"
   ]
  },
  {
   "cell_type": "code",
   "execution_count": 19,
   "id": "e457ccb2",
   "metadata": {},
   "outputs": [
    {
     "data": {
      "text/plain": [
       "(2, 4)"
      ]
     },
     "execution_count": 19,
     "metadata": {},
     "output_type": "execute_result"
    }
   ],
   "source": [
    "comm_df_list[0].shape"
   ]
  },
  {
   "cell_type": "code",
   "execution_count": 20,
   "id": "30479f29",
   "metadata": {},
   "outputs": [],
   "source": [
    "achievements_url = 'https://rhodyprog4ds.github.io/BrownFall23/syllabus/achievements.html'"
   ]
  },
  {
   "cell_type": "markdown",
   "id": "a3e34254",
   "metadata": {},
   "source": [
    "Let's make a list of the shapes of all of the tables on that page"
   ]
  },
  {
   "cell_type": "code",
   "execution_count": 21,
   "id": "700557c2",
   "metadata": {},
   "outputs": [
    {
     "data": {
      "text/plain": [
       "[(14, 3), (15, 5), (15, 15), (15, 6)]"
      ]
     },
     "execution_count": 21,
     "metadata": {},
     "output_type": "execute_result"
    }
   ],
   "source": [
    "shape_list_comp =[df.shape for df in pd.read_html(achievements_url)]\n",
    "shape_list_comp"
   ]
  },
  {
   "cell_type": "code",
   "execution_count": 22,
   "id": "2490c04e",
   "metadata": {},
   "outputs": [],
   "source": [
    "shape_list = []\n",
    "for df in pd.read_html(achievements_url):\n",
    "    shape_list.append(df.shape)"
   ]
  },
  {
   "cell_type": "code",
   "execution_count": 23,
   "id": "a1efcb3c",
   "metadata": {},
   "outputs": [
    {
     "data": {
      "text/plain": [
       "list"
      ]
     },
     "execution_count": 23,
     "metadata": {},
     "output_type": "execute_result"
    }
   ],
   "source": [
    "type([1,2,3])"
   ]
  },
  {
   "cell_type": "code",
   "execution_count": 24,
   "id": "1eaa56b8",
   "metadata": {},
   "outputs": [],
   "source": [
    "coffee_data_url = 'https://raw.githubusercontent.com/jldbc/coffee-quality-database/master/data/robusta_data_cleaned.csv'"
   ]
  },
  {
   "cell_type": "code",
   "execution_count": 25,
   "id": "6dc2aee9",
   "metadata": {},
   "outputs": [],
   "source": [
    "coffee_df = pd.read_csv(coffee_data_url,index_col=0)"
   ]
  },
  {
   "cell_type": "code",
   "execution_count": 26,
   "id": "2dbd09c5",
   "metadata": {},
   "outputs": [
    {
     "data": {
      "text/plain": [
       "(28, 43)"
      ]
     },
     "execution_count": 26,
     "metadata": {},
     "output_type": "execute_result"
    }
   ],
   "source": [
    "coffee_df.shape"
   ]
  },
  {
   "cell_type": "code",
   "execution_count": 27,
   "id": "5f9830b6",
   "metadata": {},
   "outputs": [
    {
     "data": {
      "text/html": [
       "<div>\n",
       "<style scoped>\n",
       "    .dataframe tbody tr th:only-of-type {\n",
       "        vertical-align: middle;\n",
       "    }\n",
       "\n",
       "    .dataframe tbody tr th {\n",
       "        vertical-align: top;\n",
       "    }\n",
       "\n",
       "    .dataframe thead th {\n",
       "        text-align: right;\n",
       "    }\n",
       "</style>\n",
       "<table border=\"1\" class=\"dataframe\">\n",
       "  <thead>\n",
       "    <tr style=\"text-align: right;\">\n",
       "      <th></th>\n",
       "      <th>Species</th>\n",
       "      <th>Owner</th>\n",
       "      <th>Country.of.Origin</th>\n",
       "      <th>Farm.Name</th>\n",
       "      <th>Lot.Number</th>\n",
       "      <th>Mill</th>\n",
       "      <th>ICO.Number</th>\n",
       "      <th>Company</th>\n",
       "      <th>Altitude</th>\n",
       "      <th>Region</th>\n",
       "      <th>...</th>\n",
       "      <th>Color</th>\n",
       "      <th>Category.Two.Defects</th>\n",
       "      <th>Expiration</th>\n",
       "      <th>Certification.Body</th>\n",
       "      <th>Certification.Address</th>\n",
       "      <th>Certification.Contact</th>\n",
       "      <th>unit_of_measurement</th>\n",
       "      <th>altitude_low_meters</th>\n",
       "      <th>altitude_high_meters</th>\n",
       "      <th>altitude_mean_meters</th>\n",
       "    </tr>\n",
       "  </thead>\n",
       "  <tbody>\n",
       "    <tr>\n",
       "      <th>1</th>\n",
       "      <td>Robusta</td>\n",
       "      <td>ankole coffee producers coop</td>\n",
       "      <td>Uganda</td>\n",
       "      <td>kyangundu cooperative society</td>\n",
       "      <td>NaN</td>\n",
       "      <td>ankole coffee producers</td>\n",
       "      <td>0</td>\n",
       "      <td>ankole coffee producers coop</td>\n",
       "      <td>1488</td>\n",
       "      <td>sheema south western</td>\n",
       "      <td>...</td>\n",
       "      <td>Green</td>\n",
       "      <td>2</td>\n",
       "      <td>June 26th, 2015</td>\n",
       "      <td>Uganda Coffee Development Authority</td>\n",
       "      <td>e36d0270932c3b657e96b7b0278dfd85dc0fe743</td>\n",
       "      <td>03077a1c6bac60e6f514691634a7f6eb5c85aae8</td>\n",
       "      <td>m</td>\n",
       "      <td>1488.0</td>\n",
       "      <td>1488.0</td>\n",
       "      <td>1488.0</td>\n",
       "    </tr>\n",
       "  </tbody>\n",
       "</table>\n",
       "<p>1 rows × 43 columns</p>\n",
       "</div>"
      ],
      "text/plain": [
       "   Species                         Owner Country.of.Origin  \\\n",
       "1  Robusta  ankole coffee producers coop            Uganda   \n",
       "\n",
       "                       Farm.Name Lot.Number                     Mill  \\\n",
       "1  kyangundu cooperative society        NaN  ankole coffee producers   \n",
       "\n",
       "  ICO.Number                       Company Altitude                Region  \\\n",
       "1          0  ankole coffee producers coop     1488  sheema south western   \n",
       "\n",
       "   ...  Color  Category.Two.Defects       Expiration  \\\n",
       "1  ...  Green                     2  June 26th, 2015   \n",
       "\n",
       "                    Certification.Body  \\\n",
       "1  Uganda Coffee Development Authority   \n",
       "\n",
       "                      Certification.Address  \\\n",
       "1  e36d0270932c3b657e96b7b0278dfd85dc0fe743   \n",
       "\n",
       "                      Certification.Contact unit_of_measurement  \\\n",
       "1  03077a1c6bac60e6f514691634a7f6eb5c85aae8                   m   \n",
       "\n",
       "  altitude_low_meters altitude_high_meters  altitude_mean_meters  \n",
       "1              1488.0               1488.0                1488.0  \n",
       "\n",
       "[1 rows x 43 columns]"
      ]
     },
     "execution_count": 27,
     "metadata": {},
     "output_type": "execute_result"
    }
   ],
   "source": [
    "coffee_df.head(1)"
   ]
  },
  {
   "cell_type": "code",
   "execution_count": 28,
   "id": "ef2533bc",
   "metadata": {},
   "outputs": [
    {
     "data": {
      "text/html": [
       "<div>\n",
       "<style scoped>\n",
       "    .dataframe tbody tr th:only-of-type {\n",
       "        vertical-align: middle;\n",
       "    }\n",
       "\n",
       "    .dataframe tbody tr th {\n",
       "        vertical-align: top;\n",
       "    }\n",
       "\n",
       "    .dataframe thead th {\n",
       "        text-align: right;\n",
       "    }\n",
       "</style>\n",
       "<table border=\"1\" class=\"dataframe\">\n",
       "  <thead>\n",
       "    <tr style=\"text-align: right;\">\n",
       "      <th></th>\n",
       "      <th>Species</th>\n",
       "      <th>Owner</th>\n",
       "      <th>Country.of.Origin</th>\n",
       "      <th>Farm.Name</th>\n",
       "      <th>Lot.Number</th>\n",
       "      <th>Mill</th>\n",
       "      <th>ICO.Number</th>\n",
       "      <th>Company</th>\n",
       "      <th>Altitude</th>\n",
       "      <th>Region</th>\n",
       "      <th>...</th>\n",
       "      <th>Color</th>\n",
       "      <th>Category.Two.Defects</th>\n",
       "      <th>Expiration</th>\n",
       "      <th>Certification.Body</th>\n",
       "      <th>Certification.Address</th>\n",
       "      <th>Certification.Contact</th>\n",
       "      <th>unit_of_measurement</th>\n",
       "      <th>altitude_low_meters</th>\n",
       "      <th>altitude_high_meters</th>\n",
       "      <th>altitude_mean_meters</th>\n",
       "    </tr>\n",
       "  </thead>\n",
       "  <tbody>\n",
       "    <tr>\n",
       "      <th>14</th>\n",
       "      <td>Robusta</td>\n",
       "      <td>kasozi coffee farmers association</td>\n",
       "      <td>Uganda</td>\n",
       "      <td>kasozi coffee farmers</td>\n",
       "      <td>NaN</td>\n",
       "      <td>NaN</td>\n",
       "      <td>0</td>\n",
       "      <td>kasozi coffee farmers association</td>\n",
       "      <td>1367</td>\n",
       "      <td>eastern</td>\n",
       "      <td>...</td>\n",
       "      <td>Green</td>\n",
       "      <td>7</td>\n",
       "      <td>July 14th, 2015</td>\n",
       "      <td>Uganda Coffee Development Authority</td>\n",
       "      <td>e36d0270932c3b657e96b7b0278dfd85dc0fe743</td>\n",
       "      <td>03077a1c6bac60e6f514691634a7f6eb5c85aae8</td>\n",
       "      <td>m</td>\n",
       "      <td>1367.0</td>\n",
       "      <td>1367.0</td>\n",
       "      <td>1367.0</td>\n",
       "    </tr>\n",
       "    <tr>\n",
       "      <th>15</th>\n",
       "      <td>Robusta</td>\n",
       "      <td>ankole coffee producers coop</td>\n",
       "      <td>Uganda</td>\n",
       "      <td>kyangundu coop society</td>\n",
       "      <td>NaN</td>\n",
       "      <td>ankole coffee producers coop union ltd</td>\n",
       "      <td>0</td>\n",
       "      <td>ankole coffee producers coop</td>\n",
       "      <td>1488</td>\n",
       "      <td>south western</td>\n",
       "      <td>...</td>\n",
       "      <td>Green</td>\n",
       "      <td>2</td>\n",
       "      <td>July 14th, 2015</td>\n",
       "      <td>Uganda Coffee Development Authority</td>\n",
       "      <td>e36d0270932c3b657e96b7b0278dfd85dc0fe743</td>\n",
       "      <td>03077a1c6bac60e6f514691634a7f6eb5c85aae8</td>\n",
       "      <td>m</td>\n",
       "      <td>1488.0</td>\n",
       "      <td>1488.0</td>\n",
       "      <td>1488.0</td>\n",
       "    </tr>\n",
       "    <tr>\n",
       "      <th>25</th>\n",
       "      <td>Robusta</td>\n",
       "      <td>luis robles</td>\n",
       "      <td>Ecuador</td>\n",
       "      <td>robustasa</td>\n",
       "      <td>Lavado 3</td>\n",
       "      <td>own laboratory</td>\n",
       "      <td>NaN</td>\n",
       "      <td>robustasa</td>\n",
       "      <td>40</td>\n",
       "      <td>san juan, playas</td>\n",
       "      <td>...</td>\n",
       "      <td>Blue-Green</td>\n",
       "      <td>0</td>\n",
       "      <td>January 18th, 2017</td>\n",
       "      <td>Specialty Coffee Association</td>\n",
       "      <td>ff7c18ad303d4b603ac3f8cff7e611ffc735e720</td>\n",
       "      <td>352d0cf7f3e9be14dad7df644ad65efc27605ae2</td>\n",
       "      <td>m</td>\n",
       "      <td>40.0</td>\n",
       "      <td>40.0</td>\n",
       "      <td>40.0</td>\n",
       "    </tr>\n",
       "  </tbody>\n",
       "</table>\n",
       "<p>3 rows × 43 columns</p>\n",
       "</div>"
      ],
      "text/plain": [
       "    Species                              Owner Country.of.Origin  \\\n",
       "14  Robusta  kasozi coffee farmers association            Uganda   \n",
       "15  Robusta       ankole coffee producers coop            Uganda   \n",
       "25  Robusta                        luis robles           Ecuador   \n",
       "\n",
       "                 Farm.Name Lot.Number                                    Mill  \\\n",
       "14   kasozi coffee farmers        NaN                                     NaN   \n",
       "15  kyangundu coop society        NaN  ankole coffee producers coop union ltd   \n",
       "25               robustasa   Lavado 3                          own laboratory   \n",
       "\n",
       "   ICO.Number                            Company Altitude            Region  \\\n",
       "14          0  kasozi coffee farmers association     1367           eastern   \n",
       "15          0       ankole coffee producers coop     1488     south western   \n",
       "25        NaN                          robustasa       40  san juan, playas   \n",
       "\n",
       "    ...       Color  Category.Two.Defects          Expiration  \\\n",
       "14  ...       Green                     7     July 14th, 2015   \n",
       "15  ...       Green                     2     July 14th, 2015   \n",
       "25  ...  Blue-Green                     0  January 18th, 2017   \n",
       "\n",
       "                     Certification.Body  \\\n",
       "14  Uganda Coffee Development Authority   \n",
       "15  Uganda Coffee Development Authority   \n",
       "25         Specialty Coffee Association   \n",
       "\n",
       "                       Certification.Address  \\\n",
       "14  e36d0270932c3b657e96b7b0278dfd85dc0fe743   \n",
       "15  e36d0270932c3b657e96b7b0278dfd85dc0fe743   \n",
       "25  ff7c18ad303d4b603ac3f8cff7e611ffc735e720   \n",
       "\n",
       "                       Certification.Contact unit_of_measurement  \\\n",
       "14  03077a1c6bac60e6f514691634a7f6eb5c85aae8                   m   \n",
       "15  03077a1c6bac60e6f514691634a7f6eb5c85aae8                   m   \n",
       "25  352d0cf7f3e9be14dad7df644ad65efc27605ae2                   m   \n",
       "\n",
       "   altitude_low_meters altitude_high_meters  altitude_mean_meters  \n",
       "14              1367.0               1367.0                1367.0  \n",
       "15              1488.0               1488.0                1488.0  \n",
       "25                40.0                 40.0                  40.0  \n",
       "\n",
       "[3 rows x 43 columns]"
      ]
     },
     "execution_count": 28,
     "metadata": {},
     "output_type": "execute_result"
    }
   ],
   "source": [
    "coffee_df.sample(3)"
   ]
  },
  {
   "cell_type": "code",
   "execution_count": 29,
   "id": "b6cbe70f",
   "metadata": {},
   "outputs": [
    {
     "data": {
      "text/plain": [
       "Index(['Species', 'Owner', 'Country.of.Origin', 'Farm.Name', 'Lot.Number',\n",
       "       'Mill', 'ICO.Number', 'Company', 'Altitude', 'Region', 'Producer',\n",
       "       'Number.of.Bags', 'Bag.Weight', 'In.Country.Partner', 'Harvest.Year',\n",
       "       'Grading.Date', 'Owner.1', 'Variety', 'Processing.Method',\n",
       "       'Fragrance...Aroma', 'Flavor', 'Aftertaste', 'Salt...Acid',\n",
       "       'Bitter...Sweet', 'Mouthfeel', 'Uniform.Cup', 'Clean.Cup', 'Balance',\n",
       "       'Cupper.Points', 'Total.Cup.Points', 'Moisture', 'Category.One.Defects',\n",
       "       'Quakers', 'Color', 'Category.Two.Defects', 'Expiration',\n",
       "       'Certification.Body', 'Certification.Address', 'Certification.Contact',\n",
       "       'unit_of_measurement', 'altitude_low_meters', 'altitude_high_meters',\n",
       "       'altitude_mean_meters'],\n",
       "      dtype='object')"
      ]
     },
     "execution_count": 29,
     "metadata": {},
     "output_type": "execute_result"
    }
   ],
   "source": [
    "coffee_df.columns"
   ]
  },
  {
   "cell_type": "code",
   "execution_count": 30,
   "id": "65c4c46f",
   "metadata": {},
   "outputs": [
    {
     "data": {
      "text/html": [
       "<div>\n",
       "<style scoped>\n",
       "    .dataframe tbody tr th:only-of-type {\n",
       "        vertical-align: middle;\n",
       "    }\n",
       "\n",
       "    .dataframe tbody tr th {\n",
       "        vertical-align: top;\n",
       "    }\n",
       "\n",
       "    .dataframe thead th {\n",
       "        text-align: right;\n",
       "    }\n",
       "</style>\n",
       "<table border=\"1\" class=\"dataframe\">\n",
       "  <thead>\n",
       "    <tr style=\"text-align: right;\">\n",
       "      <th></th>\n",
       "      <th>Owner</th>\n",
       "      <th>Country.of.Origin</th>\n",
       "    </tr>\n",
       "  </thead>\n",
       "  <tbody>\n",
       "    <tr>\n",
       "      <th>1</th>\n",
       "      <td>ankole coffee producers coop</td>\n",
       "      <td>Uganda</td>\n",
       "    </tr>\n",
       "  </tbody>\n",
       "</table>\n",
       "</div>"
      ],
      "text/plain": [
       "                          Owner Country.of.Origin\n",
       "1  ankole coffee producers coop            Uganda"
      ]
     },
     "execution_count": 30,
     "metadata": {},
     "output_type": "execute_result"
    }
   ],
   "source": [
    "columns_of_interest = ['Owner', 'Country.of.Origin']\n",
    "coffee_df[columns_of_interest].head(1)"
   ]
  },
  {
   "cell_type": "code",
   "execution_count": 31,
   "id": "f639e8c6",
   "metadata": {},
   "outputs": [
    {
     "ename": "KeyError",
     "evalue": "('Owner', 'Country.of.Origin')",
     "output_type": "error",
     "traceback": [
      "\u001b[0;31m---------------------------------------------------------------------------\u001b[0m",
      "\u001b[0;31mKeyError\u001b[0m                                  Traceback (most recent call last)",
      "File \u001b[0;32m~/anaconda3/lib/python3.11/site-packages/pandas/core/indexes/base.py:3653\u001b[0m, in \u001b[0;36mIndex.get_loc\u001b[0;34m(self, key)\u001b[0m\n\u001b[1;32m   3652\u001b[0m \u001b[38;5;28;01mtry\u001b[39;00m:\n\u001b[0;32m-> 3653\u001b[0m     \u001b[38;5;28;01mreturn\u001b[39;00m \u001b[38;5;28mself\u001b[39m\u001b[38;5;241m.\u001b[39m_engine\u001b[38;5;241m.\u001b[39mget_loc(casted_key)\n\u001b[1;32m   3654\u001b[0m \u001b[38;5;28;01mexcept\u001b[39;00m \u001b[38;5;167;01mKeyError\u001b[39;00m \u001b[38;5;28;01mas\u001b[39;00m err:\n",
      "File \u001b[0;32m~/anaconda3/lib/python3.11/site-packages/pandas/_libs/index.pyx:147\u001b[0m, in \u001b[0;36mpandas._libs.index.IndexEngine.get_loc\u001b[0;34m()\u001b[0m\n",
      "File \u001b[0;32m~/anaconda3/lib/python3.11/site-packages/pandas/_libs/index.pyx:176\u001b[0m, in \u001b[0;36mpandas._libs.index.IndexEngine.get_loc\u001b[0;34m()\u001b[0m\n",
      "File \u001b[0;32mpandas/_libs/hashtable_class_helper.pxi:7080\u001b[0m, in \u001b[0;36mpandas._libs.hashtable.PyObjectHashTable.get_item\u001b[0;34m()\u001b[0m\n",
      "File \u001b[0;32mpandas/_libs/hashtable_class_helper.pxi:7088\u001b[0m, in \u001b[0;36mpandas._libs.hashtable.PyObjectHashTable.get_item\u001b[0;34m()\u001b[0m\n",
      "\u001b[0;31mKeyError\u001b[0m: ('Owner', 'Country.of.Origin')",
      "\nThe above exception was the direct cause of the following exception:\n",
      "\u001b[0;31mKeyError\u001b[0m                                  Traceback (most recent call last)",
      "Cell \u001b[0;32mIn[31], line 1\u001b[0m\n\u001b[0;32m----> 1\u001b[0m coffee_df[\u001b[38;5;124m'\u001b[39m\u001b[38;5;124mOwner\u001b[39m\u001b[38;5;124m'\u001b[39m, \u001b[38;5;124m'\u001b[39m\u001b[38;5;124mCountry.of.Origin\u001b[39m\u001b[38;5;124m'\u001b[39m]\n",
      "File \u001b[0;32m~/anaconda3/lib/python3.11/site-packages/pandas/core/frame.py:3761\u001b[0m, in \u001b[0;36mDataFrame.__getitem__\u001b[0;34m(self, key)\u001b[0m\n\u001b[1;32m   3759\u001b[0m \u001b[38;5;28;01mif\u001b[39;00m \u001b[38;5;28mself\u001b[39m\u001b[38;5;241m.\u001b[39mcolumns\u001b[38;5;241m.\u001b[39mnlevels \u001b[38;5;241m>\u001b[39m \u001b[38;5;241m1\u001b[39m:\n\u001b[1;32m   3760\u001b[0m     \u001b[38;5;28;01mreturn\u001b[39;00m \u001b[38;5;28mself\u001b[39m\u001b[38;5;241m.\u001b[39m_getitem_multilevel(key)\n\u001b[0;32m-> 3761\u001b[0m indexer \u001b[38;5;241m=\u001b[39m \u001b[38;5;28mself\u001b[39m\u001b[38;5;241m.\u001b[39mcolumns\u001b[38;5;241m.\u001b[39mget_loc(key)\n\u001b[1;32m   3762\u001b[0m \u001b[38;5;28;01mif\u001b[39;00m is_integer(indexer):\n\u001b[1;32m   3763\u001b[0m     indexer \u001b[38;5;241m=\u001b[39m [indexer]\n",
      "File \u001b[0;32m~/anaconda3/lib/python3.11/site-packages/pandas/core/indexes/base.py:3655\u001b[0m, in \u001b[0;36mIndex.get_loc\u001b[0;34m(self, key)\u001b[0m\n\u001b[1;32m   3653\u001b[0m     \u001b[38;5;28;01mreturn\u001b[39;00m \u001b[38;5;28mself\u001b[39m\u001b[38;5;241m.\u001b[39m_engine\u001b[38;5;241m.\u001b[39mget_loc(casted_key)\n\u001b[1;32m   3654\u001b[0m \u001b[38;5;28;01mexcept\u001b[39;00m \u001b[38;5;167;01mKeyError\u001b[39;00m \u001b[38;5;28;01mas\u001b[39;00m err:\n\u001b[0;32m-> 3655\u001b[0m     \u001b[38;5;28;01mraise\u001b[39;00m \u001b[38;5;167;01mKeyError\u001b[39;00m(key) \u001b[38;5;28;01mfrom\u001b[39;00m \u001b[38;5;21;01merr\u001b[39;00m\n\u001b[1;32m   3656\u001b[0m \u001b[38;5;28;01mexcept\u001b[39;00m \u001b[38;5;167;01mTypeError\u001b[39;00m:\n\u001b[1;32m   3657\u001b[0m     \u001b[38;5;66;03m# If we have a listlike key, _check_indexing_error will raise\u001b[39;00m\n\u001b[1;32m   3658\u001b[0m     \u001b[38;5;66;03m#  InvalidIndexError. Otherwise we fall through and re-raise\u001b[39;00m\n\u001b[1;32m   3659\u001b[0m     \u001b[38;5;66;03m#  the TypeError.\u001b[39;00m\n\u001b[1;32m   3660\u001b[0m     \u001b[38;5;28mself\u001b[39m\u001b[38;5;241m.\u001b[39m_check_indexing_error(key)\n",
      "\u001b[0;31mKeyError\u001b[0m: ('Owner', 'Country.of.Origin')"
     ]
    }
   ],
   "source": [
    "coffee_df['Owner', 'Country.of.Origin']"
   ]
  },
  {
   "cell_type": "code",
   "execution_count": 32,
   "id": "18d9a31d",
   "metadata": {},
   "outputs": [
    {
     "data": {
      "text/html": [
       "<div>\n",
       "<style scoped>\n",
       "    .dataframe tbody tr th:only-of-type {\n",
       "        vertical-align: middle;\n",
       "    }\n",
       "\n",
       "    .dataframe tbody tr th {\n",
       "        vertical-align: top;\n",
       "    }\n",
       "\n",
       "    .dataframe thead th {\n",
       "        text-align: right;\n",
       "    }\n",
       "</style>\n",
       "<table border=\"1\" class=\"dataframe\">\n",
       "  <thead>\n",
       "    <tr style=\"text-align: right;\">\n",
       "      <th></th>\n",
       "      <th>Owner</th>\n",
       "      <th>Country.of.Origin</th>\n",
       "    </tr>\n",
       "  </thead>\n",
       "  <tbody>\n",
       "    <tr>\n",
       "      <th>1</th>\n",
       "      <td>ankole coffee producers coop</td>\n",
       "      <td>Uganda</td>\n",
       "    </tr>\n",
       "  </tbody>\n",
       "</table>\n",
       "</div>"
      ],
      "text/plain": [
       "                          Owner Country.of.Origin\n",
       "1  ankole coffee producers coop            Uganda"
      ]
     },
     "execution_count": 32,
     "metadata": {},
     "output_type": "execute_result"
    }
   ],
   "source": [
    "coffee_df[['Owner', 'Country.of.Origin']].head(1)"
   ]
  },
  {
   "cell_type": "code",
   "execution_count": 33,
   "id": "33734412",
   "metadata": {},
   "outputs": [
    {
     "data": {
      "text/html": [
       "<div>\n",
       "<style scoped>\n",
       "    .dataframe tbody tr th:only-of-type {\n",
       "        vertical-align: middle;\n",
       "    }\n",
       "\n",
       "    .dataframe tbody tr th {\n",
       "        vertical-align: top;\n",
       "    }\n",
       "\n",
       "    .dataframe thead th {\n",
       "        text-align: right;\n",
       "    }\n",
       "</style>\n",
       "<table border=\"1\" class=\"dataframe\">\n",
       "  <thead>\n",
       "    <tr style=\"text-align: right;\">\n",
       "      <th></th>\n",
       "      <th>Species</th>\n",
       "      <th>Owner</th>\n",
       "      <th>Country.of.Origin</th>\n",
       "      <th>Farm.Name</th>\n",
       "      <th>Lot.Number</th>\n",
       "      <th>Mill</th>\n",
       "      <th>ICO.Number</th>\n",
       "      <th>Company</th>\n",
       "      <th>Altitude</th>\n",
       "      <th>Region</th>\n",
       "      <th>...</th>\n",
       "      <th>Color</th>\n",
       "      <th>Category.Two.Defects</th>\n",
       "      <th>Expiration</th>\n",
       "      <th>Certification.Body</th>\n",
       "      <th>Certification.Address</th>\n",
       "      <th>Certification.Contact</th>\n",
       "      <th>unit_of_measurement</th>\n",
       "      <th>altitude_low_meters</th>\n",
       "      <th>altitude_high_meters</th>\n",
       "      <th>altitude_mean_meters</th>\n",
       "    </tr>\n",
       "  </thead>\n",
       "  <tbody>\n",
       "    <tr>\n",
       "      <th>1</th>\n",
       "      <td>Robusta</td>\n",
       "      <td>ankole coffee producers coop</td>\n",
       "      <td>Uganda</td>\n",
       "      <td>kyangundu cooperative society</td>\n",
       "      <td>NaN</td>\n",
       "      <td>ankole coffee producers</td>\n",
       "      <td>0</td>\n",
       "      <td>ankole coffee producers coop</td>\n",
       "      <td>1488</td>\n",
       "      <td>sheema south western</td>\n",
       "      <td>...</td>\n",
       "      <td>Green</td>\n",
       "      <td>2</td>\n",
       "      <td>June 26th, 2015</td>\n",
       "      <td>Uganda Coffee Development Authority</td>\n",
       "      <td>e36d0270932c3b657e96b7b0278dfd85dc0fe743</td>\n",
       "      <td>03077a1c6bac60e6f514691634a7f6eb5c85aae8</td>\n",
       "      <td>m</td>\n",
       "      <td>1488.0</td>\n",
       "      <td>1488.0</td>\n",
       "      <td>1488.0</td>\n",
       "    </tr>\n",
       "    <tr>\n",
       "      <th>2</th>\n",
       "      <td>Robusta</td>\n",
       "      <td>nishant gurjer</td>\n",
       "      <td>India</td>\n",
       "      <td>sethuraman estate kaapi royale</td>\n",
       "      <td>25</td>\n",
       "      <td>sethuraman estate</td>\n",
       "      <td>14/1148/2017/21</td>\n",
       "      <td>kaapi royale</td>\n",
       "      <td>3170</td>\n",
       "      <td>chikmagalur karnataka indua</td>\n",
       "      <td>...</td>\n",
       "      <td>NaN</td>\n",
       "      <td>2</td>\n",
       "      <td>October 31st, 2018</td>\n",
       "      <td>Specialty Coffee Association</td>\n",
       "      <td>ff7c18ad303d4b603ac3f8cff7e611ffc735e720</td>\n",
       "      <td>352d0cf7f3e9be14dad7df644ad65efc27605ae2</td>\n",
       "      <td>m</td>\n",
       "      <td>3170.0</td>\n",
       "      <td>3170.0</td>\n",
       "      <td>3170.0</td>\n",
       "    </tr>\n",
       "    <tr>\n",
       "      <th>3</th>\n",
       "      <td>Robusta</td>\n",
       "      <td>andrew hetzel</td>\n",
       "      <td>India</td>\n",
       "      <td>sethuraman estate</td>\n",
       "      <td>NaN</td>\n",
       "      <td>NaN</td>\n",
       "      <td>0000</td>\n",
       "      <td>sethuraman estate</td>\n",
       "      <td>1000m</td>\n",
       "      <td>chikmagalur</td>\n",
       "      <td>...</td>\n",
       "      <td>Green</td>\n",
       "      <td>0</td>\n",
       "      <td>April 29th, 2016</td>\n",
       "      <td>Specialty Coffee Association</td>\n",
       "      <td>ff7c18ad303d4b603ac3f8cff7e611ffc735e720</td>\n",
       "      <td>352d0cf7f3e9be14dad7df644ad65efc27605ae2</td>\n",
       "      <td>m</td>\n",
       "      <td>1000.0</td>\n",
       "      <td>1000.0</td>\n",
       "      <td>1000.0</td>\n",
       "    </tr>\n",
       "    <tr>\n",
       "      <th>4</th>\n",
       "      <td>Robusta</td>\n",
       "      <td>ugacof</td>\n",
       "      <td>Uganda</td>\n",
       "      <td>ugacof project area</td>\n",
       "      <td>NaN</td>\n",
       "      <td>ugacof</td>\n",
       "      <td>0</td>\n",
       "      <td>ugacof ltd</td>\n",
       "      <td>1212</td>\n",
       "      <td>central</td>\n",
       "      <td>...</td>\n",
       "      <td>Green</td>\n",
       "      <td>7</td>\n",
       "      <td>July 14th, 2015</td>\n",
       "      <td>Uganda Coffee Development Authority</td>\n",
       "      <td>e36d0270932c3b657e96b7b0278dfd85dc0fe743</td>\n",
       "      <td>03077a1c6bac60e6f514691634a7f6eb5c85aae8</td>\n",
       "      <td>m</td>\n",
       "      <td>1212.0</td>\n",
       "      <td>1212.0</td>\n",
       "      <td>1212.0</td>\n",
       "    </tr>\n",
       "    <tr>\n",
       "      <th>5</th>\n",
       "      <td>Robusta</td>\n",
       "      <td>katuka development trust ltd</td>\n",
       "      <td>Uganda</td>\n",
       "      <td>katikamu capca farmers association</td>\n",
       "      <td>NaN</td>\n",
       "      <td>katuka development trust</td>\n",
       "      <td>0</td>\n",
       "      <td>katuka development trust ltd</td>\n",
       "      <td>1200-1300</td>\n",
       "      <td>luwero central region</td>\n",
       "      <td>...</td>\n",
       "      <td>Green</td>\n",
       "      <td>3</td>\n",
       "      <td>June 26th, 2015</td>\n",
       "      <td>Uganda Coffee Development Authority</td>\n",
       "      <td>e36d0270932c3b657e96b7b0278dfd85dc0fe743</td>\n",
       "      <td>03077a1c6bac60e6f514691634a7f6eb5c85aae8</td>\n",
       "      <td>m</td>\n",
       "      <td>1200.0</td>\n",
       "      <td>1300.0</td>\n",
       "      <td>1250.0</td>\n",
       "    </tr>\n",
       "  </tbody>\n",
       "</table>\n",
       "<p>5 rows × 43 columns</p>\n",
       "</div>"
      ],
      "text/plain": [
       "   Species                         Owner Country.of.Origin  \\\n",
       "1  Robusta  ankole coffee producers coop            Uganda   \n",
       "2  Robusta                nishant gurjer             India   \n",
       "3  Robusta                 andrew hetzel             India   \n",
       "4  Robusta                        ugacof            Uganda   \n",
       "5  Robusta  katuka development trust ltd            Uganda   \n",
       "\n",
       "                            Farm.Name Lot.Number                      Mill  \\\n",
       "1       kyangundu cooperative society        NaN   ankole coffee producers   \n",
       "2      sethuraman estate kaapi royale         25         sethuraman estate   \n",
       "3                   sethuraman estate        NaN                       NaN   \n",
       "4                 ugacof project area        NaN                    ugacof   \n",
       "5  katikamu capca farmers association        NaN  katuka development trust   \n",
       "\n",
       "        ICO.Number                       Company   Altitude  \\\n",
       "1                0  ankole coffee producers coop       1488   \n",
       "2  14/1148/2017/21                  kaapi royale       3170   \n",
       "3             0000             sethuraman estate      1000m   \n",
       "4                0                    ugacof ltd       1212   \n",
       "5                0  katuka development trust ltd  1200-1300   \n",
       "\n",
       "                        Region  ...  Color  Category.Two.Defects  \\\n",
       "1         sheema south western  ...  Green                     2   \n",
       "2  chikmagalur karnataka indua  ...    NaN                     2   \n",
       "3                  chikmagalur  ...  Green                     0   \n",
       "4                      central  ...  Green                     7   \n",
       "5        luwero central region  ...  Green                     3   \n",
       "\n",
       "           Expiration                   Certification.Body  \\\n",
       "1     June 26th, 2015  Uganda Coffee Development Authority   \n",
       "2  October 31st, 2018         Specialty Coffee Association   \n",
       "3    April 29th, 2016         Specialty Coffee Association   \n",
       "4     July 14th, 2015  Uganda Coffee Development Authority   \n",
       "5     June 26th, 2015  Uganda Coffee Development Authority   \n",
       "\n",
       "                      Certification.Address  \\\n",
       "1  e36d0270932c3b657e96b7b0278dfd85dc0fe743   \n",
       "2  ff7c18ad303d4b603ac3f8cff7e611ffc735e720   \n",
       "3  ff7c18ad303d4b603ac3f8cff7e611ffc735e720   \n",
       "4  e36d0270932c3b657e96b7b0278dfd85dc0fe743   \n",
       "5  e36d0270932c3b657e96b7b0278dfd85dc0fe743   \n",
       "\n",
       "                      Certification.Contact unit_of_measurement  \\\n",
       "1  03077a1c6bac60e6f514691634a7f6eb5c85aae8                   m   \n",
       "2  352d0cf7f3e9be14dad7df644ad65efc27605ae2                   m   \n",
       "3  352d0cf7f3e9be14dad7df644ad65efc27605ae2                   m   \n",
       "4  03077a1c6bac60e6f514691634a7f6eb5c85aae8                   m   \n",
       "5  03077a1c6bac60e6f514691634a7f6eb5c85aae8                   m   \n",
       "\n",
       "  altitude_low_meters altitude_high_meters  altitude_mean_meters  \n",
       "1              1488.0               1488.0                1488.0  \n",
       "2              3170.0               3170.0                3170.0  \n",
       "3              1000.0               1000.0                1000.0  \n",
       "4              1212.0               1212.0                1212.0  \n",
       "5              1200.0               1300.0                1250.0  \n",
       "\n",
       "[5 rows x 43 columns]"
      ]
     },
     "execution_count": 33,
     "metadata": {},
     "output_type": "execute_result"
    }
   ],
   "source": [
    "coffee_df.head()"
   ]
  },
  {
   "cell_type": "code",
   "execution_count": 34,
   "id": "c6aed088",
   "metadata": {},
   "outputs": [],
   "source": [
    "is_green = coffee_df['Color'] == 'Green'"
   ]
  },
  {
   "cell_type": "code",
   "execution_count": 35,
   "id": "519e313c",
   "metadata": {},
   "outputs": [
    {
     "data": {
      "text/plain": [
       "((28,), (28,))"
      ]
     },
     "execution_count": 35,
     "metadata": {},
     "output_type": "execute_result"
    }
   ],
   "source": [
    "is_green.shape, coffee_df['Color'].shape"
   ]
  },
  {
   "cell_type": "code",
   "execution_count": 36,
   "id": "5cf008f8",
   "metadata": {},
   "outputs": [
    {
     "data": {
      "text/html": [
       "<div>\n",
       "<style scoped>\n",
       "    .dataframe tbody tr th:only-of-type {\n",
       "        vertical-align: middle;\n",
       "    }\n",
       "\n",
       "    .dataframe tbody tr th {\n",
       "        vertical-align: top;\n",
       "    }\n",
       "\n",
       "    .dataframe thead th {\n",
       "        text-align: right;\n",
       "    }\n",
       "</style>\n",
       "<table border=\"1\" class=\"dataframe\">\n",
       "  <thead>\n",
       "    <tr style=\"text-align: right;\">\n",
       "      <th></th>\n",
       "      <th>Species</th>\n",
       "      <th>Owner</th>\n",
       "      <th>Country.of.Origin</th>\n",
       "      <th>Farm.Name</th>\n",
       "      <th>Lot.Number</th>\n",
       "      <th>Mill</th>\n",
       "      <th>ICO.Number</th>\n",
       "      <th>Company</th>\n",
       "      <th>Altitude</th>\n",
       "      <th>Region</th>\n",
       "      <th>...</th>\n",
       "      <th>Color</th>\n",
       "      <th>Category.Two.Defects</th>\n",
       "      <th>Expiration</th>\n",
       "      <th>Certification.Body</th>\n",
       "      <th>Certification.Address</th>\n",
       "      <th>Certification.Contact</th>\n",
       "      <th>unit_of_measurement</th>\n",
       "      <th>altitude_low_meters</th>\n",
       "      <th>altitude_high_meters</th>\n",
       "      <th>altitude_mean_meters</th>\n",
       "    </tr>\n",
       "  </thead>\n",
       "  <tbody>\n",
       "    <tr>\n",
       "      <th>1</th>\n",
       "      <td>Robusta</td>\n",
       "      <td>ankole coffee producers coop</td>\n",
       "      <td>Uganda</td>\n",
       "      <td>kyangundu cooperative society</td>\n",
       "      <td>NaN</td>\n",
       "      <td>ankole coffee producers</td>\n",
       "      <td>0</td>\n",
       "      <td>ankole coffee producers coop</td>\n",
       "      <td>1488</td>\n",
       "      <td>sheema south western</td>\n",
       "      <td>...</td>\n",
       "      <td>Green</td>\n",
       "      <td>2</td>\n",
       "      <td>June 26th, 2015</td>\n",
       "      <td>Uganda Coffee Development Authority</td>\n",
       "      <td>e36d0270932c3b657e96b7b0278dfd85dc0fe743</td>\n",
       "      <td>03077a1c6bac60e6f514691634a7f6eb5c85aae8</td>\n",
       "      <td>m</td>\n",
       "      <td>1488.0</td>\n",
       "      <td>1488.0</td>\n",
       "      <td>1488.0</td>\n",
       "    </tr>\n",
       "    <tr>\n",
       "      <th>3</th>\n",
       "      <td>Robusta</td>\n",
       "      <td>andrew hetzel</td>\n",
       "      <td>India</td>\n",
       "      <td>sethuraman estate</td>\n",
       "      <td>NaN</td>\n",
       "      <td>NaN</td>\n",
       "      <td>0000</td>\n",
       "      <td>sethuraman estate</td>\n",
       "      <td>1000m</td>\n",
       "      <td>chikmagalur</td>\n",
       "      <td>...</td>\n",
       "      <td>Green</td>\n",
       "      <td>0</td>\n",
       "      <td>April 29th, 2016</td>\n",
       "      <td>Specialty Coffee Association</td>\n",
       "      <td>ff7c18ad303d4b603ac3f8cff7e611ffc735e720</td>\n",
       "      <td>352d0cf7f3e9be14dad7df644ad65efc27605ae2</td>\n",
       "      <td>m</td>\n",
       "      <td>1000.0</td>\n",
       "      <td>1000.0</td>\n",
       "      <td>1000.0</td>\n",
       "    </tr>\n",
       "    <tr>\n",
       "      <th>4</th>\n",
       "      <td>Robusta</td>\n",
       "      <td>ugacof</td>\n",
       "      <td>Uganda</td>\n",
       "      <td>ugacof project area</td>\n",
       "      <td>NaN</td>\n",
       "      <td>ugacof</td>\n",
       "      <td>0</td>\n",
       "      <td>ugacof ltd</td>\n",
       "      <td>1212</td>\n",
       "      <td>central</td>\n",
       "      <td>...</td>\n",
       "      <td>Green</td>\n",
       "      <td>7</td>\n",
       "      <td>July 14th, 2015</td>\n",
       "      <td>Uganda Coffee Development Authority</td>\n",
       "      <td>e36d0270932c3b657e96b7b0278dfd85dc0fe743</td>\n",
       "      <td>03077a1c6bac60e6f514691634a7f6eb5c85aae8</td>\n",
       "      <td>m</td>\n",
       "      <td>1212.0</td>\n",
       "      <td>1212.0</td>\n",
       "      <td>1212.0</td>\n",
       "    </tr>\n",
       "    <tr>\n",
       "      <th>5</th>\n",
       "      <td>Robusta</td>\n",
       "      <td>katuka development trust ltd</td>\n",
       "      <td>Uganda</td>\n",
       "      <td>katikamu capca farmers association</td>\n",
       "      <td>NaN</td>\n",
       "      <td>katuka development trust</td>\n",
       "      <td>0</td>\n",
       "      <td>katuka development trust ltd</td>\n",
       "      <td>1200-1300</td>\n",
       "      <td>luwero central region</td>\n",
       "      <td>...</td>\n",
       "      <td>Green</td>\n",
       "      <td>3</td>\n",
       "      <td>June 26th, 2015</td>\n",
       "      <td>Uganda Coffee Development Authority</td>\n",
       "      <td>e36d0270932c3b657e96b7b0278dfd85dc0fe743</td>\n",
       "      <td>03077a1c6bac60e6f514691634a7f6eb5c85aae8</td>\n",
       "      <td>m</td>\n",
       "      <td>1200.0</td>\n",
       "      <td>1300.0</td>\n",
       "      <td>1250.0</td>\n",
       "    </tr>\n",
       "    <tr>\n",
       "      <th>6</th>\n",
       "      <td>Robusta</td>\n",
       "      <td>andrew hetzel</td>\n",
       "      <td>India</td>\n",
       "      <td>NaN</td>\n",
       "      <td>NaN</td>\n",
       "      <td>(self)</td>\n",
       "      <td>NaN</td>\n",
       "      <td>cafemakers, llc</td>\n",
       "      <td>3000'</td>\n",
       "      <td>chikmagalur</td>\n",
       "      <td>...</td>\n",
       "      <td>Green</td>\n",
       "      <td>0</td>\n",
       "      <td>February 28th, 2013</td>\n",
       "      <td>Specialty Coffee Association</td>\n",
       "      <td>ff7c18ad303d4b603ac3f8cff7e611ffc735e720</td>\n",
       "      <td>352d0cf7f3e9be14dad7df644ad65efc27605ae2</td>\n",
       "      <td>m</td>\n",
       "      <td>3000.0</td>\n",
       "      <td>3000.0</td>\n",
       "      <td>3000.0</td>\n",
       "    </tr>\n",
       "  </tbody>\n",
       "</table>\n",
       "<p>5 rows × 43 columns</p>\n",
       "</div>"
      ],
      "text/plain": [
       "   Species                         Owner Country.of.Origin  \\\n",
       "1  Robusta  ankole coffee producers coop            Uganda   \n",
       "3  Robusta                 andrew hetzel             India   \n",
       "4  Robusta                        ugacof            Uganda   \n",
       "5  Robusta  katuka development trust ltd            Uganda   \n",
       "6  Robusta                 andrew hetzel             India   \n",
       "\n",
       "                            Farm.Name Lot.Number                      Mill  \\\n",
       "1       kyangundu cooperative society        NaN   ankole coffee producers   \n",
       "3                   sethuraman estate        NaN                       NaN   \n",
       "4                 ugacof project area        NaN                    ugacof   \n",
       "5  katikamu capca farmers association        NaN  katuka development trust   \n",
       "6                                 NaN        NaN                    (self)   \n",
       "\n",
       "  ICO.Number                       Company   Altitude                 Region  \\\n",
       "1          0  ankole coffee producers coop       1488   sheema south western   \n",
       "3       0000             sethuraman estate      1000m            chikmagalur   \n",
       "4          0                    ugacof ltd       1212                central   \n",
       "5          0  katuka development trust ltd  1200-1300  luwero central region   \n",
       "6        NaN               cafemakers, llc      3000'            chikmagalur   \n",
       "\n",
       "   ...  Color  Category.Two.Defects           Expiration  \\\n",
       "1  ...  Green                     2      June 26th, 2015   \n",
       "3  ...  Green                     0     April 29th, 2016   \n",
       "4  ...  Green                     7      July 14th, 2015   \n",
       "5  ...  Green                     3      June 26th, 2015   \n",
       "6  ...  Green                     0  February 28th, 2013   \n",
       "\n",
       "                    Certification.Body  \\\n",
       "1  Uganda Coffee Development Authority   \n",
       "3         Specialty Coffee Association   \n",
       "4  Uganda Coffee Development Authority   \n",
       "5  Uganda Coffee Development Authority   \n",
       "6         Specialty Coffee Association   \n",
       "\n",
       "                      Certification.Address  \\\n",
       "1  e36d0270932c3b657e96b7b0278dfd85dc0fe743   \n",
       "3  ff7c18ad303d4b603ac3f8cff7e611ffc735e720   \n",
       "4  e36d0270932c3b657e96b7b0278dfd85dc0fe743   \n",
       "5  e36d0270932c3b657e96b7b0278dfd85dc0fe743   \n",
       "6  ff7c18ad303d4b603ac3f8cff7e611ffc735e720   \n",
       "\n",
       "                      Certification.Contact unit_of_measurement  \\\n",
       "1  03077a1c6bac60e6f514691634a7f6eb5c85aae8                   m   \n",
       "3  352d0cf7f3e9be14dad7df644ad65efc27605ae2                   m   \n",
       "4  03077a1c6bac60e6f514691634a7f6eb5c85aae8                   m   \n",
       "5  03077a1c6bac60e6f514691634a7f6eb5c85aae8                   m   \n",
       "6  352d0cf7f3e9be14dad7df644ad65efc27605ae2                   m   \n",
       "\n",
       "  altitude_low_meters altitude_high_meters  altitude_mean_meters  \n",
       "1              1488.0               1488.0                1488.0  \n",
       "3              1000.0               1000.0                1000.0  \n",
       "4              1212.0               1212.0                1212.0  \n",
       "5              1200.0               1300.0                1250.0  \n",
       "6              3000.0               3000.0                3000.0  \n",
       "\n",
       "[5 rows x 43 columns]"
      ]
     },
     "execution_count": 36,
     "metadata": {},
     "output_type": "execute_result"
    }
   ],
   "source": [
    "green_coffee_df = coffee_df[is_green]\n",
    "green_coffee_df.head()"
   ]
  },
  {
   "cell_type": "code",
   "execution_count": 37,
   "id": "e2c95e6e",
   "metadata": {},
   "outputs": [
    {
     "data": {
      "text/plain": [
       "(20, 43)"
      ]
     },
     "execution_count": 37,
     "metadata": {},
     "output_type": "execute_result"
    }
   ],
   "source": [
    "green_coffee_df.shape"
   ]
  },
  {
   "cell_type": "code",
   "execution_count": 38,
   "id": "307d5dac",
   "metadata": {},
   "outputs": [
    {
     "data": {
      "text/plain": [
       "20"
      ]
     },
     "execution_count": 38,
     "metadata": {},
     "output_type": "execute_result"
    }
   ],
   "source": [
    "is_green.sum()"
   ]
  },
  {
   "cell_type": "code",
   "execution_count": 39,
   "id": "7ecf7430",
   "metadata": {},
   "outputs": [
    {
     "data": {
      "text/plain": [
       "Index(['Species', 'Owner', 'Country.of.Origin', 'Farm.Name', 'Lot.Number',\n",
       "       'Mill', 'ICO.Number', 'Company', 'Altitude', 'Region', 'Producer',\n",
       "       'Number.of.Bags', 'Bag.Weight', 'In.Country.Partner', 'Harvest.Year',\n",
       "       'Grading.Date', 'Owner.1', 'Variety', 'Processing.Method',\n",
       "       'Fragrance...Aroma', 'Flavor', 'Aftertaste', 'Salt...Acid',\n",
       "       'Bitter...Sweet', 'Mouthfeel', 'Uniform.Cup', 'Clean.Cup', 'Balance',\n",
       "       'Cupper.Points', 'Total.Cup.Points', 'Moisture', 'Category.One.Defects',\n",
       "       'Quakers', 'Color', 'Category.Two.Defects', 'Expiration',\n",
       "       'Certification.Body', 'Certification.Address', 'Certification.Contact',\n",
       "       'unit_of_measurement', 'altitude_low_meters', 'altitude_high_meters',\n",
       "       'altitude_mean_meters'],\n",
       "      dtype='object')"
      ]
     },
     "execution_count": 39,
     "metadata": {},
     "output_type": "execute_result"
    }
   ],
   "source": [
    "coffee_df.columns"
   ]
  },
  {
   "cell_type": "code",
   "execution_count": 40,
   "id": "5fdd9e37",
   "metadata": {},
   "outputs": [],
   "source": [
    "score_text = {False:'low',\n",
    "    True:'high'}"
   ]
  },
  {
   "cell_type": "code",
   "execution_count": 41,
   "id": "8dd9e462",
   "metadata": {},
   "outputs": [
    {
     "data": {
      "text/plain": [
       "['high',\n",
       " 'high',\n",
       " 'high',\n",
       " 'high',\n",
       " 'high',\n",
       " 'high',\n",
       " 'high',\n",
       " 'high',\n",
       " 'high',\n",
       " 'high',\n",
       " 'high',\n",
       " 'high',\n",
       " 'high',\n",
       " 'high',\n",
       " 'high',\n",
       " 'high',\n",
       " 'high',\n",
       " 'high',\n",
       " 'high',\n",
       " 'high',\n",
       " 'high',\n",
       " 'high',\n",
       " 'high',\n",
       " 'high',\n",
       " 'high',\n",
       " 'high',\n",
       " 'low',\n",
       " 'low']"
      ]
     },
     "execution_count": 41,
     "metadata": {},
     "output_type": "execute_result"
    }
   ],
   "source": [
    "[score_text[flavor_comp] for flavor_comp in coffee_df['Flavor']>=7]"
   ]
  },
  {
   "cell_type": "code",
   "execution_count": 42,
   "id": "ebd47ead",
   "metadata": {},
   "outputs": [],
   "source": [
    "from example import name"
   ]
  },
  {
   "cell_type": "code",
   "execution_count": 43,
   "id": "598a7142",
   "metadata": {},
   "outputs": [
    {
     "data": {
      "text/plain": [
       "'sarah'"
      ]
     },
     "execution_count": 43,
     "metadata": {},
     "output_type": "execute_result"
    }
   ],
   "source": [
    "name"
   ]
  },
  {
   "cell_type": "code",
   "execution_count": null,
   "id": "21712354",
   "metadata": {},
   "outputs": [],
   "source": []
  }
 ],
 "metadata": {
  "jupytext": {
   "text_representation": {
    "extension": ".md",
    "format_name": "myst",
    "format_version": 0.13,
    "jupytext_version": "1.15.1"
   }
  },
  "kernelspec": {
   "display_name": "Python 3 (ipykernel)",
   "language": "python",
   "name": "python3"
  },
  "language_info": {
   "codemirror_mode": {
    "name": "ipython",
    "version": 3
   },
   "file_extension": ".py",
   "mimetype": "text/x-python",
   "name": "python",
   "nbconvert_exporter": "python",
   "pygments_lexer": "ipython3",
   "version": "3.11.4"
  },
  "source_map": [
   12,
   16,
   19,
   23,
   27,
   31,
   38,
   42,
   46,
   50,
   54,
   58,
   64,
   68,
   70,
   74,
   78,
   82,
   86,
   90,
   94,
   98,
   102,
   104,
   108,
   113,
   119,
   123,
   127,
   131,
   135,
   139,
   143,
   147,
   152,
   156,
   160,
   164,
   168,
   172,
   177,
   181,
   185,
   189,
   194,
   198,
   202,
   206
  ]
 },
 "nbformat": 4,
 "nbformat_minor": 5
}