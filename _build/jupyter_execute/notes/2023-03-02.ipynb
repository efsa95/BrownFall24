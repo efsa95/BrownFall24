{
 "cells": [
  {
   "cell_type": "markdown",
   "id": "a6a7fd8f",
   "metadata": {},
   "source": [
    "# Auditing with AIF360 \n",
    "\n",
    "\n",
    "## What is ML? \n",
    "\n",
    "![ML flow](https://rhodyprog4ds.github.io/BrownSpring23/_images/MLdataflow.svg)"
   ]
  },
  {
   "cell_type": "code",
   "execution_count": 1,
   "id": "b380910d",
   "metadata": {},
   "outputs": [],
   "source": [
    "import pandas as pd\n",
    "from sklearn import metrics as skmetrics\n",
    "from aif360 import metrics as fairmetrics\n",
    "from aif360.datasets import BinaryLabelDataset\n",
    "import seaborn as sns\n",
    "\n",
    "compas_clean_url = 'https://raw.githubusercontent.com/ml4sts/outreach-compas/main/data/compas_c.csv'\n",
    "compas_df = pd.read_csv(compas_clean_url,index_col = 'id')\n",
    "\n",
    "compas_df = pd.get_dummies(compas_df,columns=['score_text'],)"
   ]
  },
  {
   "cell_type": "markdown",
   "id": "f0c79d7e",
   "metadata": {},
   "source": [
    "We may get a warning which is **okay**. If you run the cell again it will go away."
   ]
  },
  {
   "cell_type": "markdown",
   "id": "04d5212f",
   "metadata": {},
   "source": [
    "## The COMPAS data\n",
    "\n",
    "We are going to continue with the ProPublica COMPAS audit data.  Remember it contains: \n",
    "* `age`: defendant's age\n",
    "* `c_charge_degree`: degree charged (Misdemeanor of Felony)\n",
    "* `race`: defendant's race\n",
    "* `age_cat`: defendant's age quantized in \"less than 25\", \"25-45\", or \"over 45\"\n",
    "* `score_text`: COMPAS score: 'low'(1 to 5), 'medium' (5 to 7), and 'high' (8 to 10).\n",
    "* `sex`: defendant's gender\n",
    "* `priors_count`: number of prior charges\n",
    "* `days_b_screening_arrest`: number of days between charge date and arrest where defendant was screened for compas score\n",
    "* `decile_score`: COMPAS score from 1 to 10 (low risk to high risk)\n",
    "* `is_recid`: if the defendant recidivized\n",
    "* `two_year_recid`: if the defendant within two years\n",
    "* `c_jail_in`: date defendant was imprisoned\n",
    "* `c_jail_out`: date defendant was released from jail\n",
    "* `length_of_stay`: length of jail stay"
   ]
  },
  {
   "cell_type": "markdown",
   "id": "02d29d42",
   "metadata": {},
   "source": [
    "First, we will look at it"
   ]
  },
  {
   "cell_type": "code",
   "execution_count": 2,
   "id": "52a85a34",
   "metadata": {},
   "outputs": [
    {
     "data": {
      "text/html": [
       "<div>\n",
       "<style scoped>\n",
       "    .dataframe tbody tr th:only-of-type {\n",
       "        vertical-align: middle;\n",
       "    }\n",
       "\n",
       "    .dataframe tbody tr th {\n",
       "        vertical-align: top;\n",
       "    }\n",
       "\n",
       "    .dataframe thead th {\n",
       "        text-align: right;\n",
       "    }\n",
       "</style>\n",
       "<table border=\"1\" class=\"dataframe\">\n",
       "  <thead>\n",
       "    <tr style=\"text-align: right;\">\n",
       "      <th></th>\n",
       "      <th>age</th>\n",
       "      <th>c_charge_degree</th>\n",
       "      <th>race</th>\n",
       "      <th>age_cat</th>\n",
       "      <th>sex</th>\n",
       "      <th>priors_count</th>\n",
       "      <th>days_b_screening_arrest</th>\n",
       "      <th>decile_score</th>\n",
       "      <th>is_recid</th>\n",
       "      <th>two_year_recid</th>\n",
       "      <th>c_jail_in</th>\n",
       "      <th>c_jail_out</th>\n",
       "      <th>length_of_stay</th>\n",
       "      <th>score_text_High</th>\n",
       "      <th>score_text_Low</th>\n",
       "      <th>score_text_Medium</th>\n",
       "    </tr>\n",
       "    <tr>\n",
       "      <th>id</th>\n",
       "      <th></th>\n",
       "      <th></th>\n",
       "      <th></th>\n",
       "      <th></th>\n",
       "      <th></th>\n",
       "      <th></th>\n",
       "      <th></th>\n",
       "      <th></th>\n",
       "      <th></th>\n",
       "      <th></th>\n",
       "      <th></th>\n",
       "      <th></th>\n",
       "      <th></th>\n",
       "      <th></th>\n",
       "      <th></th>\n",
       "      <th></th>\n",
       "    </tr>\n",
       "  </thead>\n",
       "  <tbody>\n",
       "    <tr>\n",
       "      <th>3</th>\n",
       "      <td>34</td>\n",
       "      <td>F</td>\n",
       "      <td>African-American</td>\n",
       "      <td>25 - 45</td>\n",
       "      <td>Male</td>\n",
       "      <td>0</td>\n",
       "      <td>-1.0</td>\n",
       "      <td>3</td>\n",
       "      <td>1</td>\n",
       "      <td>1</td>\n",
       "      <td>2013-01-26 03:45:27</td>\n",
       "      <td>2013-02-05 05:36:53</td>\n",
       "      <td>10</td>\n",
       "      <td>0</td>\n",
       "      <td>1</td>\n",
       "      <td>0</td>\n",
       "    </tr>\n",
       "    <tr>\n",
       "      <th>4</th>\n",
       "      <td>24</td>\n",
       "      <td>F</td>\n",
       "      <td>African-American</td>\n",
       "      <td>Less than 25</td>\n",
       "      <td>Male</td>\n",
       "      <td>4</td>\n",
       "      <td>-1.0</td>\n",
       "      <td>4</td>\n",
       "      <td>1</td>\n",
       "      <td>1</td>\n",
       "      <td>2013-04-13 04:58:34</td>\n",
       "      <td>2013-04-14 07:02:04</td>\n",
       "      <td>1</td>\n",
       "      <td>0</td>\n",
       "      <td>1</td>\n",
       "      <td>0</td>\n",
       "    </tr>\n",
       "    <tr>\n",
       "      <th>8</th>\n",
       "      <td>41</td>\n",
       "      <td>F</td>\n",
       "      <td>Caucasian</td>\n",
       "      <td>25 - 45</td>\n",
       "      <td>Male</td>\n",
       "      <td>14</td>\n",
       "      <td>-1.0</td>\n",
       "      <td>6</td>\n",
       "      <td>1</td>\n",
       "      <td>1</td>\n",
       "      <td>2014-02-18 05:08:24</td>\n",
       "      <td>2014-02-24 12:18:30</td>\n",
       "      <td>6</td>\n",
       "      <td>0</td>\n",
       "      <td>0</td>\n",
       "      <td>1</td>\n",
       "    </tr>\n",
       "    <tr>\n",
       "      <th>10</th>\n",
       "      <td>39</td>\n",
       "      <td>M</td>\n",
       "      <td>Caucasian</td>\n",
       "      <td>25 - 45</td>\n",
       "      <td>Female</td>\n",
       "      <td>0</td>\n",
       "      <td>-1.0</td>\n",
       "      <td>1</td>\n",
       "      <td>0</td>\n",
       "      <td>0</td>\n",
       "      <td>2014-03-15 05:35:34</td>\n",
       "      <td>2014-03-18 04:28:46</td>\n",
       "      <td>2</td>\n",
       "      <td>0</td>\n",
       "      <td>1</td>\n",
       "      <td>0</td>\n",
       "    </tr>\n",
       "    <tr>\n",
       "      <th>14</th>\n",
       "      <td>27</td>\n",
       "      <td>F</td>\n",
       "      <td>Caucasian</td>\n",
       "      <td>25 - 45</td>\n",
       "      <td>Male</td>\n",
       "      <td>0</td>\n",
       "      <td>-1.0</td>\n",
       "      <td>4</td>\n",
       "      <td>0</td>\n",
       "      <td>0</td>\n",
       "      <td>2013-11-25 06:31:06</td>\n",
       "      <td>2013-11-26 08:26:57</td>\n",
       "      <td>1</td>\n",
       "      <td>0</td>\n",
       "      <td>1</td>\n",
       "      <td>0</td>\n",
       "    </tr>\n",
       "  </tbody>\n",
       "</table>\n",
       "</div>"
      ],
      "text/plain": [
       "    age c_charge_degree              race       age_cat     sex  priors_count  \\\n",
       "id                                                                              \n",
       "3    34               F  African-American       25 - 45    Male             0   \n",
       "4    24               F  African-American  Less than 25    Male             4   \n",
       "8    41               F         Caucasian       25 - 45    Male            14   \n",
       "10   39               M         Caucasian       25 - 45  Female             0   \n",
       "14   27               F         Caucasian       25 - 45    Male             0   \n",
       "\n",
       "    days_b_screening_arrest  decile_score  is_recid  two_year_recid  \\\n",
       "id                                                                    \n",
       "3                      -1.0             3         1               1   \n",
       "4                      -1.0             4         1               1   \n",
       "8                      -1.0             6         1               1   \n",
       "10                     -1.0             1         0               0   \n",
       "14                     -1.0             4         0               0   \n",
       "\n",
       "              c_jail_in           c_jail_out  length_of_stay  score_text_High  \\\n",
       "id                                                                              \n",
       "3   2013-01-26 03:45:27  2013-02-05 05:36:53              10                0   \n",
       "4   2013-04-13 04:58:34  2013-04-14 07:02:04               1                0   \n",
       "8   2014-02-18 05:08:24  2014-02-24 12:18:30               6                0   \n",
       "10  2014-03-15 05:35:34  2014-03-18 04:28:46               2                0   \n",
       "14  2013-11-25 06:31:06  2013-11-26 08:26:57               1                0   \n",
       "\n",
       "    score_text_Low  score_text_Medium  \n",
       "id                                     \n",
       "3                1                  0  \n",
       "4                1                  0  \n",
       "8                0                  1  \n",
       "10               1                  0  \n",
       "14               1                  0  "
      ]
     },
     "execution_count": 2,
     "metadata": {},
     "output_type": "execute_result"
    }
   ],
   "source": [
    "compas_df.head()"
   ]
  },
  {
   "cell_type": "markdown",
   "id": "72d10d78",
   "metadata": {},
   "source": [
    "Notice the last three columns.  When we use `pd.getdummies` with its `columns` parameter, then we can append the columns all at once and they get the original column name prepended to the value in the new column name."
   ]
  },
  {
   "cell_type": "markdown",
   "id": "3a860970",
   "metadata": {},
   "source": [
    "We use the `two_year_recid` as the basis of our audit because it is the real outcome that the designers of COMPAS were hoping to predict.  Sicne the COMPAS score is on a scale of 1-10, we transform to a binary variable by thresholding it (eg all above t are 1, below are 0).  We use the `score_text` instead of `decile_score` in our thresholding so that we use a recommended threshold. \n",
    "\n",
    "\n",
    "More common is to use medium or high to check accuracy (or not low) we can calulate tihs by either summing two or inverting"
   ]
  },
  {
   "cell_type": "markdown",
   "id": "332d9eec",
   "metadata": {},
   "source": [
    "let's do it by inverting here"
   ]
  },
  {
   "cell_type": "code",
   "execution_count": 3,
   "id": "83b395e1",
   "metadata": {},
   "outputs": [],
   "source": [
    "int_not = lambda a:int(not(a))\n",
    "compas_df['score_text_MedHigh'] = compas_df['score_text_Low'].apply(int_not)"
   ]
  },
  {
   "cell_type": "markdown",
   "id": "16955e0d",
   "metadata": {},
   "source": [
    "Let's review computing the accruacy with sklearn:"
   ]
  },
  {
   "cell_type": "code",
   "execution_count": 4,
   "id": "24dd6f02",
   "metadata": {},
   "outputs": [
    {
     "data": {
      "text/plain": [
       "0.6288366805608185"
      ]
     },
     "execution_count": 4,
     "metadata": {},
     "output_type": "execute_result"
    }
   ],
   "source": [
    "skmetrics.accuracy_score(compas_df['two_year_recid'],\n",
    "                         compas_df['score_text_High'])"
   ]
  },
  {
   "cell_type": "code",
   "execution_count": 5,
   "id": "a4fa1954",
   "metadata": {},
   "outputs": [
    {
     "data": {
      "text/plain": [
       "0.6582038651004168"
      ]
     },
     "execution_count": 5,
     "metadata": {},
     "output_type": "execute_result"
    }
   ],
   "source": [
    "skmetrics.accuracy_score(compas_df['two_year_recid'],\n",
    "                         compas_df['score_text_MedHigh'])"
   ]
  },
  {
   "cell_type": "markdown",
   "id": "d0ad4230",
   "metadata": {},
   "source": [
    "## What about breaking it down by race?\n",
    "\n",
    "Recall, we used groupby to get the per race score by creating a `lambda` function that we could apply to the groupby object."
   ]
  },
  {
   "cell_type": "code",
   "execution_count": 6,
   "id": "74f1bc0d",
   "metadata": {},
   "outputs": [],
   "source": [
    "compas_race = compas_df.groupby('race')"
   ]
  },
  {
   "cell_type": "markdown",
   "id": "30fc0dd2",
   "metadata": {},
   "source": [
    "We can apply our method to each part of the  groupby object with `apply`"
   ]
  },
  {
   "cell_type": "code",
   "execution_count": 7,
   "id": "b841f68f",
   "metadata": {},
   "outputs": [
    {
     "data": {
      "text/html": [
       "<div>\n",
       "<style scoped>\n",
       "    .dataframe tbody tr th:only-of-type {\n",
       "        vertical-align: middle;\n",
       "    }\n",
       "\n",
       "    .dataframe tbody tr th {\n",
       "        vertical-align: top;\n",
       "    }\n",
       "\n",
       "    .dataframe thead th {\n",
       "        text-align: right;\n",
       "    }\n",
       "</style>\n",
       "<table border=\"1\" class=\"dataframe\">\n",
       "  <thead>\n",
       "    <tr style=\"text-align: right;\">\n",
       "      <th></th>\n",
       "      <th>race</th>\n",
       "      <th>accuracy</th>\n",
       "    </tr>\n",
       "  </thead>\n",
       "  <tbody>\n",
       "    <tr>\n",
       "      <th>0</th>\n",
       "      <td>African-American</td>\n",
       "      <td>0.649134</td>\n",
       "    </tr>\n",
       "    <tr>\n",
       "      <th>1</th>\n",
       "      <td>Caucasian</td>\n",
       "      <td>0.671897</td>\n",
       "    </tr>\n",
       "  </tbody>\n",
       "</table>\n",
       "</div>"
      ],
      "text/plain": [
       "               race  accuracy\n",
       "0  African-American  0.649134\n",
       "1         Caucasian  0.671897"
      ]
     },
     "execution_count": 7,
     "metadata": {},
     "output_type": "execute_result"
    }
   ],
   "source": [
    "acc_fx = lambda d: skmetrics.accuracy_score(d['two_year_recid'],\n",
    "                         d['score_text_MedHigh'])\n",
    "\n",
    "compas_race.apply(acc_fx,).reset_index().rename(columns={0:'accuracy'})"
   ]
  },
  {
   "cell_type": "markdown",
   "id": "58b01e9a",
   "metadata": {},
   "source": [
    "## ML Notation\n",
    "\n",
    "We use standard notation in machine learning, and in fair machine learning speicfically. \n",
    "\n",
    "This is important because we want to be able to communicate,like we call the horizontal and vertical axes of a plot the `x` and `y` axes. \n",
    "\n",
    "The AIF 360 pacakge we are about to use and sklearn both use this notation. \n",
    "\n",
    "-  _target_ or _labels_, denoted by for one sample (row) $i$ $\\mathbf{y_i}$.\n",
    "- whole column of the target variable is $Y$\n",
    "- \"hat\" notation for predictions/ output of prediction algorithm $\\hat{y}_i$ and $\\hat{Y}$\n",
    "- \"protected attribute\" $a_i$ and $A$\n",
    "\n",
    "we use lowercase for one sample and uppercase for many."
   ]
  },
  {
   "cell_type": "code",
   "execution_count": 8,
   "id": "96937cc9",
   "metadata": {},
   "outputs": [
    {
     "name": "stdout",
     "output_type": "stream",
     "text": [
      "Help on function accuracy_score in module sklearn.metrics._classification:\n",
      "\n",
      "accuracy_score(y_true, y_pred, *, normalize=True, sample_weight=None)\n",
      "    Accuracy classification score.\n",
      "    \n",
      "    In multilabel classification, this function computes subset accuracy:\n",
      "    the set of labels predicted for a sample must *exactly* match the\n",
      "    corresponding set of labels in y_true.\n",
      "    \n",
      "    Read more in the :ref:`User Guide <accuracy_score>`.\n",
      "    \n",
      "    Parameters\n",
      "    ----------\n",
      "    y_true : 1d array-like, or label indicator array / sparse matrix\n",
      "        Ground truth (correct) labels.\n",
      "    \n",
      "    y_pred : 1d array-like, or label indicator array / sparse matrix\n",
      "        Predicted labels, as returned by a classifier.\n",
      "    \n",
      "    normalize : bool, default=True\n",
      "        If ``False``, return the number of correctly classified samples.\n",
      "        Otherwise, return the fraction of correctly classified samples.\n",
      "    \n",
      "    sample_weight : array-like of shape (n_samples,), default=None\n",
      "        Sample weights.\n",
      "    \n",
      "    Returns\n",
      "    -------\n",
      "    score : float\n",
      "        If ``normalize == True``, return the fraction of correctly\n",
      "        classified samples (float), else returns the number of correctly\n",
      "        classified samples (int).\n",
      "    \n",
      "        The best performance is 1 with ``normalize == True`` and the number\n",
      "        of samples with ``normalize == False``.\n",
      "    \n",
      "    See Also\n",
      "    --------\n",
      "    balanced_accuracy_score : Compute the balanced accuracy to deal with\n",
      "        imbalanced datasets.\n",
      "    jaccard_score : Compute the Jaccard similarity coefficient score.\n",
      "    hamming_loss : Compute the average Hamming loss or Hamming distance between\n",
      "        two sets of samples.\n",
      "    zero_one_loss : Compute the Zero-one classification loss. By default, the\n",
      "        function will return the percentage of imperfectly predicted subsets.\n",
      "    \n",
      "    Notes\n",
      "    -----\n",
      "    In binary classification, this function is equal to the `jaccard_score`\n",
      "    function.\n",
      "    \n",
      "    Examples\n",
      "    --------\n",
      "    >>> from sklearn.metrics import accuracy_score\n",
      "    >>> y_pred = [0, 2, 1, 3]\n",
      "    >>> y_true = [0, 1, 2, 3]\n",
      "    >>> accuracy_score(y_true, y_pred)\n",
      "    0.5\n",
      "    >>> accuracy_score(y_true, y_pred, normalize=False)\n",
      "    2\n",
      "    \n",
      "    In the multilabel case with binary label indicators:\n",
      "    \n",
      "    >>> import numpy as np\n",
      "    >>> accuracy_score(np.array([[0, 1], [1, 1]]), np.ones((2, 2)))\n",
      "    0.5\n",
      "\n"
     ]
    }
   ],
   "source": [
    "help(skmetrics.accuracy_score)"
   ]
  },
  {
   "cell_type": "markdown",
   "id": "0a10764f",
   "metadata": {},
   "source": [
    "## Using AIF360\n",
    "\n",
    "The AIF360 package implements fairness metrics, some of which are derived from metrics we have seen and some others. [the documentation](https://aif360.readthedocs.io/en/latest/modules/generated/aif360.metrics.ClassificationMetric.html#aif360.metrics.ClassificationMetric) has the full list in a summary table with English explanations and details with most equations.\n",
    "\n",
    "\n",
    "\n",
    "However, it has a few requirements:\n",
    "- its constructor takes two `BinaryLabelDataset` objects\n",
    "- these objects must be the same except for the label column\n",
    "- the constructor for `BinaryLabelDataset` only accepts all numerical DataFrames\n",
    "\n",
    "\n",
    "So, we have some preparation to do.  \n",
    "\n",
    "\n",
    "First, we'll make a numerical copy of the `compas_df` columns that we need. The only nonnumerical column that we need is race, wo we'll make a `dict` to replace that/"
   ]
  },
  {
   "cell_type": "markdown",
   "id": "a6e24a01",
   "metadata": {},
   "source": [
    "We need to used numerical values for the protected attribute. so lets make a mapping value"
   ]
  },
  {
   "cell_type": "code",
   "execution_count": 9,
   "id": "8baf978a",
   "metadata": {},
   "outputs": [
    {
     "data": {
      "text/plain": [
       "{'African-American': 0, 'Caucasian': 1}"
      ]
     },
     "execution_count": 9,
     "metadata": {},
     "output_type": "execute_result"
    }
   ],
   "source": [
    "race_num_map = {r:i for i,r, in enumerate(compas_df['race'].value_counts().index)}\n",
    "race_num_map"
   ]
  },
  {
   "cell_type": "code",
   "execution_count": 10,
   "id": "44e48586",
   "metadata": {},
   "outputs": [
    {
     "data": {
      "text/plain": [
       "id\n",
       "3        0\n",
       "4        0\n",
       "8        1\n",
       "10       1\n",
       "14       1\n",
       "        ..\n",
       "10994    0\n",
       "10995    0\n",
       "10996    0\n",
       "10997    0\n",
       "11000    0\n",
       "Name: race, Length: 5278, dtype: int64"
      ]
     },
     "execution_count": 10,
     "metadata": {},
     "output_type": "execute_result"
    }
   ],
   "source": [
    "compas_df['race'].replace(race_num_map)"
   ]
  },
  {
   "cell_type": "markdown",
   "id": "cf01b17a",
   "metadata": {},
   "source": [
    "We will also only use a few of the variables."
   ]
  },
  {
   "cell_type": "code",
   "execution_count": 11,
   "id": "b8232397",
   "metadata": {},
   "outputs": [
    {
     "data": {
      "text/html": [
       "<div>\n",
       "<style scoped>\n",
       "    .dataframe tbody tr th:only-of-type {\n",
       "        vertical-align: middle;\n",
       "    }\n",
       "\n",
       "    .dataframe tbody tr th {\n",
       "        vertical-align: top;\n",
       "    }\n",
       "\n",
       "    .dataframe thead th {\n",
       "        text-align: right;\n",
       "    }\n",
       "</style>\n",
       "<table border=\"1\" class=\"dataframe\">\n",
       "  <thead>\n",
       "    <tr style=\"text-align: right;\">\n",
       "      <th></th>\n",
       "      <th>race</th>\n",
       "      <th>two_year_recid</th>\n",
       "      <th>score_text_MedHigh</th>\n",
       "    </tr>\n",
       "    <tr>\n",
       "      <th>id</th>\n",
       "      <th></th>\n",
       "      <th></th>\n",
       "      <th></th>\n",
       "    </tr>\n",
       "  </thead>\n",
       "  <tbody>\n",
       "    <tr>\n",
       "      <th>3</th>\n",
       "      <td>0</td>\n",
       "      <td>1</td>\n",
       "      <td>0</td>\n",
       "    </tr>\n",
       "    <tr>\n",
       "      <th>4</th>\n",
       "      <td>0</td>\n",
       "      <td>1</td>\n",
       "      <td>0</td>\n",
       "    </tr>\n",
       "  </tbody>\n",
       "</table>\n",
       "</div>"
      ],
      "text/plain": [
       "    race  two_year_recid  score_text_MedHigh\n",
       "id                                          \n",
       "3      0               1                   0\n",
       "4      0               1                   0"
      ]
     },
     "execution_count": 11,
     "metadata": {},
     "output_type": "execute_result"
    }
   ],
   "source": [
    "required_cols = ['race','two_year_recid','score_text_MedHigh']\n",
    "num_compas = compas_df[required_cols].replace(race_num_map)\n",
    "num_compas.head(2)"
   ]
  },
  {
   "cell_type": "markdown",
   "id": "3b3cc41a",
   "metadata": {},
   "source": [
    "The scoring object requires that we have special data structures that wrap a DataFrame. \n",
    "\n",
    "We need one aif360 binary labeled dataset for the true values and one for the predictions. \n",
    "++\n",
    "\n",
    "Next we will make two versions, one with race & the ground truth and ht eother with race & the predictions. It's easiest to drop the column we don't want."
   ]
  },
  {
   "cell_type": "markdown",
   "id": "2423b116",
   "metadata": {},
   "source": [
    "The difference between the two datasets needs to be only the label column, so we drop the other variable from each small dataframe that we create."
   ]
  },
  {
   "cell_type": "code",
   "execution_count": 12,
   "id": "260d2769",
   "metadata": {},
   "outputs": [],
   "source": [
    "num_compas_true = num_compas.drop(columns=['score_text_MedHigh'])\n",
    "num_compas_pred = num_compas.drop(columns=['two_year_recid'])"
   ]
  },
  {
   "cell_type": "markdown",
   "id": "4665d017",
   "metadata": {},
   "source": [
    "Now we make the [`BinaryLabelDataset`](https://aif360.readthedocs.io/en/latest/modules/generated/aif360.datasets.BinaryLabelDataset.html#aif360.datasets.BinaryLabelDataset) objects, this type comes from AIF360 too.  Basically, it is a DataFrame with extra attributes; some specific and some inherited from [`StructuredDataset`](https://aif360.readthedocs.io/en/latest/modules/generated/aif360.datasets.StructuredDataset.html#aif360.datasets.StructuredDataset).\n",
    "\n",
    "\n",
    "````{margin}\n",
    "```{note}\n",
    "remember, you can inspect *any* object using the `__dict__` attribute\n",
    "```\n",
    "````"
   ]
  },
  {
   "cell_type": "code",
   "execution_count": 13,
   "id": "6c0c338c",
   "metadata": {},
   "outputs": [],
   "source": [
    "# here we want actual favorable outcome\n",
    "broward_true = BinaryLabelDataset(favorable_label=0,unfavorable_label=1,\n",
    "                                  df = num_compas_true,\n",
    "                   label_names= ['two_year_recid'],\n",
    "                  protected_attribute_names=['race'])\n",
    "compas_predictions = BinaryLabelDataset(favorable_label=0,unfavorable_label=1,\n",
    "                                        df = num_compas_pred,\n",
    "                   label_names= ['score_text_MedHigh'],\n",
    "                  protected_attribute_names=['race'])"
   ]
  },
  {
   "cell_type": "markdown",
   "id": "87ef96aa",
   "metadata": {},
   "source": [
    "This type also has an `ignore_fields` column for when comparisons are made, since the requirement is that only the *content* of the label column is different, but in our case also the label names are different, we have to tell it that that's okay."
   ]
  },
  {
   "cell_type": "code",
   "execution_count": 14,
   "id": "d5901a37",
   "metadata": {},
   "outputs": [],
   "source": [
    "# beacuse our columsn are named differently, we have to ignore that\n",
    "compas_predictions.ignore_fields.add('label_names')\n",
    "broward_true.ignore_fields.add('label_names')"
   ]
  },
  {
   "cell_type": "code",
   "execution_count": 15,
   "id": "4e9ae6df",
   "metadata": {},
   "outputs": [],
   "source": [
    "compas_fair_scorer = fairmetrics.ClassificationMetric(broward_true,\n",
    "                                                      compas_predictions,\n",
    "                                 unprivileged_groups=[{'race':0}],\n",
    "                                privileged_groups = [{'race':1}])"
   ]
  },
  {
   "cell_type": "markdown",
   "id": "5fcd1ea5",
   "metadata": {},
   "source": [
    "Now we can use the scores"
   ]
  },
  {
   "cell_type": "code",
   "execution_count": 16,
   "id": "35ceadb5",
   "metadata": {},
   "outputs": [
    {
     "data": {
      "text/plain": [
       "0.6582038651004168"
      ]
     },
     "execution_count": 16,
     "metadata": {},
     "output_type": "execute_result"
    }
   ],
   "source": [
    "compas_fair_scorer.accuracy()"
   ]
  },
  {
   "cell_type": "markdown",
   "id": "453ca7f3",
   "metadata": {},
   "source": [
    "By default, we get the overall accuracy.  This calculation matches what we got using sklearn. \n",
    "\n",
    "\n",
    "\n",
    "For the aif360 metrics, they have one parameter, `privleged` with a defautl value of `None` when it's none it computes th ewhole dataset.  When `True` it compues only the priveleged group."
   ]
  },
  {
   "cell_type": "code",
   "execution_count": 17,
   "id": "c13b840e",
   "metadata": {},
   "outputs": [
    {
     "data": {
      "text/plain": [
       "0.6718972895863052"
      ]
     },
     "execution_count": 17,
     "metadata": {},
     "output_type": "execute_result"
    }
   ],
   "source": [
    "compas_fair_scorer.accuracy(True)"
   ]
  },
  {
   "cell_type": "markdown",
   "id": "9de5bbe4",
   "metadata": {},
   "source": [
    "Here that is Caucasion people."
   ]
  },
  {
   "cell_type": "markdown",
   "id": "b70dd3a6",
   "metadata": {},
   "source": [
    "When `False` it's the unpriveleged group, here African American"
   ]
  },
  {
   "cell_type": "code",
   "execution_count": 18,
   "id": "a122473a",
   "metadata": {},
   "outputs": [
    {
     "data": {
      "text/plain": [
       "0.6491338582677165"
      ]
     },
     "execution_count": 18,
     "metadata": {},
     "output_type": "execute_result"
    }
   ],
   "source": [
    "compas_fair_scorer.accuracy(False)"
   ]
  },
  {
   "cell_type": "markdown",
   "id": "af5c60ef",
   "metadata": {},
   "source": [
    "These again match what we calculated before, the advantaged group (White) for True and disadvantaged group (Black) for False"
   ]
  },
  {
   "cell_type": "code",
   "execution_count": 19,
   "id": "86203a6f",
   "metadata": {},
   "outputs": [
    {
     "data": {
      "text/plain": [
       "0.02276343131858871"
      ]
     },
     "execution_count": 19,
     "metadata": {},
     "output_type": "execute_result"
    }
   ],
   "source": [
    "compas_fair_scorer.error_rate_difference()"
   ]
  },
  {
   "cell_type": "markdown",
   "id": "84af535d",
   "metadata": {},
   "source": [
    "the error rate alone does not tell the whole story because there are two types of errors. Plus there are even more ways we can think about if something is fair or not."
   ]
  },
  {
   "cell_type": "markdown",
   "id": "05a6e955",
   "metadata": {},
   "source": [
    "### Disparate Impact \n",
    "\n",
    "One way we might want to be fair is if the same % of each group of people (Black, $A=0$ and White,$A=1$) get the favorable outcome (a low score). \n",
    "\n",
    "\n",
    "In Disparate Impact the ratio is of the positive outcome, independent of the predictor.  So this is the ratio of the % of Black people not rearrested to % of white people rearrested.\n",
    "\n",
    "\n",
    "\n",
    "$$D = \\frac{\\Pr(\\hat{Y} = 1|A=0)}{\\Pr(\\hat{Y} =1|A=1)}$$"
   ]
  },
  {
   "cell_type": "markdown",
   "id": "f0a40d1c",
   "metadata": {},
   "source": [
    "This is equivalent to saying that the score is unrelated to race."
   ]
  },
  {
   "cell_type": "markdown",
   "id": "e42cb718",
   "metadata": {},
   "source": [
    "This type of fair is often the kind that most people think of intuitively. It is like dividing things equally."
   ]
  },
  {
   "cell_type": "code",
   "execution_count": 20,
   "id": "e5ea1bdd",
   "metadata": {},
   "outputs": [
    {
     "data": {
      "text/plain": [
       "0.6336457196581771"
      ]
     },
     "execution_count": 20,
     "metadata": {},
     "output_type": "execute_result"
    }
   ],
   "source": [
    "compas_fair_scorer.disparate_impact()"
   ]
  },
  {
   "cell_type": "markdown",
   "id": "07a7e7c9",
   "metadata": {},
   "source": [
    "US court doctrine says that this quantity has to be above .8 for employment decisions.  Does COMPAS pass this criterion?"
   ]
  },
  {
   "cell_type": "markdown",
   "id": "4bf42864",
   "metadata": {},
   "source": [
    "## Equalized Odds Fairness\n",
    "\n",
    "The journalists were concerned with the types of errors.  They accepted that it is not the creators of COMPAS fault that Black people get arrested at higher rates (though actual crime rates are equal; Black neighborhoods tend to be overpoliced). They wanted to consider what actually happened and then see how COMPAS did within each group."
   ]
  },
  {
   "cell_type": "code",
   "execution_count": 21,
   "id": "5c500c22",
   "metadata": {},
   "outputs": [
    {
     "data": {
      "text/plain": [
       "0.49635036496350365"
      ]
     },
     "execution_count": 21,
     "metadata": {},
     "output_type": "execute_result"
    }
   ],
   "source": [
    "compas_fair_scorer.false_positive_rate(True)"
   ]
  },
  {
   "cell_type": "code",
   "execution_count": 22,
   "id": "5d3d6c18",
   "metadata": {},
   "outputs": [
    {
     "data": {
      "text/plain": [
       "0.2847682119205298"
      ]
     },
     "execution_count": 22,
     "metadata": {},
     "output_type": "execute_result"
    }
   ],
   "source": [
    "compas_fair_scorer.false_positive_rate(False)"
   ]
  },
  {
   "cell_type": "markdown",
   "id": "017ac890",
   "metadata": {},
   "source": [
    "false positives are incorrectly got a low score.  \n",
    "\n",
    "This is different from how the problem was setup when we used sklearn because sklearn assumes tht 0 is the negative class and 1 is the \"positive\" class, but AIF360 lets us declre the favorable outcome(positive class) and unfavorable outcome (negative class)"
   ]
  },
  {
   "cell_type": "markdown",
   "id": "0a80e661",
   "metadata": {},
   "source": [
    "White people were given a low score and then re-arrested almost twice as often as Black people."
   ]
  },
  {
   "cell_type": "markdown",
   "id": "44228d0c",
   "metadata": {},
   "source": [
    "Black people were given a low score and then re-arrested only a little more than half as often as white people.  (White people were give an low score and rearrested almost twice as often)"
   ]
  },
  {
   "cell_type": "markdown",
   "id": "b521b163",
   "metadata": {},
   "source": [
    "To make a single metric, we might take a ratio.  This is where the journalists [found bias](https://www.propublica.org/article/machine-bias-risk-assessments-in-criminal-sentencing)."
   ]
  },
  {
   "cell_type": "code",
   "execution_count": 23,
   "id": "5be6aeb4",
   "metadata": {},
   "outputs": [
    {
     "data": {
      "text/plain": [
       "0.5737241916634204"
      ]
     },
     "execution_count": 23,
     "metadata": {},
     "output_type": "execute_result"
    }
   ],
   "source": [
    "compas_fair_scorer.false_positive_rate_ratio()"
   ]
  },
  {
   "cell_type": "markdown",
   "id": "91700db2",
   "metadata": {},
   "source": [
    "This metric would be fair with a value of 1."
   ]
  },
  {
   "cell_type": "markdown",
   "id": "c16777b3",
   "metadata": {},
   "source": [
    "got a high score and did not re-arrested  as a percentage of those who got a high score \n",
    "\n",
    "\n",
    "We can look at the other type of error"
   ]
  },
  {
   "cell_type": "code",
   "execution_count": 24,
   "id": "2e031ef4",
   "metadata": {},
   "outputs": [
    {
     "data": {
      "text/plain": [
       "0.22014051522248243"
      ]
     },
     "execution_count": 24,
     "metadata": {},
     "output_type": "execute_result"
    }
   ],
   "source": [
    "compas_fair_scorer.false_negative_rate(True)"
   ]
  },
  {
   "cell_type": "code",
   "execution_count": 25,
   "id": "e6a040b0",
   "metadata": {},
   "outputs": [
    {
     "data": {
      "text/plain": [
       "0.4233817701453104"
      ]
     },
     "execution_count": 25,
     "metadata": {},
     "output_type": "execute_result"
    }
   ],
   "source": [
    "compas_fair_scorer.false_negative_rate(False)"
   ]
  },
  {
   "cell_type": "code",
   "execution_count": 26,
   "id": "c75de3ba",
   "metadata": {},
   "outputs": [
    {
     "data": {
      "text/plain": [
       "1.9232342111919953"
      ]
     },
     "execution_count": 26,
     "metadata": {},
     "output_type": "execute_result"
    }
   ],
   "source": [
    "compas_fair_scorer.false_negative_rate_ratio()"
   ]
  },
  {
   "cell_type": "markdown",
   "id": "5ab2f5e3",
   "metadata": {},
   "source": [
    "Black people were given a high score and not rearrested almost twice as often as white people.\n",
    "\n",
    "So while the accuracy was similar (see error rate ratio) for Black and White people; the algorithm makes the opposite types of errors."
   ]
  },
  {
   "cell_type": "markdown",
   "id": "0b6a31f8",
   "metadata": {},
   "source": [
    "### Average Odds Difference\n",
    "\n",
    "This is a combines the two errors we looked at separately into a single metric.  \n",
    "\n",
    "$$ \\tfrac{1}{2}\\left[(FPR_{A = \\text{unprivileged}} - FPR_{A = \\text{privileged}})\n",
    "   + (TPR_{A = \\text{unprivileged}} - TPR_{A = \\text{privileged}}))\\right]$$"
   ]
  },
  {
   "cell_type": "code",
   "execution_count": 27,
   "id": "c2c371f3",
   "metadata": {},
   "outputs": [
    {
     "data": {
      "text/plain": [
       "-0.2074117039829009"
      ]
     },
     "execution_count": 27,
     "metadata": {},
     "output_type": "execute_result"
    }
   ],
   "source": [
    "compas_fair_scorer.average_odds_difference()"
   ]
  },
  {
   "cell_type": "markdown",
   "id": "4a12652b",
   "metadata": {},
   "source": [
    "**note** if time, discuss: \n",
    "- What should this look like if it is fair?\n",
    "- what could this metric hide?"
   ]
  },
  {
   "cell_type": "markdown",
   "id": "9cbcc45b",
   "metadata": {},
   "source": [
    "After the journalists published the piece, the people who made COMPAS countered with a technical report, arguing that that the journalists had measured fairness incorrectly.\n",
    "\n",
    "The journalists two measures false positive rate and false negative rate use the true outcomes as the denominator.  \n",
    "\n",
    "## Sufficiency and Calibration\n",
    "\n",
    "The [COMPAS creators argued](https://www.equivant.com/response-to-propublica-demonstrating-accuracy-equity-and-predictive-parity/) that the model should be evaluated in terms of if a given score means the same thing across races; using the prediction as the denominator."
   ]
  },
  {
   "cell_type": "markdown",
   "id": "47262d69",
   "metadata": {},
   "source": [
    "We can look at their preferred metrics too"
   ]
  },
  {
   "cell_type": "code",
   "execution_count": 28,
   "id": "6aac825d",
   "metadata": {},
   "outputs": [
    {
     "data": {
      "text/plain": [
       "0.4051724137931034"
      ]
     },
     "execution_count": 28,
     "metadata": {},
     "output_type": "execute_result"
    }
   ],
   "source": [
    "compas_fair_scorer.false_omission_rate(True)"
   ]
  },
  {
   "cell_type": "code",
   "execution_count": 29,
   "id": "2445d372",
   "metadata": {},
   "outputs": [
    {
     "data": {
      "text/plain": [
       "0.35046473482777474"
      ]
     },
     "execution_count": 29,
     "metadata": {},
     "output_type": "execute_result"
    }
   ],
   "source": [
    "compas_fair_scorer.false_omission_rate(False)"
   ]
  },
  {
   "cell_type": "code",
   "execution_count": 30,
   "id": "bca0457f",
   "metadata": {},
   "outputs": [
    {
     "data": {
      "text/plain": [
       "0.8649767923408909"
      ]
     },
     "execution_count": 30,
     "metadata": {},
     "output_type": "execute_result"
    }
   ],
   "source": [
    "compas_fair_scorer.false_omission_rate_ratio()"
   ]
  },
  {
   "cell_type": "code",
   "execution_count": 31,
   "id": "7a3417ea",
   "metadata": {},
   "outputs": [
    {
     "data": {
      "text/plain": [
       "1.2118532033913119"
      ]
     },
     "execution_count": 31,
     "metadata": {},
     "output_type": "execute_result"
    }
   ],
   "source": [
    "compas_fair_scorer.false_discovery_rate_ratio()"
   ]
  },
  {
   "cell_type": "markdown",
   "id": "94acff0c",
   "metadata": {},
   "source": [
    "On these two metrics, the ratio is closer to 1 and much less disparate.\n",
    "\n",
    "\n",
    "The creators thought it was important for the score to mean the same thing for every person assigned a score. The journalists thought it was more important for the algorithm to have the same impact of different groups of people.  \n",
    "Ideally, we would like the score to both mean the same thing for different people and to have the same impact."
   ]
  },
  {
   "cell_type": "markdown",
   "id": "fd166b0b",
   "metadata": {},
   "source": [
    "Researchers established that these are mutually exclusive, provably.  We cannot have both, so it is very important to think about what the performance metrics mean and how your algorithm will be used in order to choose how to prepare a model.  We will train models starting next week, but knowing these goals in advance is essential."
   ]
  },
  {
   "cell_type": "markdown",
   "id": "0c28e762",
   "metadata": {},
   "source": [
    "Importantly, this is not a statistical, computational choice that data can answer for us. This is about *human* values (and to some extent the law; certain domains have legal protections that require a specific condition)."
   ]
  },
  {
   "cell_type": "markdown",
   "id": "f561dd97",
   "metadata": {},
   "source": [
    "The Fair Machine Learning book's classification Chapter has a [section on relationships between criteria](https://fairmlbook.org/classification.html#relationships-between-criteria) with the proofs."
   ]
  },
  {
   "cell_type": "markdown",
   "id": "da682e72",
   "metadata": {},
   "source": [
    "To put it all together, we can make a plot. First we'll make a DataFrame"
   ]
  },
  {
   "cell_type": "code",
   "execution_count": 32,
   "id": "cd754ab0",
   "metadata": {},
   "outputs": [
    {
     "data": {
      "text/html": [
       "<div>\n",
       "<style scoped>\n",
       "    .dataframe tbody tr th:only-of-type {\n",
       "        vertical-align: middle;\n",
       "    }\n",
       "\n",
       "    .dataframe tbody tr th {\n",
       "        vertical-align: top;\n",
       "    }\n",
       "\n",
       "    .dataframe thead th {\n",
       "        text-align: right;\n",
       "    }\n",
       "</style>\n",
       "<table border=\"1\" class=\"dataframe\">\n",
       "  <thead>\n",
       "    <tr style=\"text-align: right;\">\n",
       "      <th></th>\n",
       "      <th>score</th>\n",
       "      <th>name</th>\n",
       "      <th>group</th>\n",
       "      <th>preferred_by</th>\n",
       "    </tr>\n",
       "  </thead>\n",
       "  <tbody>\n",
       "    <tr>\n",
       "      <th>0</th>\n",
       "      <td>0.864977</td>\n",
       "      <td>false ommission rate</td>\n",
       "      <td>sufficiency</td>\n",
       "      <td>COMPAS</td>\n",
       "    </tr>\n",
       "    <tr>\n",
       "      <th>1</th>\n",
       "      <td>1.211853</td>\n",
       "      <td>false discovery rate</td>\n",
       "      <td>sufficiency</td>\n",
       "      <td>COMPAS</td>\n",
       "    </tr>\n",
       "    <tr>\n",
       "      <th>2</th>\n",
       "      <td>0.573724</td>\n",
       "      <td>false positive rate</td>\n",
       "      <td>separation</td>\n",
       "      <td>ProPublica</td>\n",
       "    </tr>\n",
       "    <tr>\n",
       "      <th>3</th>\n",
       "      <td>1.923234</td>\n",
       "      <td>false negative rate</td>\n",
       "      <td>separation</td>\n",
       "      <td>ProPublica</td>\n",
       "    </tr>\n",
       "  </tbody>\n",
       "</table>\n",
       "</div>"
      ],
      "text/plain": [
       "      score                  name        group preferred_by\n",
       "0  0.864977  false ommission rate  sufficiency       COMPAS\n",
       "1  1.211853  false discovery rate  sufficiency       COMPAS\n",
       "2  0.573724   false positive rate   separation   ProPublica\n",
       "3  1.923234   false negative rate   separation   ProPublica"
      ]
     },
     "execution_count": 32,
     "metadata": {},
     "output_type": "execute_result"
    }
   ],
   "source": [
    "ratios = [{'score':compas_fair_scorer.false_omission_rate_ratio(),\n",
    "          'name': 'false ommission rate',\n",
    "          'group':'sufficiency',\n",
    "          'preferred_by':'COMPAS'},\n",
    "         {'score':compas_fair_scorer.false_discovery_rate_ratio(),\n",
    "          'name': 'false discovery rate',\n",
    "          'group':'sufficiency',\n",
    "          'preferred_by':'COMPAS'},\n",
    "         {'score':compas_fair_scorer.false_positive_rate_ratio(),\n",
    "          'name': 'false positive rate',\n",
    "          'group':'separation',\n",
    "          'preferred_by':'ProPublica'},\n",
    "         {'score':compas_fair_scorer.false_negative_rate_ratio(),\n",
    "          'name': 'false negative rate',\n",
    "          'group':'separation',\n",
    "          'preferred_by':'ProPublica'}]\n",
    "ratio_df = pd.DataFrame(ratios)\n",
    "ratio_df"
   ]
  },
  {
   "cell_type": "code",
   "execution_count": 33,
   "id": "11a88ed6",
   "metadata": {},
   "outputs": [],
   "source": [
    "%matplotlib inline"
   ]
  },
  {
   "cell_type": "code",
   "execution_count": 34,
   "id": "052cc460",
   "metadata": {},
   "outputs": [
    {
     "data": {
      "text/plain": [
       "<AxesSubplot:xlabel='name', ylabel='score'>"
      ]
     },
     "execution_count": 34,
     "metadata": {},
     "output_type": "execute_result"
    },
    {
     "data": {
      "image/png": "[encoded data removed]",
      "text/plain": [
       "<Figure size 1121.88x500 with 1 Axes>"
      ]
     },
     "metadata": {
      "filenames": {
       "image/png": "/Users/brownsarahm/Documents/teaching/dspcsc310/BrownSpring23/_build/jupyter_execute/notes/2023-03-02_78_1.png"
      }
     },
     "output_type": "display_data"
    }
   ],
   "source": [
    "sns.catplot(data=ratio_df,y='score',x='name',hue='preferred_by',\n",
    "           kind='bar',aspect=2)\n",
    "sns.lineplot(x = [-1,4],y=[1,1],color='black',legend=False)"
   ]
  },
  {
   "cell_type": "markdown",
   "id": "bcf4b00c",
   "metadata": {},
   "source": [
    "These are all ratios, so 1 is fair. COMPAS does okay on the measures it was designed around and poorly on the ones the journalists preferred."
   ]
  },
  {
   "cell_type": "code",
   "execution_count": 35,
   "id": "f653524c",
   "metadata": {},
   "outputs": [
    {
     "data": {
      "text/plain": [
       "-0.05470767896532869"
      ]
     },
     "execution_count": 35,
     "metadata": {},
     "output_type": "execute_result"
    }
   ],
   "source": [
    "compas_fair_scorer.false_omission_rate_difference()"
   ]
  },
  {
   "cell_type": "code",
   "execution_count": 36,
   "id": "3aed8541",
   "metadata": {},
   "outputs": [
    {
     "data": {
      "text/plain": [
       "1.2118532033913119"
      ]
     },
     "execution_count": 36,
     "metadata": {},
     "output_type": "execute_result"
    }
   ],
   "source": [
    "compas_fair_scorer.false_discovery_rate_ratio()"
   ]
  }
 ],
 "metadata": {
  "jupytext": {
   "text_representation": {
    "extension": ".md",
    "format_name": "myst",
    "format_version": 0.13,
    "jupytext_version": "1.14.1"
   }
  },
  "kernelspec": {
   "display_name": "Python 3",
   "language": "python",
   "name": "python3"
  },
  "language_info": {
   "codemirror_mode": {
    "name": "ipython",
    "version": 3
   },
   "file_extension": ".py",
   "mimetype": "text/x-python",
   "name": "python",
   "nbconvert_exporter": "python",
   "pygments_lexer": "ipython3",
   "version": "3.8.6"
  },
  "source_map": [
   12,
   23,
   34,
   38,
   59,
   63,
   65,
   69,
   78,
   82,
   85,
   88,
   93,
   96,
   104,
   106,
   110,
   115,
   133,
   135,
   156,
   160,
   165,
   167,
   171,
   175,
   185,
   188,
   191,
   203,
   215,
   219,
   225,
   230,
   234,
   236,
   244,
   247,
   249,
   253,
   257,
   261,
   263,
   267,
   281,
   285,
   289,
   291,
   295,
   301,
   305,
   307,
   313,
   317,
   321,
   328,
   330,
   332,
   340,
   344,
   348,
   350,
   356,
   365,
   367,
   373,
   385,
   389,
   393,
   397,
   401,
   403,
   411,
   413,
   415,
   417,
   421,
   442,
   448,
   452,
   456,
   460
  ]
 },
 "nbformat": 4,
 "nbformat_minor": 5
}