{
 "cells": [
  {
   "cell_type": "markdown",
   "id": "31269830",
   "metadata": {},
   "source": [
    "# Merging  and Databases\n",
    "\n",
    "\n",
    "## Announcements\n",
    "\n",
    "Assignment 3 is graded, but only today, so A4 is extended until tomorrow so that you can incorporate your A3 feedback into A4 (in particular, extending you EDA if you did not earn level 2 for summarize and visualize in A3). \n",
    "\n",
    "\n",
    "Your achievement trackers are updated.\n",
    "\n",
    "Take a few minutes to think about the following questions and make a few notes\n",
    "for yourself whereever you need them to be (a planner, calendar, etc).\n",
    "1. What achievements have you earned?\n",
    "1. Does your tracking repo  seem accurate to what you've done? If not, make an issue to ask about it. \n",
    "2. Are you on track to earn the grade you want in this class?\n",
    "1. If not, what will you need to do (respond more in class, submit more\n",
    "   assignments, use your portfolio to catch up) to get back on track?\n",
    "1. If you are on track and you want to earn above a B, take a minute to think\n",
    "about your portfolio. (tip: post an idea as an issue to get early feedback and help shaping your idea)\n",
    "\n",
    "\n",
    "## Merging Data \n",
    "\n",
    "Focus this week is on how to programmatically combine sources of data\n",
    "\n",
    "We will start by looking at combining multiple tabular data formats and see how to get data from other sources."
   ]
  },
  {
   "cell_type": "code",
   "execution_count": 1,
   "id": "ef7f029e",
   "metadata": {},
   "outputs": [],
   "source": [
    "import pandas as pd\n",
    "import sqlite3\n",
    "from urllib import request"
   ]
  },
  {
   "cell_type": "markdown",
   "id": "188d2ce0",
   "metadata": {},
   "source": [
    "we're going to work with a set of datasets today that are stored in a repo."
   ]
  },
  {
   "cell_type": "code",
   "execution_count": 2,
   "id": "76152efe",
   "metadata": {},
   "outputs": [],
   "source": [
    "course_data_url = 'https://raw.githubusercontent.com/rhodyprog4ds/rhodyds/main/data/'"
   ]
  },
  {
   "cell_type": "markdown",
   "id": "b7cd5df5",
   "metadata": {},
   "source": [
    " We can load in two data sets of player information."
   ]
  },
  {
   "cell_type": "code",
   "execution_count": 3,
   "id": "57d68e5d",
   "metadata": {},
   "outputs": [],
   "source": [
    "df_18 = pd.read_csv(course_data_url+'2018-players.csv')\n",
    "df_19 = pd.read_csv(course_data_url+'2019-players.csv')"
   ]
  },
  {
   "cell_type": "markdown",
   "id": "4e0521b4",
   "metadata": {},
   "source": [
    "and take a peek at each"
   ]
  },
  {
   "cell_type": "code",
   "execution_count": 4,
   "id": "c16deadf",
   "metadata": {},
   "outputs": [
    {
     "data": {
      "text/html": [
       "<div>\n",
       "<style scoped>\n",
       "    .dataframe tbody tr th:only-of-type {\n",
       "        vertical-align: middle;\n",
       "    }\n",
       "\n",
       "    .dataframe tbody tr th {\n",
       "        vertical-align: top;\n",
       "    }\n",
       "\n",
       "    .dataframe thead th {\n",
       "        text-align: right;\n",
       "    }\n",
       "</style>\n",
       "<table border=\"1\" class=\"dataframe\">\n",
       "  <thead>\n",
       "    <tr style=\"text-align: right;\">\n",
       "      <th></th>\n",
       "      <th>TEAM_ID</th>\n",
       "      <th>PLAYER_ID</th>\n",
       "      <th>SEASON</th>\n",
       "    </tr>\n",
       "  </thead>\n",
       "  <tbody>\n",
       "    <tr>\n",
       "      <th>0</th>\n",
       "      <td>1610612761</td>\n",
       "      <td>202695</td>\n",
       "      <td>2018</td>\n",
       "    </tr>\n",
       "    <tr>\n",
       "      <th>1</th>\n",
       "      <td>1610612761</td>\n",
       "      <td>1627783</td>\n",
       "      <td>2018</td>\n",
       "    </tr>\n",
       "    <tr>\n",
       "      <th>2</th>\n",
       "      <td>1610612761</td>\n",
       "      <td>201188</td>\n",
       "      <td>2018</td>\n",
       "    </tr>\n",
       "    <tr>\n",
       "      <th>3</th>\n",
       "      <td>1610612761</td>\n",
       "      <td>201980</td>\n",
       "      <td>2018</td>\n",
       "    </tr>\n",
       "    <tr>\n",
       "      <th>4</th>\n",
       "      <td>1610612761</td>\n",
       "      <td>200768</td>\n",
       "      <td>2018</td>\n",
       "    </tr>\n",
       "  </tbody>\n",
       "</table>\n",
       "</div>"
      ],
      "text/plain": [
       "      TEAM_ID  PLAYER_ID  SEASON\n",
       "0  1610612761     202695    2018\n",
       "1  1610612761    1627783    2018\n",
       "2  1610612761     201188    2018\n",
       "3  1610612761     201980    2018\n",
       "4  1610612761     200768    2018"
      ]
     },
     "execution_count": 4,
     "metadata": {},
     "output_type": "execute_result"
    }
   ],
   "source": [
    "df_18.head()"
   ]
  },
  {
   "cell_type": "code",
   "execution_count": 5,
   "id": "98923916",
   "metadata": {},
   "outputs": [
    {
     "data": {
      "text/html": [
       "<div>\n",
       "<style scoped>\n",
       "    .dataframe tbody tr th:only-of-type {\n",
       "        vertical-align: middle;\n",
       "    }\n",
       "\n",
       "    .dataframe tbody tr th {\n",
       "        vertical-align: top;\n",
       "    }\n",
       "\n",
       "    .dataframe thead th {\n",
       "        text-align: right;\n",
       "    }\n",
       "</style>\n",
       "<table border=\"1\" class=\"dataframe\">\n",
       "  <thead>\n",
       "    <tr style=\"text-align: right;\">\n",
       "      <th></th>\n",
       "      <th>PLAYER_NAME</th>\n",
       "      <th>TEAM_ID</th>\n",
       "      <th>PLAYER_ID</th>\n",
       "      <th>SEASON</th>\n",
       "    </tr>\n",
       "  </thead>\n",
       "  <tbody>\n",
       "    <tr>\n",
       "      <th>0</th>\n",
       "      <td>Royce O'Neale</td>\n",
       "      <td>1610612762</td>\n",
       "      <td>1626220</td>\n",
       "      <td>2019</td>\n",
       "    </tr>\n",
       "    <tr>\n",
       "      <th>1</th>\n",
       "      <td>Bojan Bogdanovic</td>\n",
       "      <td>1610612762</td>\n",
       "      <td>202711</td>\n",
       "      <td>2019</td>\n",
       "    </tr>\n",
       "    <tr>\n",
       "      <th>2</th>\n",
       "      <td>Rudy Gobert</td>\n",
       "      <td>1610612762</td>\n",
       "      <td>203497</td>\n",
       "      <td>2019</td>\n",
       "    </tr>\n",
       "    <tr>\n",
       "      <th>3</th>\n",
       "      <td>Donovan Mitchell</td>\n",
       "      <td>1610612762</td>\n",
       "      <td>1628378</td>\n",
       "      <td>2019</td>\n",
       "    </tr>\n",
       "    <tr>\n",
       "      <th>4</th>\n",
       "      <td>Mike Conley</td>\n",
       "      <td>1610612762</td>\n",
       "      <td>201144</td>\n",
       "      <td>2019</td>\n",
       "    </tr>\n",
       "  </tbody>\n",
       "</table>\n",
       "</div>"
      ],
      "text/plain": [
       "        PLAYER_NAME     TEAM_ID  PLAYER_ID  SEASON\n",
       "0     Royce O'Neale  1610612762    1626220    2019\n",
       "1  Bojan Bogdanovic  1610612762     202711    2019\n",
       "2       Rudy Gobert  1610612762     203497    2019\n",
       "3  Donovan Mitchell  1610612762    1628378    2019\n",
       "4       Mike Conley  1610612762     201144    2019"
      ]
     },
     "execution_count": 5,
     "metadata": {},
     "output_type": "execute_result"
    }
   ],
   "source": [
    "df_19.head()"
   ]
  },
  {
   "cell_type": "markdown",
   "id": "72f26e45",
   "metadata": {},
   "source": [
    "```{important}\n",
    "Remember `columns` is an attribute, so it does not need `()`\n",
    "```"
   ]
  },
  {
   "cell_type": "code",
   "execution_count": 6,
   "id": "f01db9eb",
   "metadata": {},
   "outputs": [
    {
     "data": {
      "text/plain": [
       "Index(['PLAYER_NAME', 'TEAM_ID', 'PLAYER_ID', 'SEASON'], dtype='object')"
      ]
     },
     "execution_count": 6,
     "metadata": {},
     "output_type": "execute_result"
    }
   ],
   "source": [
    "df_19.columns"
   ]
  },
  {
   "cell_type": "markdown",
   "id": "8cf7b01a",
   "metadata": {},
   "source": [
    "Let's make note of the shape of each"
   ]
  },
  {
   "cell_type": "code",
   "execution_count": 7,
   "id": "b18d7031",
   "metadata": {},
   "outputs": [
    {
     "data": {
      "text/plain": [
       "((748, 3), (626, 4))"
      ]
     },
     "execution_count": 7,
     "metadata": {},
     "output_type": "execute_result"
    }
   ],
   "source": [
    "df_18.shape, df_19.shape"
   ]
  },
  {
   "cell_type": "markdown",
   "id": "dc9e3dd6",
   "metadata": {},
   "source": [
    "### What if we want to analyze them together?\n",
    "\n",
    "We can stack them, but this does not make it easy to see , for example, who changed teams."
   ]
  },
  {
   "cell_type": "code",
   "execution_count": 8,
   "id": "3996c592",
   "metadata": {},
   "outputs": [
    {
     "data": {
      "text/html": [
       "<div>\n",
       "<style scoped>\n",
       "    .dataframe tbody tr th:only-of-type {\n",
       "        vertical-align: middle;\n",
       "    }\n",
       "\n",
       "    .dataframe tbody tr th {\n",
       "        vertical-align: top;\n",
       "    }\n",
       "\n",
       "    .dataframe thead th {\n",
       "        text-align: right;\n",
       "    }\n",
       "</style>\n",
       "<table border=\"1\" class=\"dataframe\">\n",
       "  <thead>\n",
       "    <tr style=\"text-align: right;\">\n",
       "      <th></th>\n",
       "      <th>TEAM_ID</th>\n",
       "      <th>PLAYER_ID</th>\n",
       "      <th>SEASON</th>\n",
       "      <th>PLAYER_NAME</th>\n",
       "    </tr>\n",
       "  </thead>\n",
       "  <tbody>\n",
       "    <tr>\n",
       "      <th>0</th>\n",
       "      <td>1610612761</td>\n",
       "      <td>202695</td>\n",
       "      <td>2018</td>\n",
       "      <td>NaN</td>\n",
       "    </tr>\n",
       "    <tr>\n",
       "      <th>1</th>\n",
       "      <td>1610612761</td>\n",
       "      <td>1627783</td>\n",
       "      <td>2018</td>\n",
       "      <td>NaN</td>\n",
       "    </tr>\n",
       "    <tr>\n",
       "      <th>2</th>\n",
       "      <td>1610612761</td>\n",
       "      <td>201188</td>\n",
       "      <td>2018</td>\n",
       "      <td>NaN</td>\n",
       "    </tr>\n",
       "    <tr>\n",
       "      <th>3</th>\n",
       "      <td>1610612761</td>\n",
       "      <td>201980</td>\n",
       "      <td>2018</td>\n",
       "      <td>NaN</td>\n",
       "    </tr>\n",
       "    <tr>\n",
       "      <th>4</th>\n",
       "      <td>1610612761</td>\n",
       "      <td>200768</td>\n",
       "      <td>2018</td>\n",
       "      <td>NaN</td>\n",
       "    </tr>\n",
       "    <tr>\n",
       "      <th>...</th>\n",
       "      <td>...</td>\n",
       "      <td>...</td>\n",
       "      <td>...</td>\n",
       "      <td>...</td>\n",
       "    </tr>\n",
       "    <tr>\n",
       "      <th>621</th>\n",
       "      <td>1610612745</td>\n",
       "      <td>203461</td>\n",
       "      <td>2019</td>\n",
       "      <td>Anthony Bennett</td>\n",
       "    </tr>\n",
       "    <tr>\n",
       "      <th>622</th>\n",
       "      <td>1610612737</td>\n",
       "      <td>1629034</td>\n",
       "      <td>2019</td>\n",
       "      <td>Ray Spalding</td>\n",
       "    </tr>\n",
       "    <tr>\n",
       "      <th>623</th>\n",
       "      <td>1610612744</td>\n",
       "      <td>203906</td>\n",
       "      <td>2019</td>\n",
       "      <td>Devyn Marble</td>\n",
       "    </tr>\n",
       "    <tr>\n",
       "      <th>624</th>\n",
       "      <td>1610612753</td>\n",
       "      <td>1629755</td>\n",
       "      <td>2019</td>\n",
       "      <td>Hassani Gravett</td>\n",
       "    </tr>\n",
       "    <tr>\n",
       "      <th>625</th>\n",
       "      <td>1610612754</td>\n",
       "      <td>1629721</td>\n",
       "      <td>2019</td>\n",
       "      <td>JaKeenan Gant</td>\n",
       "    </tr>\n",
       "  </tbody>\n",
       "</table>\n",
       "<p>1374 rows × 4 columns</p>\n",
       "</div>"
      ],
      "text/plain": [
       "        TEAM_ID  PLAYER_ID  SEASON      PLAYER_NAME\n",
       "0    1610612761     202695    2018              NaN\n",
       "1    1610612761    1627783    2018              NaN\n",
       "2    1610612761     201188    2018              NaN\n",
       "3    1610612761     201980    2018              NaN\n",
       "4    1610612761     200768    2018              NaN\n",
       "..          ...        ...     ...              ...\n",
       "621  1610612745     203461    2019  Anthony Bennett\n",
       "622  1610612737    1629034    2019     Ray Spalding\n",
       "623  1610612744     203906    2019     Devyn Marble\n",
       "624  1610612753    1629755    2019  Hassani Gravett\n",
       "625  1610612754    1629721    2019    JaKeenan Gant\n",
       "\n",
       "[1374 rows x 4 columns]"
      ]
     },
     "execution_count": 8,
     "metadata": {},
     "output_type": "execute_result"
    }
   ],
   "source": [
    "pd.concat([df_18,df_19])"
   ]
  },
  {
   "cell_type": "code",
   "execution_count": 9,
   "id": "431d3204",
   "metadata": {},
   "outputs": [
    {
     "data": {
      "text/plain": [
       "(1374, 4)"
      ]
     },
     "execution_count": 9,
     "metadata": {},
     "output_type": "execute_result"
    }
   ],
   "source": [
    "pd.concat([df_18,df_19]).shape"
   ]
  },
  {
   "cell_type": "markdown",
   "id": "02d5f46c",
   "metadata": {},
   "source": [
    "Note that this has the maximum number of columns (because both had some overlapping\n",
    "  columns) and the total number of rows.\n",
    "\n",
    "\n",
    "\n",
    "### How can we find which players changed teams?\n",
    "\n",
    "To do this we want to have one player column and a column with each year's team.\n",
    "\n",
    "We can use a merge to do that."
   ]
  },
  {
   "cell_type": "code",
   "execution_count": 10,
   "id": "f79a98a9",
   "metadata": {},
   "outputs": [
    {
     "data": {
      "text/html": [
       "<div>\n",
       "<style scoped>\n",
       "    .dataframe tbody tr th:only-of-type {\n",
       "        vertical-align: middle;\n",
       "    }\n",
       "\n",
       "    .dataframe tbody tr th {\n",
       "        vertical-align: top;\n",
       "    }\n",
       "\n",
       "    .dataframe thead th {\n",
       "        text-align: right;\n",
       "    }\n",
       "</style>\n",
       "<table border=\"1\" class=\"dataframe\">\n",
       "  <thead>\n",
       "    <tr style=\"text-align: right;\">\n",
       "      <th></th>\n",
       "      <th>TEAM_ID</th>\n",
       "      <th>PLAYER_ID</th>\n",
       "      <th>SEASON</th>\n",
       "      <th>PLAYER_NAME</th>\n",
       "    </tr>\n",
       "  </thead>\n",
       "  <tbody>\n",
       "  </tbody>\n",
       "</table>\n",
       "</div>"
      ],
      "text/plain": [
       "Empty DataFrame\n",
       "Columns: [TEAM_ID, PLAYER_ID, SEASON, PLAYER_NAME]\n",
       "Index: []"
      ]
     },
     "execution_count": 10,
     "metadata": {},
     "output_type": "execute_result"
    }
   ],
   "source": [
    "pd.merge(df_18,df_19,).head(2)"
   ]
  },
  {
   "cell_type": "markdown",
   "id": "6f599616",
   "metadata": {},
   "source": [
    "if we merge them without any parameters, it tries to merge on all shared columns.  We want to merge them using the `PLAYER_ID` column though, we would say that we are \"merging on player ID\" and we use the `on` parameter to do it.  In this case, it looks for the values in the `PLAYER_ID` column that appear in both DataFrames and combines them into a single row."
   ]
  },
  {
   "cell_type": "code",
   "execution_count": 11,
   "id": "3e8af221",
   "metadata": {},
   "outputs": [
    {
     "data": {
      "text/html": [
       "<div>\n",
       "<style scoped>\n",
       "    .dataframe tbody tr th:only-of-type {\n",
       "        vertical-align: middle;\n",
       "    }\n",
       "\n",
       "    .dataframe tbody tr th {\n",
       "        vertical-align: top;\n",
       "    }\n",
       "\n",
       "    .dataframe thead th {\n",
       "        text-align: right;\n",
       "    }\n",
       "</style>\n",
       "<table border=\"1\" class=\"dataframe\">\n",
       "  <thead>\n",
       "    <tr style=\"text-align: right;\">\n",
       "      <th></th>\n",
       "      <th>TEAM_ID_x</th>\n",
       "      <th>PLAYER_ID</th>\n",
       "      <th>SEASON_x</th>\n",
       "      <th>PLAYER_NAME</th>\n",
       "      <th>TEAM_ID_y</th>\n",
       "      <th>SEASON_y</th>\n",
       "    </tr>\n",
       "  </thead>\n",
       "  <tbody>\n",
       "    <tr>\n",
       "      <th>0</th>\n",
       "      <td>1610612761</td>\n",
       "      <td>202695</td>\n",
       "      <td>2018</td>\n",
       "      <td>Kawhi Leonard</td>\n",
       "      <td>1610612746</td>\n",
       "      <td>2019</td>\n",
       "    </tr>\n",
       "    <tr>\n",
       "      <th>1</th>\n",
       "      <td>1610612761</td>\n",
       "      <td>1627783</td>\n",
       "      <td>2018</td>\n",
       "      <td>Pascal Siakam</td>\n",
       "      <td>1610612761</td>\n",
       "      <td>2019</td>\n",
       "    </tr>\n",
       "    <tr>\n",
       "      <th>2</th>\n",
       "      <td>1610612761</td>\n",
       "      <td>201188</td>\n",
       "      <td>2018</td>\n",
       "      <td>Marc Gasol</td>\n",
       "      <td>1610612761</td>\n",
       "      <td>2019</td>\n",
       "    </tr>\n",
       "    <tr>\n",
       "      <th>3</th>\n",
       "      <td>1610612763</td>\n",
       "      <td>201188</td>\n",
       "      <td>2018</td>\n",
       "      <td>Marc Gasol</td>\n",
       "      <td>1610612761</td>\n",
       "      <td>2019</td>\n",
       "    </tr>\n",
       "    <tr>\n",
       "      <th>4</th>\n",
       "      <td>1610612761</td>\n",
       "      <td>201980</td>\n",
       "      <td>2018</td>\n",
       "      <td>Danny Green</td>\n",
       "      <td>1610612747</td>\n",
       "      <td>2019</td>\n",
       "    </tr>\n",
       "    <tr>\n",
       "      <th>...</th>\n",
       "      <td>...</td>\n",
       "      <td>...</td>\n",
       "      <td>...</td>\n",
       "      <td>...</td>\n",
       "      <td>...</td>\n",
       "      <td>...</td>\n",
       "    </tr>\n",
       "    <tr>\n",
       "      <th>533</th>\n",
       "      <td>1610612760</td>\n",
       "      <td>203583</td>\n",
       "      <td>2018</td>\n",
       "      <td>Abdul Gaddy</td>\n",
       "      <td>1610612760</td>\n",
       "      <td>2019</td>\n",
       "    </tr>\n",
       "    <tr>\n",
       "      <th>534</th>\n",
       "      <td>1610612760</td>\n",
       "      <td>203460</td>\n",
       "      <td>2018</td>\n",
       "      <td>Andre Roberson</td>\n",
       "      <td>1610612760</td>\n",
       "      <td>2019</td>\n",
       "    </tr>\n",
       "    <tr>\n",
       "      <th>535</th>\n",
       "      <td>1610612755</td>\n",
       "      <td>203658</td>\n",
       "      <td>2018</td>\n",
       "      <td>Norvel Pelle</td>\n",
       "      <td>1610612755</td>\n",
       "      <td>2019</td>\n",
       "    </tr>\n",
       "    <tr>\n",
       "      <th>536</th>\n",
       "      <td>1610612741</td>\n",
       "      <td>1627756</td>\n",
       "      <td>2018</td>\n",
       "      <td>Denzel Valentine</td>\n",
       "      <td>1610612741</td>\n",
       "      <td>2019</td>\n",
       "    </tr>\n",
       "    <tr>\n",
       "      <th>537</th>\n",
       "      <td>1610612754</td>\n",
       "      <td>203912</td>\n",
       "      <td>2018</td>\n",
       "      <td>C.J. Wilcox</td>\n",
       "      <td>1610612754</td>\n",
       "      <td>2019</td>\n",
       "    </tr>\n",
       "  </tbody>\n",
       "</table>\n",
       "<p>538 rows × 6 columns</p>\n",
       "</div>"
      ],
      "text/plain": [
       "      TEAM_ID_x  PLAYER_ID  SEASON_x       PLAYER_NAME   TEAM_ID_y  SEASON_y\n",
       "0    1610612761     202695      2018     Kawhi Leonard  1610612746      2019\n",
       "1    1610612761    1627783      2018     Pascal Siakam  1610612761      2019\n",
       "2    1610612761     201188      2018        Marc Gasol  1610612761      2019\n",
       "3    1610612763     201188      2018        Marc Gasol  1610612761      2019\n",
       "4    1610612761     201980      2018       Danny Green  1610612747      2019\n",
       "..          ...        ...       ...               ...         ...       ...\n",
       "533  1610612760     203583      2018       Abdul Gaddy  1610612760      2019\n",
       "534  1610612760     203460      2018    Andre Roberson  1610612760      2019\n",
       "535  1610612755     203658      2018      Norvel Pelle  1610612755      2019\n",
       "536  1610612741    1627756      2018  Denzel Valentine  1610612741      2019\n",
       "537  1610612754     203912      2018       C.J. Wilcox  1610612754      2019\n",
       "\n",
       "[538 rows x 6 columns]"
      ]
     },
     "execution_count": 11,
     "metadata": {},
     "output_type": "execute_result"
    }
   ],
   "source": [
    "pd.merge(df_18,df_19,on='PLAYER_ID')\n"
   ]
  },
  {
   "cell_type": "markdown",
   "id": "3bcc962b",
   "metadata": {},
   "source": [
    "Since there are other columns that appear in both DataFrames, they get a suffix, which by default is `x` or `y`, we can specify them though."
   ]
  },
  {
   "cell_type": "code",
   "execution_count": 12,
   "id": "22410340",
   "metadata": {},
   "outputs": [
    {
     "data": {
      "text/plain": [
       "(538, 6)"
      ]
     },
     "execution_count": 12,
     "metadata": {},
     "output_type": "execute_result"
    }
   ],
   "source": [
    "df_1819_inner = pd.merge(df_18,df_19,on='PLAYER_ID',suffixes=('_2018','_2019'))\n",
    "df_1819_inner.shape"
   ]
  },
  {
   "cell_type": "markdown",
   "id": "25063806",
   "metadata": {},
   "source": [
    "By default, this uses an *inner* merge, so we get the players that are in both datasets only. If we want to see differences, we need another type of merge. \n",
    "\n",
    "Some players still appear twice, because they were in one of the datsets twice, this\n",
    "happens when a player plays for two team in one season.\n",
    "\n",
    "### Which players played in 2018, but not 2019?\n",
    "\n",
    "We have different types of merges, inner is both, out is either.  Left and right keep all the rows of one dataFrame.  We can use left with `df_18` as the left DataFrame to see which players played only in 18."
   ]
  },
  {
   "cell_type": "code",
   "execution_count": 13,
   "id": "43417b10",
   "metadata": {},
   "outputs": [
    {
     "data": {
      "text/html": [
       "<div>\n",
       "<style scoped>\n",
       "    .dataframe tbody tr th:only-of-type {\n",
       "        vertical-align: middle;\n",
       "    }\n",
       "\n",
       "    .dataframe tbody tr th {\n",
       "        vertical-align: top;\n",
       "    }\n",
       "\n",
       "    .dataframe thead th {\n",
       "        text-align: right;\n",
       "    }\n",
       "</style>\n",
       "<table border=\"1\" class=\"dataframe\">\n",
       "  <thead>\n",
       "    <tr style=\"text-align: right;\">\n",
       "      <th></th>\n",
       "      <th>TEAM_ID_2018</th>\n",
       "      <th>PLAYER_ID</th>\n",
       "      <th>SEASON_2018</th>\n",
       "      <th>PLAYER_NAME</th>\n",
       "      <th>TEAM_ID_2019</th>\n",
       "      <th>SEASON_2019</th>\n",
       "    </tr>\n",
       "  </thead>\n",
       "  <tbody>\n",
       "    <tr>\n",
       "      <th>0</th>\n",
       "      <td>1.610613e+09</td>\n",
       "      <td>202695</td>\n",
       "      <td>2018.0</td>\n",
       "      <td>Kawhi Leonard</td>\n",
       "      <td>1.610613e+09</td>\n",
       "      <td>2019.0</td>\n",
       "    </tr>\n",
       "    <tr>\n",
       "      <th>1</th>\n",
       "      <td>1.610613e+09</td>\n",
       "      <td>1627783</td>\n",
       "      <td>2018.0</td>\n",
       "      <td>Pascal Siakam</td>\n",
       "      <td>1.610613e+09</td>\n",
       "      <td>2019.0</td>\n",
       "    </tr>\n",
       "    <tr>\n",
       "      <th>2</th>\n",
       "      <td>1.610613e+09</td>\n",
       "      <td>201188</td>\n",
       "      <td>2018.0</td>\n",
       "      <td>Marc Gasol</td>\n",
       "      <td>1.610613e+09</td>\n",
       "      <td>2019.0</td>\n",
       "    </tr>\n",
       "    <tr>\n",
       "      <th>3</th>\n",
       "      <td>1.610613e+09</td>\n",
       "      <td>201188</td>\n",
       "      <td>2018.0</td>\n",
       "      <td>Marc Gasol</td>\n",
       "      <td>1.610613e+09</td>\n",
       "      <td>2019.0</td>\n",
       "    </tr>\n",
       "    <tr>\n",
       "      <th>4</th>\n",
       "      <td>1.610613e+09</td>\n",
       "      <td>201980</td>\n",
       "      <td>2018.0</td>\n",
       "      <td>Danny Green</td>\n",
       "      <td>1.610613e+09</td>\n",
       "      <td>2019.0</td>\n",
       "    </tr>\n",
       "    <tr>\n",
       "      <th>...</th>\n",
       "      <td>...</td>\n",
       "      <td>...</td>\n",
       "      <td>...</td>\n",
       "      <td>...</td>\n",
       "      <td>...</td>\n",
       "      <td>...</td>\n",
       "    </tr>\n",
       "    <tr>\n",
       "      <th>922</th>\n",
       "      <td>NaN</td>\n",
       "      <td>1629097</td>\n",
       "      <td>NaN</td>\n",
       "      <td>Terry Larrier</td>\n",
       "      <td>1.610613e+09</td>\n",
       "      <td>2019.0</td>\n",
       "    </tr>\n",
       "    <tr>\n",
       "      <th>923</th>\n",
       "      <td>NaN</td>\n",
       "      <td>203461</td>\n",
       "      <td>NaN</td>\n",
       "      <td>Anthony Bennett</td>\n",
       "      <td>1.610613e+09</td>\n",
       "      <td>2019.0</td>\n",
       "    </tr>\n",
       "    <tr>\n",
       "      <th>924</th>\n",
       "      <td>NaN</td>\n",
       "      <td>203906</td>\n",
       "      <td>NaN</td>\n",
       "      <td>Devyn Marble</td>\n",
       "      <td>1.610613e+09</td>\n",
       "      <td>2019.0</td>\n",
       "    </tr>\n",
       "    <tr>\n",
       "      <th>925</th>\n",
       "      <td>NaN</td>\n",
       "      <td>1629755</td>\n",
       "      <td>NaN</td>\n",
       "      <td>Hassani Gravett</td>\n",
       "      <td>1.610613e+09</td>\n",
       "      <td>2019.0</td>\n",
       "    </tr>\n",
       "    <tr>\n",
       "      <th>926</th>\n",
       "      <td>NaN</td>\n",
       "      <td>1629721</td>\n",
       "      <td>NaN</td>\n",
       "      <td>JaKeenan Gant</td>\n",
       "      <td>1.610613e+09</td>\n",
       "      <td>2019.0</td>\n",
       "    </tr>\n",
       "  </tbody>\n",
       "</table>\n",
       "<p>927 rows × 6 columns</p>\n",
       "</div>"
      ],
      "text/plain": [
       "     TEAM_ID_2018  PLAYER_ID  SEASON_2018      PLAYER_NAME  TEAM_ID_2019  \\\n",
       "0    1.610613e+09     202695       2018.0    Kawhi Leonard  1.610613e+09   \n",
       "1    1.610613e+09    1627783       2018.0    Pascal Siakam  1.610613e+09   \n",
       "2    1.610613e+09     201188       2018.0       Marc Gasol  1.610613e+09   \n",
       "3    1.610613e+09     201188       2018.0       Marc Gasol  1.610613e+09   \n",
       "4    1.610613e+09     201980       2018.0      Danny Green  1.610613e+09   \n",
       "..            ...        ...          ...              ...           ...   \n",
       "922           NaN    1629097          NaN    Terry Larrier  1.610613e+09   \n",
       "923           NaN     203461          NaN  Anthony Bennett  1.610613e+09   \n",
       "924           NaN     203906          NaN     Devyn Marble  1.610613e+09   \n",
       "925           NaN    1629755          NaN  Hassani Gravett  1.610613e+09   \n",
       "926           NaN    1629721          NaN    JaKeenan Gant  1.610613e+09   \n",
       "\n",
       "     SEASON_2019  \n",
       "0         2019.0  \n",
       "1         2019.0  \n",
       "2         2019.0  \n",
       "3         2019.0  \n",
       "4         2019.0  \n",
       "..           ...  \n",
       "922       2019.0  \n",
       "923       2019.0  \n",
       "924       2019.0  \n",
       "925       2019.0  \n",
       "926       2019.0  \n",
       "\n",
       "[927 rows x 6 columns]"
      ]
     },
     "execution_count": 13,
     "metadata": {},
     "output_type": "execute_result"
    }
   ],
   "source": [
    "df_1819_outer = pd.merge(df_18,df_19,how='outer',on='PLAYER_ID',suffixes=('_2018','_2019'),)\n",
    "df_1819_outer"
   ]
  },
  {
   "cell_type": "markdown",
   "id": "2023e3e0",
   "metadata": {},
   "source": [
    "Also, note that this has different types than before.  There are some players who only played one season, so they have a NaN value in some colums. pandas always casts a whole column."
   ]
  },
  {
   "cell_type": "code",
   "execution_count": 14,
   "id": "2aaaf233",
   "metadata": {},
   "outputs": [
    {
     "data": {
      "text/plain": [
       "TEAM_ID_2018     int64\n",
       "PLAYER_ID        int64\n",
       "SEASON_2018      int64\n",
       "PLAYER_NAME     object\n",
       "TEAM_ID_2019     int64\n",
       "SEASON_2019      int64\n",
       "dtype: object"
      ]
     },
     "execution_count": 14,
     "metadata": {},
     "output_type": "execute_result"
    }
   ],
   "source": [
    "df_1819_inner.dtypes"
   ]
  },
  {
   "cell_type": "code",
   "execution_count": 15,
   "id": "38149704",
   "metadata": {},
   "outputs": [
    {
     "data": {
      "text/plain": [
       "TEAM_ID_2018    float64\n",
       "PLAYER_ID         int64\n",
       "SEASON_2018     float64\n",
       "PLAYER_NAME      object\n",
       "TEAM_ID_2019    float64\n",
       "SEASON_2019     float64\n",
       "dtype: object"
      ]
     },
     "execution_count": 15,
     "metadata": {},
     "output_type": "execute_result"
    }
   ],
   "source": [
    "df_1819_outer.dtypes"
   ]
  },
  {
   "cell_type": "markdown",
   "id": "9904fcff",
   "metadata": {},
   "source": [
    "[nan](https://en.wikipedia.org/wiki/NaN) is a float"
   ]
  },
  {
   "cell_type": "code",
   "execution_count": 16,
   "id": "2d06cfaa",
   "metadata": {},
   "outputs": [
    {
     "data": {
      "text/plain": [
       "float"
      ]
     },
     "execution_count": 16,
     "metadata": {},
     "output_type": "execute_result"
    }
   ],
   "source": [
    "import numpy as np\n",
    "type(np.nan)"
   ]
  },
  {
   "cell_type": "markdown",
   "id": "803c0d4c",
   "metadata": {},
   "source": [
    "Back the the question, we can also use a left merge. To pick out those rows:"
   ]
  },
  {
   "cell_type": "code",
   "execution_count": 17,
   "id": "ec9043d4",
   "metadata": {},
   "outputs": [
    {
     "data": {
      "text/html": [
       "<div>\n",
       "<style scoped>\n",
       "    .dataframe tbody tr th:only-of-type {\n",
       "        vertical-align: middle;\n",
       "    }\n",
       "\n",
       "    .dataframe tbody tr th {\n",
       "        vertical-align: top;\n",
       "    }\n",
       "\n",
       "    .dataframe thead th {\n",
       "        text-align: right;\n",
       "    }\n",
       "</style>\n",
       "<table border=\"1\" class=\"dataframe\">\n",
       "  <thead>\n",
       "    <tr style=\"text-align: right;\">\n",
       "      <th></th>\n",
       "      <th>TEAM_ID_2018</th>\n",
       "      <th>PLAYER_ID</th>\n",
       "      <th>SEASON_2018</th>\n",
       "      <th>PLAYER_NAME</th>\n",
       "      <th>TEAM_ID_2019</th>\n",
       "      <th>SEASON_2019</th>\n",
       "    </tr>\n",
       "  </thead>\n",
       "  <tbody>\n",
       "    <tr>\n",
       "      <th>9</th>\n",
       "      <td>1610612761</td>\n",
       "      <td>202391</td>\n",
       "      <td>2018</td>\n",
       "      <td>NaN</td>\n",
       "      <td>NaN</td>\n",
       "      <td>NaN</td>\n",
       "    </tr>\n",
       "    <tr>\n",
       "      <th>11</th>\n",
       "      <td>1610612761</td>\n",
       "      <td>201975</td>\n",
       "      <td>2018</td>\n",
       "      <td>NaN</td>\n",
       "      <td>NaN</td>\n",
       "      <td>NaN</td>\n",
       "    </tr>\n",
       "    <tr>\n",
       "      <th>18</th>\n",
       "      <td>1610612744</td>\n",
       "      <td>101106</td>\n",
       "      <td>2018</td>\n",
       "      <td>NaN</td>\n",
       "      <td>NaN</td>\n",
       "      <td>NaN</td>\n",
       "    </tr>\n",
       "    <tr>\n",
       "      <th>23</th>\n",
       "      <td>1610612744</td>\n",
       "      <td>2733</td>\n",
       "      <td>2018</td>\n",
       "      <td>NaN</td>\n",
       "      <td>NaN</td>\n",
       "      <td>NaN</td>\n",
       "    </tr>\n",
       "    <tr>\n",
       "      <th>24</th>\n",
       "      <td>1610612744</td>\n",
       "      <td>201973</td>\n",
       "      <td>2018</td>\n",
       "      <td>NaN</td>\n",
       "      <td>NaN</td>\n",
       "      <td>NaN</td>\n",
       "    </tr>\n",
       "    <tr>\n",
       "      <th>...</th>\n",
       "      <td>...</td>\n",
       "      <td>...</td>\n",
       "      <td>...</td>\n",
       "      <td>...</td>\n",
       "      <td>...</td>\n",
       "      <td>...</td>\n",
       "    </tr>\n",
       "    <tr>\n",
       "      <th>749</th>\n",
       "      <td>1610612752</td>\n",
       "      <td>1629246</td>\n",
       "      <td>2018</td>\n",
       "      <td>NaN</td>\n",
       "      <td>NaN</td>\n",
       "      <td>NaN</td>\n",
       "    </tr>\n",
       "    <tr>\n",
       "      <th>750</th>\n",
       "      <td>1610612748</td>\n",
       "      <td>1629159</td>\n",
       "      <td>2018</td>\n",
       "      <td>NaN</td>\n",
       "      <td>NaN</td>\n",
       "      <td>NaN</td>\n",
       "    </tr>\n",
       "    <tr>\n",
       "      <th>751</th>\n",
       "      <td>1610612762</td>\n",
       "      <td>1629163</td>\n",
       "      <td>2018</td>\n",
       "      <td>NaN</td>\n",
       "      <td>NaN</td>\n",
       "      <td>NaN</td>\n",
       "    </tr>\n",
       "    <tr>\n",
       "      <th>752</th>\n",
       "      <td>1610612743</td>\n",
       "      <td>1629150</td>\n",
       "      <td>2018</td>\n",
       "      <td>NaN</td>\n",
       "      <td>NaN</td>\n",
       "      <td>NaN</td>\n",
       "    </tr>\n",
       "    <tr>\n",
       "      <th>753</th>\n",
       "      <td>1610612738</td>\n",
       "      <td>1629167</td>\n",
       "      <td>2018</td>\n",
       "      <td>NaN</td>\n",
       "      <td>NaN</td>\n",
       "      <td>NaN</td>\n",
       "    </tr>\n",
       "  </tbody>\n",
       "</table>\n",
       "<p>216 rows × 6 columns</p>\n",
       "</div>"
      ],
      "text/plain": [
       "     TEAM_ID_2018  PLAYER_ID  SEASON_2018 PLAYER_NAME  TEAM_ID_2019  \\\n",
       "9      1610612761     202391         2018         NaN           NaN   \n",
       "11     1610612761     201975         2018         NaN           NaN   \n",
       "18     1610612744     101106         2018         NaN           NaN   \n",
       "23     1610612744       2733         2018         NaN           NaN   \n",
       "24     1610612744     201973         2018         NaN           NaN   \n",
       "..            ...        ...          ...         ...           ...   \n",
       "749    1610612752    1629246         2018         NaN           NaN   \n",
       "750    1610612748    1629159         2018         NaN           NaN   \n",
       "751    1610612762    1629163         2018         NaN           NaN   \n",
       "752    1610612743    1629150         2018         NaN           NaN   \n",
       "753    1610612738    1629167         2018         NaN           NaN   \n",
       "\n",
       "     SEASON_2019  \n",
       "9            NaN  \n",
       "11           NaN  \n",
       "18           NaN  \n",
       "23           NaN  \n",
       "24           NaN  \n",
       "..           ...  \n",
       "749          NaN  \n",
       "750          NaN  \n",
       "751          NaN  \n",
       "752          NaN  \n",
       "753          NaN  \n",
       "\n",
       "[216 rows x 6 columns]"
      ]
     },
     "execution_count": 17,
     "metadata": {},
     "output_type": "execute_result"
    }
   ],
   "source": [
    "df_1819left = pd.merge(df_18,df_19,how='left',on='PLAYER_ID',suffixes=('_2018','_2019'),)\n",
    "df_18only = df_1819left[df_1819left['SEASON_2019'].isna()]\n",
    "df_18only"
   ]
  },
  {
   "cell_type": "code",
   "execution_count": 18,
   "id": "4b850df9",
   "metadata": {},
   "outputs": [
    {
     "data": {
      "text/plain": [
       "178"
      ]
     },
     "execution_count": 18,
     "metadata": {},
     "output_type": "execute_result"
    }
   ],
   "source": [
    "len(df_18only['PLAYER_ID'].unique())"
   ]
  },
  {
   "cell_type": "code",
   "execution_count": 19,
   "id": "345c9cf2",
   "metadata": {},
   "outputs": [
    {
     "data": {
      "text/plain": [
       "1629150    4\n",
       "202325     3\n",
       "201160     3\n",
       "1628393    3\n",
       "202328     3\n",
       "          ..\n",
       "1628515    1\n",
       "1627816    1\n",
       "1628979    1\n",
       "2736       1\n",
       "1629167    1\n",
       "Name: PLAYER_ID, Length: 178, dtype: int64"
      ]
     },
     "execution_count": 19,
     "metadata": {},
     "output_type": "execute_result"
    }
   ],
   "source": [
    "df_18only['PLAYER_ID'].value_counts()"
   ]
  },
  {
   "cell_type": "markdown",
   "id": "fd9f9f07",
   "metadata": {},
   "source": [
    "## Getting Data from Databases\n",
    "\n",
    "\n",
    "### What is a Database?\n",
    "\n",
    "\n",
    "A common attitude in Data Science is:\n",
    "\n",
    "> If your data fits in memory there is no advantage to putting it in a database: it will only be slower and more frustrating.     —[ Hadley Wickham](https://dbplyr.tidyverse.org/articles/dbplyr.html)\n",
    "\n",
    "\n",
    "Businesses and research organizations nearly always have too much data to feasibly work without a database.\n",
    "Instead, they use different tools which are designed to scale to very large amounts of data. These tools are largely databases like Snowflake or Google's BigQuery and distributed computing frameworks like Apache Spark.\n",
    "\n",
    "\n",
    "```{warning}\n",
    "We are going to focus on the case of getting data out of a Database so that you\n",
    "can use it and making sure you know what a Database is.  \n",
    "\n",
    "\n",
    "You could spend a whole semester on databases:\n",
    "- CSC436 covers how to implement them in detail (recommended, but requires CSC212)\n",
    "- BAI456 only how to use them (counts for DS majors, but if you want to\n",
    "      understand them deeper, the CSC one is recommended)\n",
    "\n",
    "```\n",
    "\n",
    "For the purpose of this class the key attributes of a database are:\n",
    "- it is a collection of tables\n",
    "- the data is accessed live from disk (not RAM)\n",
    "- you send a query to the database to get the data (or your answer)\n",
    "\n",
    "\n",
    "Databases can be designed in many different ways.  For examples two popular ones.\n",
    "\n",
    "- [SQLite](https://www.sqlite.org/index.html) is optimized for transactional workloads, which means a high volume of requests that involving inserting or reading a couple things. This is good for eg a webserver.\n",
    "- [DuckDB](https://duckdb.org/) is optimized for analytical workloads, which means a small number of requests that each require reading many records in the database. This is better for eg: data science\n",
    "\n",
    "**Experimenting with [DuckDB](https://duckdb.org/docs/guides/python/install) is a way to earn construct level 3**\n",
    "\n",
    "\n",
    "### Accessing a Database from Python\n",
    "\n",
    "We will use pandas again, as well as the `request` module from the `urllib`\n",
    "package and `sqlite3`.\n",
    "\n",
    "Off the shelf, pandas cannot read databased by default. We'll use the\n",
    "[`sqlite3`](https://docs.python.org/3/library/sqlite3.html) library, but there\n",
    "are others, depending on the type of database.\n",
    "\n",
    "First we need to download the database to work with it."
   ]
  },
  {
   "cell_type": "code",
   "execution_count": 20,
   "id": "86f6e38a",
   "metadata": {},
   "outputs": [
    {
     "data": {
      "text/plain": [
       "('nba1819.db', <http.client.HTTPMessage at 0x7fdaf07d6df0>)"
      ]
     },
     "execution_count": 20,
     "metadata": {},
     "output_type": "execute_result"
    }
   ],
   "source": [
    "request.urlretrieve('https://github.com/rhodyprog4ds/rhodyds/raw/main/data/nba1819.db',\n",
    "      'nba1819.db')"
   ]
  },
  {
   "cell_type": "markdown",
   "id": "db10c5a8",
   "metadata": {},
   "source": [
    "Next, we set up a connection, that links the the notebook to the database.\n",
    " To use it, we add a cursor."
   ]
  },
  {
   "cell_type": "code",
   "execution_count": 21,
   "id": "d0a1f73b",
   "metadata": {},
   "outputs": [],
   "source": [
    "conn = sqlite3.connect('nba1819.db')\n",
    "cursor = conn.cursor()"
   ]
  },
  {
   "cell_type": "markdown",
   "id": "39c84c65",
   "metadata": {},
   "source": [
    "We can use execute to pass SQL queries through the cursor to the database."
   ]
  },
  {
   "cell_type": "code",
   "execution_count": 22,
   "id": "6093f892",
   "metadata": {},
   "outputs": [
    {
     "data": {
      "text/plain": [
       "<sqlite3.Cursor at 0x7fdb08967030>"
      ]
     },
     "execution_count": 22,
     "metadata": {},
     "output_type": "execute_result"
    }
   ],
   "source": [
    "cursor.execute(\"SELECT name FROM sqlite_master WHERE type='table';\")"
   ]
  },
  {
   "cell_type": "markdown",
   "id": "13ef9436",
   "metadata": {},
   "source": [
    "Then we use `fetchall` to get the the results of the query."
   ]
  },
  {
   "cell_type": "code",
   "execution_count": 23,
   "id": "dd17ce87",
   "metadata": {},
   "outputs": [
    {
     "data": {
      "text/plain": [
       "[('teams',),\n",
       " ('conferences',),\n",
       " ('playerGameStats2018',),\n",
       " ('playerGameStats2019',),\n",
       " ('teamGameStats2018',),\n",
       " ('teamGameStats2019',),\n",
       " ('playerTeams2018',),\n",
       " ('playerTeams2019',),\n",
       " ('teamDailyRankings2018',),\n",
       " ('teamDailyRankings2019',),\n",
       " ('playerNames',)]"
      ]
     },
     "execution_count": 23,
     "metadata": {},
     "output_type": "execute_result"
    }
   ],
   "source": [
    "cursor.fetchall()"
   ]
  },
  {
   "cell_type": "markdown",
   "id": "854e72d5",
   "metadata": {},
   "source": [
    "If we fetch again, there is nothing to fetch.  Fetch pulls what was queued by\n",
    "execute."
   ]
  },
  {
   "cell_type": "code",
   "execution_count": 24,
   "id": "34400f6c",
   "metadata": {},
   "outputs": [
    {
     "data": {
      "text/plain": [
       "[]"
      ]
     },
     "execution_count": 24,
     "metadata": {},
     "output_type": "execute_result"
    }
   ],
   "source": [
    "cursor.fetchall()"
   ]
  },
  {
   "cell_type": "markdown",
   "id": "e65692b9",
   "metadata": {},
   "source": [
    "We can run another query with execute then fetch that result.  This query gives\n",
    "us the column names.  \n",
    "\n",
    "The schema of a database is the description of its setup and layout. The `*` means to get all."
   ]
  },
  {
   "cell_type": "code",
   "execution_count": 25,
   "id": "9cbc1b67",
   "metadata": {},
   "outputs": [
    {
     "ename": "OperationalError",
     "evalue": "no such table: INFORMATION_SCHEMA.COLUMNS",
     "output_type": "error",
     "traceback": [
      "\u001b[0;31m---------------------------------------------------------------------------\u001b[0m",
      "\u001b[0;31mOperationalError\u001b[0m                          Traceback (most recent call last)",
      "Cell \u001b[0;32mIn [25], line 1\u001b[0m\n\u001b[0;32m----> 1\u001b[0m \u001b[43mcursor\u001b[49m\u001b[38;5;241;43m.\u001b[39;49m\u001b[43mexecute\u001b[49m\u001b[43m(\u001b[49m\u001b[38;5;124;43m\"\u001b[39;49m\u001b[38;5;124;43mSELECT * FROM INFORMATION_SCHEMA.COLUMNS \u001b[39;49m\u001b[38;5;124;43m\"\u001b[39;49m\u001b[43m)\u001b[49m\n",
      "\u001b[0;31mOperationalError\u001b[0m: no such table: INFORMATION_SCHEMA.COLUMNS"
     ]
    }
   ],
   "source": [
    "cursor.execute(\"SELECT * FROM INFORMATION_SCHEMA.COLUMNS \")"
   ]
  },
  {
   "cell_type": "markdown",
   "id": "d4cfc311",
   "metadata": {},
   "source": [
    "Then we use `fetchall` to get the the results of the query."
   ]
  },
  {
   "cell_type": "code",
   "execution_count": 26,
   "id": "1b06b3ba",
   "metadata": {},
   "outputs": [
    {
     "data": {
      "text/plain": [
       "[]"
      ]
     },
     "execution_count": 26,
     "metadata": {},
     "output_type": "execute_result"
    }
   ],
   "source": [
    "cursor.fetchall()"
   ]
  },
  {
   "cell_type": "markdown",
   "id": "c331e491",
   "metadata": {},
   "source": [
    "## Querying with pandas\n",
    "\n",
    "We can use `pd.read_sql` to send queries, get the result sand transform them\n",
    "into a DataFrame all at once\n",
    "\n",
    "We can pass the exact same queries if we want."
   ]
  },
  {
   "cell_type": "code",
   "execution_count": 27,
   "id": "70b1a693",
   "metadata": {},
   "outputs": [
    {
     "data": {
      "text/html": [
       "<div>\n",
       "<style scoped>\n",
       "    .dataframe tbody tr th:only-of-type {\n",
       "        vertical-align: middle;\n",
       "    }\n",
       "\n",
       "    .dataframe tbody tr th {\n",
       "        vertical-align: top;\n",
       "    }\n",
       "\n",
       "    .dataframe thead th {\n",
       "        text-align: right;\n",
       "    }\n",
       "</style>\n",
       "<table border=\"1\" class=\"dataframe\">\n",
       "  <thead>\n",
       "    <tr style=\"text-align: right;\">\n",
       "      <th></th>\n",
       "      <th>name</th>\n",
       "    </tr>\n",
       "  </thead>\n",
       "  <tbody>\n",
       "    <tr>\n",
       "      <th>0</th>\n",
       "      <td>teams</td>\n",
       "    </tr>\n",
       "    <tr>\n",
       "      <th>1</th>\n",
       "      <td>conferences</td>\n",
       "    </tr>\n",
       "    <tr>\n",
       "      <th>2</th>\n",
       "      <td>playerGameStats2018</td>\n",
       "    </tr>\n",
       "    <tr>\n",
       "      <th>3</th>\n",
       "      <td>playerGameStats2019</td>\n",
       "    </tr>\n",
       "    <tr>\n",
       "      <th>4</th>\n",
       "      <td>teamGameStats2018</td>\n",
       "    </tr>\n",
       "    <tr>\n",
       "      <th>5</th>\n",
       "      <td>teamGameStats2019</td>\n",
       "    </tr>\n",
       "    <tr>\n",
       "      <th>6</th>\n",
       "      <td>playerTeams2018</td>\n",
       "    </tr>\n",
       "    <tr>\n",
       "      <th>7</th>\n",
       "      <td>playerTeams2019</td>\n",
       "    </tr>\n",
       "    <tr>\n",
       "      <th>8</th>\n",
       "      <td>teamDailyRankings2018</td>\n",
       "    </tr>\n",
       "    <tr>\n",
       "      <th>9</th>\n",
       "      <td>teamDailyRankings2019</td>\n",
       "    </tr>\n",
       "    <tr>\n",
       "      <th>10</th>\n",
       "      <td>playerNames</td>\n",
       "    </tr>\n",
       "  </tbody>\n",
       "</table>\n",
       "</div>"
      ],
      "text/plain": [
       "                     name\n",
       "0                   teams\n",
       "1             conferences\n",
       "2     playerGameStats2018\n",
       "3     playerGameStats2019\n",
       "4       teamGameStats2018\n",
       "5       teamGameStats2019\n",
       "6         playerTeams2018\n",
       "7         playerTeams2019\n",
       "8   teamDailyRankings2018\n",
       "9   teamDailyRankings2019\n",
       "10            playerNames"
      ]
     },
     "execution_count": 27,
     "metadata": {},
     "output_type": "execute_result"
    }
   ],
   "source": [
    "pd.read_sql(\"SELECT name FROM sqlite_master WHERE type='table';\",conn)"
   ]
  },
  {
   "cell_type": "code",
   "execution_count": 28,
   "id": "854ea641",
   "metadata": {},
   "outputs": [
    {
     "data": {
      "text/html": [
       "<div>\n",
       "<style scoped>\n",
       "    .dataframe tbody tr th:only-of-type {\n",
       "        vertical-align: middle;\n",
       "    }\n",
       "\n",
       "    .dataframe tbody tr th {\n",
       "        vertical-align: top;\n",
       "    }\n",
       "\n",
       "    .dataframe thead th {\n",
       "        text-align: right;\n",
       "    }\n",
       "</style>\n",
       "<table border=\"1\" class=\"dataframe\">\n",
       "  <thead>\n",
       "    <tr style=\"text-align: right;\">\n",
       "      <th></th>\n",
       "      <th>index</th>\n",
       "      <th>LEAGUE_ID</th>\n",
       "      <th>TEAM_ID</th>\n",
       "      <th>MIN_YEAR</th>\n",
       "      <th>MAX_YEAR</th>\n",
       "      <th>ABBREVIATION</th>\n",
       "      <th>NICKNAME</th>\n",
       "      <th>YEARFOUNDED</th>\n",
       "      <th>CITY</th>\n",
       "      <th>ARENA</th>\n",
       "      <th>ARENACAPACITY</th>\n",
       "      <th>OWNER</th>\n",
       "      <th>GENERALMANAGER</th>\n",
       "      <th>HEADCOACH</th>\n",
       "      <th>DLEAGUEAFFILIATION</th>\n",
       "    </tr>\n",
       "  </thead>\n",
       "  <tbody>\n",
       "    <tr>\n",
       "      <th>0</th>\n",
       "      <td>0</td>\n",
       "      <td>0</td>\n",
       "      <td>1610612737</td>\n",
       "      <td>1949</td>\n",
       "      <td>2019</td>\n",
       "      <td>ATL</td>\n",
       "      <td>Hawks</td>\n",
       "      <td>1949</td>\n",
       "      <td>Atlanta</td>\n",
       "      <td>State Farm Arena</td>\n",
       "      <td>18729.0</td>\n",
       "      <td>Tony Ressler</td>\n",
       "      <td>Travis Schlenk</td>\n",
       "      <td>Lloyd Pierce</td>\n",
       "      <td>Erie Bayhawks</td>\n",
       "    </tr>\n",
       "  </tbody>\n",
       "</table>\n",
       "</div>"
      ],
      "text/plain": [
       "   index  LEAGUE_ID     TEAM_ID  MIN_YEAR  MAX_YEAR ABBREVIATION NICKNAME  \\\n",
       "0      0          0  1610612737      1949      2019          ATL    Hawks   \n",
       "\n",
       "   YEARFOUNDED     CITY             ARENA  ARENACAPACITY         OWNER  \\\n",
       "0         1949  Atlanta  State Farm Arena        18729.0  Tony Ressler   \n",
       "\n",
       "   GENERALMANAGER     HEADCOACH DLEAGUEAFFILIATION  \n",
       "0  Travis Schlenk  Lloyd Pierce      Erie Bayhawks  "
      ]
     },
     "execution_count": 28,
     "metadata": {},
     "output_type": "execute_result"
    }
   ],
   "source": [
    "pd.read_sql('SELECT * FROM teams',conn).head(1)"
   ]
  },
  {
   "cell_type": "markdown",
   "id": "7993bd3e",
   "metadata": {},
   "source": [
    "### Which player was traded the most during the 2018 season? How many times?  \n",
    "\n",
    "\n",
    "There is one row in players per team a played for per season, so if a\n",
    "player was traded (changed teams), they are in there multiple times.\n",
    "\n",
    "First, we'll check the column names"
   ]
  },
  {
   "cell_type": "code",
   "execution_count": 29,
   "id": "998d9756",
   "metadata": {},
   "outputs": [
    {
     "data": {
      "text/html": [
       "<div>\n",
       "<style scoped>\n",
       "    .dataframe tbody tr th:only-of-type {\n",
       "        vertical-align: middle;\n",
       "    }\n",
       "\n",
       "    .dataframe tbody tr th {\n",
       "        vertical-align: top;\n",
       "    }\n",
       "\n",
       "    .dataframe thead th {\n",
       "        text-align: right;\n",
       "    }\n",
       "</style>\n",
       "<table border=\"1\" class=\"dataframe\">\n",
       "  <thead>\n",
       "    <tr style=\"text-align: right;\">\n",
       "      <th></th>\n",
       "      <th>index</th>\n",
       "      <th>TEAM_ID</th>\n",
       "      <th>PLAYER_ID</th>\n",
       "    </tr>\n",
       "  </thead>\n",
       "  <tbody>\n",
       "    <tr>\n",
       "      <th>0</th>\n",
       "      <td>0</td>\n",
       "      <td>1610612761</td>\n",
       "      <td>202695</td>\n",
       "    </tr>\n",
       "  </tbody>\n",
       "</table>\n",
       "</div>"
      ],
      "text/plain": [
       "   index     TEAM_ID  PLAYER_ID\n",
       "0      0  1610612761     202695"
      ]
     },
     "execution_count": 29,
     "metadata": {},
     "output_type": "execute_result"
    }
   ],
   "source": [
    "pd.read_sql(\"SELECT * FROM playerTeams2018 LIMIT 1\",conn)"
   ]
  },
  {
   "cell_type": "markdown",
   "id": "47873fb0",
   "metadata": {},
   "source": [
    "then get the 2018 players, we only need the `PLAYER_ID` column for this question"
   ]
  },
  {
   "cell_type": "code",
   "execution_count": 30,
   "id": "28bf23fc",
   "metadata": {},
   "outputs": [],
   "source": [
    "p18 =pd.read_sql(\"SELECT PLAYER_ID FROM playerTeams2018 \",conn)"
   ]
  },
  {
   "cell_type": "markdown",
   "id": "50530a83",
   "metadata": {},
   "source": [
    "Then we can use value counts"
   ]
  },
  {
   "cell_type": "code",
   "execution_count": 31,
   "id": "3607d360",
   "metadata": {},
   "outputs": [
    {
     "data": {
      "text/plain": [
       "PLAYER_ID\n",
       "1629150      4\n",
       "202325       3\n",
       "203092       3\n",
       "201160       3\n",
       "202328       3\n",
       "1626150      3\n",
       "1628393      3\n",
       "202083       3\n",
       "202692       3\n",
       "203477       3\n",
       "dtype: int64"
      ]
     },
     "execution_count": 31,
     "metadata": {},
     "output_type": "execute_result"
    }
   ],
   "source": [
    "p18.value_counts().sort_values(ascending=False).head(10)"
   ]
  },
  {
   "cell_type": "markdown",
   "id": "9c5771a7",
   "metadata": {},
   "source": [
    "and we can get the player's name from the player name **remember our first query told us all the tables**"
   ]
  },
  {
   "cell_type": "code",
   "execution_count": 32,
   "id": "f394e579",
   "metadata": {},
   "outputs": [
    {
     "data": {
      "text/html": [
       "<div>\n",
       "<style scoped>\n",
       "    .dataframe tbody tr th:only-of-type {\n",
       "        vertical-align: middle;\n",
       "    }\n",
       "\n",
       "    .dataframe tbody tr th {\n",
       "        vertical-align: top;\n",
       "    }\n",
       "\n",
       "    .dataframe thead th {\n",
       "        text-align: right;\n",
       "    }\n",
       "</style>\n",
       "<table border=\"1\" class=\"dataframe\">\n",
       "  <thead>\n",
       "    <tr style=\"text-align: right;\">\n",
       "      <th></th>\n",
       "      <th>PLAYER_NAME</th>\n",
       "    </tr>\n",
       "  </thead>\n",
       "  <tbody>\n",
       "    <tr>\n",
       "      <th>0</th>\n",
       "      <td>Emanuel Terry</td>\n",
       "    </tr>\n",
       "  </tbody>\n",
       "</table>\n",
       "</div>"
      ],
      "text/plain": [
       "     PLAYER_NAME\n",
       "0  Emanuel Terry"
      ]
     },
     "execution_count": 32,
     "metadata": {},
     "output_type": "execute_result"
    }
   ],
   "source": [
    "pd.read_sql(\"SELECT PLAYER_NAME FROM playerNames WHERE PLAYER_ID = 1629150\",conn)"
   ]
  },
  {
   "cell_type": "markdown",
   "id": "0edbdf0d",
   "metadata": {},
   "source": [
    "### Did more players who changed teams from the 2018 season to the 2019 season stay in the same conferences or switch conferences?\n",
    "\n",
    "In the NBA, there are 30 teams organized into two conferences: East and West;\n",
    "the `conferences` table has the columns `TEAM_ID` and `CONFERENCE`\n",
    "\n",
    "Let's build a Dataframe that could answer the question. \n",
    "\n",
    "I first pulled 1 row from each table I needed to see the columns."
   ]
  },
  {
   "cell_type": "code",
   "execution_count": 33,
   "id": "c98abcb8",
   "metadata": {},
   "outputs": [
    {
     "data": {
      "text/html": [
       "<div>\n",
       "<style scoped>\n",
       "    .dataframe tbody tr th:only-of-type {\n",
       "        vertical-align: middle;\n",
       "    }\n",
       "\n",
       "    .dataframe tbody tr th {\n",
       "        vertical-align: top;\n",
       "    }\n",
       "\n",
       "    .dataframe thead th {\n",
       "        text-align: right;\n",
       "    }\n",
       "</style>\n",
       "<table border=\"1\" class=\"dataframe\">\n",
       "  <thead>\n",
       "    <tr style=\"text-align: right;\">\n",
       "      <th></th>\n",
       "      <th>index</th>\n",
       "      <th>TEAM_ID</th>\n",
       "      <th>CONFERENCE</th>\n",
       "    </tr>\n",
       "  </thead>\n",
       "  <tbody>\n",
       "    <tr>\n",
       "      <th>0</th>\n",
       "      <td>0</td>\n",
       "      <td>1610612744</td>\n",
       "      <td>West</td>\n",
       "    </tr>\n",
       "  </tbody>\n",
       "</table>\n",
       "</div>"
      ],
      "text/plain": [
       "   index     TEAM_ID CONFERENCE\n",
       "0      0  1610612744       West"
      ]
     },
     "execution_count": 33,
     "metadata": {},
     "output_type": "execute_result"
    }
   ],
   "source": [
    "pd.read_sql('SELECT * FROM conferences LIMIT 1',conn)"
   ]
  },
  {
   "cell_type": "code",
   "execution_count": 34,
   "id": "627f0845",
   "metadata": {},
   "outputs": [
    {
     "data": {
      "text/html": [
       "<div>\n",
       "<style scoped>\n",
       "    .dataframe tbody tr th:only-of-type {\n",
       "        vertical-align: middle;\n",
       "    }\n",
       "\n",
       "    .dataframe tbody tr th {\n",
       "        vertical-align: top;\n",
       "    }\n",
       "\n",
       "    .dataframe thead th {\n",
       "        text-align: right;\n",
       "    }\n",
       "</style>\n",
       "<table border=\"1\" class=\"dataframe\">\n",
       "  <thead>\n",
       "    <tr style=\"text-align: right;\">\n",
       "      <th></th>\n",
       "      <th>index</th>\n",
       "      <th>TEAM_ID</th>\n",
       "      <th>PLAYER_ID</th>\n",
       "    </tr>\n",
       "  </thead>\n",
       "  <tbody>\n",
       "    <tr>\n",
       "      <th>0</th>\n",
       "      <td>0</td>\n",
       "      <td>1610612761</td>\n",
       "      <td>202695</td>\n",
       "    </tr>\n",
       "  </tbody>\n",
       "</table>\n",
       "</div>"
      ],
      "text/plain": [
       "   index     TEAM_ID  PLAYER_ID\n",
       "0      0  1610612761     202695"
      ]
     },
     "execution_count": 34,
     "metadata": {},
     "output_type": "execute_result"
    }
   ],
   "source": [
    "pd.read_sql('SELECT * FROM playerTeams2018 LIMIT 1',conn)"
   ]
  },
  {
   "cell_type": "code",
   "execution_count": 35,
   "id": "25257a19",
   "metadata": {},
   "outputs": [
    {
     "data": {
      "text/html": [
       "<div>\n",
       "<style scoped>\n",
       "    .dataframe tbody tr th:only-of-type {\n",
       "        vertical-align: middle;\n",
       "    }\n",
       "\n",
       "    .dataframe tbody tr th {\n",
       "        vertical-align: top;\n",
       "    }\n",
       "\n",
       "    .dataframe thead th {\n",
       "        text-align: right;\n",
       "    }\n",
       "</style>\n",
       "<table border=\"1\" class=\"dataframe\">\n",
       "  <thead>\n",
       "    <tr style=\"text-align: right;\">\n",
       "      <th></th>\n",
       "      <th>index</th>\n",
       "      <th>TEAM_ID</th>\n",
       "      <th>PLAYER_ID</th>\n",
       "    </tr>\n",
       "  </thead>\n",
       "  <tbody>\n",
       "    <tr>\n",
       "      <th>0</th>\n",
       "      <td>0</td>\n",
       "      <td>1610612762</td>\n",
       "      <td>1626220</td>\n",
       "    </tr>\n",
       "  </tbody>\n",
       "</table>\n",
       "</div>"
      ],
      "text/plain": [
       "   index     TEAM_ID  PLAYER_ID\n",
       "0      0  1610612762    1626220"
      ]
     },
     "execution_count": 35,
     "metadata": {},
     "output_type": "execute_result"
    }
   ],
   "source": [
    "pd.read_sql('SELECT * FROM playerTeams2019 LIMIT 1',conn)"
   ]
  },
  {
   "cell_type": "markdown",
   "id": "a7df4155",
   "metadata": {},
   "source": [
    "Then I pulled the columns I needed from each of the 3 tables into a separate DataFrame.\n",
    "`````{margin}\n",
    "```{note}\n",
    "You can do the merging in SQL and pull only the merged table technically, but I use pandas more than sql so I did the minimum in SQL and the rest in pandas.  \n",
    "```\n",
    "`````"
   ]
  },
  {
   "cell_type": "code",
   "execution_count": 36,
   "id": "da7be4a9",
   "metadata": {},
   "outputs": [
    {
     "data": {
      "text/html": [
       "<div>\n",
       "<style scoped>\n",
       "    .dataframe tbody tr th:only-of-type {\n",
       "        vertical-align: middle;\n",
       "    }\n",
       "\n",
       "    .dataframe tbody tr th {\n",
       "        vertical-align: top;\n",
       "    }\n",
       "\n",
       "    .dataframe thead th {\n",
       "        text-align: right;\n",
       "    }\n",
       "</style>\n",
       "<table border=\"1\" class=\"dataframe\">\n",
       "  <thead>\n",
       "    <tr style=\"text-align: right;\">\n",
       "      <th></th>\n",
       "      <th>TEAM_ID_2018</th>\n",
       "      <th>PLAYER_ID</th>\n",
       "      <th>CONFERENCE_2018</th>\n",
       "      <th>TEAM_ID_2019</th>\n",
       "      <th>CONFERENCE_2019</th>\n",
       "    </tr>\n",
       "  </thead>\n",
       "  <tbody>\n",
       "    <tr>\n",
       "      <th>0</th>\n",
       "      <td>1610612761</td>\n",
       "      <td>202695</td>\n",
       "      <td>East</td>\n",
       "      <td>1610612746</td>\n",
       "      <td>West</td>\n",
       "    </tr>\n",
       "    <tr>\n",
       "      <th>1</th>\n",
       "      <td>1610612761</td>\n",
       "      <td>1627783</td>\n",
       "      <td>East</td>\n",
       "      <td>1610612761</td>\n",
       "      <td>East</td>\n",
       "    </tr>\n",
       "    <tr>\n",
       "      <th>2</th>\n",
       "      <td>1610612761</td>\n",
       "      <td>201188</td>\n",
       "      <td>East</td>\n",
       "      <td>1610612761</td>\n",
       "      <td>East</td>\n",
       "    </tr>\n",
       "    <tr>\n",
       "      <th>3</th>\n",
       "      <td>1610612763</td>\n",
       "      <td>201188</td>\n",
       "      <td>West</td>\n",
       "      <td>1610612761</td>\n",
       "      <td>East</td>\n",
       "    </tr>\n",
       "    <tr>\n",
       "      <th>4</th>\n",
       "      <td>1610612761</td>\n",
       "      <td>201980</td>\n",
       "      <td>East</td>\n",
       "      <td>1610612747</td>\n",
       "      <td>West</td>\n",
       "    </tr>\n",
       "    <tr>\n",
       "      <th>...</th>\n",
       "      <td>...</td>\n",
       "      <td>...</td>\n",
       "      <td>...</td>\n",
       "      <td>...</td>\n",
       "      <td>...</td>\n",
       "    </tr>\n",
       "    <tr>\n",
       "      <th>533</th>\n",
       "      <td>1610612739</td>\n",
       "      <td>1628021</td>\n",
       "      <td>East</td>\n",
       "      <td>1610612751</td>\n",
       "      <td>East</td>\n",
       "    </tr>\n",
       "    <tr>\n",
       "      <th>534</th>\n",
       "      <td>1610612739</td>\n",
       "      <td>201567</td>\n",
       "      <td>East</td>\n",
       "      <td>1610612739</td>\n",
       "      <td>East</td>\n",
       "    </tr>\n",
       "    <tr>\n",
       "      <th>535</th>\n",
       "      <td>1610612739</td>\n",
       "      <td>202684</td>\n",
       "      <td>East</td>\n",
       "      <td>1610612739</td>\n",
       "      <td>East</td>\n",
       "    </tr>\n",
       "    <tr>\n",
       "      <th>536</th>\n",
       "      <td>1610612739</td>\n",
       "      <td>1628424</td>\n",
       "      <td>East</td>\n",
       "      <td>1610612766</td>\n",
       "      <td>East</td>\n",
       "    </tr>\n",
       "    <tr>\n",
       "      <th>537</th>\n",
       "      <td>1610612739</td>\n",
       "      <td>1627819</td>\n",
       "      <td>East</td>\n",
       "      <td>1610612761</td>\n",
       "      <td>East</td>\n",
       "    </tr>\n",
       "  </tbody>\n",
       "</table>\n",
       "<p>538 rows × 5 columns</p>\n",
       "</div>"
      ],
      "text/plain": [
       "     TEAM_ID_2018  PLAYER_ID CONFERENCE_2018  TEAM_ID_2019 CONFERENCE_2019\n",
       "0      1610612761     202695            East    1610612746            West\n",
       "1      1610612761    1627783            East    1610612761            East\n",
       "2      1610612761     201188            East    1610612761            East\n",
       "3      1610612763     201188            West    1610612761            East\n",
       "4      1610612761     201980            East    1610612747            West\n",
       "..            ...        ...             ...           ...             ...\n",
       "533    1610612739    1628021            East    1610612751            East\n",
       "534    1610612739     201567            East    1610612739            East\n",
       "535    1610612739     202684            East    1610612739            East\n",
       "536    1610612739    1628424            East    1610612766            East\n",
       "537    1610612739    1627819            East    1610612761            East\n",
       "\n",
       "[538 rows x 5 columns]"
      ]
     },
     "execution_count": 36,
     "metadata": {},
     "output_type": "execute_result"
    }
   ],
   "source": [
    "conf_df = pd.read_sql('SELECT TEAM_ID,CONFERENCE FROM conferences',conn)\n",
    "df18 = pd.read_sql('SELECT TEAM_ID,PLAYER_ID FROM playerTeams2018',conn)\n",
    "df19 = pd.read_sql('SELECT TEAM_ID,PLAYER_ID FROM playerTeams2019',conn)\n",
    "df18_c = pd.merge(df18,conf_df,on='TEAM_ID')\n",
    "df19_c = pd.merge(df19,conf_df,on='TEAM_ID')\n",
    "df1819_conf = pd.merge(df18_c,df19_c, on='PLAYER_ID',suffixes=('_2018','_2019'))\n",
    "df1819_conf"
   ]
  },
  {
   "cell_type": "markdown",
   "id": "711a905d",
   "metadata": {},
   "source": [
    "Then I merged the conference with each set of player informationon the teams. Then I merged the two expanded single year DataFrames together. \n",
    "\n",
    "Now, to answer the question, we have a bit more work to do.  I'm going to use a `lambda` and `apply` to make a column that says same or new for the relative conference of the two seasons."
   ]
  },
  {
   "cell_type": "code",
   "execution_count": 37,
   "id": "a72501ff",
   "metadata": {},
   "outputs": [
    {
     "data": {
      "text/html": [
       "<div>\n",
       "<style scoped>\n",
       "    .dataframe tbody tr th:only-of-type {\n",
       "        vertical-align: middle;\n",
       "    }\n",
       "\n",
       "    .dataframe tbody tr th {\n",
       "        vertical-align: top;\n",
       "    }\n",
       "\n",
       "    .dataframe thead th {\n",
       "        text-align: right;\n",
       "    }\n",
       "</style>\n",
       "<table border=\"1\" class=\"dataframe\">\n",
       "  <thead>\n",
       "    <tr style=\"text-align: right;\">\n",
       "      <th></th>\n",
       "      <th>TEAM_ID_2018</th>\n",
       "      <th>PLAYER_ID</th>\n",
       "      <th>CONFERENCE_2018</th>\n",
       "      <th>TEAM_ID_2019</th>\n",
       "      <th>CONFERENCE_2019</th>\n",
       "      <th>conference_1819</th>\n",
       "    </tr>\n",
       "  </thead>\n",
       "  <tbody>\n",
       "    <tr>\n",
       "      <th>0</th>\n",
       "      <td>1610612761</td>\n",
       "      <td>202695</td>\n",
       "      <td>East</td>\n",
       "      <td>1610612746</td>\n",
       "      <td>West</td>\n",
       "      <td>new</td>\n",
       "    </tr>\n",
       "    <tr>\n",
       "      <th>1</th>\n",
       "      <td>1610612761</td>\n",
       "      <td>1627783</td>\n",
       "      <td>East</td>\n",
       "      <td>1610612761</td>\n",
       "      <td>East</td>\n",
       "      <td>same</td>\n",
       "    </tr>\n",
       "    <tr>\n",
       "      <th>2</th>\n",
       "      <td>1610612761</td>\n",
       "      <td>201188</td>\n",
       "      <td>East</td>\n",
       "      <td>1610612761</td>\n",
       "      <td>East</td>\n",
       "      <td>same</td>\n",
       "    </tr>\n",
       "    <tr>\n",
       "      <th>3</th>\n",
       "      <td>1610612763</td>\n",
       "      <td>201188</td>\n",
       "      <td>West</td>\n",
       "      <td>1610612761</td>\n",
       "      <td>East</td>\n",
       "      <td>new</td>\n",
       "    </tr>\n",
       "    <tr>\n",
       "      <th>4</th>\n",
       "      <td>1610612761</td>\n",
       "      <td>201980</td>\n",
       "      <td>East</td>\n",
       "      <td>1610612747</td>\n",
       "      <td>West</td>\n",
       "      <td>new</td>\n",
       "    </tr>\n",
       "  </tbody>\n",
       "</table>\n",
       "</div>"
      ],
      "text/plain": [
       "   TEAM_ID_2018  PLAYER_ID CONFERENCE_2018  TEAM_ID_2019 CONFERENCE_2019  \\\n",
       "0    1610612761     202695            East    1610612746            West   \n",
       "1    1610612761    1627783            East    1610612761            East   \n",
       "2    1610612761     201188            East    1610612761            East   \n",
       "3    1610612763     201188            West    1610612761            East   \n",
       "4    1610612761     201980            East    1610612747            West   \n",
       "\n",
       "  conference_1819  \n",
       "0             new  \n",
       "1            same  \n",
       "2            same  \n",
       "3             new  \n",
       "4             new  "
      ]
     },
     "execution_count": 37,
     "metadata": {},
     "output_type": "execute_result"
    }
   ],
   "source": [
    "labels = {False:'new',True:'same'}\n",
    "change_conf = lambda row: labels[row['CONFERENCE_2018']==row['CONFERENCE_2019']]\n",
    "df1819_conf['conference_1819']= df1819_conf.apply(change_conf,axis=1)\n",
    "df1819_conf.head()"
   ]
  },
  {
   "cell_type": "markdown",
   "id": "f73937c0",
   "metadata": {},
   "source": [
    "Then I can use this DataFrame grouped by my new column to get the unique players in each situation new or same conference."
   ]
  },
  {
   "cell_type": "code",
   "execution_count": 38,
   "id": "d172deb7",
   "metadata": {},
   "outputs": [
    {
     "data": {
      "text/plain": [
       "conference_1819\n",
       "new     [202695, 201188, 201980, 203961, 1626153, 1011...\n",
       "same    [1627783, 201188, 200768, 1627832, 201586, 162...\n",
       "Name: PLAYER_ID, dtype: object"
      ]
     },
     "execution_count": 38,
     "metadata": {},
     "output_type": "execute_result"
    }
   ],
   "source": [
    "df1819_conf.groupby('conference_1819')['PLAYER_ID'].apply(pd.unique)"
   ]
  },
  {
   "cell_type": "markdown",
   "id": "9b043dcf",
   "metadata": {},
   "source": [
    "And finally, get the length of each of those lists."
   ]
  },
  {
   "cell_type": "code",
   "execution_count": 39,
   "id": "2a1e731a",
   "metadata": {},
   "outputs": [
    {
     "data": {
      "text/plain": [
       "conference_1819\n",
       "new     119\n",
       "same    385\n",
       "Name: PLAYER_ID, dtype: int64"
      ]
     },
     "execution_count": 39,
     "metadata": {},
     "output_type": "execute_result"
    }
   ],
   "source": [
    "df1819_conf.groupby('conference_1819')['PLAYER_ID'].apply(pd.unique).apply(len)"
   ]
  },
  {
   "cell_type": "markdown",
   "id": "f42a5441",
   "metadata": {},
   "source": [
    "This, however, includes players who stayed on the same team, so we also need to split for who changed teams. First we add the team comparison column, then groupby by both and count unique players."
   ]
  },
  {
   "cell_type": "code",
   "execution_count": 40,
   "id": "8d3901b1",
   "metadata": {},
   "outputs": [
    {
     "data": {
      "text/plain": [
       "conference_1819  team_1819\n",
       "new              new          119\n",
       "same             new          135\n",
       "                 same         263\n",
       "Name: PLAYER_ID, dtype: int64"
      ]
     },
     "execution_count": 40,
     "metadata": {},
     "output_type": "execute_result"
    }
   ],
   "source": [
    "new_team = lambda row: labels[row['TEAM_ID_2018']==row['TEAM_ID_2019']]\n",
    "df1819_conf['team_1819']= df1819_conf.apply(new_team,axis=1)\n",
    "df1819_conf.groupby(['conference_1819','team_1819'])['PLAYER_ID'].apply(pd.unique).apply(len)"
   ]
  },
  {
   "cell_type": "markdown",
   "id": "55bf7a34",
   "metadata": {},
   "source": [
    "This is good, we could read the answer from here.  It's good practice, though, to be able to pull that value out programmatically."
   ]
  },
  {
   "cell_type": "code",
   "execution_count": 41,
   "id": "d0c98618",
   "metadata": {},
   "outputs": [
    {
     "data": {
      "text/plain": [
       "('same', 'same')"
      ]
     },
     "execution_count": 41,
     "metadata": {},
     "output_type": "execute_result"
    }
   ],
   "source": [
    "player_counts_1819_team =  df1819_conf.groupby(['conference_1819','team_1819'])['PLAYER_ID'].apply(pd.unique).apply(len)\n",
    "player_counts_1819_team.idxmax()"
   ]
  },
  {
   "cell_type": "markdown",
   "id": "154dd48e",
   "metadata": {},
   "source": [
    "This tells us that the largest number of players stayed on the same team (and therefore same conference).  We're not interested inthis thoug, we're itnerested in those that changed teams, so we can drop the `(same,same)` value and then do this again."
   ]
  },
  {
   "cell_type": "code",
   "execution_count": 42,
   "id": "3e9a4e6c",
   "metadata": {},
   "outputs": [
    {
     "data": {
      "text/plain": [
       "('same', 'new')"
      ]
     },
     "execution_count": 42,
     "metadata": {},
     "output_type": "execute_result"
    }
   ],
   "source": [
    "player_counts_1819_team.drop(('same','same')).idxmax()"
   ]
  },
  {
   "cell_type": "markdown",
   "id": "65b66dcb",
   "metadata": {},
   "source": [
    "This tells us that more players changed teams within the same conference than changed teams and conferences. We can compare the two directly:"
   ]
  },
  {
   "cell_type": "code",
   "execution_count": 43,
   "id": "b64c891c",
   "metadata": {},
   "outputs": [
    {
     "data": {
      "text/plain": [
       "(119, 135)"
      ]
     },
     "execution_count": 43,
     "metadata": {},
     "output_type": "execute_result"
    }
   ],
   "source": [
    "player_counts_1819_team['new','new'], player_counts_1819_team['same','new']"
   ]
  },
  {
   "cell_type": "markdown",
   "id": "a46ee8ca",
   "metadata": {},
   "source": [
    "Again 135 is more than 119.  \n",
    "\n",
    "We can also make this a little neater to print it as a DataFrame.  If we use `reset_index` it will make a DataFrame, but the count column will still be named `PLAYER_ID` so we can rename it."
   ]
  },
  {
   "cell_type": "code",
   "execution_count": 44,
   "id": "24e6c0e0",
   "metadata": {},
   "outputs": [
    {
     "data": {
      "text/html": [
       "<div>\n",
       "<style scoped>\n",
       "    .dataframe tbody tr th:only-of-type {\n",
       "        vertical-align: middle;\n",
       "    }\n",
       "\n",
       "    .dataframe tbody tr th {\n",
       "        vertical-align: top;\n",
       "    }\n",
       "\n",
       "    .dataframe thead th {\n",
       "        text-align: right;\n",
       "    }\n",
       "</style>\n",
       "<table border=\"1\" class=\"dataframe\">\n",
       "  <thead>\n",
       "    <tr style=\"text-align: right;\">\n",
       "      <th></th>\n",
       "      <th>conference_1819</th>\n",
       "      <th>team_1819</th>\n",
       "      <th>num_players</th>\n",
       "    </tr>\n",
       "  </thead>\n",
       "  <tbody>\n",
       "    <tr>\n",
       "      <th>0</th>\n",
       "      <td>new</td>\n",
       "      <td>new</td>\n",
       "      <td>119</td>\n",
       "    </tr>\n",
       "    <tr>\n",
       "      <th>1</th>\n",
       "      <td>same</td>\n",
       "      <td>new</td>\n",
       "      <td>135</td>\n",
       "    </tr>\n",
       "    <tr>\n",
       "      <th>2</th>\n",
       "      <td>same</td>\n",
       "      <td>same</td>\n",
       "      <td>263</td>\n",
       "    </tr>\n",
       "  </tbody>\n",
       "</table>\n",
       "</div>"
      ],
      "text/plain": [
       "  conference_1819 team_1819  num_players\n",
       "0             new       new          119\n",
       "1            same       new          135\n",
       "2            same      same          263"
      ]
     },
     "execution_count": 44,
     "metadata": {},
     "output_type": "execute_result"
    }
   ],
   "source": [
    "player_counts_1819_team.reset_index().rename(columns={'PLAYER_ID':'num_players'})"
   ]
  },
  {
   "cell_type": "markdown",
   "id": "d2ad36ab",
   "metadata": {},
   "source": [
    "All in all, this gives us a good answer that we can get with data and display answers and this is one way that using multiple data sources can help answer richer questions."
   ]
  },
  {
   "cell_type": "code",
   "execution_count": null,
   "id": "4b5d12b0",
   "metadata": {},
   "outputs": [],
   "source": []
  },
  {
   "cell_type": "markdown",
   "id": "aa63e8a4",
   "metadata": {},
   "source": [
    "## Questions After Class\n",
    "\n",
    "###  Is there a max DB size? \n",
    "\n",
    "Generally, no.  In specific instances, yes.  For example, [MSFT SQL Server](https://learn.microsoft.com/en-us/sql/sql-server/maximum-capacity-specifications-for-sql-server?view=sql-server-ver16) has a max size of 524,272 terabytes. \n",
    "\n",
    "### when can pandas not use SQL databases?\n",
    "\n",
    "The most important limit here is realy that the cmoputer you are working on will have limits on how much data you can pull from the database into local RAM. \n",
    "\n",
    "\n",
    "### how do you learn more about different quieries you can use for sql?\n",
    "\n",
    "[Wizard zines](https://wizardzines.com/zines/sql/) has a good reference, but it is not free. I have some of their other work though and it is all high quality. [this preview is especially helpful for me](https://wizardzines.com/comics/sql-query-order/) If the cost is prohibitive for you, but the preview of this looks like something you would like, send me an e-mail. \n",
    "\n",
    "[This cheatsheet is also good](https://learnsql.com/blog/sql-basics-cheat-sheet/).\n",
    "\n",
    "\n",
    "### What other SQL 'keywords' in the queries are there? ex: SELECT, FROM, WHERE\n",
    "\n",
    "[quick reference](https://www.w3schools.com/sql/sql_quickref.asp)"
   ]
  }
 ],
 "metadata": {
  "jupytext": {
   "text_representation": {
    "extension": ".md",
    "format_name": "myst",
    "format_version": 0.13,
    "jupytext_version": "1.14.1"
   }
  },
  "kernelspec": {
   "display_name": "Python 3",
   "language": "python",
   "name": "python3"
  },
  "language_info": {
   "codemirror_mode": {
    "name": "ipython",
    "version": 3
   },
   "file_extension": ".py",
   "mimetype": "text/x-python",
   "name": "python",
   "nbconvert_exporter": "python",
   "pygments_lexer": "ipython3",
   "version": "3.8.6"
  },
  "source_map": [
   12,
   42,
   46,
   49,
   51,
   55,
   58,
   60,
   66,
   68,
   75,
   77,
   81,
   83,
   88,
   92,
   94,
   107,
   109,
   113,
   116,
   120,
   123,
   134,
   137,
   141,
   146,
   148,
   152,
   155,
   158,
   164,
   168,
   170,
   222,
   225,
   229,
   232,
   235,
   237,
   239,
   241,
   247,
   249,
   256,
   258,
   261,
   263,
   273,
   277,
   279,
   288,
   290,
   293,
   295,
   299,
   301,
   305,
   307,
   318,
   322,
   326,
   328,
   338,
   346,
   352,
   357,
   360,
   362,
   365,
   367,
   371,
   376,
   380,
   383,
   387,
   389,
   393,
   395,
   401,
   403,
   407,
   409
  ]
 },
 "nbformat": 4,
 "nbformat_minor": 5
}