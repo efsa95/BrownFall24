{
 "cells": [
  {
   "cell_type": "markdown",
   "id": "cb61f0a2",
   "metadata": {},
   "source": [
    "# Syllabus and Python Review \n",
    "\n",
    "## Course Logistics\n",
    "\n",
    "\n",
    "Class is designed to avoid this:\n",
    "\n",
    "![gif of man throwing computer monitor](https://i.gifer.com/5SNC.gif)\n",
    "\n",
    "<blockquote class=\"twitter-tweet\"><p lang=\"en\" dir=\"ltr\">we think about debugging as a technical skill (and it absolutely is!!) but a huge amount of it is managing your feelings so you don&#39;t get discouraged and being self-aware so you can recognize your incorrect assumptions</p>&mdash; 🔎Julia Evans🔍 (@b0rk) <a href=\"https://twitter.com/b0rk/status/1403405539971842052?ref_src=twsrc%5Etfw\">June 11, 2021</a></blockquote> <script async src=\"https://platform.twitter.com/widgets.js\" charset=\"utf-8\"></script>\n",
    "\n",
    "Read more about how I'm designing this course to help you learn on the\n",
    "[how to learn](../resources/learning) page.\n",
    "\n",
    "## Check your understanding of the syllabus\n",
    "\n",
    "It's easy when reading something long to lose track of it. Your eyes can go over each word, without actually retaining the information, but it's important to understand the syllabus for the course.\n",
    "\n",
    "You can find the answers to the following questions on the syllabus. If you've already read it, try answering them to check your understanding. If you haven't read it yet, use these to guide you to get familiar with finding key facts about the course on the syllabus.\n",
    "\n",
    "1. What do you need to bring to class each day?\n",
    "1. What is the basis of grading for this course?\n",
    "1. How do you reference the course text?\n",
    "1. What is the penalty for missing an assignment?\n",
    "\n",
    "\n",
    "More information about the course is available throughout the site, the next few questions will help you self-check that you've found the important things.  Remember, the goal is not necessarily to memorize all of this, but to be able to find it.\n",
    "\n",
    "1. When & what are you expected to read for this class?\n",
    "- [ ] read the text book before class\n",
    "- [ ] review notes & documentation after class\n",
    "- [ ] preview the notes  & documentation before class\n",
    "- [ ] read documentation and text book after class\n",
    "1. Your assignment says to find a dataset that has variables of a specific type, which website can you use?\n",
    "1. Your assignment says to find a dataset of any type about something you're interested in, which resource would you use?\n",
    "\n",
    "\n",
    "\n",
    "## Python Review\n",
    "\n",
    "Official source on python: \n",
    "- [pep8 official style](https://peps.python.org/pep-0008/)\n",
    "- [documentation](https://docs.python.org/3/) note that you can change which version you are using\n",
    "\n",
    "\n",
    "We will go quickly through these focusing on pythonic style, because the prerequisite is a programming course. \n",
    "\n",
    "### Functions\n",
    "Syntax of a function in python:"
   ]
  },
  {
   "cell_type": "code",
   "execution_count": 1,
   "id": "059b070e",
   "metadata": {},
   "outputs": [],
   "source": [
    "def greeting(name):\n",
    "    '''\n",
    "    say hi to a person\n",
    "    \n",
    "    Parameters\n",
    "    ----------\n",
    "    name : string\n",
    "        the name of who to greet\n",
    "    '''\n",
    "    return \"hi \"+ name"
   ]
  },
  {
   "cell_type": "markdown",
   "id": "1c4d7d66",
   "metadata": {},
   "source": [
    "A few things to note:\n",
    "- the `def` keywords starts a function\n",
    "- then the name of the function\n",
    "- parameters in `()` then `:`\n",
    "- the body is indented\n",
    "- the first thing in the body should be a docstring, denoted in `'''` which is a multiline comment\n",
    "- returning is more reliable than printing in a function\n",
    "\n",
    "```{tip}\n",
    "In python, [PEP 257](https://peps.python.org/pep-0257/) says how to write a docstring, but it is very broad.\n",
    "\n",
    "In Data Science, [numpydoc](https://numpydoc.readthedocs.io/en/latest/format.html) style docstrings are popular.\n",
    "\n",
    "- [Pandas](https://pandas.pydata.org/) [follows numpydoc](https://pandas.pydata.org/docs/development/contributing_docstring.html)\n",
    "- [Numpy uses it]\n",
    "- [Scipy](https://scipy.org/) [follows numpydoc](https://numpydoc.readthedocs.io/en/latest/format.html#docstring-standard)\n",
    "```\n",
    "\n",
    "\n",
    "\n",
    "Once the cell with the function definition is run, we can use the function"
   ]
  },
  {
   "cell_type": "code",
   "execution_count": 2,
   "id": "84400d37",
   "metadata": {},
   "outputs": [
    {
     "data": {
      "text/plain": [
       "'hi sarah'"
      ]
     },
     "execution_count": 2,
     "metadata": {},
     "output_type": "execute_result"
    }
   ],
   "source": [
    "greeting('sarah')"
   ]
  },
  {
   "cell_type": "markdown",
   "id": "5d04eece",
   "metadata": {},
   "source": [
    "With a return this works to check that it does the right thing"
   ]
  },
  {
   "cell_type": "code",
   "execution_count": 3,
   "id": "a16bbb42",
   "metadata": {},
   "outputs": [],
   "source": [
    "assert greeting('sarah') == \"hi sarah\""
   ]
  },
  {
   "cell_type": "markdown",
   "id": "bf3de582",
   "metadata": {},
   "source": [
    "### Conditionals"
   ]
  },
  {
   "cell_type": "code",
   "execution_count": 4,
   "id": "a1d27b4f",
   "metadata": {},
   "outputs": [],
   "source": [
    "def greeting2(name,formal=False):\n",
    "    '''\n",
    "    say hi to a person\n",
    "    \n",
    "    Parameters\n",
    "    ----------\n",
    "    name : string\n",
    "        the name of who to greet\n",
    "    formal : bool\n",
    "        if the greeting should be formal (hello) or not (hi)\n",
    "    '''\n",
    "    if formal: \n",
    "        message = 'hello ' + name\n",
    "    else:\n",
    "        message = \"hi \"+ name\n",
    "    return  message"
   ]
  },
  {
   "cell_type": "markdown",
   "id": "7495b025",
   "metadata": {},
   "source": [
    "key points in this function: \n",
    "- an `if` also has the conditional part indented\n",
    "- for a `bool` variable we can just use the variable\n",
    "- we can set a default value"
   ]
  },
  {
   "cell_type": "code",
   "execution_count": 5,
   "id": "f6f0ea4d",
   "metadata": {},
   "outputs": [
    {
     "data": {
      "text/plain": [
       "'hello sarah'"
      ]
     },
     "execution_count": 5,
     "metadata": {},
     "output_type": "execute_result"
    }
   ],
   "source": [
    "greeting2('sarah',True)"
   ]
  },
  {
   "cell_type": "code",
   "execution_count": 6,
   "id": "39d23bb8",
   "metadata": {},
   "outputs": [
    {
     "data": {
      "text/plain": [
       "'hi sarah'"
      ]
     },
     "execution_count": 6,
     "metadata": {},
     "output_type": "execute_result"
    }
   ],
   "source": [
    "greeting2('sarah',False)"
   ]
  },
  {
   "cell_type": "markdown",
   "id": "66f2305d",
   "metadata": {},
   "source": [
    "because of the default value we do not have to pass the second variable:"
   ]
  },
  {
   "cell_type": "code",
   "execution_count": 7,
   "id": "af82aed6",
   "metadata": {},
   "outputs": [
    {
     "data": {
      "text/plain": [
       "'hi sarah'"
      ]
     },
     "execution_count": 7,
     "metadata": {},
     "output_type": "execute_result"
    }
   ],
   "source": [
    "greeting2('sarah')"
   ]
  },
  {
   "cell_type": "code",
   "execution_count": 8,
   "id": "26b6a4fc",
   "metadata": {},
   "outputs": [
    {
     "name": "stdout",
     "output_type": "stream",
     "text": [
      "Help on function greeting in module __main__:\n",
      "\n",
      "greeting(name)\n",
      "    say hi to a person\n",
      "    \n",
      "    Parameters\n",
      "    ----------\n",
      "    name : string\n",
      "        the name of who to greet\n",
      "\n"
     ]
    }
   ],
   "source": [
    "help(greeting)"
   ]
  },
  {
   "cell_type": "markdown",
   "id": "fbe06cc2",
   "metadata": {},
   "source": [
    "## Questions After Class\n",
    "\n",
    "### Why is indentation important in python but not other languages like C++?\n",
    "\n",
    "Python is a newer language than C and C++.  Older languages had to contend with the fact that a space character uses the same amount of memory as any other character, so they were not used.  However, whitespace is easy to read.  \n",
    "\n",
    "\n",
    "Python was started in [1989](https://docs.python.org/3/faq/general.html#why-was-python-created-in-the-first-place), compared to C in [1972](https://ieeexplore.ieee.org/document/6499601), C++ was started in 1985ish, but stuck with a lot of things from C, so tht 1972 is strongly operative.  \n",
    "\n",
    "Python is designed to be easy. It is designed to make complex tasks easier to do.  C is designed to be efficient and to compeile well, even if it is hard to learn and do.\n",
    "\n",
    "\n",
    "\n",
    "###  Why is python so much slower as well?\n",
    "Python is slower because it is an interpreted language. That means another program called the Python interpreter (which mostly are written in C) is actually running on your computer, that program parses the text of your source code and then executes the code. The interpreter cannot look ahead and change things in how you wrote your code while it runs. \n",
    "\n",
    "In contrast, C++ (like C) is a compiled language.  This means that a program called a compiler parses your code and translates it into assembly then to machine code. During this process it can optimize your code to make sure that it is fast.  \n",
    "\n",
    "### Are portfolios simply whatever we submit, such as assignments, to Github or are there other things that need to be submitted to the portfolios for level 3?\n",
    "\n",
    "Assignments are separate from the portfolio checks.  It will become more clear what to do in your portfolio after you get feedback on assignment 2, and start working on assignment 3.  \n",
    "\n",
    "\n",
    "### Will we know the specific criteria to fulfill a level 3 achievement when doing the portfolio?\n",
    "\n",
    "The evaluation criteria are already listed on the [](checklists). \n",
    "\n",
    "\n",
    "### when is the Assignment 1 due?\n",
    "\n",
    "Monday, end of day. See the details: [](../assignments/01-syllabus-install)\n",
    "\n",
    "### how many large scale programs are we going to write in jupyter?\n",
    "\n",
    "We won't actually write large scale programs, per se, but we will write some long analyses."
   ]
  }
 ],
 "metadata": {
  "jupytext": {
   "text_representation": {
    "extension": ".md",
    "format_name": "myst",
    "format_version": 0.13,
    "jupytext_version": "1.14.1"
   }
  },
  "kernelspec": {
   "display_name": "Python 3",
   "language": "python",
   "name": "python3"
  },
  "language_info": {
   "codemirror_mode": {
    "name": "ipython",
    "version": 3
   },
   "file_extension": ".py",
   "mimetype": "text/x-python",
   "name": "python",
   "nbconvert_exporter": "python",
   "pygments_lexer": "ipython3",
   "version": "3.8.6"
  },
  "source_map": [
   12,
   63,
   74,
   97,
   99,
   102,
   104,
   108,
   125,
   132,
   136,
   138,
   141,
   145,
   147
  ]
 },
 "nbformat": 4,
 "nbformat_minor": 5
}